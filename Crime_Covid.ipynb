{
 "cells": [
  {
   "cell_type": "code",
   "execution_count": 966,
   "id": "sacred-employment",
   "metadata": {
    "scrolled": false
   },
   "outputs": [
    {
     "name": "stdout",
     "output_type": "stream",
     "text": [
      "Requirement already satisfied: plotly.express in /Users/allenhardiman/opt/anaconda3/envs/ace592/lib/python3.8/site-packages (0.4.1)\n",
      "Requirement already satisfied: patsy>=0.5 in /Users/allenhardiman/opt/anaconda3/envs/ace592/lib/python3.8/site-packages (from plotly.express) (0.5.1)\n",
      "Requirement already satisfied: statsmodels>=0.9.0 in /Users/allenhardiman/opt/anaconda3/envs/ace592/lib/python3.8/site-packages (from plotly.express) (0.12.2)\n",
      "Requirement already satisfied: scipy>=0.18 in /Users/allenhardiman/opt/anaconda3/envs/ace592/lib/python3.8/site-packages (from plotly.express) (1.5.0)\n",
      "Requirement already satisfied: pandas>=0.20.0 in /Users/allenhardiman/opt/anaconda3/envs/ace592/lib/python3.8/site-packages (from plotly.express) (1.1.3)\n",
      "Requirement already satisfied: numpy>=1.11 in /Users/allenhardiman/opt/anaconda3/envs/ace592/lib/python3.8/site-packages (from plotly.express) (1.20.0)\n",
      "Requirement already satisfied: plotly>=4.1.0 in /Users/allenhardiman/opt/anaconda3/envs/ace592/lib/python3.8/site-packages (from plotly.express) (4.14.3)\n",
      "Requirement already satisfied: six in /Users/allenhardiman/opt/anaconda3/envs/ace592/lib/python3.8/site-packages (from patsy>=0.5->plotly.express) (1.15.0)\n",
      "Requirement already satisfied: python-dateutil>=2.7.3 in /Users/allenhardiman/opt/anaconda3/envs/ace592/lib/python3.8/site-packages (from pandas>=0.20.0->plotly.express) (2.8.1)\n",
      "Requirement already satisfied: pytz>=2017.2 in /Users/allenhardiman/opt/anaconda3/envs/ace592/lib/python3.8/site-packages (from pandas>=0.20.0->plotly.express) (2021.1)\n",
      "Requirement already satisfied: retrying>=1.3.3 in /Users/allenhardiman/opt/anaconda3/envs/ace592/lib/python3.8/site-packages (from plotly>=4.1.0->plotly.express) (1.3.3)\n",
      "Note: you may need to restart the kernel to use updated packages.\n"
     ]
    }
   ],
   "source": [
    "pip install plotly.express"
   ]
  },
  {
   "cell_type": "code",
   "execution_count": 967,
   "id": "aging-spain",
   "metadata": {},
   "outputs": [],
   "source": [
    "# Import all the libraries which will be used in the exploration process\n",
    "import numpy as np # linear algebra\n",
    "import pandas as pd # data processing, CSV file I/O (e.g. pd.read_csv)\n",
    "import matplotlib.pyplot as plt\n",
    "#from geopy.extra.rate_limiter import RateLimiter\n",
    "#from geopy.geocoders import Nominatim\n",
    "import tqdm\n",
    "from datetime import datetime\n",
    "import datetime as dt \n",
    "from uszipcode import SearchEngine\n",
    "search = SearchEngine(simple_zipcode=True)\n",
    "from uszipcode import Zipcode\n",
    "\n",
    "import plotly.express as px\n",
    "import econtools\n",
    "import econtools.metrics as mt\n",
    "import geopandas as gp\n",
    "from shapely import wkt\n",
    "\n",
    "import plotly.graph_objs as go\n",
    "import plotly\n",
    "\n",
    "import plotly.express as px\n",
    "import plotly.offline as offline\n",
    "\n",
    "from plotly.graph_objs import *\n",
    "\n",
    "from plotly.offline import download_plotlyjs, init_notebook_mode, plot, iplot\n",
    "\n",
    "from rdd import rdd\n",
    "\n",
    "\n"
   ]
  },
  {
   "cell_type": "code",
   "execution_count": 968,
   "id": "fixed-invention",
   "metadata": {},
   "outputs": [],
   "source": [
    "crime_data = pd.read_csv('/Users/allenhardiman/Box/PHD Courses/Data/crime_zip.csv')\n",
    "crime_data['date'] = pd.to_datetime(crime_data.date)"
   ]
  },
  {
   "cell_type": "code",
   "execution_count": 969,
   "id": "featured-dryer",
   "metadata": {},
   "outputs": [],
   "source": [
    "Number_crimes = crime_data['primary_type'].value_counts()\n",
    "values = Number_crimes.values\n",
    "categories = pd.DataFrame(data=Number_crimes.index, columns=[\"primary_type\"])\n",
    "categories['values'] = values\n"
   ]
  },
  {
   "cell_type": "code",
   "execution_count": 970,
   "id": "complicated-morocco",
   "metadata": {},
   "outputs": [],
   "source": [
    "def treemap(categories,title,path,values):\n",
    "    fig = px.treemap(categories, path=path, values=values, height=800,\n",
    "                 title=title, color_discrete_sequence = px.colors.sequential.RdBu)\n",
    "    fig.data[0].textinfo = 'label+text+value'\n",
    "    fig.show()"
   ]
  },
  {
   "cell_type": "code",
   "execution_count": 971,
   "id": "empirical-clearance",
   "metadata": {},
   "outputs": [
    {
     "data": {
      "application/vnd.plotly.v1+json": {
       "config": {
        "plotlyServerURL": "https://plot.ly"
       },
       "data": [
        {
         "branchvalues": "total",
         "domain": {
          "x": [
           0,
           1
          ],
          "y": [
           0,
           1
          ]
         },
         "hovertemplate": "labels=%{label}<br>value=%{value}<br>parent=%{parent}<br>id=%{id}<extra></extra>",
         "ids": [
          "ARSON",
          "ASSAULT",
          "BATTERY",
          "BURGLARY",
          "CONCEALED CARRY LICENSE VIOLATION",
          "CRIMINAL DAMAGE",
          "CRIMINAL SEXUAL ASSAULT",
          "CRIMINAL TRESPASS",
          "DECEPTIVE PRACTICE",
          "GAMBLING",
          "HOMICIDE",
          "HUMAN TRAFFICKING",
          "INTERFERENCE WITH PUBLIC OFFICER",
          "INTIMIDATION",
          "KIDNAPPING",
          "LIQUOR LAW VIOLATION",
          "MOTOR VEHICLE THEFT",
          "NARCOTICS",
          "NON-CRIMINAL",
          "OBSCENITY",
          "OFFENSE INVOLVING CHILDREN",
          "OTHER NARCOTIC VIOLATION",
          "OTHER OFFENSE",
          "PROSTITUTION",
          "PUBLIC INDECENCY",
          "PUBLIC PEACE VIOLATION",
          "RITUALISM",
          "ROBBERY",
          "SEX OFFENSE",
          "STALKING",
          "THEFT",
          "WEAPONS VIOLATION"
         ],
         "labels": [
          "ARSON",
          "ASSAULT",
          "BATTERY",
          "BURGLARY",
          "CONCEALED CARRY LICENSE VIOLATION",
          "CRIMINAL DAMAGE",
          "CRIMINAL SEXUAL ASSAULT",
          "CRIMINAL TRESPASS",
          "DECEPTIVE PRACTICE",
          "GAMBLING",
          "HOMICIDE",
          "HUMAN TRAFFICKING",
          "INTERFERENCE WITH PUBLIC OFFICER",
          "INTIMIDATION",
          "KIDNAPPING",
          "LIQUOR LAW VIOLATION",
          "MOTOR VEHICLE THEFT",
          "NARCOTICS",
          "NON-CRIMINAL",
          "OBSCENITY",
          "OFFENSE INVOLVING CHILDREN",
          "OTHER NARCOTIC VIOLATION",
          "OTHER OFFENSE",
          "PROSTITUTION",
          "PUBLIC INDECENCY",
          "PUBLIC PEACE VIOLATION",
          "RITUALISM",
          "ROBBERY",
          "SEX OFFENSE",
          "STALKING",
          "THEFT",
          "WEAPONS VIOLATION"
         ],
         "name": "",
         "parents": [
          "",
          "",
          "",
          "",
          "",
          "",
          "",
          "",
          "",
          "",
          "",
          "",
          "",
          "",
          "",
          "",
          "",
          "",
          "",
          "",
          "",
          "",
          "",
          "",
          "",
          "",
          "",
          "",
          "",
          "",
          "",
          ""
         ],
         "textinfo": "label+text+value",
         "type": "treemap",
         "values": [
          672,
          20512,
          44959,
          8869,
          171,
          27627,
          1246,
          3982,
          20026,
          25,
          894,
          5,
          519,
          171,
          119,
          140,
          11314,
          6368,
          2,
          66,
          1962,
          4,
          13602,
          227,
          9,
          1218,
          1,
          8540,
          969,
          255,
          40672,
          10009
         ]
        }
       ],
       "layout": {
        "height": 800,
        "legend": {
         "tracegroupgap": 0
        },
        "template": {
         "data": {
          "bar": [
           {
            "error_x": {
             "color": "#2a3f5f"
            },
            "error_y": {
             "color": "#2a3f5f"
            },
            "marker": {
             "line": {
              "color": "#E5ECF6",
              "width": 0.5
             }
            },
            "type": "bar"
           }
          ],
          "barpolar": [
           {
            "marker": {
             "line": {
              "color": "#E5ECF6",
              "width": 0.5
             }
            },
            "type": "barpolar"
           }
          ],
          "carpet": [
           {
            "aaxis": {
             "endlinecolor": "#2a3f5f",
             "gridcolor": "white",
             "linecolor": "white",
             "minorgridcolor": "white",
             "startlinecolor": "#2a3f5f"
            },
            "baxis": {
             "endlinecolor": "#2a3f5f",
             "gridcolor": "white",
             "linecolor": "white",
             "minorgridcolor": "white",
             "startlinecolor": "#2a3f5f"
            },
            "type": "carpet"
           }
          ],
          "choropleth": [
           {
            "colorbar": {
             "outlinewidth": 0,
             "ticks": ""
            },
            "type": "choropleth"
           }
          ],
          "contour": [
           {
            "colorbar": {
             "outlinewidth": 0,
             "ticks": ""
            },
            "colorscale": [
             [
              0,
              "#0d0887"
             ],
             [
              0.1111111111111111,
              "#46039f"
             ],
             [
              0.2222222222222222,
              "#7201a8"
             ],
             [
              0.3333333333333333,
              "#9c179e"
             ],
             [
              0.4444444444444444,
              "#bd3786"
             ],
             [
              0.5555555555555556,
              "#d8576b"
             ],
             [
              0.6666666666666666,
              "#ed7953"
             ],
             [
              0.7777777777777778,
              "#fb9f3a"
             ],
             [
              0.8888888888888888,
              "#fdca26"
             ],
             [
              1,
              "#f0f921"
             ]
            ],
            "type": "contour"
           }
          ],
          "contourcarpet": [
           {
            "colorbar": {
             "outlinewidth": 0,
             "ticks": ""
            },
            "type": "contourcarpet"
           }
          ],
          "heatmap": [
           {
            "colorbar": {
             "outlinewidth": 0,
             "ticks": ""
            },
            "colorscale": [
             [
              0,
              "#0d0887"
             ],
             [
              0.1111111111111111,
              "#46039f"
             ],
             [
              0.2222222222222222,
              "#7201a8"
             ],
             [
              0.3333333333333333,
              "#9c179e"
             ],
             [
              0.4444444444444444,
              "#bd3786"
             ],
             [
              0.5555555555555556,
              "#d8576b"
             ],
             [
              0.6666666666666666,
              "#ed7953"
             ],
             [
              0.7777777777777778,
              "#fb9f3a"
             ],
             [
              0.8888888888888888,
              "#fdca26"
             ],
             [
              1,
              "#f0f921"
             ]
            ],
            "type": "heatmap"
           }
          ],
          "heatmapgl": [
           {
            "colorbar": {
             "outlinewidth": 0,
             "ticks": ""
            },
            "colorscale": [
             [
              0,
              "#0d0887"
             ],
             [
              0.1111111111111111,
              "#46039f"
             ],
             [
              0.2222222222222222,
              "#7201a8"
             ],
             [
              0.3333333333333333,
              "#9c179e"
             ],
             [
              0.4444444444444444,
              "#bd3786"
             ],
             [
              0.5555555555555556,
              "#d8576b"
             ],
             [
              0.6666666666666666,
              "#ed7953"
             ],
             [
              0.7777777777777778,
              "#fb9f3a"
             ],
             [
              0.8888888888888888,
              "#fdca26"
             ],
             [
              1,
              "#f0f921"
             ]
            ],
            "type": "heatmapgl"
           }
          ],
          "histogram": [
           {
            "marker": {
             "colorbar": {
              "outlinewidth": 0,
              "ticks": ""
             }
            },
            "type": "histogram"
           }
          ],
          "histogram2d": [
           {
            "colorbar": {
             "outlinewidth": 0,
             "ticks": ""
            },
            "colorscale": [
             [
              0,
              "#0d0887"
             ],
             [
              0.1111111111111111,
              "#46039f"
             ],
             [
              0.2222222222222222,
              "#7201a8"
             ],
             [
              0.3333333333333333,
              "#9c179e"
             ],
             [
              0.4444444444444444,
              "#bd3786"
             ],
             [
              0.5555555555555556,
              "#d8576b"
             ],
             [
              0.6666666666666666,
              "#ed7953"
             ],
             [
              0.7777777777777778,
              "#fb9f3a"
             ],
             [
              0.8888888888888888,
              "#fdca26"
             ],
             [
              1,
              "#f0f921"
             ]
            ],
            "type": "histogram2d"
           }
          ],
          "histogram2dcontour": [
           {
            "colorbar": {
             "outlinewidth": 0,
             "ticks": ""
            },
            "colorscale": [
             [
              0,
              "#0d0887"
             ],
             [
              0.1111111111111111,
              "#46039f"
             ],
             [
              0.2222222222222222,
              "#7201a8"
             ],
             [
              0.3333333333333333,
              "#9c179e"
             ],
             [
              0.4444444444444444,
              "#bd3786"
             ],
             [
              0.5555555555555556,
              "#d8576b"
             ],
             [
              0.6666666666666666,
              "#ed7953"
             ],
             [
              0.7777777777777778,
              "#fb9f3a"
             ],
             [
              0.8888888888888888,
              "#fdca26"
             ],
             [
              1,
              "#f0f921"
             ]
            ],
            "type": "histogram2dcontour"
           }
          ],
          "mesh3d": [
           {
            "colorbar": {
             "outlinewidth": 0,
             "ticks": ""
            },
            "type": "mesh3d"
           }
          ],
          "parcoords": [
           {
            "line": {
             "colorbar": {
              "outlinewidth": 0,
              "ticks": ""
             }
            },
            "type": "parcoords"
           }
          ],
          "pie": [
           {
            "automargin": true,
            "type": "pie"
           }
          ],
          "scatter": [
           {
            "marker": {
             "colorbar": {
              "outlinewidth": 0,
              "ticks": ""
             }
            },
            "type": "scatter"
           }
          ],
          "scatter3d": [
           {
            "line": {
             "colorbar": {
              "outlinewidth": 0,
              "ticks": ""
             }
            },
            "marker": {
             "colorbar": {
              "outlinewidth": 0,
              "ticks": ""
             }
            },
            "type": "scatter3d"
           }
          ],
          "scattercarpet": [
           {
            "marker": {
             "colorbar": {
              "outlinewidth": 0,
              "ticks": ""
             }
            },
            "type": "scattercarpet"
           }
          ],
          "scattergeo": [
           {
            "marker": {
             "colorbar": {
              "outlinewidth": 0,
              "ticks": ""
             }
            },
            "type": "scattergeo"
           }
          ],
          "scattergl": [
           {
            "marker": {
             "colorbar": {
              "outlinewidth": 0,
              "ticks": ""
             }
            },
            "type": "scattergl"
           }
          ],
          "scattermapbox": [
           {
            "marker": {
             "colorbar": {
              "outlinewidth": 0,
              "ticks": ""
             }
            },
            "type": "scattermapbox"
           }
          ],
          "scatterpolar": [
           {
            "marker": {
             "colorbar": {
              "outlinewidth": 0,
              "ticks": ""
             }
            },
            "type": "scatterpolar"
           }
          ],
          "scatterpolargl": [
           {
            "marker": {
             "colorbar": {
              "outlinewidth": 0,
              "ticks": ""
             }
            },
            "type": "scatterpolargl"
           }
          ],
          "scatterternary": [
           {
            "marker": {
             "colorbar": {
              "outlinewidth": 0,
              "ticks": ""
             }
            },
            "type": "scatterternary"
           }
          ],
          "surface": [
           {
            "colorbar": {
             "outlinewidth": 0,
             "ticks": ""
            },
            "colorscale": [
             [
              0,
              "#0d0887"
             ],
             [
              0.1111111111111111,
              "#46039f"
             ],
             [
              0.2222222222222222,
              "#7201a8"
             ],
             [
              0.3333333333333333,
              "#9c179e"
             ],
             [
              0.4444444444444444,
              "#bd3786"
             ],
             [
              0.5555555555555556,
              "#d8576b"
             ],
             [
              0.6666666666666666,
              "#ed7953"
             ],
             [
              0.7777777777777778,
              "#fb9f3a"
             ],
             [
              0.8888888888888888,
              "#fdca26"
             ],
             [
              1,
              "#f0f921"
             ]
            ],
            "type": "surface"
           }
          ],
          "table": [
           {
            "cells": {
             "fill": {
              "color": "#EBF0F8"
             },
             "line": {
              "color": "white"
             }
            },
            "header": {
             "fill": {
              "color": "#C8D4E3"
             },
             "line": {
              "color": "white"
             }
            },
            "type": "table"
           }
          ]
         },
         "layout": {
          "annotationdefaults": {
           "arrowcolor": "#2a3f5f",
           "arrowhead": 0,
           "arrowwidth": 1
          },
          "autotypenumbers": "strict",
          "coloraxis": {
           "colorbar": {
            "outlinewidth": 0,
            "ticks": ""
           }
          },
          "colorscale": {
           "diverging": [
            [
             0,
             "#8e0152"
            ],
            [
             0.1,
             "#c51b7d"
            ],
            [
             0.2,
             "#de77ae"
            ],
            [
             0.3,
             "#f1b6da"
            ],
            [
             0.4,
             "#fde0ef"
            ],
            [
             0.5,
             "#f7f7f7"
            ],
            [
             0.6,
             "#e6f5d0"
            ],
            [
             0.7,
             "#b8e186"
            ],
            [
             0.8,
             "#7fbc41"
            ],
            [
             0.9,
             "#4d9221"
            ],
            [
             1,
             "#276419"
            ]
           ],
           "sequential": [
            [
             0,
             "#0d0887"
            ],
            [
             0.1111111111111111,
             "#46039f"
            ],
            [
             0.2222222222222222,
             "#7201a8"
            ],
            [
             0.3333333333333333,
             "#9c179e"
            ],
            [
             0.4444444444444444,
             "#bd3786"
            ],
            [
             0.5555555555555556,
             "#d8576b"
            ],
            [
             0.6666666666666666,
             "#ed7953"
            ],
            [
             0.7777777777777778,
             "#fb9f3a"
            ],
            [
             0.8888888888888888,
             "#fdca26"
            ],
            [
             1,
             "#f0f921"
            ]
           ],
           "sequentialminus": [
            [
             0,
             "#0d0887"
            ],
            [
             0.1111111111111111,
             "#46039f"
            ],
            [
             0.2222222222222222,
             "#7201a8"
            ],
            [
             0.3333333333333333,
             "#9c179e"
            ],
            [
             0.4444444444444444,
             "#bd3786"
            ],
            [
             0.5555555555555556,
             "#d8576b"
            ],
            [
             0.6666666666666666,
             "#ed7953"
            ],
            [
             0.7777777777777778,
             "#fb9f3a"
            ],
            [
             0.8888888888888888,
             "#fdca26"
            ],
            [
             1,
             "#f0f921"
            ]
           ]
          },
          "colorway": [
           "#636efa",
           "#EF553B",
           "#00cc96",
           "#ab63fa",
           "#FFA15A",
           "#19d3f3",
           "#FF6692",
           "#B6E880",
           "#FF97FF",
           "#FECB52"
          ],
          "font": {
           "color": "#2a3f5f"
          },
          "geo": {
           "bgcolor": "white",
           "lakecolor": "white",
           "landcolor": "#E5ECF6",
           "showlakes": true,
           "showland": true,
           "subunitcolor": "white"
          },
          "hoverlabel": {
           "align": "left"
          },
          "hovermode": "closest",
          "mapbox": {
           "style": "light"
          },
          "paper_bgcolor": "white",
          "plot_bgcolor": "#E5ECF6",
          "polar": {
           "angularaxis": {
            "gridcolor": "white",
            "linecolor": "white",
            "ticks": ""
           },
           "bgcolor": "#E5ECF6",
           "radialaxis": {
            "gridcolor": "white",
            "linecolor": "white",
            "ticks": ""
           }
          },
          "scene": {
           "xaxis": {
            "backgroundcolor": "#E5ECF6",
            "gridcolor": "white",
            "gridwidth": 2,
            "linecolor": "white",
            "showbackground": true,
            "ticks": "",
            "zerolinecolor": "white"
           },
           "yaxis": {
            "backgroundcolor": "#E5ECF6",
            "gridcolor": "white",
            "gridwidth": 2,
            "linecolor": "white",
            "showbackground": true,
            "ticks": "",
            "zerolinecolor": "white"
           },
           "zaxis": {
            "backgroundcolor": "#E5ECF6",
            "gridcolor": "white",
            "gridwidth": 2,
            "linecolor": "white",
            "showbackground": true,
            "ticks": "",
            "zerolinecolor": "white"
           }
          },
          "shapedefaults": {
           "line": {
            "color": "#2a3f5f"
           }
          },
          "ternary": {
           "aaxis": {
            "gridcolor": "white",
            "linecolor": "white",
            "ticks": ""
           },
           "baxis": {
            "gridcolor": "white",
            "linecolor": "white",
            "ticks": ""
           },
           "bgcolor": "#E5ECF6",
           "caxis": {
            "gridcolor": "white",
            "linecolor": "white",
            "ticks": ""
           }
          },
          "title": {
           "x": 0.05
          },
          "xaxis": {
           "automargin": true,
           "gridcolor": "white",
           "linecolor": "white",
           "ticks": "",
           "title": {
            "standoff": 15
           },
           "zerolinecolor": "white",
           "zerolinewidth": 2
          },
          "yaxis": {
           "automargin": true,
           "gridcolor": "white",
           "linecolor": "white",
           "ticks": "",
           "title": {
            "standoff": 15
           },
           "zerolinecolor": "white",
           "zerolinewidth": 2
          }
         }
        },
        "title": {
         "text": "Major Crimes in Chicago during Covid-19 era"
        },
        "treemapcolorway": [
         "rgb(103,0,31)",
         "rgb(178,24,43)",
         "rgb(214,96,77)",
         "rgb(244,165,130)",
         "rgb(253,219,199)",
         "rgb(247,247,247)",
         "rgb(209,229,240)",
         "rgb(146,197,222)",
         "rgb(67,147,195)",
         "rgb(33,102,172)",
         "rgb(5,48,97)"
        ]
       }
      },
      "text/html": [
       "<div>                            <div id=\"e265d38c-7b1e-4cae-b170-e70f829ad8f2\" class=\"plotly-graph-div\" style=\"height:800px; width:100%;\"></div>            <script type=\"text/javascript\">                require([\"plotly\"], function(Plotly) {                    window.PLOTLYENV=window.PLOTLYENV || {};                                    if (document.getElementById(\"e265d38c-7b1e-4cae-b170-e70f829ad8f2\")) {                    Plotly.newPlot(                        \"e265d38c-7b1e-4cae-b170-e70f829ad8f2\",                        [{\"branchvalues\": \"total\", \"domain\": {\"x\": [0.0, 1.0], \"y\": [0.0, 1.0]}, \"hovertemplate\": \"labels=%{label}<br>value=%{value}<br>parent=%{parent}<br>id=%{id}<extra></extra>\", \"ids\": [\"ARSON\", \"ASSAULT\", \"BATTERY\", \"BURGLARY\", \"CONCEALED CARRY LICENSE VIOLATION\", \"CRIMINAL DAMAGE\", \"CRIMINAL SEXUAL ASSAULT\", \"CRIMINAL TRESPASS\", \"DECEPTIVE PRACTICE\", \"GAMBLING\", \"HOMICIDE\", \"HUMAN TRAFFICKING\", \"INTERFERENCE WITH PUBLIC OFFICER\", \"INTIMIDATION\", \"KIDNAPPING\", \"LIQUOR LAW VIOLATION\", \"MOTOR VEHICLE THEFT\", \"NARCOTICS\", \"NON-CRIMINAL\", \"OBSCENITY\", \"OFFENSE INVOLVING CHILDREN\", \"OTHER NARCOTIC VIOLATION\", \"OTHER OFFENSE\", \"PROSTITUTION\", \"PUBLIC INDECENCY\", \"PUBLIC PEACE VIOLATION\", \"RITUALISM\", \"ROBBERY\", \"SEX OFFENSE\", \"STALKING\", \"THEFT\", \"WEAPONS VIOLATION\"], \"labels\": [\"ARSON\", \"ASSAULT\", \"BATTERY\", \"BURGLARY\", \"CONCEALED CARRY LICENSE VIOLATION\", \"CRIMINAL DAMAGE\", \"CRIMINAL SEXUAL ASSAULT\", \"CRIMINAL TRESPASS\", \"DECEPTIVE PRACTICE\", \"GAMBLING\", \"HOMICIDE\", \"HUMAN TRAFFICKING\", \"INTERFERENCE WITH PUBLIC OFFICER\", \"INTIMIDATION\", \"KIDNAPPING\", \"LIQUOR LAW VIOLATION\", \"MOTOR VEHICLE THEFT\", \"NARCOTICS\", \"NON-CRIMINAL\", \"OBSCENITY\", \"OFFENSE INVOLVING CHILDREN\", \"OTHER NARCOTIC VIOLATION\", \"OTHER OFFENSE\", \"PROSTITUTION\", \"PUBLIC INDECENCY\", \"PUBLIC PEACE VIOLATION\", \"RITUALISM\", \"ROBBERY\", \"SEX OFFENSE\", \"STALKING\", \"THEFT\", \"WEAPONS VIOLATION\"], \"name\": \"\", \"parents\": [\"\", \"\", \"\", \"\", \"\", \"\", \"\", \"\", \"\", \"\", \"\", \"\", \"\", \"\", \"\", \"\", \"\", \"\", \"\", \"\", \"\", \"\", \"\", \"\", \"\", \"\", \"\", \"\", \"\", \"\", \"\", \"\"], \"textinfo\": \"label+text+value\", \"type\": \"treemap\", \"values\": [672, 20512, 44959, 8869, 171, 27627, 1246, 3982, 20026, 25, 894, 5, 519, 171, 119, 140, 11314, 6368, 2, 66, 1962, 4, 13602, 227, 9, 1218, 1, 8540, 969, 255, 40672, 10009]}],                        {\"height\": 800, \"legend\": {\"tracegroupgap\": 0}, \"template\": {\"data\": {\"bar\": [{\"error_x\": {\"color\": \"#2a3f5f\"}, \"error_y\": {\"color\": \"#2a3f5f\"}, \"marker\": {\"line\": {\"color\": \"#E5ECF6\", \"width\": 0.5}}, \"type\": \"bar\"}], \"barpolar\": [{\"marker\": {\"line\": {\"color\": \"#E5ECF6\", \"width\": 0.5}}, \"type\": \"barpolar\"}], \"carpet\": [{\"aaxis\": {\"endlinecolor\": \"#2a3f5f\", \"gridcolor\": \"white\", \"linecolor\": \"white\", \"minorgridcolor\": \"white\", \"startlinecolor\": \"#2a3f5f\"}, \"baxis\": {\"endlinecolor\": \"#2a3f5f\", \"gridcolor\": \"white\", \"linecolor\": \"white\", \"minorgridcolor\": \"white\", \"startlinecolor\": \"#2a3f5f\"}, \"type\": \"carpet\"}], \"choropleth\": [{\"colorbar\": {\"outlinewidth\": 0, \"ticks\": \"\"}, \"type\": \"choropleth\"}], \"contour\": [{\"colorbar\": {\"outlinewidth\": 0, \"ticks\": \"\"}, \"colorscale\": [[0.0, \"#0d0887\"], [0.1111111111111111, \"#46039f\"], [0.2222222222222222, \"#7201a8\"], [0.3333333333333333, \"#9c179e\"], [0.4444444444444444, \"#bd3786\"], [0.5555555555555556, \"#d8576b\"], [0.6666666666666666, \"#ed7953\"], [0.7777777777777778, \"#fb9f3a\"], [0.8888888888888888, \"#fdca26\"], [1.0, \"#f0f921\"]], \"type\": \"contour\"}], \"contourcarpet\": [{\"colorbar\": {\"outlinewidth\": 0, \"ticks\": \"\"}, \"type\": \"contourcarpet\"}], \"heatmap\": [{\"colorbar\": {\"outlinewidth\": 0, \"ticks\": \"\"}, \"colorscale\": [[0.0, \"#0d0887\"], [0.1111111111111111, \"#46039f\"], [0.2222222222222222, \"#7201a8\"], [0.3333333333333333, \"#9c179e\"], [0.4444444444444444, \"#bd3786\"], [0.5555555555555556, \"#d8576b\"], [0.6666666666666666, \"#ed7953\"], [0.7777777777777778, \"#fb9f3a\"], [0.8888888888888888, \"#fdca26\"], [1.0, \"#f0f921\"]], \"type\": \"heatmap\"}], \"heatmapgl\": [{\"colorbar\": {\"outlinewidth\": 0, \"ticks\": \"\"}, \"colorscale\": [[0.0, \"#0d0887\"], [0.1111111111111111, \"#46039f\"], [0.2222222222222222, \"#7201a8\"], [0.3333333333333333, \"#9c179e\"], [0.4444444444444444, \"#bd3786\"], [0.5555555555555556, \"#d8576b\"], [0.6666666666666666, \"#ed7953\"], [0.7777777777777778, \"#fb9f3a\"], [0.8888888888888888, \"#fdca26\"], [1.0, \"#f0f921\"]], \"type\": \"heatmapgl\"}], \"histogram\": [{\"marker\": {\"colorbar\": {\"outlinewidth\": 0, \"ticks\": \"\"}}, \"type\": \"histogram\"}], \"histogram2d\": [{\"colorbar\": {\"outlinewidth\": 0, \"ticks\": \"\"}, \"colorscale\": [[0.0, \"#0d0887\"], [0.1111111111111111, \"#46039f\"], [0.2222222222222222, \"#7201a8\"], [0.3333333333333333, \"#9c179e\"], [0.4444444444444444, \"#bd3786\"], [0.5555555555555556, \"#d8576b\"], [0.6666666666666666, \"#ed7953\"], [0.7777777777777778, \"#fb9f3a\"], [0.8888888888888888, \"#fdca26\"], [1.0, \"#f0f921\"]], \"type\": \"histogram2d\"}], \"histogram2dcontour\": [{\"colorbar\": {\"outlinewidth\": 0, \"ticks\": \"\"}, \"colorscale\": [[0.0, \"#0d0887\"], [0.1111111111111111, \"#46039f\"], [0.2222222222222222, \"#7201a8\"], [0.3333333333333333, \"#9c179e\"], [0.4444444444444444, \"#bd3786\"], [0.5555555555555556, \"#d8576b\"], [0.6666666666666666, \"#ed7953\"], [0.7777777777777778, \"#fb9f3a\"], [0.8888888888888888, \"#fdca26\"], [1.0, \"#f0f921\"]], \"type\": \"histogram2dcontour\"}], \"mesh3d\": [{\"colorbar\": {\"outlinewidth\": 0, \"ticks\": \"\"}, \"type\": \"mesh3d\"}], \"parcoords\": [{\"line\": {\"colorbar\": {\"outlinewidth\": 0, \"ticks\": \"\"}}, \"type\": \"parcoords\"}], \"pie\": [{\"automargin\": true, \"type\": \"pie\"}], \"scatter\": [{\"marker\": {\"colorbar\": {\"outlinewidth\": 0, \"ticks\": \"\"}}, \"type\": \"scatter\"}], \"scatter3d\": [{\"line\": {\"colorbar\": {\"outlinewidth\": 0, \"ticks\": \"\"}}, \"marker\": {\"colorbar\": {\"outlinewidth\": 0, \"ticks\": \"\"}}, \"type\": \"scatter3d\"}], \"scattercarpet\": [{\"marker\": {\"colorbar\": {\"outlinewidth\": 0, \"ticks\": \"\"}}, \"type\": \"scattercarpet\"}], \"scattergeo\": [{\"marker\": {\"colorbar\": {\"outlinewidth\": 0, \"ticks\": \"\"}}, \"type\": \"scattergeo\"}], \"scattergl\": [{\"marker\": {\"colorbar\": {\"outlinewidth\": 0, \"ticks\": \"\"}}, \"type\": \"scattergl\"}], \"scattermapbox\": [{\"marker\": {\"colorbar\": {\"outlinewidth\": 0, \"ticks\": \"\"}}, \"type\": \"scattermapbox\"}], \"scatterpolar\": [{\"marker\": {\"colorbar\": {\"outlinewidth\": 0, \"ticks\": \"\"}}, \"type\": \"scatterpolar\"}], \"scatterpolargl\": [{\"marker\": {\"colorbar\": {\"outlinewidth\": 0, \"ticks\": \"\"}}, \"type\": \"scatterpolargl\"}], \"scatterternary\": [{\"marker\": {\"colorbar\": {\"outlinewidth\": 0, \"ticks\": \"\"}}, \"type\": \"scatterternary\"}], \"surface\": [{\"colorbar\": {\"outlinewidth\": 0, \"ticks\": \"\"}, \"colorscale\": [[0.0, \"#0d0887\"], [0.1111111111111111, \"#46039f\"], [0.2222222222222222, \"#7201a8\"], [0.3333333333333333, \"#9c179e\"], [0.4444444444444444, \"#bd3786\"], [0.5555555555555556, \"#d8576b\"], [0.6666666666666666, \"#ed7953\"], [0.7777777777777778, \"#fb9f3a\"], [0.8888888888888888, \"#fdca26\"], [1.0, \"#f0f921\"]], \"type\": \"surface\"}], \"table\": [{\"cells\": {\"fill\": {\"color\": \"#EBF0F8\"}, \"line\": {\"color\": \"white\"}}, \"header\": {\"fill\": {\"color\": \"#C8D4E3\"}, \"line\": {\"color\": \"white\"}}, \"type\": \"table\"}]}, \"layout\": {\"annotationdefaults\": {\"arrowcolor\": \"#2a3f5f\", \"arrowhead\": 0, \"arrowwidth\": 1}, \"autotypenumbers\": \"strict\", \"coloraxis\": {\"colorbar\": {\"outlinewidth\": 0, \"ticks\": \"\"}}, \"colorscale\": {\"diverging\": [[0, \"#8e0152\"], [0.1, \"#c51b7d\"], [0.2, \"#de77ae\"], [0.3, \"#f1b6da\"], [0.4, \"#fde0ef\"], [0.5, \"#f7f7f7\"], [0.6, \"#e6f5d0\"], [0.7, \"#b8e186\"], [0.8, \"#7fbc41\"], [0.9, \"#4d9221\"], [1, \"#276419\"]], \"sequential\": [[0.0, \"#0d0887\"], [0.1111111111111111, \"#46039f\"], [0.2222222222222222, \"#7201a8\"], [0.3333333333333333, \"#9c179e\"], [0.4444444444444444, \"#bd3786\"], [0.5555555555555556, \"#d8576b\"], [0.6666666666666666, \"#ed7953\"], [0.7777777777777778, \"#fb9f3a\"], [0.8888888888888888, \"#fdca26\"], [1.0, \"#f0f921\"]], \"sequentialminus\": [[0.0, \"#0d0887\"], [0.1111111111111111, \"#46039f\"], [0.2222222222222222, \"#7201a8\"], [0.3333333333333333, \"#9c179e\"], [0.4444444444444444, \"#bd3786\"], [0.5555555555555556, \"#d8576b\"], [0.6666666666666666, \"#ed7953\"], [0.7777777777777778, \"#fb9f3a\"], [0.8888888888888888, \"#fdca26\"], [1.0, \"#f0f921\"]]}, \"colorway\": [\"#636efa\", \"#EF553B\", \"#00cc96\", \"#ab63fa\", \"#FFA15A\", \"#19d3f3\", \"#FF6692\", \"#B6E880\", \"#FF97FF\", \"#FECB52\"], \"font\": {\"color\": \"#2a3f5f\"}, \"geo\": {\"bgcolor\": \"white\", \"lakecolor\": \"white\", \"landcolor\": \"#E5ECF6\", \"showlakes\": true, \"showland\": true, \"subunitcolor\": \"white\"}, \"hoverlabel\": {\"align\": \"left\"}, \"hovermode\": \"closest\", \"mapbox\": {\"style\": \"light\"}, \"paper_bgcolor\": \"white\", \"plot_bgcolor\": \"#E5ECF6\", \"polar\": {\"angularaxis\": {\"gridcolor\": \"white\", \"linecolor\": \"white\", \"ticks\": \"\"}, \"bgcolor\": \"#E5ECF6\", \"radialaxis\": {\"gridcolor\": \"white\", \"linecolor\": \"white\", \"ticks\": \"\"}}, \"scene\": {\"xaxis\": {\"backgroundcolor\": \"#E5ECF6\", \"gridcolor\": \"white\", \"gridwidth\": 2, \"linecolor\": \"white\", \"showbackground\": true, \"ticks\": \"\", \"zerolinecolor\": \"white\"}, \"yaxis\": {\"backgroundcolor\": \"#E5ECF6\", \"gridcolor\": \"white\", \"gridwidth\": 2, \"linecolor\": \"white\", \"showbackground\": true, \"ticks\": \"\", \"zerolinecolor\": \"white\"}, \"zaxis\": {\"backgroundcolor\": \"#E5ECF6\", \"gridcolor\": \"white\", \"gridwidth\": 2, \"linecolor\": \"white\", \"showbackground\": true, \"ticks\": \"\", \"zerolinecolor\": \"white\"}}, \"shapedefaults\": {\"line\": {\"color\": \"#2a3f5f\"}}, \"ternary\": {\"aaxis\": {\"gridcolor\": \"white\", \"linecolor\": \"white\", \"ticks\": \"\"}, \"baxis\": {\"gridcolor\": \"white\", \"linecolor\": \"white\", \"ticks\": \"\"}, \"bgcolor\": \"#E5ECF6\", \"caxis\": {\"gridcolor\": \"white\", \"linecolor\": \"white\", \"ticks\": \"\"}}, \"title\": {\"x\": 0.05}, \"xaxis\": {\"automargin\": true, \"gridcolor\": \"white\", \"linecolor\": \"white\", \"ticks\": \"\", \"title\": {\"standoff\": 15}, \"zerolinecolor\": \"white\", \"zerolinewidth\": 2}, \"yaxis\": {\"automargin\": true, \"gridcolor\": \"white\", \"linecolor\": \"white\", \"ticks\": \"\", \"title\": {\"standoff\": 15}, \"zerolinecolor\": \"white\", \"zerolinewidth\": 2}}}, \"title\": {\"text\": \"Major Crimes in Chicago during Covid-19 era\"}, \"treemapcolorway\": [\"rgb(103,0,31)\", \"rgb(178,24,43)\", \"rgb(214,96,77)\", \"rgb(244,165,130)\", \"rgb(253,219,199)\", \"rgb(247,247,247)\", \"rgb(209,229,240)\", \"rgb(146,197,222)\", \"rgb(67,147,195)\", \"rgb(33,102,172)\", \"rgb(5,48,97)\"]},                        {\"responsive\": true}                    ).then(function(){\n",
       "                            \n",
       "var gd = document.getElementById('e265d38c-7b1e-4cae-b170-e70f829ad8f2');\n",
       "var x = new MutationObserver(function (mutations, observer) {{\n",
       "        var display = window.getComputedStyle(gd).display;\n",
       "        if (!display || display === 'none') {{\n",
       "            console.log([gd, 'removed!']);\n",
       "            Plotly.purge(gd);\n",
       "            observer.disconnect();\n",
       "        }}\n",
       "}});\n",
       "\n",
       "// Listen for the removal of the full notebook cells\n",
       "var notebookContainer = gd.closest('#notebook-container');\n",
       "if (notebookContainer) {{\n",
       "    x.observe(notebookContainer, {childList: true});\n",
       "}}\n",
       "\n",
       "// Listen for the clearing of the current output cell\n",
       "var outputEl = gd.closest('.output');\n",
       "if (outputEl) {{\n",
       "    x.observe(outputEl, {childList: true});\n",
       "}}\n",
       "\n",
       "                        })                };                });            </script>        </div>"
      ]
     },
     "metadata": {},
     "output_type": "display_data"
    }
   ],
   "source": [
    "treemap(categories,'Major Crimes in Chicago during Covid-19 era',['primary_type'],categories['values'])"
   ]
  },
  {
   "cell_type": "code",
   "execution_count": 972,
   "id": "prepared-groove",
   "metadata": {},
   "outputs": [
    {
     "data": {
      "image/png": "[encoded data removed]",
      "text/plain": [
       "<Figure size 432x288 with 1 Axes>"
      ]
     },
     "metadata": {
      "needs_background": "light"
     },
     "output_type": "display_data"
    }
   ],
   "source": [
    "crime_data['primary_type'].value_counts(sort=True).nlargest(10).plot.bar()\n",
    "plt.savefig('/Users/allenhardiman/Box/PHD Courses/ACE_592/Figures/commoncrime2.png', dpi=200)"
   ]
  },
  {
   "cell_type": "code",
   "execution_count": 973,
   "id": "confidential-arkansas",
   "metadata": {
    "scrolled": true
   },
   "outputs": [
    {
     "data": {
      "image/png": "[encoded data removed]",
      "text/plain": [
       "<Figure size 1440x720 with 1 Axes>"
      ]
     },
     "metadata": {
      "needs_background": "light"
     },
     "output_type": "display_data"
    }
   ],
   "source": [
    "font = {'family' : 'normal',\n",
    "        'weight': \"normal\",\n",
    "        'size'   : 18}\n",
    "\n",
    "plt.rc('font', **font)\n",
    "\n",
    "\n",
    "crime_data.date.value_counts().sort_index().plot(label=\"Number of Crimes\",figsize=(20,10),lw=3)\n",
    "plt.xticks(rotation=-45)\n",
    "\n",
    "plt.axvline(x=\"2020-03-21\",ls=\"--\",color=\"red\",label=\"Stay at Home Order\",lw=3)\n",
    "plt.axvline(x=\"2020-12-15\",ls=\"-.\",color=\"red\",label=\"Vaccination Phase 1A\",lw=3)\n",
    "plt.axvline(x=\"2020-05-25\",ls=\":\",color=\"red\",label=\"George Floyd's Death\",lw=3)\n",
    "\n",
    "\n",
    "\n",
    "\n",
    "plt.ylabel(\"Daily Number of Crimes\")\n",
    "plt.legend(loc=\"upper right\")\n",
    "plt.title('Crime Trend in Chicago During Covid-19 Period')\n",
    "plt.savefig('/Users/allenhardiman/Box/PHD Courses/ACE_592/Figures/Crimetrend.png')"
   ]
  },
  {
   "cell_type": "markdown",
   "id": "accomplished-sixth",
   "metadata": {},
   "source": [
    "### Districts with the most crimes\n",
    "\n"
   ]
  },
  {
   "cell_type": "code",
   "execution_count": 974,
   "id": "moral-platform",
   "metadata": {},
   "outputs": [
    {
     "data": {
      "text/plain": [
       "11.0    15918\n",
       "6.0     15335\n",
       "8.0     14172\n",
       "4.0     13518\n",
       "7.0     12594\n",
       "Name: district, dtype: int64"
      ]
     },
     "execution_count": 974,
     "metadata": {},
     "output_type": "execute_result"
    }
   ],
   "source": [
    "districts_count = crime_data.district.value_counts()\n",
    "districts_count.head()"
   ]
  },
  {
   "cell_type": "markdown",
   "id": "foster-noise",
   "metadata": {},
   "source": [
    "### Districts with the most arrests\n"
   ]
  },
  {
   "cell_type": "code",
   "execution_count": 975,
   "id": "responsible-maximum",
   "metadata": {},
   "outputs": [
    {
     "data": {
      "text/plain": [
       "11.0    4512\n",
       "6.0     2599\n",
       "7.0     2308\n",
       "10.0    2064\n",
       "25.0    1827\n",
       "Name: district, dtype: int64"
      ]
     },
     "execution_count": 975,
     "metadata": {},
     "output_type": "execute_result"
    }
   ],
   "source": [
    "districts_arrests=crime_data[(crime_data['arrest'] == True )]\n",
    "districts_count = districts_arrests.district.value_counts()\n",
    "districts_count.head()"
   ]
  },
  {
   "cell_type": "code",
   "execution_count": 976,
   "id": "composed-despite",
   "metadata": {
    "scrolled": true
   },
   "outputs": [
    {
     "name": "stderr",
     "output_type": "stream",
     "text": [
      "<ipython-input-976-3a6833434793>:2: SettingWithCopyWarning:\n",
      "\n",
      "\n",
      "A value is trying to be set on a copy of a slice from a DataFrame.\n",
      "Try using .loc[row_indexer,col_indexer] = value instead\n",
      "\n",
      "See the caveats in the documentation: https://pandas.pydata.org/pandas-docs/stable/user_guide/indexing.html#returning-a-view-versus-a-copy\n",
      "\n",
      "<ipython-input-976-3a6833434793>:4: SettingWithCopyWarning:\n",
      "\n",
      "\n",
      "A value is trying to be set on a copy of a slice from a DataFrame.\n",
      "Try using .loc[row_indexer,col_indexer] = value instead\n",
      "\n",
      "See the caveats in the documentation: https://pandas.pydata.org/pandas-docs/stable/user_guide/indexing.html#returning-a-view-versus-a-copy\n",
      "\n",
      "<ipython-input-976-3a6833434793>:5: SettingWithCopyWarning:\n",
      "\n",
      "\n",
      "A value is trying to be set on a copy of a slice from a DataFrame.\n",
      "Try using .loc[row_indexer,col_indexer] = value instead\n",
      "\n",
      "See the caveats in the documentation: https://pandas.pydata.org/pandas-docs/stable/user_guide/indexing.html#returning-a-view-versus-a-copy\n",
      "\n"
     ]
    }
   ],
   "source": [
    "domestic_crimes = crime_data[(crime_data['domestic'] == True )]\n",
    "domestic_crimes['count'] = 1 \n",
    "homicides = crime_data[(crime_data['primary_type'] == \"HOMICIDE\" )]\n",
    "homicides['count'] = 1 \n",
    "districts_arrests['count'] = 1 "
   ]
  },
  {
   "cell_type": "markdown",
   "id": "prostate-matthew",
   "metadata": {},
   "source": [
    "### We construct the count values and the moving average for homicides, domestic crimes and arrests"
   ]
  },
  {
   "cell_type": "code",
   "execution_count": 977,
   "id": "outstanding-security",
   "metadata": {},
   "outputs": [],
   "source": [
    "homicides_collapsed = homicides.groupby('date').sum() \n",
    "domestic_collapsed = domestic_crimes.groupby('date').sum() \n",
    "arrests_collapsed = districts_arrests.groupby('date').sum() \n",
    "\n",
    "homicides_collapsed['rolling_homicides'] = homicides_collapsed['count'].rolling(window=7).mean()\n",
    "domestic_collapsed['rolling_domestic'] = domestic_collapsed['count'].rolling(window=7).mean()\n",
    "arrests_collapsed['rolling_arrests'] = arrests_collapsed['count'].rolling(window=7).mean()\n"
   ]
  },
  {
   "cell_type": "code",
   "execution_count": 978,
   "id": "atmospheric-earth",
   "metadata": {
    "scrolled": true
   },
   "outputs": [
    {
     "data": {
      "image/png": "[encoded data removed]",
      "text/plain": [
       "<Figure size 1440x432 with 1 Axes>"
      ]
     },
     "metadata": {
      "needs_background": "light"
     },
     "output_type": "display_data"
    }
   ],
   "source": [
    "f,a  = plt.subplots(figsize=(20,6))\n",
    "\n",
    "#covidcrime['count'].plot(ax=a,label=\"Crime Number\")\n",
    "homicides_collapsed['count'].plot(alpha=0.05,ax=a,color=\"black\",label=\"Number of Homicides\",lw=3)\n",
    "homicides_collapsed['rolling_homicides'].plot(alpha=0.5,ax=a,color=\"red\",label=\"Number of Homicides-Moving Average\",lw=3)\n",
    "plt.legend(loc='upper right')\n",
    "plt.title('Homicides Trend in Chicago During Covid-19 Period')\n",
    "#a.set_ylim(-1,1)\n",
    "plt.savefig('/Users/allenhardiman/Box/PHD Courses/ACE_592/Figures/homirollavg.png')"
   ]
  },
  {
   "cell_type": "code",
   "execution_count": 979,
   "id": "sorted-chuck",
   "metadata": {},
   "outputs": [
    {
     "data": {
      "image/png": "[encoded data removed]",
      "text/plain": [
       "<Figure size 1440x432 with 1 Axes>"
      ]
     },
     "metadata": {
      "needs_background": "light"
     },
     "output_type": "display_data"
    }
   ],
   "source": [
    "f,a  = plt.subplots(figsize=(20,6))\n",
    "\n",
    "#covidcrime['count'].plot(ax=a,label=\"Crime Number\")\n",
    "\n",
    "domestic_collapsed['count'].plot(alpha=0.05,ax=a,color=\"black\",label=\"Number of Domestic Crimes\",lw=3)\n",
    "domestic_collapsed['rolling_domestic'].plot(alpha=0.5,ax=a,color=\"red\",label=\"Number of Domestic-Moving Average\",lw=3)\n",
    "\n",
    "arrests_collapsed['count'].plot(alpha=0.07,ax=a,color=\"magenta\",label=\"Number of Arrests\",lw=3)\n",
    "arrests_collapsed['rolling_arrests'].plot(alpha=0.5,ax=a,color=\"blue\",label=\"Number of Arrests-Moving Average\",lw=3)\n",
    "\n",
    "plt.legend(loc='upper right')\n",
    "#a.set_ylim(-1,1)\n",
    "plt.title('Domestic Crimes and Arrests Trend in Chicago During Covid-19 Period')\n",
    "plt.savefig('/Users/allenhardiman/Box/PHD Courses/ACE_592/Figures/domarrestrollingavg.png')"
   ]
  },
  {
   "cell_type": "markdown",
   "id": "returning-valve",
   "metadata": {},
   "source": [
    "# Cleaning Covid Data"
   ]
  },
  {
   "cell_type": "code",
   "execution_count": 980,
   "id": "previous-short",
   "metadata": {},
   "outputs": [],
   "source": [
    "covid_case=pd.read_csv(\"/Users/allenhardiman/Box/PHD Courses/Data/COVID-19_Cases__Tests__and_Deaths_by_ZIP_Code.csv\")"
   ]
  },
  {
   "cell_type": "code",
   "execution_count": 981,
   "id": "inappropriate-trance",
   "metadata": {},
   "outputs": [],
   "source": [
    "covid_case1 = covid_case[['Week End','ZIP Code','Cases - Weekly']]\n",
    "covid_case1=covid_case1.rename(columns={'Week End':'date', 'ZIP Code':'zipcode', 'Cases - Weekly':'cases'})\n",
    "covid_case1['date'] = pd.to_datetime(covid_case1.date).astype('datetime64[ns]')\n",
    "covid_case1=covid_case1[covid_case1['zipcode']!='Unknown']\n",
    "covid_average=covid_case1.groupby('date').sum().reset_index()"
   ]
  },
  {
   "cell_type": "code",
   "execution_count": 982,
   "id": "arranged-manhattan",
   "metadata": {},
   "outputs": [],
   "source": [
    "covid_zip=covid_case1['zipcode']\n",
    "covid_zip=covid_zip.astype(int)\n",
    "covid_zip=covid_zip.drop_duplicates()\n",
    "covid_zip=pd.DataFrame(covid_zip)"
   ]
  },
  {
   "cell_type": "markdown",
   "id": "governmental-yemen",
   "metadata": {},
   "source": [
    "# Heatmap for Covid & Crime Cases"
   ]
  },
  {
   "cell_type": "code",
   "execution_count": 983,
   "id": "formed-needle",
   "metadata": {
    "scrolled": true
   },
   "outputs": [],
   "source": [
    "chicago=gp.read_file('/Users/allenhardiman/Dropbox/PHD Courses/Data/geo_export_1c64fcdd-5138-4979-a9f9-55db9817f253.shp')\n",
    "\n",
    "crime_gdf=gp.GeoDataFrame(crime_data, geometry=gp.points_from_xy(crime_data.longitude_x, crime_data.latitude_x))\n",
    "#gdf = geopandas.GeoDataFrame(\n",
    "    #df, geometry=geopandas.points_from_xy(df.Longitude, df.Latitude))\n",
    "crime_gdf=crime_gdf.drop(columns=['latitude_x','latitude_y','longitude_x','longitude_y'])    \n",
    "crime_gdf=crime_gdf.set_crs(epsg=4326)"
   ]
  },
  {
   "cell_type": "code",
   "execution_count": 984,
   "id": "metric-tourist",
   "metadata": {
    "scrolled": true
   },
   "outputs": [
    {
     "data": {
      "text/plain": [
       "True"
      ]
     },
     "execution_count": 984,
     "metadata": {},
     "output_type": "execute_result"
    }
   ],
   "source": [
    "crime_gdf.crs==chicago.crs"
   ]
  },
  {
   "cell_type": "code",
   "execution_count": 985,
   "id": "eleven-enforcement",
   "metadata": {},
   "outputs": [],
   "source": [
    "chicago=chicago.rename(columns={'zip':'zipcode'})\n",
    "chicago['zipcode']=chicago['zipcode'].astype(int)"
   ]
  },
  {
   "cell_type": "code",
   "execution_count": 986,
   "id": "collect-draft",
   "metadata": {
    "scrolled": false
   },
   "outputs": [],
   "source": [
    "crime_clip=gp.clip(crime_gdf,chicago)"
   ]
  },
  {
   "cell_type": "code",
   "execution_count": 987,
   "id": "chronic-seminar",
   "metadata": {
    "scrolled": false
   },
   "outputs": [],
   "source": [
    "chicago_crime = gp.sjoin(crime_clip,\\\n",
    "                                chicago,\\\n",
    "                                how='right')\n",
    "#zipcode_y (that comes from the chicago shapefile) is more accurate, so use it"
   ]
  },
  {
   "cell_type": "code",
   "execution_count": 988,
   "id": "pleased-ireland",
   "metadata": {
    "scrolled": true
   },
   "outputs": [],
   "source": [
    "chicago_crime_counts = chicago_crime.groupby(\"zipcode_y\")['primary_type'].count().reset_index()\n",
    "chicago_crime_counts=chicago_crime_counts.rename(columns={'zipcode_y':'zipcode'})\n",
    "chicago_crime1=chicago.merge(chicago_crime_counts, how='left')"
   ]
  },
  {
   "cell_type": "code",
   "execution_count": 989,
   "id": "widespread-writer",
   "metadata": {},
   "outputs": [
    {
     "name": "stderr",
     "output_type": "stream",
     "text": [
      "<ipython-input-989-46b28eda4aa8>:3: SettingWithCopyWarning:\n",
      "\n",
      "\n",
      "A value is trying to be set on a copy of a slice from a DataFrame.\n",
      "Try using .loc[row_indexer,col_indexer] = value instead\n",
      "\n",
      "See the caveats in the documentation: https://pandas.pydata.org/pandas-docs/stable/user_guide/indexing.html#returning-a-view-versus-a-copy\n",
      "\n"
     ]
    }
   ],
   "source": [
    "covid_case2=covid_case[['ZIP Code', 'Week End', 'Cases - Weekly', 'ZIP Code Location']]\n",
    "\n",
    "covid_case2['location']=gp.GeoSeries.from_wkt(covid_case2['ZIP Code Location'])\n",
    "covid_case2=covid_case2.rename(columns={'Week End':'date', 'ZIP Code':'zipcode', 'Cases - Weekly':'cases'})\n",
    "covid_case2=covid_case2.drop(columns={'ZIP Code Location'})"
   ]
  },
  {
   "cell_type": "code",
   "execution_count": 990,
   "id": "derived-stack",
   "metadata": {},
   "outputs": [],
   "source": [
    "covid_gdf=gp.GeoDataFrame(covid_case2, geometry='location')\n",
    "covid_gdf=covid_gdf.set_crs(epsg=4326)"
   ]
  },
  {
   "cell_type": "code",
   "execution_count": 991,
   "id": "proper-climate",
   "metadata": {},
   "outputs": [],
   "source": [
    "covid_clip=gp.clip(covid_gdf,chicago)"
   ]
  },
  {
   "cell_type": "code",
   "execution_count": 992,
   "id": "crazy-colombia",
   "metadata": {},
   "outputs": [],
   "source": [
    "chicago_covid = gp.sjoin(covid_clip,\\\n",
    "                                chicago,\\\n",
    "                                how='right')"
   ]
  },
  {
   "cell_type": "code",
   "execution_count": 993,
   "id": "brutal-composite",
   "metadata": {},
   "outputs": [],
   "source": [
    "chicago_covid=chicago_covid.rename(columns={'zipcode_y':'zipcode'})\n",
    "chicago_covid_counts=chicago_covid.groupby('zipcode')['cases'].sum().reset_index()\n",
    "chicago_covid1=chicago.merge(chicago_covid_counts, how='left')"
   ]
  },
  {
   "cell_type": "code",
   "execution_count": 994,
   "id": "published-surge",
   "metadata": {
    "scrolled": false
   },
   "outputs": [
    {
     "data": {
      "text/html": [
       "<div>\n",
       "<style scoped>\n",
       "    .dataframe tbody tr th:only-of-type {\n",
       "        vertical-align: middle;\n",
       "    }\n",
       "\n",
       "    .dataframe tbody tr th {\n",
       "        vertical-align: top;\n",
       "    }\n",
       "\n",
       "    .dataframe thead th {\n",
       "        text-align: right;\n",
       "    }\n",
       "</style>\n",
       "<table border=\"1\" class=\"dataframe\">\n",
       "  <thead>\n",
       "    <tr style=\"text-align: right;\">\n",
       "      <th></th>\n",
       "      <th>objectid</th>\n",
       "      <th>shape_area</th>\n",
       "      <th>shape_len</th>\n",
       "      <th>zipcode</th>\n",
       "      <th>geometry</th>\n",
       "      <th>cases</th>\n",
       "    </tr>\n",
       "  </thead>\n",
       "  <tbody>\n",
       "    <tr>\n",
       "      <th>57</th>\n",
       "      <td>58.0</td>\n",
       "      <td>2.111148e+08</td>\n",
       "      <td>58701.325375</td>\n",
       "      <td>60629</td>\n",
       "      <td>POLYGON ((-87.68306 41.75786, -87.68306 41.757...</td>\n",
       "      <td>16922.0</td>\n",
       "    </tr>\n",
       "    <tr>\n",
       "      <th>1</th>\n",
       "      <td>34.0</td>\n",
       "      <td>1.274761e+08</td>\n",
       "      <td>48103.782721</td>\n",
       "      <td>60639</td>\n",
       "      <td>POLYGON ((-87.72683 41.92265, -87.72693 41.922...</td>\n",
       "      <td>14265.0</td>\n",
       "    </tr>\n",
       "    <tr>\n",
       "      <th>55</th>\n",
       "      <td>56.0</td>\n",
       "      <td>2.117553e+08</td>\n",
       "      <td>63253.238669</td>\n",
       "      <td>60632</td>\n",
       "      <td>POLYGON ((-87.69479 41.83008, -87.69472 41.830...</td>\n",
       "      <td>13158.0</td>\n",
       "    </tr>\n",
       "    <tr>\n",
       "      <th>56</th>\n",
       "      <td>57.0</td>\n",
       "      <td>1.552855e+08</td>\n",
       "      <td>53406.915617</td>\n",
       "      <td>60623</td>\n",
       "      <td>POLYGON ((-87.69479 41.83008, -87.69486 41.830...</td>\n",
       "      <td>10733.0</td>\n",
       "    </tr>\n",
       "    <tr>\n",
       "      <th>51</th>\n",
       "      <td>52.0</td>\n",
       "      <td>1.940626e+08</td>\n",
       "      <td>77647.318007</td>\n",
       "      <td>60634</td>\n",
       "      <td>POLYGON ((-87.76625 41.93128, -87.76661 41.931...</td>\n",
       "      <td>10187.0</td>\n",
       "    </tr>\n",
       "    <tr>\n",
       "      <th>...</th>\n",
       "      <td>...</td>\n",
       "      <td>...</td>\n",
       "      <td>...</td>\n",
       "      <td>...</td>\n",
       "      <td>...</td>\n",
       "      <td>...</td>\n",
       "    </tr>\n",
       "    <tr>\n",
       "      <th>33</th>\n",
       "      <td>19.0</td>\n",
       "      <td>4.560229e+06</td>\n",
       "      <td>13672.682289</td>\n",
       "      <td>60603</td>\n",
       "      <td>POLYGON ((-87.61633 41.88211, -87.61635 41.882...</td>\n",
       "      <td>74.0</td>\n",
       "    </tr>\n",
       "    <tr>\n",
       "      <th>37</th>\n",
       "      <td>23.0</td>\n",
       "      <td>2.820851e+08</td>\n",
       "      <td>101876.553747</td>\n",
       "      <td>60666</td>\n",
       "      <td>MULTIPOLYGON (((-87.89598 42.00578, -87.89598 ...</td>\n",
       "      <td>0.0</td>\n",
       "    </tr>\n",
       "    <tr>\n",
       "      <th>46</th>\n",
       "      <td>44.0</td>\n",
       "      <td>4.855133e+07</td>\n",
       "      <td>28833.963757</td>\n",
       "      <td>60827</td>\n",
       "      <td>POLYGON ((-87.58479 41.64470, -87.58567 41.644...</td>\n",
       "      <td>0.0</td>\n",
       "    </tr>\n",
       "    <tr>\n",
       "      <th>2</th>\n",
       "      <td>35.0</td>\n",
       "      <td>4.506904e+07</td>\n",
       "      <td>27288.609612</td>\n",
       "      <td>60707</td>\n",
       "      <td>POLYGON ((-87.78500 41.90915, -87.78531 41.909...</td>\n",
       "      <td>0.0</td>\n",
       "    </tr>\n",
       "    <tr>\n",
       "      <th>50</th>\n",
       "      <td>51.0</td>\n",
       "      <td>3.450671e+06</td>\n",
       "      <td>7909.890407</td>\n",
       "      <td>60707</td>\n",
       "      <td>POLYGON ((-87.80662 41.93451, -87.80686 41.934...</td>\n",
       "      <td>0.0</td>\n",
       "    </tr>\n",
       "  </tbody>\n",
       "</table>\n",
       "<p>61 rows × 6 columns</p>\n",
       "</div>"
      ],
      "text/plain": [
       "    objectid    shape_area      shape_len  zipcode  \\\n",
       "57      58.0  2.111148e+08   58701.325375    60629   \n",
       "1       34.0  1.274761e+08   48103.782721    60639   \n",
       "55      56.0  2.117553e+08   63253.238669    60632   \n",
       "56      57.0  1.552855e+08   53406.915617    60623   \n",
       "51      52.0  1.940626e+08   77647.318007    60634   \n",
       "..       ...           ...            ...      ...   \n",
       "33      19.0  4.560229e+06   13672.682289    60603   \n",
       "37      23.0  2.820851e+08  101876.553747    60666   \n",
       "46      44.0  4.855133e+07   28833.963757    60827   \n",
       "2       35.0  4.506904e+07   27288.609612    60707   \n",
       "50      51.0  3.450671e+06    7909.890407    60707   \n",
       "\n",
       "                                             geometry    cases  \n",
       "57  POLYGON ((-87.68306 41.75786, -87.68306 41.757...  16922.0  \n",
       "1   POLYGON ((-87.72683 41.92265, -87.72693 41.922...  14265.0  \n",
       "55  POLYGON ((-87.69479 41.83008, -87.69472 41.830...  13158.0  \n",
       "56  POLYGON ((-87.69479 41.83008, -87.69486 41.830...  10733.0  \n",
       "51  POLYGON ((-87.76625 41.93128, -87.76661 41.931...  10187.0  \n",
       "..                                                ...      ...  \n",
       "33  POLYGON ((-87.61633 41.88211, -87.61635 41.882...     74.0  \n",
       "37  MULTIPOLYGON (((-87.89598 42.00578, -87.89598 ...      0.0  \n",
       "46  POLYGON ((-87.58479 41.64470, -87.58567 41.644...      0.0  \n",
       "2   POLYGON ((-87.78500 41.90915, -87.78531 41.909...      0.0  \n",
       "50  POLYGON ((-87.80662 41.93451, -87.80686 41.934...      0.0  \n",
       "\n",
       "[61 rows x 6 columns]"
      ]
     },
     "execution_count": 994,
     "metadata": {},
     "output_type": "execute_result"
    }
   ],
   "source": [
    "chicago_covid1.sort_values('cases',ascending=False) #Looking at zipcodes with most covid cases\n"
   ]
  },
  {
   "cell_type": "code",
   "execution_count": 995,
   "id": "quality-navigation",
   "metadata": {},
   "outputs": [
    {
     "data": {
      "text/html": [
       "<div>\n",
       "<style scoped>\n",
       "    .dataframe tbody tr th:only-of-type {\n",
       "        vertical-align: middle;\n",
       "    }\n",
       "\n",
       "    .dataframe tbody tr th {\n",
       "        vertical-align: top;\n",
       "    }\n",
       "\n",
       "    .dataframe thead th {\n",
       "        text-align: right;\n",
       "    }\n",
       "</style>\n",
       "<table border=\"1\" class=\"dataframe\">\n",
       "  <thead>\n",
       "    <tr style=\"text-align: right;\">\n",
       "      <th></th>\n",
       "      <th>objectid</th>\n",
       "      <th>shape_area</th>\n",
       "      <th>shape_len</th>\n",
       "      <th>zipcode</th>\n",
       "      <th>geometry</th>\n",
       "      <th>primary_type</th>\n",
       "    </tr>\n",
       "  </thead>\n",
       "  <tbody>\n",
       "    <tr>\n",
       "      <th>58</th>\n",
       "      <td>59.0</td>\n",
       "      <td>2.116961e+08</td>\n",
       "      <td>58466.160298</td>\n",
       "      <td>60620</td>\n",
       "      <td>POLYGON ((-87.62373 41.72167, -87.62388 41.721...</td>\n",
       "      <td>11105</td>\n",
       "    </tr>\n",
       "    <tr>\n",
       "      <th>18</th>\n",
       "      <td>43.0</td>\n",
       "      <td>3.452417e+08</td>\n",
       "      <td>83748.991990</td>\n",
       "      <td>60628</td>\n",
       "      <td>POLYGON ((-87.58515 41.72160, -87.58518 41.721...</td>\n",
       "      <td>10323</td>\n",
       "    </tr>\n",
       "    <tr>\n",
       "      <th>60</th>\n",
       "      <td>61.0</td>\n",
       "      <td>1.678720e+08</td>\n",
       "      <td>53040.907078</td>\n",
       "      <td>60619</td>\n",
       "      <td>POLYGON ((-87.58592 41.75150, -87.58592 41.751...</td>\n",
       "      <td>10204</td>\n",
       "    </tr>\n",
       "    <tr>\n",
       "      <th>29</th>\n",
       "      <td>17.0</td>\n",
       "      <td>9.941812e+07</td>\n",
       "      <td>40394.410008</td>\n",
       "      <td>60624</td>\n",
       "      <td>POLYGON ((-87.70567 41.86641, -87.70588 41.866...</td>\n",
       "      <td>10055</td>\n",
       "    </tr>\n",
       "    <tr>\n",
       "      <th>56</th>\n",
       "      <td>57.0</td>\n",
       "      <td>1.552855e+08</td>\n",
       "      <td>53406.915617</td>\n",
       "      <td>60623</td>\n",
       "      <td>POLYGON ((-87.69479 41.83008, -87.69486 41.830...</td>\n",
       "      <td>9093</td>\n",
       "    </tr>\n",
       "    <tr>\n",
       "      <th>...</th>\n",
       "      <td>...</td>\n",
       "      <td>...</td>\n",
       "      <td>...</td>\n",
       "      <td>...</td>\n",
       "      <td>...</td>\n",
       "      <td>...</td>\n",
       "    </tr>\n",
       "    <tr>\n",
       "      <th>44</th>\n",
       "      <td>30.0</td>\n",
       "      <td>9.357756e+06</td>\n",
       "      <td>13132.565490</td>\n",
       "      <td>60661</td>\n",
       "      <td>POLYGON ((-87.63997 41.88905, -87.63999 41.888...</td>\n",
       "      <td>570</td>\n",
       "    </tr>\n",
       "    <tr>\n",
       "      <th>25</th>\n",
       "      <td>14.0</td>\n",
       "      <td>1.875267e+08</td>\n",
       "      <td>59703.215815</td>\n",
       "      <td>60633</td>\n",
       "      <td>POLYGON ((-87.60045 41.67432, -87.58363 41.673...</td>\n",
       "      <td>570</td>\n",
       "    </tr>\n",
       "    <tr>\n",
       "      <th>45</th>\n",
       "      <td>31.0</td>\n",
       "      <td>6.766411e+06</td>\n",
       "      <td>12040.440235</td>\n",
       "      <td>60606</td>\n",
       "      <td>POLYGON ((-87.63397 41.88753, -87.63397 41.887...</td>\n",
       "      <td>522</td>\n",
       "    </tr>\n",
       "    <tr>\n",
       "      <th>33</th>\n",
       "      <td>19.0</td>\n",
       "      <td>4.560229e+06</td>\n",
       "      <td>13672.682289</td>\n",
       "      <td>60603</td>\n",
       "      <td>POLYGON ((-87.61633 41.88211, -87.61635 41.882...</td>\n",
       "      <td>458</td>\n",
       "    </tr>\n",
       "    <tr>\n",
       "      <th>28</th>\n",
       "      <td>48.0</td>\n",
       "      <td>4.294902e+06</td>\n",
       "      <td>12245.808402</td>\n",
       "      <td>60604</td>\n",
       "      <td>POLYGON ((-87.63376 41.87924, -87.63375 41.879...</td>\n",
       "      <td>408</td>\n",
       "    </tr>\n",
       "  </tbody>\n",
       "</table>\n",
       "<p>61 rows × 6 columns</p>\n",
       "</div>"
      ],
      "text/plain": [
       "    objectid    shape_area     shape_len  zipcode  \\\n",
       "58      59.0  2.116961e+08  58466.160298    60620   \n",
       "18      43.0  3.452417e+08  83748.991990    60628   \n",
       "60      61.0  1.678720e+08  53040.907078    60619   \n",
       "29      17.0  9.941812e+07  40394.410008    60624   \n",
       "56      57.0  1.552855e+08  53406.915617    60623   \n",
       "..       ...           ...           ...      ...   \n",
       "44      30.0  9.357756e+06  13132.565490    60661   \n",
       "25      14.0  1.875267e+08  59703.215815    60633   \n",
       "45      31.0  6.766411e+06  12040.440235    60606   \n",
       "33      19.0  4.560229e+06  13672.682289    60603   \n",
       "28      48.0  4.294902e+06  12245.808402    60604   \n",
       "\n",
       "                                             geometry  primary_type  \n",
       "58  POLYGON ((-87.62373 41.72167, -87.62388 41.721...         11105  \n",
       "18  POLYGON ((-87.58515 41.72160, -87.58518 41.721...         10323  \n",
       "60  POLYGON ((-87.58592 41.75150, -87.58592 41.751...         10204  \n",
       "29  POLYGON ((-87.70567 41.86641, -87.70588 41.866...         10055  \n",
       "56  POLYGON ((-87.69479 41.83008, -87.69486 41.830...          9093  \n",
       "..                                                ...           ...  \n",
       "44  POLYGON ((-87.63997 41.88905, -87.63999 41.888...           570  \n",
       "25  POLYGON ((-87.60045 41.67432, -87.58363 41.673...           570  \n",
       "45  POLYGON ((-87.63397 41.88753, -87.63397 41.887...           522  \n",
       "33  POLYGON ((-87.61633 41.88211, -87.61635 41.882...           458  \n",
       "28  POLYGON ((-87.63376 41.87924, -87.63375 41.879...           408  \n",
       "\n",
       "[61 rows x 6 columns]"
      ]
     },
     "execution_count": 995,
     "metadata": {},
     "output_type": "execute_result"
    }
   ],
   "source": [
    "chicago_crime1.sort_values('primary_type', ascending=False) #Zipcodes with most crime cases"
   ]
  },
  {
   "cell_type": "code",
   "execution_count": 996,
   "id": "voluntary-reverse",
   "metadata": {
    "scrolled": true
   },
   "outputs": [
    {
     "data": {
      "image/png": "[encoded data removed]",
      "text/plain": [
       "<Figure size 1080x360 with 4 Axes>"
      ]
     },
     "metadata": {
      "needs_background": "light"
     },
     "output_type": "display_data"
    }
   ],
   "source": [
    "fig, a = plt.subplots(ncols=2, figsize=(15,5))\n",
    "#= plt.subplots(1,1, figsize=(12,7))\n",
    "chicago_crime1.plot(column=\"primary_type\",\n",
    "             ax=a[0],\n",
    "             cmap=\"OrRd\",\n",
    "            legend=True);\n",
    "chicago_covid1.plot(column=\"cases\",\n",
    "             ax=a[1],\n",
    "             cmap=\"OrRd\",\n",
    "            legend=True);\n",
    "a[0].set_title(\"Crime Incidents During Covid-19 Period in Chicago\");\n",
    "a[1].set_title(\"Covid-19 Heatmap in Chicago\");\n",
    "a[1].axis(\"off\")\n",
    "a[0].axis(\"off\")\n",
    "\n",
    "plt.savefig('/Users/allenhardiman/Box/PHD Courses/ACE_592/Figures/Covidcrimecombheat.png')\n",
    "\n"
   ]
  },
  {
   "cell_type": "markdown",
   "id": "practical-congress",
   "metadata": {},
   "source": [
    "# Regression Crime And Covid"
   ]
  },
  {
   "cell_type": "code",
   "execution_count": 997,
   "id": "better-professor",
   "metadata": {},
   "outputs": [
    {
     "name": "stderr",
     "output_type": "stream",
     "text": [
      "<ipython-input-997-35c3c86ea211>:27: SettingWithCopyWarning:\n",
      "\n",
      "\n",
      "A value is trying to be set on a copy of a slice from a DataFrame.\n",
      "Try using .loc[row_indexer,col_indexer] = value instead\n",
      "\n",
      "See the caveats in the documentation: https://pandas.pydata.org/pandas-docs/stable/user_guide/indexing.html#returning-a-view-versus-a-copy\n",
      "\n",
      "<ipython-input-997-35c3c86ea211>:28: SettingWithCopyWarning:\n",
      "\n",
      "\n",
      "A value is trying to be set on a copy of a slice from a DataFrame.\n",
      "Try using .loc[row_indexer,col_indexer] = value instead\n",
      "\n",
      "See the caveats in the documentation: https://pandas.pydata.org/pandas-docs/stable/user_guide/indexing.html#returning-a-view-versus-a-copy\n",
      "\n"
     ]
    }
   ],
   "source": [
    "crime_merge1=pd.merge(crime_data,covid_zip, on='zipcode', how='inner', validate='m:1')\n",
    "crime_merge1['week']=crime_merge1['date'].dt.to_period('W-Sat')\n",
    "crime_merge1['week']=crime_merge1['week'].astype(str)\n",
    "crime_merge1['week']=crime_merge1['week'].apply(lambda x:  str(x)[11:])\n",
    "crime_merge1['week']=pd.to_datetime(crime_merge1.week)\n",
    "del crime_merge1['date']\n",
    "crime_merge1=crime_merge1.rename(columns={'week':'date'})\n",
    "crime_merge1['zipcode']=crime_merge1['zipcode'].astype(str)\n",
    "#crime_covid1['count'] = 1 \n",
    "crime_merge1=crime_merge1.groupby(['zipcode','date'])['primary_type'].count().reset_index()\n",
    "crime_covid1=pd.merge(crime_merge1, covid_case1, on=['zipcode','date'], how='inner')\n",
    "crime_covid1 = crime_covid1.dropna()\n",
    "\n",
    "\n",
    "\n",
    "\n",
    "#crime_merge1.sort_values('week')\n",
    "#crime_merge1 = crime_merge1.groupby(['zipcode','week'])['primary_type'].count()\n",
    "#crime_merge1=pd.DataFrame(crime_merge1)\n",
    "#crime_me\n",
    "\n",
    "\n",
    "#crime_covid1['primary_type'].corr(crime_covid1['cases'])\n",
    "\n",
    "\n",
    "crime_covid2=crime_covid1[crime_covid1['cases']!=0]\n",
    "crime_covid2['logcase']=np.log(crime_covid2['cases'])\n",
    "crime_covid2['logcrime']=np.log(crime_covid2['primary_type'])\n"
   ]
  },
  {
   "cell_type": "code",
   "execution_count": 998,
   "id": "hungry-watch",
   "metadata": {
    "scrolled": true
   },
   "outputs": [
    {
     "name": "stdout",
     "output_type": "stream",
     "text": [
      "=======================================================\n",
      "Dependent variable:\tlogcrime\n",
      "N:\t\t\t3283\n",
      "R-squared:\t\t0.9123\n",
      "Estimation method:\tOLS\n",
      "VCE method:\t\tCluster\n",
      "  Cluster variable:\t  zipcode\n",
      "  No. of clusters:\t  58\n",
      "Fixed effects by:\tzipcode\n",
      "  No. of FE:\t\t  58\n",
      "=======================================================\n",
      "         coeff    se      t   p>t CI_low CI_high\n",
      "logcase -0.007 0.010 -0.677 0.501 -0.028   0.014\n",
      "=======================================================\n",
      "\n"
     ]
    }
   ],
   "source": [
    "y = 'logcrime'\n",
    "X = ['logcase']\n",
    "fe_var = 'zipcode'\n",
    "cluster_var = 'zipcode'\n",
    "\n",
    "results = mt.reg(\n",
    "    crime_covid2,                     # DataFrame\n",
    "    y,                      # Dependent var (string)\n",
    "    X,                      # Independent var(s) (string or list of strings)\n",
    "    fe_name=fe_var,         # Fixed-effects/absorb var (string)\n",
    "    cluster=cluster_var,\n",
    "    addcons=True,\n",
    ")\n",
    "\n",
    "print(results)\n",
    "\n"
   ]
  },
  {
   "cell_type": "markdown",
   "id": "prospective-nirvana",
   "metadata": {},
   "source": [
    "# Comparison to Before Covid-19 Period"
   ]
  },
  {
   "cell_type": "markdown",
   "id": "gentle-bandwidth",
   "metadata": {},
   "source": [
    "# Total Crime"
   ]
  },
  {
   "cell_type": "code",
   "execution_count": 999,
   "id": "adopted-flooring",
   "metadata": {
    "scrolled": true
   },
   "outputs": [],
   "source": [
    "crime_total=crime_data2.groupby('date')['primary_type'].count()\n",
    "crime_total=pd.DataFrame(crime_total)\n",
    "crime_total['rolling_crime']=crime_total['primary_type'].rolling(window=7).mean()"
   ]
  },
  {
   "cell_type": "code",
   "execution_count": 1000,
   "id": "adjacent-illinois",
   "metadata": {},
   "outputs": [
    {
     "data": {
      "application/vnd.plotly.v1+json": {
       "config": {
        "plotlyServerURL": "https://plot.ly"
       },
       "data": [
        {
         "hovertemplate": "date=%{x}<br>7-Day Rolling Average Total Crime=%{y}<extra></extra>",
         "legendgroup": "",
         "line": {
          "color": "#636efa",
          "dash": "solid"
         },
         "mode": "lines",
         "name": "",
         "orientation": "v",
         "showlegend": false,
         "type": "scatter",
         "x": [
          "2019-03-18T00:00:00",
          "2019-03-19T00:00:00",
          "2019-03-20T00:00:00",
          "2019-03-21T00:00:00",
          "2019-03-22T00:00:00",
          "2019-03-23T00:00:00",
          "2019-03-24T00:00:00",
          "2019-03-25T00:00:00",
          "2019-03-26T00:00:00",
          "2019-03-27T00:00:00",
          "2019-03-28T00:00:00",
          "2019-03-29T00:00:00",
          "2019-03-30T00:00:00",
          "2019-03-31T00:00:00",
          "2019-04-01T00:00:00",
          "2019-04-02T00:00:00",
          "2019-04-03T00:00:00",
          "2019-04-04T00:00:00",
          "2019-04-05T00:00:00",
          "2019-04-06T00:00:00",
          "2019-04-07T00:00:00",
          "2019-04-08T00:00:00",
          "2019-04-09T00:00:00",
          "2019-04-10T00:00:00",
          "2019-04-11T00:00:00",
          "2019-04-12T00:00:00",
          "2019-04-13T00:00:00",
          "2019-04-14T00:00:00",
          "2019-04-15T00:00:00",
          "2019-04-16T00:00:00",
          "2019-04-17T00:00:00",
          "2019-04-18T00:00:00",
          "2019-04-19T00:00:00",
          "2019-04-20T00:00:00",
          "2019-04-21T00:00:00",
          "2019-04-22T00:00:00",
          "2019-04-23T00:00:00",
          "2019-04-24T00:00:00",
          "2019-04-25T00:00:00",
          "2019-04-26T00:00:00",
          "2019-04-27T00:00:00",
          "2019-04-28T00:00:00",
          "2019-04-29T00:00:00",
          "2019-04-30T00:00:00",
          "2019-05-01T00:00:00",
          "2019-05-02T00:00:00",
          "2019-05-03T00:00:00",
          "2019-05-04T00:00:00",
          "2019-05-05T00:00:00",
          "2019-05-06T00:00:00",
          "2019-05-07T00:00:00",
          "2019-05-08T00:00:00",
          "2019-05-09T00:00:00",
          "2019-05-10T00:00:00",
          "2019-05-11T00:00:00",
          "2019-05-12T00:00:00",
          "2019-05-13T00:00:00",
          "2019-05-14T00:00:00",
          "2019-05-15T00:00:00",
          "2019-05-16T00:00:00",
          "2019-05-17T00:00:00",
          "2019-05-18T00:00:00",
          "2019-05-19T00:00:00",
          "2019-05-20T00:00:00",
          "2019-05-21T00:00:00",
          "2019-05-22T00:00:00",
          "2019-05-23T00:00:00",
          "2019-05-24T00:00:00",
          "2019-05-25T00:00:00",
          "2019-05-26T00:00:00",
          "2019-05-27T00:00:00",
          "2019-05-28T00:00:00",
          "2019-05-29T00:00:00",
          "2019-05-30T00:00:00",
          "2019-05-31T00:00:00",
          "2019-06-01T00:00:00",
          "2019-06-02T00:00:00",
          "2019-06-03T00:00:00",
          "2019-06-04T00:00:00",
          "2019-06-05T00:00:00",
          "2019-06-06T00:00:00",
          "2019-06-07T00:00:00",
          "2019-06-08T00:00:00",
          "2019-06-09T00:00:00",
          "2019-06-10T00:00:00",
          "2019-06-11T00:00:00",
          "2019-06-12T00:00:00",
          "2019-06-13T00:00:00",
          "2019-06-14T00:00:00",
          "2019-06-15T00:00:00",
          "2019-06-16T00:00:00",
          "2019-06-17T00:00:00",
          "2019-06-18T00:00:00",
          "2019-06-19T00:00:00",
          "2019-06-20T00:00:00",
          "2019-06-21T00:00:00",
          "2019-06-22T00:00:00",
          "2019-06-23T00:00:00",
          "2019-06-24T00:00:00",
          "2019-06-25T00:00:00",
          "2019-06-26T00:00:00",
          "2019-06-27T00:00:00",
          "2019-06-28T00:00:00",
          "2019-06-29T00:00:00",
          "2019-06-30T00:00:00",
          "2019-07-01T00:00:00",
          "2019-07-02T00:00:00",
          "2019-07-03T00:00:00",
          "2019-07-04T00:00:00",
          "2019-07-05T00:00:00",
          "2019-07-06T00:00:00",
          "2019-07-07T00:00:00",
          "2019-07-08T00:00:00",
          "2019-07-09T00:00:00",
          "2019-07-10T00:00:00",
          "2019-07-11T00:00:00",
          "2019-07-12T00:00:00",
          "2019-07-13T00:00:00",
          "2019-07-14T00:00:00",
          "2019-07-15T00:00:00",
          "2019-07-16T00:00:00",
          "2019-07-17T00:00:00",
          "2019-07-18T00:00:00",
          "2019-07-19T00:00:00",
          "2019-07-20T00:00:00",
          "2019-07-21T00:00:00",
          "2019-07-22T00:00:00",
          "2019-07-23T00:00:00",
          "2019-07-24T00:00:00",
          "2019-07-25T00:00:00",
          "2019-07-26T00:00:00",
          "2019-07-27T00:00:00",
          "2019-07-28T00:00:00",
          "2019-07-29T00:00:00",
          "2019-07-30T00:00:00",
          "2019-07-31T00:00:00",
          "2019-08-01T00:00:00",
          "2019-08-02T00:00:00",
          "2019-08-03T00:00:00",
          "2019-08-04T00:00:00",
          "2019-08-05T00:00:00",
          "2019-08-06T00:00:00",
          "2019-08-07T00:00:00",
          "2019-08-08T00:00:00",
          "2019-08-09T00:00:00",
          "2019-08-10T00:00:00",
          "2019-08-11T00:00:00",
          "2019-08-12T00:00:00",
          "2019-08-13T00:00:00",
          "2019-08-14T00:00:00",
          "2019-08-15T00:00:00",
          "2019-08-16T00:00:00",
          "2019-08-17T00:00:00",
          "2019-08-18T00:00:00",
          "2019-08-19T00:00:00",
          "2019-08-20T00:00:00",
          "2019-08-21T00:00:00",
          "2019-08-22T00:00:00",
          "2019-08-23T00:00:00",
          "2019-08-24T00:00:00",
          "2019-08-25T00:00:00",
          "2019-08-26T00:00:00",
          "2019-08-27T00:00:00",
          "2019-08-28T00:00:00",
          "2019-08-29T00:00:00",
          "2019-08-30T00:00:00",
          "2019-08-31T00:00:00",
          "2019-09-01T00:00:00",
          "2019-09-02T00:00:00",
          "2019-09-03T00:00:00",
          "2019-09-04T00:00:00",
          "2019-09-05T00:00:00",
          "2019-09-06T00:00:00",
          "2019-09-07T00:00:00",
          "2019-09-08T00:00:00",
          "2019-09-09T00:00:00",
          "2019-09-10T00:00:00",
          "2019-09-11T00:00:00",
          "2019-09-12T00:00:00",
          "2019-09-13T00:00:00",
          "2019-09-14T00:00:00",
          "2019-09-15T00:00:00",
          "2019-09-16T00:00:00",
          "2019-09-17T00:00:00",
          "2019-09-18T00:00:00",
          "2019-09-19T00:00:00",
          "2019-09-20T00:00:00",
          "2019-09-21T00:00:00",
          "2019-09-22T00:00:00",
          "2019-09-23T00:00:00",
          "2019-09-24T00:00:00",
          "2019-09-25T00:00:00",
          "2019-09-26T00:00:00",
          "2019-09-27T00:00:00",
          "2019-09-28T00:00:00",
          "2019-09-29T00:00:00",
          "2019-09-30T00:00:00",
          "2019-10-01T00:00:00",
          "2019-10-02T00:00:00",
          "2019-10-03T00:00:00",
          "2019-10-04T00:00:00",
          "2019-10-05T00:00:00",
          "2019-10-06T00:00:00",
          "2019-10-07T00:00:00",
          "2019-10-08T00:00:00",
          "2019-10-09T00:00:00",
          "2019-10-10T00:00:00",
          "2019-10-11T00:00:00",
          "2019-10-12T00:00:00",
          "2019-10-13T00:00:00",
          "2019-10-14T00:00:00",
          "2019-10-15T00:00:00",
          "2019-10-16T00:00:00",
          "2019-10-17T00:00:00",
          "2019-10-18T00:00:00",
          "2019-10-19T00:00:00",
          "2019-10-20T00:00:00",
          "2019-10-21T00:00:00",
          "2019-10-22T00:00:00",
          "2019-10-23T00:00:00",
          "2019-10-24T00:00:00",
          "2019-10-25T00:00:00",
          "2019-10-26T00:00:00",
          "2019-10-27T00:00:00",
          "2019-10-28T00:00:00",
          "2019-10-29T00:00:00",
          "2019-10-30T00:00:00",
          "2019-10-31T00:00:00",
          "2019-11-01T00:00:00",
          "2019-11-02T00:00:00",
          "2019-11-03T00:00:00",
          "2019-11-04T00:00:00",
          "2019-11-05T00:00:00",
          "2019-11-06T00:00:00",
          "2019-11-07T00:00:00",
          "2019-11-08T00:00:00",
          "2019-11-09T00:00:00",
          "2019-11-10T00:00:00",
          "2019-11-11T00:00:00",
          "2019-11-12T00:00:00",
          "2019-11-13T00:00:00",
          "2019-11-14T00:00:00",
          "2019-11-15T00:00:00",
          "2019-11-16T00:00:00",
          "2019-11-17T00:00:00",
          "2019-11-18T00:00:00",
          "2019-11-19T00:00:00",
          "2019-11-20T00:00:00",
          "2019-11-21T00:00:00",
          "2019-11-22T00:00:00",
          "2019-11-23T00:00:00",
          "2019-11-24T00:00:00",
          "2019-11-25T00:00:00",
          "2019-11-26T00:00:00",
          "2019-11-27T00:00:00",
          "2019-11-28T00:00:00",
          "2019-11-29T00:00:00",
          "2019-11-30T00:00:00",
          "2019-12-01T00:00:00",
          "2019-12-02T00:00:00",
          "2019-12-03T00:00:00",
          "2019-12-04T00:00:00",
          "2019-12-05T00:00:00",
          "2019-12-06T00:00:00",
          "2019-12-07T00:00:00",
          "2019-12-08T00:00:00",
          "2019-12-09T00:00:00",
          "2019-12-10T00:00:00",
          "2019-12-11T00:00:00",
          "2019-12-12T00:00:00",
          "2019-12-13T00:00:00",
          "2019-12-14T00:00:00",
          "2019-12-15T00:00:00",
          "2019-12-16T00:00:00",
          "2019-12-17T00:00:00",
          "2019-12-18T00:00:00",
          "2019-12-19T00:00:00",
          "2019-12-20T00:00:00",
          "2019-12-21T00:00:00",
          "2019-12-22T00:00:00",
          "2019-12-23T00:00:00",
          "2019-12-24T00:00:00",
          "2019-12-25T00:00:00",
          "2019-12-26T00:00:00",
          "2019-12-27T00:00:00",
          "2019-12-28T00:00:00",
          "2019-12-29T00:00:00",
          "2019-12-30T00:00:00",
          "2019-12-31T00:00:00",
          "2020-01-01T00:00:00",
          "2020-01-02T00:00:00",
          "2020-01-03T00:00:00",
          "2020-01-04T00:00:00",
          "2020-01-05T00:00:00",
          "2020-01-06T00:00:00",
          "2020-01-07T00:00:00",
          "2020-01-08T00:00:00",
          "2020-01-09T00:00:00",
          "2020-01-10T00:00:00",
          "2020-01-11T00:00:00",
          "2020-01-12T00:00:00",
          "2020-01-13T00:00:00",
          "2020-01-14T00:00:00",
          "2020-01-15T00:00:00",
          "2020-01-16T00:00:00",
          "2020-01-17T00:00:00",
          "2020-01-18T00:00:00",
          "2020-01-19T00:00:00",
          "2020-01-20T00:00:00",
          "2020-01-21T00:00:00",
          "2020-01-22T00:00:00",
          "2020-01-23T00:00:00",
          "2020-01-24T00:00:00",
          "2020-01-25T00:00:00",
          "2020-01-26T00:00:00",
          "2020-01-27T00:00:00",
          "2020-01-28T00:00:00",
          "2020-01-29T00:00:00",
          "2020-01-30T00:00:00",
          "2020-01-31T00:00:00",
          "2020-02-01T00:00:00",
          "2020-02-02T00:00:00",
          "2020-02-03T00:00:00",
          "2020-02-04T00:00:00",
          "2020-02-05T00:00:00",
          "2020-02-06T00:00:00",
          "2020-02-07T00:00:00",
          "2020-02-08T00:00:00",
          "2020-02-09T00:00:00",
          "2020-02-10T00:00:00",
          "2020-02-11T00:00:00",
          "2020-02-12T00:00:00",
          "2020-02-13T00:00:00",
          "2020-02-14T00:00:00",
          "2020-02-15T00:00:00",
          "2020-02-16T00:00:00",
          "2020-02-17T00:00:00",
          "2020-02-18T00:00:00",
          "2020-02-19T00:00:00",
          "2020-02-20T00:00:00",
          "2020-02-21T00:00:00",
          "2020-02-22T00:00:00",
          "2020-02-23T00:00:00",
          "2020-02-24T00:00:00",
          "2020-02-25T00:00:00",
          "2020-02-26T00:00:00",
          "2020-02-27T00:00:00",
          "2020-02-28T00:00:00",
          "2020-02-29T00:00:00",
          "2020-03-01T00:00:00",
          "2020-03-02T00:00:00",
          "2020-03-03T00:00:00",
          "2020-03-04T00:00:00",
          "2020-03-05T00:00:00",
          "2020-03-06T00:00:00",
          "2020-03-07T00:00:00",
          "2020-03-08T00:00:00",
          "2020-03-09T00:00:00",
          "2020-03-10T00:00:00",
          "2020-03-11T00:00:00",
          "2020-03-12T00:00:00",
          "2020-03-13T00:00:00",
          "2020-03-14T00:00:00",
          "2020-03-15T00:00:00",
          "2020-03-16T00:00:00",
          "2020-03-17T00:00:00",
          "2020-03-18T00:00:00",
          "2020-03-19T00:00:00",
          "2020-03-20T00:00:00",
          "2020-03-21T00:00:00",
          "2020-03-22T00:00:00",
          "2020-03-23T00:00:00",
          "2020-03-24T00:00:00",
          "2020-03-25T00:00:00",
          "2020-03-26T00:00:00",
          "2020-03-27T00:00:00",
          "2020-03-28T00:00:00",
          "2020-03-29T00:00:00",
          "2020-03-30T00:00:00",
          "2020-03-31T00:00:00",
          "2020-04-01T00:00:00",
          "2020-04-02T00:00:00",
          "2020-04-03T00:00:00",
          "2020-04-04T00:00:00",
          "2020-04-05T00:00:00",
          "2020-04-06T00:00:00",
          "2020-04-07T00:00:00",
          "2020-04-08T00:00:00",
          "2020-04-09T00:00:00",
          "2020-04-10T00:00:00",
          "2020-04-11T00:00:00",
          "2020-04-12T00:00:00",
          "2020-04-13T00:00:00",
          "2020-04-14T00:00:00",
          "2020-04-15T00:00:00",
          "2020-04-16T00:00:00",
          "2020-04-17T00:00:00",
          "2020-04-18T00:00:00",
          "2020-04-19T00:00:00",
          "2020-04-20T00:00:00",
          "2020-04-21T00:00:00",
          "2020-04-22T00:00:00",
          "2020-04-23T00:00:00",
          "2020-04-24T00:00:00",
          "2020-04-25T00:00:00",
          "2020-04-26T00:00:00",
          "2020-04-27T00:00:00",
          "2020-04-28T00:00:00",
          "2020-04-29T00:00:00",
          "2020-04-30T00:00:00",
          "2020-05-01T00:00:00",
          "2020-05-02T00:00:00",
          "2020-05-03T00:00:00",
          "2020-05-04T00:00:00",
          "2020-05-05T00:00:00",
          "2020-05-06T00:00:00",
          "2020-05-07T00:00:00",
          "2020-05-08T00:00:00",
          "2020-05-09T00:00:00",
          "2020-05-10T00:00:00",
          "2020-05-11T00:00:00",
          "2020-05-12T00:00:00",
          "2020-05-13T00:00:00",
          "2020-05-14T00:00:00",
          "2020-05-15T00:00:00",
          "2020-05-16T00:00:00",
          "2020-05-17T00:00:00",
          "2020-05-18T00:00:00",
          "2020-05-19T00:00:00",
          "2020-05-20T00:00:00",
          "2020-05-21T00:00:00",
          "2020-05-22T00:00:00",
          "2020-05-23T00:00:00",
          "2020-05-24T00:00:00",
          "2020-05-25T00:00:00",
          "2020-05-26T00:00:00",
          "2020-05-27T00:00:00",
          "2020-05-28T00:00:00",
          "2020-05-29T00:00:00",
          "2020-05-30T00:00:00",
          "2020-05-31T00:00:00",
          "2020-06-01T00:00:00",
          "2020-06-02T00:00:00",
          "2020-06-03T00:00:00",
          "2020-06-04T00:00:00",
          "2020-06-05T00:00:00",
          "2020-06-06T00:00:00",
          "2020-06-07T00:00:00",
          "2020-06-08T00:00:00",
          "2020-06-09T00:00:00",
          "2020-06-10T00:00:00",
          "2020-06-11T00:00:00",
          "2020-06-12T00:00:00",
          "2020-06-13T00:00:00",
          "2020-06-14T00:00:00",
          "2020-06-15T00:00:00",
          "2020-06-16T00:00:00",
          "2020-06-17T00:00:00",
          "2020-06-18T00:00:00",
          "2020-06-19T00:00:00",
          "2020-06-20T00:00:00",
          "2020-06-21T00:00:00",
          "2020-06-22T00:00:00",
          "2020-06-23T00:00:00",
          "2020-06-24T00:00:00",
          "2020-06-25T00:00:00",
          "2020-06-26T00:00:00",
          "2020-06-27T00:00:00",
          "2020-06-28T00:00:00",
          "2020-06-29T00:00:00",
          "2020-06-30T00:00:00",
          "2020-07-01T00:00:00",
          "2020-07-02T00:00:00",
          "2020-07-03T00:00:00",
          "2020-07-04T00:00:00",
          "2020-07-05T00:00:00",
          "2020-07-06T00:00:00",
          "2020-07-07T00:00:00",
          "2020-07-08T00:00:00",
          "2020-07-09T00:00:00",
          "2020-07-10T00:00:00",
          "2020-07-11T00:00:00",
          "2020-07-12T00:00:00",
          "2020-07-13T00:00:00",
          "2020-07-14T00:00:00",
          "2020-07-15T00:00:00",
          "2020-07-16T00:00:00",
          "2020-07-17T00:00:00",
          "2020-07-18T00:00:00",
          "2020-07-19T00:00:00",
          "2020-07-20T00:00:00",
          "2020-07-21T00:00:00",
          "2020-07-22T00:00:00",
          "2020-07-23T00:00:00",
          "2020-07-24T00:00:00",
          "2020-07-25T00:00:00",
          "2020-07-26T00:00:00",
          "2020-07-27T00:00:00",
          "2020-07-28T00:00:00",
          "2020-07-29T00:00:00",
          "2020-07-30T00:00:00",
          "2020-07-31T00:00:00",
          "2020-08-01T00:00:00",
          "2020-08-02T00:00:00",
          "2020-08-03T00:00:00",
          "2020-08-04T00:00:00",
          "2020-08-05T00:00:00",
          "2020-08-06T00:00:00",
          "2020-08-07T00:00:00",
          "2020-08-08T00:00:00",
          "2020-08-09T00:00:00",
          "2020-08-10T00:00:00",
          "2020-08-11T00:00:00",
          "2020-08-12T00:00:00",
          "2020-08-13T00:00:00",
          "2020-08-14T00:00:00",
          "2020-08-15T00:00:00",
          "2020-08-16T00:00:00",
          "2020-08-17T00:00:00",
          "2020-08-18T00:00:00",
          "2020-08-19T00:00:00",
          "2020-08-20T00:00:00",
          "2020-08-21T00:00:00",
          "2020-08-22T00:00:00",
          "2020-08-23T00:00:00",
          "2020-08-24T00:00:00",
          "2020-08-25T00:00:00",
          "2020-08-26T00:00:00",
          "2020-08-27T00:00:00",
          "2020-08-28T00:00:00",
          "2020-08-29T00:00:00",
          "2020-08-30T00:00:00",
          "2020-08-31T00:00:00",
          "2020-09-01T00:00:00",
          "2020-09-02T00:00:00",
          "2020-09-03T00:00:00",
          "2020-09-04T00:00:00",
          "2020-09-05T00:00:00",
          "2020-09-06T00:00:00",
          "2020-09-07T00:00:00",
          "2020-09-08T00:00:00",
          "2020-09-09T00:00:00",
          "2020-09-10T00:00:00",
          "2020-09-11T00:00:00",
          "2020-09-12T00:00:00",
          "2020-09-13T00:00:00",
          "2020-09-14T00:00:00",
          "2020-09-15T00:00:00",
          "2020-09-16T00:00:00",
          "2020-09-17T00:00:00",
          "2020-09-18T00:00:00",
          "2020-09-19T00:00:00",
          "2020-09-20T00:00:00",
          "2020-09-21T00:00:00",
          "2020-09-22T00:00:00",
          "2020-09-23T00:00:00",
          "2020-09-24T00:00:00",
          "2020-09-25T00:00:00",
          "2020-09-26T00:00:00",
          "2020-09-27T00:00:00",
          "2020-09-28T00:00:00",
          "2020-09-29T00:00:00",
          "2020-09-30T00:00:00",
          "2020-10-01T00:00:00",
          "2020-10-02T00:00:00",
          "2020-10-03T00:00:00",
          "2020-10-04T00:00:00",
          "2020-10-05T00:00:00",
          "2020-10-06T00:00:00",
          "2020-10-07T00:00:00",
          "2020-10-08T00:00:00",
          "2020-10-09T00:00:00",
          "2020-10-10T00:00:00",
          "2020-10-11T00:00:00",
          "2020-10-12T00:00:00",
          "2020-10-13T00:00:00",
          "2020-10-14T00:00:00",
          "2020-10-15T00:00:00",
          "2020-10-16T00:00:00",
          "2020-10-17T00:00:00",
          "2020-10-18T00:00:00",
          "2020-10-19T00:00:00",
          "2020-10-20T00:00:00",
          "2020-10-21T00:00:00",
          "2020-10-22T00:00:00",
          "2020-10-23T00:00:00",
          "2020-10-24T00:00:00",
          "2020-10-25T00:00:00",
          "2020-10-26T00:00:00",
          "2020-10-27T00:00:00",
          "2020-10-28T00:00:00",
          "2020-10-29T00:00:00",
          "2020-10-30T00:00:00",
          "2020-10-31T00:00:00",
          "2020-11-01T00:00:00",
          "2020-11-02T00:00:00",
          "2020-11-03T00:00:00",
          "2020-11-04T00:00:00",
          "2020-11-05T00:00:00",
          "2020-11-06T00:00:00",
          "2020-11-07T00:00:00",
          "2020-11-08T00:00:00",
          "2020-11-09T00:00:00",
          "2020-11-10T00:00:00",
          "2020-11-11T00:00:00",
          "2020-11-12T00:00:00",
          "2020-11-13T00:00:00",
          "2020-11-14T00:00:00",
          "2020-11-15T00:00:00",
          "2020-11-16T00:00:00",
          "2020-11-17T00:00:00",
          "2020-11-18T00:00:00",
          "2020-11-19T00:00:00",
          "2020-11-20T00:00:00",
          "2020-11-21T00:00:00",
          "2020-11-22T00:00:00",
          "2020-11-23T00:00:00",
          "2020-11-24T00:00:00",
          "2020-11-25T00:00:00",
          "2020-11-26T00:00:00",
          "2020-11-27T00:00:00",
          "2020-11-28T00:00:00",
          "2020-11-29T00:00:00",
          "2020-11-30T00:00:00",
          "2020-12-01T00:00:00",
          "2020-12-02T00:00:00",
          "2020-12-03T00:00:00",
          "2020-12-04T00:00:00",
          "2020-12-05T00:00:00",
          "2020-12-06T00:00:00",
          "2020-12-07T00:00:00",
          "2020-12-08T00:00:00",
          "2020-12-09T00:00:00",
          "2020-12-10T00:00:00",
          "2020-12-11T00:00:00",
          "2020-12-12T00:00:00",
          "2020-12-13T00:00:00",
          "2020-12-14T00:00:00",
          "2020-12-15T00:00:00",
          "2020-12-16T00:00:00",
          "2020-12-17T00:00:00",
          "2020-12-18T00:00:00",
          "2020-12-19T00:00:00",
          "2020-12-20T00:00:00",
          "2020-12-21T00:00:00",
          "2020-12-22T00:00:00",
          "2020-12-23T00:00:00",
          "2020-12-24T00:00:00",
          "2020-12-25T00:00:00",
          "2020-12-26T00:00:00",
          "2020-12-27T00:00:00",
          "2020-12-28T00:00:00",
          "2020-12-29T00:00:00",
          "2020-12-30T00:00:00",
          "2020-12-31T00:00:00",
          "2021-01-01T00:00:00",
          "2021-01-02T00:00:00",
          "2021-01-03T00:00:00",
          "2021-01-04T00:00:00",
          "2021-01-05T00:00:00",
          "2021-01-06T00:00:00",
          "2021-01-07T00:00:00",
          "2021-01-08T00:00:00",
          "2021-01-09T00:00:00",
          "2021-01-10T00:00:00",
          "2021-01-11T00:00:00",
          "2021-01-12T00:00:00",
          "2021-01-13T00:00:00",
          "2021-01-14T00:00:00",
          "2021-01-15T00:00:00",
          "2021-01-16T00:00:00",
          "2021-01-17T00:00:00",
          "2021-01-18T00:00:00",
          "2021-01-19T00:00:00",
          "2021-01-20T00:00:00",
          "2021-01-21T00:00:00",
          "2021-01-22T00:00:00",
          "2021-01-23T00:00:00",
          "2021-01-24T00:00:00",
          "2021-01-25T00:00:00",
          "2021-01-26T00:00:00",
          "2021-01-27T00:00:00",
          "2021-01-28T00:00:00",
          "2021-01-29T00:00:00",
          "2021-01-30T00:00:00",
          "2021-01-31T00:00:00",
          "2021-02-01T00:00:00",
          "2021-02-02T00:00:00",
          "2021-02-03T00:00:00",
          "2021-02-04T00:00:00",
          "2021-02-05T00:00:00",
          "2021-02-06T00:00:00",
          "2021-02-07T00:00:00",
          "2021-02-08T00:00:00",
          "2021-02-09T00:00:00",
          "2021-02-10T00:00:00",
          "2021-02-11T00:00:00",
          "2021-02-12T00:00:00",
          "2021-02-13T00:00:00",
          "2021-02-14T00:00:00",
          "2021-02-15T00:00:00",
          "2021-02-16T00:00:00",
          "2021-02-17T00:00:00",
          "2021-02-18T00:00:00",
          "2021-02-19T00:00:00",
          "2021-02-20T00:00:00",
          "2021-02-21T00:00:00",
          "2021-02-22T00:00:00",
          "2021-02-23T00:00:00",
          "2021-02-24T00:00:00",
          "2021-02-25T00:00:00",
          "2021-02-26T00:00:00",
          "2021-02-27T00:00:00",
          "2021-02-28T00:00:00",
          "2021-03-01T00:00:00",
          "2021-03-02T00:00:00",
          "2021-03-03T00:00:00",
          "2021-03-04T00:00:00",
          "2021-03-05T00:00:00",
          "2021-03-06T00:00:00",
          "2021-03-07T00:00:00",
          "2021-03-08T00:00:00",
          "2021-03-09T00:00:00",
          "2021-03-10T00:00:00",
          "2021-03-11T00:00:00",
          "2021-03-12T00:00:00",
          "2021-03-13T00:00:00",
          "2021-03-14T00:00:00",
          "2021-03-15T00:00:00",
          "2021-03-16T00:00:00",
          "2021-03-17T00:00:00"
         ],
         "xaxis": "x",
         "y": [
          null,
          null,
          null,
          null,
          null,
          null,
          674.4285714285714,
          672.7142857142857,
          676.7142857142857,
          677.7142857142857,
          676.8571428571429,
          671.8571428571429,
          668,
          666.4285714285714,
          688,
          686.1428571428571,
          683.5714285714286,
          680.5714285714286,
          684.7142857142857,
          696,
          705.4285714285714,
          698.8571428571429,
          703.8571428571429,
          700.8571428571429,
          713.1428571428571,
          723.8571428571429,
          725.5714285714286,
          701.7142857142857,
          698.5714285714286,
          700.5714285714286,
          705.1428571428571,
          687.8571428571429,
          669.5714285714286,
          666.1428571428571,
          681.7142857142857,
          683.5714285714286,
          688.5714285714286,
          690.1428571428571,
          710,
          725.7142857142857,
          711.2857142857143,
          705.5714285714286,
          702.8571428571429,
          700.8571428571429,
          715.8571428571429,
          706.1428571428571,
          710.5714285714286,
          720.5714285714286,
          745.2857142857143,
          755.7142857142857,
          751.7142857142857,
          744.8571428571429,
          750.4285714285714,
          751.2857142857143,
          750.8571428571429,
          729.8571428571429,
          730,
          732.7142857142857,
          733.2857142857143,
          733.7142857142857,
          730.5714285714286,
          739.4285714285714,
          759.8571428571429,
          762.4285714285714,
          763.7142857142857,
          765,
          769.7142857142857,
          780,
          796.5714285714286,
          804,
          795.2857142857143,
          798,
          793,
          789,
          786.7142857142857,
          792.7142857142857,
          779.5714285714286,
          773.8571428571429,
          777.2857142857143,
          784.7142857142857,
          784.1428571428571,
          783,
          779,
          789.1428571428571,
          802.1428571428571,
          802.7142857142857,
          792.1428571428571,
          786.4285714285714,
          784,
          775.7142857142857,
          763.7142857142857,
          757,
          748.5714285714286,
          761.1428571428571,
          765.5714285714286,
          761.8571428571429,
          761.1428571428571,
          773.5714285714286,
          782,
          791.7142857142857,
          791,
          793.5714285714286,
          803,
          808.4285714285714,
          807.8571428571429,
          821.2857142857143,
          819.1428571428571,
          820.1428571428571,
          827.2857142857143,
          833.5714285714286,
          826.7142857142857,
          822.4285714285714,
          811.8571428571429,
          808.1428571428571,
          812.7142857142857,
          807.5714285714286,
          792.8571428571429,
          804,
          806.1428571428571,
          804.8571428571429,
          806.4285714285714,
          801.5714285714286,
          801,
          803,
          793.4285714285714,
          791.2857142857143,
          786.8571428571429,
          791.5714285714286,
          783.2857142857143,
          788.8571428571429,
          791,
          790.8571428571429,
          799,
          802.5714285714286,
          801,
          796.4285714285714,
          811.4285714285714,
          820.7142857142857,
          827,
          828.5714285714286,
          827.5714285714286,
          828.5714285714286,
          837.8571428571429,
          825.5714285714286,
          813.2857142857143,
          803.1428571428571,
          797.4285714285714,
          783.2857142857143,
          780.2857142857143,
          782.2857142857143,
          781.4285714285714,
          778.4285714285714,
          780.2857142857143,
          774.1428571428571,
          785.2857142857143,
          780.8571428571429,
          770.7142857142857,
          762.4285714285714,
          763.2857142857143,
          764.2857142857143,
          765.2857142857143,
          756.7142857142857,
          756.7142857142857,
          761.1428571428571,
          763.7142857142857,
          761.4285714285714,
          755.2857142857143,
          772,
          779.1428571428571,
          771.1428571428571,
          761.2857142857143,
          743.2857142857143,
          744.2857142857143,
          738.5714285714286,
          715.2857142857143,
          715.2857142857143,
          721.8571428571429,
          731.2857142857143,
          751,
          757.5714285714286,
          761.5714285714286,
          770.5714285714286,
          774.8571428571429,
          782.8571428571429,
          783.7142857142857,
          784.2857142857143,
          783.8571428571429,
          783,
          765,
          759.1428571428571,
          756,
          749.8571428571429,
          738.7142857142857,
          717.7142857142857,
          709.4285714285714,
          717.2857142857143,
          715.2857142857143,
          732.2857142857143,
          734.7142857142857,
          737.1428571428571,
          743.8571428571429,
          747.1428571428571,
          741.1428571428571,
          740.1428571428571,
          716.8571428571429,
          717.1428571428571,
          705.4285714285714,
          707.4285714285714,
          708.5714285714286,
          712.4285714285714,
          703.7142857142857,
          707.7142857142857,
          709,
          713.4285714285714,
          710,
          708,
          711.2857142857143,
          715.1428571428571,
          703.8571428571429,
          698,
          703.7142857142857,
          710.2857142857143,
          687.7142857142857,
          685,
          677.4285714285714,
          673.8571428571429,
          656.4285714285714,
          638.1428571428571,
          651.4285714285714,
          666.5714285714286,
          669,
          670.7142857142857,
          670.5714285714286,
          682.5714285714286,
          693,
          669.7142857142857,
          676.2857142857143,
          666.5714285714286,
          641.4285714285714,
          628.7142857142857,
          616.8571428571429,
          605,
          615.8571428571429,
          609.1428571428571,
          616.4285714285714,
          643.4285714285714,
          663,
          684.5714285714286,
          696.5714285714286,
          692.4285714285714,
          698,
          697.4285714285714,
          698.4285714285714,
          697.8571428571429,
          684.7142857142857,
          662.2857142857143,
          651,
          645.4285714285714,
          648.4285714285714,
          651.1428571428571,
          652.7142857142857,
          668.2857142857143,
          696.1428571428571,
          708.7142857142857,
          714,
          707,
          706.4285714285714,
          704.4285714285714,
          684.1428571428571,
          677.8571428571429,
          677.1428571428571,
          674.5714285714286,
          672.5714285714286,
          661,
          660.1428571428571,
          667,
          670.8571428571429,
          669.7142857142857,
          678.5714285714286,
          682.1428571428571,
          691.1428571428571,
          684.5714285714286,
          664.4285714285714,
          653.7142857142857,
          649.1428571428571,
          634,
          635.2857142857143,
          625,
          614,
          670.1428571428571,
          673.8571428571429,
          674.2857142857143,
          674.1428571428571,
          664.4285714285714,
          675.2857142857143,
          686.5714285714286,
          649.7142857142857,
          649.1428571428571,
          639,
          628,
          621.2857142857143,
          615.1428571428571,
          620.4285714285714,
          621.2857142857143,
          627.5714285714286,
          621.5714285714286,
          621.7142857142857,
          611.5714285714286,
          607.1428571428571,
          596.1428571428571,
          593.1428571428571,
          581.4285714285714,
          592.2857142857143,
          606.8571428571429,
          621.4285714285714,
          633,
          646.5714285714286,
          644.5714285714286,
          648.1428571428571,
          655.4285714285714,
          675.1428571428571,
          683.4285714285714,
          689.8571428571429,
          685.2857142857143,
          687.4285714285714,
          678.4285714285714,
          676.2857142857143,
          651.1428571428571,
          636.8571428571429,
          620.4285714285714,
          619.2857142857143,
          618.5714285714286,
          617.5714285714286,
          602.2857142857143,
          597.7142857142857,
          605.5714285714286,
          601.4285714285714,
          605.1428571428571,
          598.5714285714286,
          606.1428571428571,
          616.4285714285714,
          629.5714285714286,
          635.5714285714286,
          635.5714285714286,
          614.1428571428571,
          617,
          612,
          611.7142857142857,
          597.7142857142857,
          606.8571428571429,
          607,
          623.7142857142857,
          627,
          630.1428571428571,
          637.2857142857143,
          637.4285714285714,
          625.2857142857143,
          621.2857142857143,
          611.4285714285714,
          606.4285714285714,
          613,
          608.4285714285714,
          612.4285714285714,
          605.2857142857143,
          599.4285714285714,
          601.1428571428571,
          592.2857142857143,
          569.1428571428571,
          543.5714285714286,
          518.2857142857143,
          487.85714285714283,
          468.14285714285717,
          446.2857142857143,
          433.57142857142856,
          426.85714285714283,
          416.85714285714283,
          421,
          438.7142857142857,
          446.42857142857144,
          441.57142857142856,
          452.85714285714283,
          446.14285714285717,
          458,
          455,
          441.42857142857144,
          442,
          451.42857142857144,
          440.85714285714283,
          448,
          436.14285714285717,
          436.14285714285717,
          433,
          425.14285714285717,
          412.2857142857143,
          407.7142857142857,
          404.57142857142856,
          404.57142857142856,
          406.57142857142856,
          400.42857142857144,
          415.14285714285717,
          422.57142857142856,
          425.57142857142856,
          430.7142857142857,
          432.7142857142857,
          423.57142857142856,
          435.2857142857143,
          420.7142857142857,
          427.57142857142856,
          426.14285714285717,
          423.85714285714283,
          441.14285714285717,
          454.57142857142856,
          464,
          469.85714285714283,
          465.7142857142857,
          471.57142857142856,
          470.57142857142856,
          453.85714285714283,
          449.85714285714283,
          447.7142857142857,
          449.7142857142857,
          452.14285714285717,
          460,
          467,
          482,
          498.14285714285717,
          493.2857142857143,
          500.14285714285717,
          502.7142857142857,
          505.2857142857143,
          509.2857142857143,
          507.42857142857144,
          504.14285714285717,
          522.4285714285714,
          542.7142857142857,
          558.1428571428571,
          563,
          571,
          577.5714285714286,
          630.4285714285714,
          820.5714285714286,
          855.2857142857143,
          869.1428571428571,
          876.5714285714286,
          873.2857142857143,
          867.7142857142857,
          811.2857142857143,
          619.1428571428571,
          567.5714285714286,
          541.5714285714286,
          524,
          527.1428571428571,
          535.8571428571429,
          532.4285714285714,
          530.2857142857143,
          537.4285714285714,
          545.5714285714286,
          560.1428571428571,
          567.2857142857143,
          566.2857142857143,
          587.7142857142857,
          595.5714285714286,
          609,
          612.2857142857143,
          609.4285714285714,
          611.1428571428571,
          605.4285714285714,
          594.8571428571429,
          599.4285714285714,
          583,
          582.2857142857143,
          596.7142857142857,
          600.2857142857143,
          618.5714285714286,
          641.8571428571429,
          655.5714285714286,
          666.8571428571429,
          664.2857142857143,
          645.8571428571429,
          634.2857142857143,
          632.2857142857143,
          615.7142857142857,
          598,
          602.7142857142857,
          609.8571428571429,
          616.7142857142857,
          622.1428571428571,
          620.2857142857143,
          623.4285714285714,
          627.7142857142857,
          624.8571428571429,
          629.2857142857143,
          630.7142857142857,
          626.5714285714286,
          622.2857142857143,
          622.2857142857143,
          626.5714285714286,
          622.4285714285714,
          620.8571428571429,
          621.8571428571429,
          627.1428571428571,
          627.1428571428571,
          630.8571428571429,
          617.8571428571429,
          616.1428571428571,
          604.5714285714286,
          598,
          598.2857142857143,
          593.5714285714286,
          591.7142857142857,
          604,
          652.5714285714286,
          660.1428571428571,
          664.2857142857143,
          670.4285714285714,
          677,
          671.5714285714286,
          674.1428571428571,
          630.7142857142857,
          633.7142857142857,
          637.4285714285714,
          636.4285714285714,
          638.2857142857143,
          641,
          634.4285714285714,
          633.5714285714286,
          636.8571428571429,
          639.4285714285714,
          632.1428571428571,
          634,
          634.2857142857143,
          639.2857142857143,
          647.5714285714286,
          650.1428571428571,
          640,
          637.5714285714286,
          634.8571428571429,
          638.5714285714286,
          636.5714285714286,
          623.4285714285714,
          607.5714285714286,
          602.5714285714286,
          601.5714285714286,
          603.1428571428571,
          587.5714285714286,
          578.7142857142857,
          577.1428571428571,
          585.7142857142857,
          596.7142857142857,
          592,
          580.4285714285714,
          584,
          585.5714285714286,
          582,
          573.1428571428571,
          575.1428571428571,
          580.2857142857143,
          594.5714285714286,
          600.4285714285714,
          609.1428571428571,
          606.7142857142857,
          602.7142857142857,
          595.2857142857143,
          601.7142857142857,
          583.7142857142857,
          580.1428571428571,
          569.5714285714286,
          572.2857142857143,
          583.5714285714286,
          587.7142857142857,
          579.7142857142857,
          594.5714285714286,
          604.5714285714286,
          614.2857142857143,
          614.2857142857143,
          613.8571428571429,
          619,
          631.2857142857143,
          619,
          610.5714285714286,
          597.5714285714286,
          591.5714285714286,
          585.7142857142857,
          576.5714285714286,
          571,
          572.2857142857143,
          563.2857142857143,
          575.7142857142857,
          578.7142857142857,
          574.2857142857143,
          569.7142857142857,
          566.5714285714286,
          572.1428571428571,
          582.1428571428571,
          584.5714285714286,
          591.5714285714286,
          605.7142857142857,
          621.5714285714286,
          630.5714285714286,
          637.4285714285714,
          637.4285714285714,
          628,
          631.5714285714286,
          628.2857142857143,
          603.4285714285714,
          585.4285714285714,
          566.2857142857143,
          544.5714285714286,
          533,
          517.5714285714286,
          503.85714285714283,
          506.14285714285717,
          505.85714285714283,
          521.4285714285714,
          530.7142857142857,
          529.8571428571429,
          533,
          533.4285714285714,
          530.8571428571429,
          512.7142857142857,
          503.42857142857144,
          497,
          499.7142857142857,
          492.42857142857144,
          500.42857142857144,
          504,
          515.5714285714286,
          516.1428571428571,
          526,
          531.1428571428571,
          540.5714285714286,
          538.8571428571429,
          540.4285714285714,
          554.2857142857143,
          542.5714285714286,
          533.7142857142857,
          531.7142857142857,
          531.4285714285714,
          534.4285714285714,
          535.2857142857143,
          527.8571428571429,
          537.1428571428571,
          541.5714285714286,
          539.8571428571429,
          548.5714285714286,
          550.1428571428571,
          558,
          555,
          531.5714285714286,
          518.7142857142857,
          512.2857142857143,
          500.7142857142857,
          479,
          463.14285714285717,
          470.57142857142856,
          505.85714285714283,
          506.7142857142857,
          508.2857142857143,
          508,
          523,
          524.5714285714286,
          527.8571428571429,
          519,
          526,
          533.1428571428571,
          527.8571428571429,
          532.4285714285714,
          536.8571428571429,
          531.4285714285714,
          529.8571428571429,
          528.8571428571429,
          525.7142857142857,
          523.4285714285714,
          517,
          519.4285714285714,
          526.8571428571429,
          518.2857142857143,
          523.4285714285714,
          519.2857142857143,
          528.8571428571429,
          516.2857142857143,
          513.7142857142857,
          497,
          492.57142857142856,
          483.57142857142856,
          459.2857142857143,
          452.85714285714283,
          460.85714285714283,
          457.2857142857143,
          451.42857142857144,
          448.42857142857144,
          440.14285714285717,
          446.85714285714283,
          434.14285714285717,
          424.7142857142857,
          414.2857142857143,
          414,
          414.7142857142857,
          415.85714285714283,
          418,
          406,
          396.2857142857143,
          396.85714285714283,
          395.57142857142856,
          394.7142857142857,
          400.85714285714283,
          408.7142857142857,
          432,
          458.14285714285717,
          471.2857142857143,
          484.2857142857143,
          496.42857142857144,
          510.85714285714283,
          525.2857142857143,
          533.5714285714286,
          527.2857142857143,
          530,
          530.5714285714286,
          525.5714285714286,
          520,
          510.57142857142856,
          508.2857142857143,
          519.4285714285714,
          519.7142857142857,
          512.2857142857143,
          511.85714285714283,
          508.2857142857143,
          502.85714285714283,
          493.42857142857144,
          478.7142857142857,
          472.85714285714283
         ],
         "yaxis": "y"
        }
       ],
       "layout": {
        "legend": {
         "tracegroupgap": 0
        },
        "shapes": [
         {
          "line": {
           "color": "purple",
           "dash": "dashdot",
           "width": 3
          },
          "type": "line",
          "x0": "2020-03-18",
          "x1": "2020-03-18",
          "y0": 0,
          "y1": 1000
         }
        ],
        "template": {
         "data": {
          "bar": [
           {
            "error_x": {
             "color": "#2a3f5f"
            },
            "error_y": {
             "color": "#2a3f5f"
            },
            "marker": {
             "line": {
              "color": "#E5ECF6",
              "width": 0.5
             }
            },
            "type": "bar"
           }
          ],
          "barpolar": [
           {
            "marker": {
             "line": {
              "color": "#E5ECF6",
              "width": 0.5
             }
            },
            "type": "barpolar"
           }
          ],
          "carpet": [
           {
            "aaxis": {
             "endlinecolor": "#2a3f5f",
             "gridcolor": "white",
             "linecolor": "white",
             "minorgridcolor": "white",
             "startlinecolor": "#2a3f5f"
            },
            "baxis": {
             "endlinecolor": "#2a3f5f",
             "gridcolor": "white",
             "linecolor": "white",
             "minorgridcolor": "white",
             "startlinecolor": "#2a3f5f"
            },
            "type": "carpet"
           }
          ],
          "choropleth": [
           {
            "colorbar": {
             "outlinewidth": 0,
             "ticks": ""
            },
            "type": "choropleth"
           }
          ],
          "contour": [
           {
            "colorbar": {
             "outlinewidth": 0,
             "ticks": ""
            },
            "colorscale": [
             [
              0,
              "#0d0887"
             ],
             [
              0.1111111111111111,
              "#46039f"
             ],
             [
              0.2222222222222222,
              "#7201a8"
             ],
             [
              0.3333333333333333,
              "#9c179e"
             ],
             [
              0.4444444444444444,
              "#bd3786"
             ],
             [
              0.5555555555555556,
              "#d8576b"
             ],
             [
              0.6666666666666666,
              "#ed7953"
             ],
             [
              0.7777777777777778,
              "#fb9f3a"
             ],
             [
              0.8888888888888888,
              "#fdca26"
             ],
             [
              1,
              "#f0f921"
             ]
            ],
            "type": "contour"
           }
          ],
          "contourcarpet": [
           {
            "colorbar": {
             "outlinewidth": 0,
             "ticks": ""
            },
            "type": "contourcarpet"
           }
          ],
          "heatmap": [
           {
            "colorbar": {
             "outlinewidth": 0,
             "ticks": ""
            },
            "colorscale": [
             [
              0,
              "#0d0887"
             ],
             [
              0.1111111111111111,
              "#46039f"
             ],
             [
              0.2222222222222222,
              "#7201a8"
             ],
             [
              0.3333333333333333,
              "#9c179e"
             ],
             [
              0.4444444444444444,
              "#bd3786"
             ],
             [
              0.5555555555555556,
              "#d8576b"
             ],
             [
              0.6666666666666666,
              "#ed7953"
             ],
             [
              0.7777777777777778,
              "#fb9f3a"
             ],
             [
              0.8888888888888888,
              "#fdca26"
             ],
             [
              1,
              "#f0f921"
             ]
            ],
            "type": "heatmap"
           }
          ],
          "heatmapgl": [
           {
            "colorbar": {
             "outlinewidth": 0,
             "ticks": ""
            },
            "colorscale": [
             [
              0,
              "#0d0887"
             ],
             [
              0.1111111111111111,
              "#46039f"
             ],
             [
              0.2222222222222222,
              "#7201a8"
             ],
             [
              0.3333333333333333,
              "#9c179e"
             ],
             [
              0.4444444444444444,
              "#bd3786"
             ],
             [
              0.5555555555555556,
              "#d8576b"
             ],
             [
              0.6666666666666666,
              "#ed7953"
             ],
             [
              0.7777777777777778,
              "#fb9f3a"
             ],
             [
              0.8888888888888888,
              "#fdca26"
             ],
             [
              1,
              "#f0f921"
             ]
            ],
            "type": "heatmapgl"
           }
          ],
          "histogram": [
           {
            "marker": {
             "colorbar": {
              "outlinewidth": 0,
              "ticks": ""
             }
            },
            "type": "histogram"
           }
          ],
          "histogram2d": [
           {
            "colorbar": {
             "outlinewidth": 0,
             "ticks": ""
            },
            "colorscale": [
             [
              0,
              "#0d0887"
             ],
             [
              0.1111111111111111,
              "#46039f"
             ],
             [
              0.2222222222222222,
              "#7201a8"
             ],
             [
              0.3333333333333333,
              "#9c179e"
             ],
             [
              0.4444444444444444,
              "#bd3786"
             ],
             [
              0.5555555555555556,
              "#d8576b"
             ],
             [
              0.6666666666666666,
              "#ed7953"
             ],
             [
              0.7777777777777778,
              "#fb9f3a"
             ],
             [
              0.8888888888888888,
              "#fdca26"
             ],
             [
              1,
              "#f0f921"
             ]
            ],
            "type": "histogram2d"
           }
          ],
          "histogram2dcontour": [
           {
            "colorbar": {
             "outlinewidth": 0,
             "ticks": ""
            },
            "colorscale": [
             [
              0,
              "#0d0887"
             ],
             [
              0.1111111111111111,
              "#46039f"
             ],
             [
              0.2222222222222222,
              "#7201a8"
             ],
             [
              0.3333333333333333,
              "#9c179e"
             ],
             [
              0.4444444444444444,
              "#bd3786"
             ],
             [
              0.5555555555555556,
              "#d8576b"
             ],
             [
              0.6666666666666666,
              "#ed7953"
             ],
             [
              0.7777777777777778,
              "#fb9f3a"
             ],
             [
              0.8888888888888888,
              "#fdca26"
             ],
             [
              1,
              "#f0f921"
             ]
            ],
            "type": "histogram2dcontour"
           }
          ],
          "mesh3d": [
           {
            "colorbar": {
             "outlinewidth": 0,
             "ticks": ""
            },
            "type": "mesh3d"
           }
          ],
          "parcoords": [
           {
            "line": {
             "colorbar": {
              "outlinewidth": 0,
              "ticks": ""
             }
            },
            "type": "parcoords"
           }
          ],
          "pie": [
           {
            "automargin": true,
            "type": "pie"
           }
          ],
          "scatter": [
           {
            "marker": {
             "colorbar": {
              "outlinewidth": 0,
              "ticks": ""
             }
            },
            "type": "scatter"
           }
          ],
          "scatter3d": [
           {
            "line": {
             "colorbar": {
              "outlinewidth": 0,
              "ticks": ""
             }
            },
            "marker": {
             "colorbar": {
              "outlinewidth": 0,
              "ticks": ""
             }
            },
            "type": "scatter3d"
           }
          ],
          "scattercarpet": [
           {
            "marker": {
             "colorbar": {
              "outlinewidth": 0,
              "ticks": ""
             }
            },
            "type": "scattercarpet"
           }
          ],
          "scattergeo": [
           {
            "marker": {
             "colorbar": {
              "outlinewidth": 0,
              "ticks": ""
             }
            },
            "type": "scattergeo"
           }
          ],
          "scattergl": [
           {
            "marker": {
             "colorbar": {
              "outlinewidth": 0,
              "ticks": ""
             }
            },
            "type": "scattergl"
           }
          ],
          "scattermapbox": [
           {
            "marker": {
             "colorbar": {
              "outlinewidth": 0,
              "ticks": ""
             }
            },
            "type": "scattermapbox"
           }
          ],
          "scatterpolar": [
           {
            "marker": {
             "colorbar": {
              "outlinewidth": 0,
              "ticks": ""
             }
            },
            "type": "scatterpolar"
           }
          ],
          "scatterpolargl": [
           {
            "marker": {
             "colorbar": {
              "outlinewidth": 0,
              "ticks": ""
             }
            },
            "type": "scatterpolargl"
           }
          ],
          "scatterternary": [
           {
            "marker": {
             "colorbar": {
              "outlinewidth": 0,
              "ticks": ""
             }
            },
            "type": "scatterternary"
           }
          ],
          "surface": [
           {
            "colorbar": {
             "outlinewidth": 0,
             "ticks": ""
            },
            "colorscale": [
             [
              0,
              "#0d0887"
             ],
             [
              0.1111111111111111,
              "#46039f"
             ],
             [
              0.2222222222222222,
              "#7201a8"
             ],
             [
              0.3333333333333333,
              "#9c179e"
             ],
             [
              0.4444444444444444,
              "#bd3786"
             ],
             [
              0.5555555555555556,
              "#d8576b"
             ],
             [
              0.6666666666666666,
              "#ed7953"
             ],
             [
              0.7777777777777778,
              "#fb9f3a"
             ],
             [
              0.8888888888888888,
              "#fdca26"
             ],
             [
              1,
              "#f0f921"
             ]
            ],
            "type": "surface"
           }
          ],
          "table": [
           {
            "cells": {
             "fill": {
              "color": "#EBF0F8"
             },
             "line": {
              "color": "white"
             }
            },
            "header": {
             "fill": {
              "color": "#C8D4E3"
             },
             "line": {
              "color": "white"
             }
            },
            "type": "table"
           }
          ]
         },
         "layout": {
          "annotationdefaults": {
           "arrowcolor": "#2a3f5f",
           "arrowhead": 0,
           "arrowwidth": 1
          },
          "autotypenumbers": "strict",
          "coloraxis": {
           "colorbar": {
            "outlinewidth": 0,
            "ticks": ""
           }
          },
          "colorscale": {
           "diverging": [
            [
             0,
             "#8e0152"
            ],
            [
             0.1,
             "#c51b7d"
            ],
            [
             0.2,
             "#de77ae"
            ],
            [
             0.3,
             "#f1b6da"
            ],
            [
             0.4,
             "#fde0ef"
            ],
            [
             0.5,
             "#f7f7f7"
            ],
            [
             0.6,
             "#e6f5d0"
            ],
            [
             0.7,
             "#b8e186"
            ],
            [
             0.8,
             "#7fbc41"
            ],
            [
             0.9,
             "#4d9221"
            ],
            [
             1,
             "#276419"
            ]
           ],
           "sequential": [
            [
             0,
             "#0d0887"
            ],
            [
             0.1111111111111111,
             "#46039f"
            ],
            [
             0.2222222222222222,
             "#7201a8"
            ],
            [
             0.3333333333333333,
             "#9c179e"
            ],
            [
             0.4444444444444444,
             "#bd3786"
            ],
            [
             0.5555555555555556,
             "#d8576b"
            ],
            [
             0.6666666666666666,
             "#ed7953"
            ],
            [
             0.7777777777777778,
             "#fb9f3a"
            ],
            [
             0.8888888888888888,
             "#fdca26"
            ],
            [
             1,
             "#f0f921"
            ]
           ],
           "sequentialminus": [
            [
             0,
             "#0d0887"
            ],
            [
             0.1111111111111111,
             "#46039f"
            ],
            [
             0.2222222222222222,
             "#7201a8"
            ],
            [
             0.3333333333333333,
             "#9c179e"
            ],
            [
             0.4444444444444444,
             "#bd3786"
            ],
            [
             0.5555555555555556,
             "#d8576b"
            ],
            [
             0.6666666666666666,
             "#ed7953"
            ],
            [
             0.7777777777777778,
             "#fb9f3a"
            ],
            [
             0.8888888888888888,
             "#fdca26"
            ],
            [
             1,
             "#f0f921"
            ]
           ]
          },
          "colorway": [
           "#636efa",
           "#EF553B",
           "#00cc96",
           "#ab63fa",
           "#FFA15A",
           "#19d3f3",
           "#FF6692",
           "#B6E880",
           "#FF97FF",
           "#FECB52"
          ],
          "font": {
           "color": "#2a3f5f"
          },
          "geo": {
           "bgcolor": "white",
           "lakecolor": "white",
           "landcolor": "#E5ECF6",
           "showlakes": true,
           "showland": true,
           "subunitcolor": "white"
          },
          "hoverlabel": {
           "align": "left"
          },
          "hovermode": "closest",
          "mapbox": {
           "style": "light"
          },
          "paper_bgcolor": "white",
          "plot_bgcolor": "#E5ECF6",
          "polar": {
           "angularaxis": {
            "gridcolor": "white",
            "linecolor": "white",
            "ticks": ""
           },
           "bgcolor": "#E5ECF6",
           "radialaxis": {
            "gridcolor": "white",
            "linecolor": "white",
            "ticks": ""
           }
          },
          "scene": {
           "xaxis": {
            "backgroundcolor": "#E5ECF6",
            "gridcolor": "white",
            "gridwidth": 2,
            "linecolor": "white",
            "showbackground": true,
            "ticks": "",
            "zerolinecolor": "white"
           },
           "yaxis": {
            "backgroundcolor": "#E5ECF6",
            "gridcolor": "white",
            "gridwidth": 2,
            "linecolor": "white",
            "showbackground": true,
            "ticks": "",
            "zerolinecolor": "white"
           },
           "zaxis": {
            "backgroundcolor": "#E5ECF6",
            "gridcolor": "white",
            "gridwidth": 2,
            "linecolor": "white",
            "showbackground": true,
            "ticks": "",
            "zerolinecolor": "white"
           }
          },
          "shapedefaults": {
           "line": {
            "color": "#2a3f5f"
           }
          },
          "ternary": {
           "aaxis": {
            "gridcolor": "white",
            "linecolor": "white",
            "ticks": ""
           },
           "baxis": {
            "gridcolor": "white",
            "linecolor": "white",
            "ticks": ""
           },
           "bgcolor": "#E5ECF6",
           "caxis": {
            "gridcolor": "white",
            "linecolor": "white",
            "ticks": ""
           }
          },
          "title": {
           "x": 0.05
          },
          "xaxis": {
           "automargin": true,
           "gridcolor": "white",
           "linecolor": "white",
           "ticks": "",
           "title": {
            "standoff": 15
           },
           "zerolinecolor": "white",
           "zerolinewidth": 2
          },
          "yaxis": {
           "automargin": true,
           "gridcolor": "white",
           "linecolor": "white",
           "ticks": "",
           "title": {
            "standoff": 15
           },
           "zerolinecolor": "white",
           "zerolinewidth": 2
          }
         }
        },
        "title": {
         "text": "Comparison of Total Number of Crime Pre and Post Covid-19 Era"
        },
        "xaxis": {
         "anchor": "y",
         "domain": [
          0,
          1
         ],
         "title": {
          "text": "date"
         }
        },
        "yaxis": {
         "anchor": "x",
         "domain": [
          0,
          1
         ],
         "title": {
          "text": "7-Day Rolling Average Total Crime"
         }
        }
       }
      },
      "text/html": [
       "<div>                            <div id=\"9f8b1035-9830-4b60-bf79-8dfd1e20dcaf\" class=\"plotly-graph-div\" style=\"height:525px; width:100%;\"></div>            <script type=\"text/javascript\">                require([\"plotly\"], function(Plotly) {                    window.PLOTLYENV=window.PLOTLYENV || {};                                    if (document.getElementById(\"9f8b1035-9830-4b60-bf79-8dfd1e20dcaf\")) {                    Plotly.newPlot(                        \"9f8b1035-9830-4b60-bf79-8dfd1e20dcaf\",                        [{\"hovertemplate\": \"date=%{x}<br>7-Day Rolling Average Total Crime=%{y}<extra></extra>\", \"legendgroup\": \"\", \"line\": {\"color\": \"#636efa\", \"dash\": \"solid\"}, \"mode\": \"lines\", \"name\": \"\", \"orientation\": \"v\", \"showlegend\": false, \"type\": \"scatter\", \"x\": [\"2019-03-18T00:00:00\", \"2019-03-19T00:00:00\", \"2019-03-20T00:00:00\", \"2019-03-21T00:00:00\", \"2019-03-22T00:00:00\", \"2019-03-23T00:00:00\", \"2019-03-24T00:00:00\", \"2019-03-25T00:00:00\", \"2019-03-26T00:00:00\", \"2019-03-27T00:00:00\", \"2019-03-28T00:00:00\", \"2019-03-29T00:00:00\", \"2019-03-30T00:00:00\", \"2019-03-31T00:00:00\", \"2019-04-01T00:00:00\", \"2019-04-02T00:00:00\", \"2019-04-03T00:00:00\", \"2019-04-04T00:00:00\", \"2019-04-05T00:00:00\", \"2019-04-06T00:00:00\", \"2019-04-07T00:00:00\", \"2019-04-08T00:00:00\", \"2019-04-09T00:00:00\", \"2019-04-10T00:00:00\", \"2019-04-11T00:00:00\", \"2019-04-12T00:00:00\", \"2019-04-13T00:00:00\", \"2019-04-14T00:00:00\", \"2019-04-15T00:00:00\", \"2019-04-16T00:00:00\", \"2019-04-17T00:00:00\", \"2019-04-18T00:00:00\", \"2019-04-19T00:00:00\", \"2019-04-20T00:00:00\", \"2019-04-21T00:00:00\", \"2019-04-22T00:00:00\", \"2019-04-23T00:00:00\", \"2019-04-24T00:00:00\", \"2019-04-25T00:00:00\", \"2019-04-26T00:00:00\", \"2019-04-27T00:00:00\", \"2019-04-28T00:00:00\", \"2019-04-29T00:00:00\", \"2019-04-30T00:00:00\", \"2019-05-01T00:00:00\", \"2019-05-02T00:00:00\", \"2019-05-03T00:00:00\", \"2019-05-04T00:00:00\", \"2019-05-05T00:00:00\", \"2019-05-06T00:00:00\", \"2019-05-07T00:00:00\", \"2019-05-08T00:00:00\", \"2019-05-09T00:00:00\", \"2019-05-10T00:00:00\", \"2019-05-11T00:00:00\", \"2019-05-12T00:00:00\", \"2019-05-13T00:00:00\", \"2019-05-14T00:00:00\", \"2019-05-15T00:00:00\", \"2019-05-16T00:00:00\", \"2019-05-17T00:00:00\", \"2019-05-18T00:00:00\", \"2019-05-19T00:00:00\", \"2019-05-20T00:00:00\", \"2019-05-21T00:00:00\", \"2019-05-22T00:00:00\", \"2019-05-23T00:00:00\", \"2019-05-24T00:00:00\", \"2019-05-25T00:00:00\", \"2019-05-26T00:00:00\", \"2019-05-27T00:00:00\", \"2019-05-28T00:00:00\", \"2019-05-29T00:00:00\", \"2019-05-30T00:00:00\", \"2019-05-31T00:00:00\", \"2019-06-01T00:00:00\", \"2019-06-02T00:00:00\", \"2019-06-03T00:00:00\", \"2019-06-04T00:00:00\", \"2019-06-05T00:00:00\", \"2019-06-06T00:00:00\", \"2019-06-07T00:00:00\", \"2019-06-08T00:00:00\", \"2019-06-09T00:00:00\", \"2019-06-10T00:00:00\", \"2019-06-11T00:00:00\", \"2019-06-12T00:00:00\", \"2019-06-13T00:00:00\", \"2019-06-14T00:00:00\", \"2019-06-15T00:00:00\", \"2019-06-16T00:00:00\", \"2019-06-17T00:00:00\", \"2019-06-18T00:00:00\", \"2019-06-19T00:00:00\", \"2019-06-20T00:00:00\", \"2019-06-21T00:00:00\", \"2019-06-22T00:00:00\", \"2019-06-23T00:00:00\", \"2019-06-24T00:00:00\", \"2019-06-25T00:00:00\", \"2019-06-26T00:00:00\", \"2019-06-27T00:00:00\", \"2019-06-28T00:00:00\", \"2019-06-29T00:00:00\", \"2019-06-30T00:00:00\", \"2019-07-01T00:00:00\", \"2019-07-02T00:00:00\", \"2019-07-03T00:00:00\", \"2019-07-04T00:00:00\", \"2019-07-05T00:00:00\", \"2019-07-06T00:00:00\", \"2019-07-07T00:00:00\", \"2019-07-08T00:00:00\", \"2019-07-09T00:00:00\", \"2019-07-10T00:00:00\", \"2019-07-11T00:00:00\", \"2019-07-12T00:00:00\", \"2019-07-13T00:00:00\", \"2019-07-14T00:00:00\", \"2019-07-15T00:00:00\", \"2019-07-16T00:00:00\", \"2019-07-17T00:00:00\", \"2019-07-18T00:00:00\", \"2019-07-19T00:00:00\", \"2019-07-20T00:00:00\", \"2019-07-21T00:00:00\", \"2019-07-22T00:00:00\", \"2019-07-23T00:00:00\", \"2019-07-24T00:00:00\", \"2019-07-25T00:00:00\", \"2019-07-26T00:00:00\", \"2019-07-27T00:00:00\", \"2019-07-28T00:00:00\", \"2019-07-29T00:00:00\", \"2019-07-30T00:00:00\", \"2019-07-31T00:00:00\", \"2019-08-01T00:00:00\", \"2019-08-02T00:00:00\", \"2019-08-03T00:00:00\", \"2019-08-04T00:00:00\", \"2019-08-05T00:00:00\", \"2019-08-06T00:00:00\", \"2019-08-07T00:00:00\", \"2019-08-08T00:00:00\", \"2019-08-09T00:00:00\", \"2019-08-10T00:00:00\", \"2019-08-11T00:00:00\", \"2019-08-12T00:00:00\", \"2019-08-13T00:00:00\", \"2019-08-14T00:00:00\", \"2019-08-15T00:00:00\", \"2019-08-16T00:00:00\", \"2019-08-17T00:00:00\", \"2019-08-18T00:00:00\", \"2019-08-19T00:00:00\", \"2019-08-20T00:00:00\", \"2019-08-21T00:00:00\", \"2019-08-22T00:00:00\", \"2019-08-23T00:00:00\", \"2019-08-24T00:00:00\", \"2019-08-25T00:00:00\", \"2019-08-26T00:00:00\", \"2019-08-27T00:00:00\", \"2019-08-28T00:00:00\", \"2019-08-29T00:00:00\", \"2019-08-30T00:00:00\", \"2019-08-31T00:00:00\", \"2019-09-01T00:00:00\", \"2019-09-02T00:00:00\", \"2019-09-03T00:00:00\", \"2019-09-04T00:00:00\", \"2019-09-05T00:00:00\", \"2019-09-06T00:00:00\", \"2019-09-07T00:00:00\", \"2019-09-08T00:00:00\", \"2019-09-09T00:00:00\", \"2019-09-10T00:00:00\", \"2019-09-11T00:00:00\", \"2019-09-12T00:00:00\", \"2019-09-13T00:00:00\", \"2019-09-14T00:00:00\", \"2019-09-15T00:00:00\", \"2019-09-16T00:00:00\", \"2019-09-17T00:00:00\", \"2019-09-18T00:00:00\", \"2019-09-19T00:00:00\", \"2019-09-20T00:00:00\", \"2019-09-21T00:00:00\", \"2019-09-22T00:00:00\", \"2019-09-23T00:00:00\", \"2019-09-24T00:00:00\", \"2019-09-25T00:00:00\", \"2019-09-26T00:00:00\", \"2019-09-27T00:00:00\", \"2019-09-28T00:00:00\", \"2019-09-29T00:00:00\", \"2019-09-30T00:00:00\", \"2019-10-01T00:00:00\", \"2019-10-02T00:00:00\", \"2019-10-03T00:00:00\", \"2019-10-04T00:00:00\", \"2019-10-05T00:00:00\", \"2019-10-06T00:00:00\", \"2019-10-07T00:00:00\", \"2019-10-08T00:00:00\", \"2019-10-09T00:00:00\", \"2019-10-10T00:00:00\", \"2019-10-11T00:00:00\", \"2019-10-12T00:00:00\", \"2019-10-13T00:00:00\", \"2019-10-14T00:00:00\", \"2019-10-15T00:00:00\", \"2019-10-16T00:00:00\", \"2019-10-17T00:00:00\", \"2019-10-18T00:00:00\", \"2019-10-19T00:00:00\", \"2019-10-20T00:00:00\", \"2019-10-21T00:00:00\", \"2019-10-22T00:00:00\", \"2019-10-23T00:00:00\", \"2019-10-24T00:00:00\", \"2019-10-25T00:00:00\", \"2019-10-26T00:00:00\", \"2019-10-27T00:00:00\", \"2019-10-28T00:00:00\", \"2019-10-29T00:00:00\", \"2019-10-30T00:00:00\", \"2019-10-31T00:00:00\", \"2019-11-01T00:00:00\", \"2019-11-02T00:00:00\", \"2019-11-03T00:00:00\", \"2019-11-04T00:00:00\", \"2019-11-05T00:00:00\", \"2019-11-06T00:00:00\", \"2019-11-07T00:00:00\", \"2019-11-08T00:00:00\", \"2019-11-09T00:00:00\", \"2019-11-10T00:00:00\", \"2019-11-11T00:00:00\", \"2019-11-12T00:00:00\", \"2019-11-13T00:00:00\", \"2019-11-14T00:00:00\", \"2019-11-15T00:00:00\", \"2019-11-16T00:00:00\", \"2019-11-17T00:00:00\", \"2019-11-18T00:00:00\", \"2019-11-19T00:00:00\", \"2019-11-20T00:00:00\", \"2019-11-21T00:00:00\", \"2019-11-22T00:00:00\", \"2019-11-23T00:00:00\", \"2019-11-24T00:00:00\", \"2019-11-25T00:00:00\", \"2019-11-26T00:00:00\", \"2019-11-27T00:00:00\", \"2019-11-28T00:00:00\", \"2019-11-29T00:00:00\", \"2019-11-30T00:00:00\", \"2019-12-01T00:00:00\", \"2019-12-02T00:00:00\", \"2019-12-03T00:00:00\", \"2019-12-04T00:00:00\", \"2019-12-05T00:00:00\", \"2019-12-06T00:00:00\", \"2019-12-07T00:00:00\", \"2019-12-08T00:00:00\", \"2019-12-09T00:00:00\", \"2019-12-10T00:00:00\", \"2019-12-11T00:00:00\", \"2019-12-12T00:00:00\", \"2019-12-13T00:00:00\", \"2019-12-14T00:00:00\", \"2019-12-15T00:00:00\", \"2019-12-16T00:00:00\", \"2019-12-17T00:00:00\", \"2019-12-18T00:00:00\", \"2019-12-19T00:00:00\", \"2019-12-20T00:00:00\", \"2019-12-21T00:00:00\", \"2019-12-22T00:00:00\", \"2019-12-23T00:00:00\", \"2019-12-24T00:00:00\", \"2019-12-25T00:00:00\", \"2019-12-26T00:00:00\", \"2019-12-27T00:00:00\", \"2019-12-28T00:00:00\", \"2019-12-29T00:00:00\", \"2019-12-30T00:00:00\", \"2019-12-31T00:00:00\", \"2020-01-01T00:00:00\", \"2020-01-02T00:00:00\", \"2020-01-03T00:00:00\", \"2020-01-04T00:00:00\", \"2020-01-05T00:00:00\", \"2020-01-06T00:00:00\", \"2020-01-07T00:00:00\", \"2020-01-08T00:00:00\", \"2020-01-09T00:00:00\", \"2020-01-10T00:00:00\", \"2020-01-11T00:00:00\", \"2020-01-12T00:00:00\", \"2020-01-13T00:00:00\", \"2020-01-14T00:00:00\", \"2020-01-15T00:00:00\", \"2020-01-16T00:00:00\", \"2020-01-17T00:00:00\", \"2020-01-18T00:00:00\", \"2020-01-19T00:00:00\", \"2020-01-20T00:00:00\", \"2020-01-21T00:00:00\", \"2020-01-22T00:00:00\", \"2020-01-23T00:00:00\", \"2020-01-24T00:00:00\", \"2020-01-25T00:00:00\", \"2020-01-26T00:00:00\", \"2020-01-27T00:00:00\", \"2020-01-28T00:00:00\", \"2020-01-29T00:00:00\", \"2020-01-30T00:00:00\", \"2020-01-31T00:00:00\", \"2020-02-01T00:00:00\", \"2020-02-02T00:00:00\", \"2020-02-03T00:00:00\", \"2020-02-04T00:00:00\", \"2020-02-05T00:00:00\", \"2020-02-06T00:00:00\", \"2020-02-07T00:00:00\", \"2020-02-08T00:00:00\", \"2020-02-09T00:00:00\", \"2020-02-10T00:00:00\", \"2020-02-11T00:00:00\", \"2020-02-12T00:00:00\", \"2020-02-13T00:00:00\", \"2020-02-14T00:00:00\", \"2020-02-15T00:00:00\", \"2020-02-16T00:00:00\", \"2020-02-17T00:00:00\", \"2020-02-18T00:00:00\", \"2020-02-19T00:00:00\", \"2020-02-20T00:00:00\", \"2020-02-21T00:00:00\", \"2020-02-22T00:00:00\", \"2020-02-23T00:00:00\", \"2020-02-24T00:00:00\", \"2020-02-25T00:00:00\", \"2020-02-26T00:00:00\", \"2020-02-27T00:00:00\", \"2020-02-28T00:00:00\", \"2020-02-29T00:00:00\", \"2020-03-01T00:00:00\", \"2020-03-02T00:00:00\", \"2020-03-03T00:00:00\", \"2020-03-04T00:00:00\", \"2020-03-05T00:00:00\", \"2020-03-06T00:00:00\", \"2020-03-07T00:00:00\", \"2020-03-08T00:00:00\", \"2020-03-09T00:00:00\", \"2020-03-10T00:00:00\", \"2020-03-11T00:00:00\", \"2020-03-12T00:00:00\", \"2020-03-13T00:00:00\", \"2020-03-14T00:00:00\", \"2020-03-15T00:00:00\", \"2020-03-16T00:00:00\", \"2020-03-17T00:00:00\", \"2020-03-18T00:00:00\", \"2020-03-19T00:00:00\", \"2020-03-20T00:00:00\", \"2020-03-21T00:00:00\", \"2020-03-22T00:00:00\", \"2020-03-23T00:00:00\", \"2020-03-24T00:00:00\", \"2020-03-25T00:00:00\", \"2020-03-26T00:00:00\", \"2020-03-27T00:00:00\", \"2020-03-28T00:00:00\", \"2020-03-29T00:00:00\", \"2020-03-30T00:00:00\", \"2020-03-31T00:00:00\", \"2020-04-01T00:00:00\", \"2020-04-02T00:00:00\", \"2020-04-03T00:00:00\", \"2020-04-04T00:00:00\", \"2020-04-05T00:00:00\", \"2020-04-06T00:00:00\", \"2020-04-07T00:00:00\", \"2020-04-08T00:00:00\", \"2020-04-09T00:00:00\", \"2020-04-10T00:00:00\", \"2020-04-11T00:00:00\", \"2020-04-12T00:00:00\", \"2020-04-13T00:00:00\", \"2020-04-14T00:00:00\", \"2020-04-15T00:00:00\", \"2020-04-16T00:00:00\", \"2020-04-17T00:00:00\", \"2020-04-18T00:00:00\", \"2020-04-19T00:00:00\", \"2020-04-20T00:00:00\", \"2020-04-21T00:00:00\", \"2020-04-22T00:00:00\", \"2020-04-23T00:00:00\", \"2020-04-24T00:00:00\", \"2020-04-25T00:00:00\", \"2020-04-26T00:00:00\", \"2020-04-27T00:00:00\", \"2020-04-28T00:00:00\", \"2020-04-29T00:00:00\", \"2020-04-30T00:00:00\", \"2020-05-01T00:00:00\", \"2020-05-02T00:00:00\", \"2020-05-03T00:00:00\", \"2020-05-04T00:00:00\", \"2020-05-05T00:00:00\", \"2020-05-06T00:00:00\", \"2020-05-07T00:00:00\", \"2020-05-08T00:00:00\", \"2020-05-09T00:00:00\", \"2020-05-10T00:00:00\", \"2020-05-11T00:00:00\", \"2020-05-12T00:00:00\", \"2020-05-13T00:00:00\", \"2020-05-14T00:00:00\", \"2020-05-15T00:00:00\", \"2020-05-16T00:00:00\", \"2020-05-17T00:00:00\", \"2020-05-18T00:00:00\", \"2020-05-19T00:00:00\", \"2020-05-20T00:00:00\", \"2020-05-21T00:00:00\", \"2020-05-22T00:00:00\", \"2020-05-23T00:00:00\", \"2020-05-24T00:00:00\", \"2020-05-25T00:00:00\", \"2020-05-26T00:00:00\", \"2020-05-27T00:00:00\", \"2020-05-28T00:00:00\", \"2020-05-29T00:00:00\", \"2020-05-30T00:00:00\", \"2020-05-31T00:00:00\", \"2020-06-01T00:00:00\", \"2020-06-02T00:00:00\", \"2020-06-03T00:00:00\", \"2020-06-04T00:00:00\", \"2020-06-05T00:00:00\", \"2020-06-06T00:00:00\", \"2020-06-07T00:00:00\", \"2020-06-08T00:00:00\", \"2020-06-09T00:00:00\", \"2020-06-10T00:00:00\", \"2020-06-11T00:00:00\", \"2020-06-12T00:00:00\", \"2020-06-13T00:00:00\", \"2020-06-14T00:00:00\", \"2020-06-15T00:00:00\", \"2020-06-16T00:00:00\", \"2020-06-17T00:00:00\", \"2020-06-18T00:00:00\", \"2020-06-19T00:00:00\", \"2020-06-20T00:00:00\", \"2020-06-21T00:00:00\", \"2020-06-22T00:00:00\", \"2020-06-23T00:00:00\", \"2020-06-24T00:00:00\", \"2020-06-25T00:00:00\", \"2020-06-26T00:00:00\", \"2020-06-27T00:00:00\", \"2020-06-28T00:00:00\", \"2020-06-29T00:00:00\", \"2020-06-30T00:00:00\", \"2020-07-01T00:00:00\", \"2020-07-02T00:00:00\", \"2020-07-03T00:00:00\", \"2020-07-04T00:00:00\", \"2020-07-05T00:00:00\", \"2020-07-06T00:00:00\", \"2020-07-07T00:00:00\", \"2020-07-08T00:00:00\", \"2020-07-09T00:00:00\", \"2020-07-10T00:00:00\", \"2020-07-11T00:00:00\", \"2020-07-12T00:00:00\", \"2020-07-13T00:00:00\", \"2020-07-14T00:00:00\", \"2020-07-15T00:00:00\", \"2020-07-16T00:00:00\", \"2020-07-17T00:00:00\", \"2020-07-18T00:00:00\", \"2020-07-19T00:00:00\", \"2020-07-20T00:00:00\", \"2020-07-21T00:00:00\", \"2020-07-22T00:00:00\", \"2020-07-23T00:00:00\", \"2020-07-24T00:00:00\", \"2020-07-25T00:00:00\", \"2020-07-26T00:00:00\", \"2020-07-27T00:00:00\", \"2020-07-28T00:00:00\", \"2020-07-29T00:00:00\", \"2020-07-30T00:00:00\", \"2020-07-31T00:00:00\", \"2020-08-01T00:00:00\", \"2020-08-02T00:00:00\", \"2020-08-03T00:00:00\", \"2020-08-04T00:00:00\", \"2020-08-05T00:00:00\", \"2020-08-06T00:00:00\", \"2020-08-07T00:00:00\", \"2020-08-08T00:00:00\", \"2020-08-09T00:00:00\", \"2020-08-10T00:00:00\", \"2020-08-11T00:00:00\", \"2020-08-12T00:00:00\", \"2020-08-13T00:00:00\", \"2020-08-14T00:00:00\", \"2020-08-15T00:00:00\", \"2020-08-16T00:00:00\", \"2020-08-17T00:00:00\", \"2020-08-18T00:00:00\", \"2020-08-19T00:00:00\", \"2020-08-20T00:00:00\", \"2020-08-21T00:00:00\", \"2020-08-22T00:00:00\", \"2020-08-23T00:00:00\", \"2020-08-24T00:00:00\", \"2020-08-25T00:00:00\", \"2020-08-26T00:00:00\", \"2020-08-27T00:00:00\", \"2020-08-28T00:00:00\", \"2020-08-29T00:00:00\", \"2020-08-30T00:00:00\", \"2020-08-31T00:00:00\", \"2020-09-01T00:00:00\", \"2020-09-02T00:00:00\", \"2020-09-03T00:00:00\", \"2020-09-04T00:00:00\", \"2020-09-05T00:00:00\", \"2020-09-06T00:00:00\", \"2020-09-07T00:00:00\", \"2020-09-08T00:00:00\", \"2020-09-09T00:00:00\", \"2020-09-10T00:00:00\", \"2020-09-11T00:00:00\", \"2020-09-12T00:00:00\", \"2020-09-13T00:00:00\", \"2020-09-14T00:00:00\", \"2020-09-15T00:00:00\", \"2020-09-16T00:00:00\", \"2020-09-17T00:00:00\", \"2020-09-18T00:00:00\", \"2020-09-19T00:00:00\", \"2020-09-20T00:00:00\", \"2020-09-21T00:00:00\", \"2020-09-22T00:00:00\", \"2020-09-23T00:00:00\", \"2020-09-24T00:00:00\", \"2020-09-25T00:00:00\", \"2020-09-26T00:00:00\", \"2020-09-27T00:00:00\", \"2020-09-28T00:00:00\", \"2020-09-29T00:00:00\", \"2020-09-30T00:00:00\", \"2020-10-01T00:00:00\", \"2020-10-02T00:00:00\", \"2020-10-03T00:00:00\", \"2020-10-04T00:00:00\", \"2020-10-05T00:00:00\", \"2020-10-06T00:00:00\", \"2020-10-07T00:00:00\", \"2020-10-08T00:00:00\", \"2020-10-09T00:00:00\", \"2020-10-10T00:00:00\", \"2020-10-11T00:00:00\", \"2020-10-12T00:00:00\", \"2020-10-13T00:00:00\", \"2020-10-14T00:00:00\", \"2020-10-15T00:00:00\", \"2020-10-16T00:00:00\", \"2020-10-17T00:00:00\", \"2020-10-18T00:00:00\", \"2020-10-19T00:00:00\", \"2020-10-20T00:00:00\", \"2020-10-21T00:00:00\", \"2020-10-22T00:00:00\", \"2020-10-23T00:00:00\", \"2020-10-24T00:00:00\", \"2020-10-25T00:00:00\", \"2020-10-26T00:00:00\", \"2020-10-27T00:00:00\", \"2020-10-28T00:00:00\", \"2020-10-29T00:00:00\", \"2020-10-30T00:00:00\", \"2020-10-31T00:00:00\", \"2020-11-01T00:00:00\", \"2020-11-02T00:00:00\", \"2020-11-03T00:00:00\", \"2020-11-04T00:00:00\", \"2020-11-05T00:00:00\", \"2020-11-06T00:00:00\", \"2020-11-07T00:00:00\", \"2020-11-08T00:00:00\", \"2020-11-09T00:00:00\", \"2020-11-10T00:00:00\", \"2020-11-11T00:00:00\", \"2020-11-12T00:00:00\", \"2020-11-13T00:00:00\", \"2020-11-14T00:00:00\", \"2020-11-15T00:00:00\", \"2020-11-16T00:00:00\", \"2020-11-17T00:00:00\", \"2020-11-18T00:00:00\", \"2020-11-19T00:00:00\", \"2020-11-20T00:00:00\", \"2020-11-21T00:00:00\", \"2020-11-22T00:00:00\", \"2020-11-23T00:00:00\", \"2020-11-24T00:00:00\", \"2020-11-25T00:00:00\", \"2020-11-26T00:00:00\", \"2020-11-27T00:00:00\", \"2020-11-28T00:00:00\", \"2020-11-29T00:00:00\", \"2020-11-30T00:00:00\", \"2020-12-01T00:00:00\", \"2020-12-02T00:00:00\", \"2020-12-03T00:00:00\", \"2020-12-04T00:00:00\", \"2020-12-05T00:00:00\", \"2020-12-06T00:00:00\", \"2020-12-07T00:00:00\", \"2020-12-08T00:00:00\", \"2020-12-09T00:00:00\", \"2020-12-10T00:00:00\", \"2020-12-11T00:00:00\", \"2020-12-12T00:00:00\", \"2020-12-13T00:00:00\", \"2020-12-14T00:00:00\", \"2020-12-15T00:00:00\", \"2020-12-16T00:00:00\", \"2020-12-17T00:00:00\", \"2020-12-18T00:00:00\", \"2020-12-19T00:00:00\", \"2020-12-20T00:00:00\", \"2020-12-21T00:00:00\", \"2020-12-22T00:00:00\", \"2020-12-23T00:00:00\", \"2020-12-24T00:00:00\", \"2020-12-25T00:00:00\", \"2020-12-26T00:00:00\", \"2020-12-27T00:00:00\", \"2020-12-28T00:00:00\", \"2020-12-29T00:00:00\", \"2020-12-30T00:00:00\", \"2020-12-31T00:00:00\", \"2021-01-01T00:00:00\", \"2021-01-02T00:00:00\", \"2021-01-03T00:00:00\", \"2021-01-04T00:00:00\", \"2021-01-05T00:00:00\", \"2021-01-06T00:00:00\", \"2021-01-07T00:00:00\", \"2021-01-08T00:00:00\", \"2021-01-09T00:00:00\", \"2021-01-10T00:00:00\", \"2021-01-11T00:00:00\", \"2021-01-12T00:00:00\", \"2021-01-13T00:00:00\", \"2021-01-14T00:00:00\", \"2021-01-15T00:00:00\", \"2021-01-16T00:00:00\", \"2021-01-17T00:00:00\", \"2021-01-18T00:00:00\", \"2021-01-19T00:00:00\", \"2021-01-20T00:00:00\", \"2021-01-21T00:00:00\", \"2021-01-22T00:00:00\", \"2021-01-23T00:00:00\", \"2021-01-24T00:00:00\", \"2021-01-25T00:00:00\", \"2021-01-26T00:00:00\", \"2021-01-27T00:00:00\", \"2021-01-28T00:00:00\", \"2021-01-29T00:00:00\", \"2021-01-30T00:00:00\", \"2021-01-31T00:00:00\", \"2021-02-01T00:00:00\", \"2021-02-02T00:00:00\", \"2021-02-03T00:00:00\", \"2021-02-04T00:00:00\", \"2021-02-05T00:00:00\", \"2021-02-06T00:00:00\", \"2021-02-07T00:00:00\", \"2021-02-08T00:00:00\", \"2021-02-09T00:00:00\", \"2021-02-10T00:00:00\", \"2021-02-11T00:00:00\", \"2021-02-12T00:00:00\", \"2021-02-13T00:00:00\", \"2021-02-14T00:00:00\", \"2021-02-15T00:00:00\", \"2021-02-16T00:00:00\", \"2021-02-17T00:00:00\", \"2021-02-18T00:00:00\", \"2021-02-19T00:00:00\", \"2021-02-20T00:00:00\", \"2021-02-21T00:00:00\", \"2021-02-22T00:00:00\", \"2021-02-23T00:00:00\", \"2021-02-24T00:00:00\", \"2021-02-25T00:00:00\", \"2021-02-26T00:00:00\", \"2021-02-27T00:00:00\", \"2021-02-28T00:00:00\", \"2021-03-01T00:00:00\", \"2021-03-02T00:00:00\", \"2021-03-03T00:00:00\", \"2021-03-04T00:00:00\", \"2021-03-05T00:00:00\", \"2021-03-06T00:00:00\", \"2021-03-07T00:00:00\", \"2021-03-08T00:00:00\", \"2021-03-09T00:00:00\", \"2021-03-10T00:00:00\", \"2021-03-11T00:00:00\", \"2021-03-12T00:00:00\", \"2021-03-13T00:00:00\", \"2021-03-14T00:00:00\", \"2021-03-15T00:00:00\", \"2021-03-16T00:00:00\", \"2021-03-17T00:00:00\"], \"xaxis\": \"x\", \"y\": [null, null, null, null, null, null, 674.4285714285714, 672.7142857142857, 676.7142857142857, 677.7142857142857, 676.8571428571429, 671.8571428571429, 668.0, 666.4285714285714, 688.0, 686.1428571428571, 683.5714285714286, 680.5714285714286, 684.7142857142857, 696.0, 705.4285714285714, 698.8571428571429, 703.8571428571429, 700.8571428571429, 713.1428571428571, 723.8571428571429, 725.5714285714286, 701.7142857142857, 698.5714285714286, 700.5714285714286, 705.1428571428571, 687.8571428571429, 669.5714285714286, 666.1428571428571, 681.7142857142857, 683.5714285714286, 688.5714285714286, 690.1428571428571, 710.0, 725.7142857142857, 711.2857142857143, 705.5714285714286, 702.8571428571429, 700.8571428571429, 715.8571428571429, 706.1428571428571, 710.5714285714286, 720.5714285714286, 745.2857142857143, 755.7142857142857, 751.7142857142857, 744.8571428571429, 750.4285714285714, 751.2857142857143, 750.8571428571429, 729.8571428571429, 730.0, 732.7142857142857, 733.2857142857143, 733.7142857142857, 730.5714285714286, 739.4285714285714, 759.8571428571429, 762.4285714285714, 763.7142857142857, 765.0, 769.7142857142857, 780.0, 796.5714285714286, 804.0, 795.2857142857143, 798.0, 793.0, 789.0, 786.7142857142857, 792.7142857142857, 779.5714285714286, 773.8571428571429, 777.2857142857143, 784.7142857142857, 784.1428571428571, 783.0, 779.0, 789.1428571428571, 802.1428571428571, 802.7142857142857, 792.1428571428571, 786.4285714285714, 784.0, 775.7142857142857, 763.7142857142857, 757.0, 748.5714285714286, 761.1428571428571, 765.5714285714286, 761.8571428571429, 761.1428571428571, 773.5714285714286, 782.0, 791.7142857142857, 791.0, 793.5714285714286, 803.0, 808.4285714285714, 807.8571428571429, 821.2857142857143, 819.1428571428571, 820.1428571428571, 827.2857142857143, 833.5714285714286, 826.7142857142857, 822.4285714285714, 811.8571428571429, 808.1428571428571, 812.7142857142857, 807.5714285714286, 792.8571428571429, 804.0, 806.1428571428571, 804.8571428571429, 806.4285714285714, 801.5714285714286, 801.0, 803.0, 793.4285714285714, 791.2857142857143, 786.8571428571429, 791.5714285714286, 783.2857142857143, 788.8571428571429, 791.0, 790.8571428571429, 799.0, 802.5714285714286, 801.0, 796.4285714285714, 811.4285714285714, 820.7142857142857, 827.0, 828.5714285714286, 827.5714285714286, 828.5714285714286, 837.8571428571429, 825.5714285714286, 813.2857142857143, 803.1428571428571, 797.4285714285714, 783.2857142857143, 780.2857142857143, 782.2857142857143, 781.4285714285714, 778.4285714285714, 780.2857142857143, 774.1428571428571, 785.2857142857143, 780.8571428571429, 770.7142857142857, 762.4285714285714, 763.2857142857143, 764.2857142857143, 765.2857142857143, 756.7142857142857, 756.7142857142857, 761.1428571428571, 763.7142857142857, 761.4285714285714, 755.2857142857143, 772.0, 779.1428571428571, 771.1428571428571, 761.2857142857143, 743.2857142857143, 744.2857142857143, 738.5714285714286, 715.2857142857143, 715.2857142857143, 721.8571428571429, 731.2857142857143, 751.0, 757.5714285714286, 761.5714285714286, 770.5714285714286, 774.8571428571429, 782.8571428571429, 783.7142857142857, 784.2857142857143, 783.8571428571429, 783.0, 765.0, 759.1428571428571, 756.0, 749.8571428571429, 738.7142857142857, 717.7142857142857, 709.4285714285714, 717.2857142857143, 715.2857142857143, 732.2857142857143, 734.7142857142857, 737.1428571428571, 743.8571428571429, 747.1428571428571, 741.1428571428571, 740.1428571428571, 716.8571428571429, 717.1428571428571, 705.4285714285714, 707.4285714285714, 708.5714285714286, 712.4285714285714, 703.7142857142857, 707.7142857142857, 709.0, 713.4285714285714, 710.0, 708.0, 711.2857142857143, 715.1428571428571, 703.8571428571429, 698.0, 703.7142857142857, 710.2857142857143, 687.7142857142857, 685.0, 677.4285714285714, 673.8571428571429, 656.4285714285714, 638.1428571428571, 651.4285714285714, 666.5714285714286, 669.0, 670.7142857142857, 670.5714285714286, 682.5714285714286, 693.0, 669.7142857142857, 676.2857142857143, 666.5714285714286, 641.4285714285714, 628.7142857142857, 616.8571428571429, 605.0, 615.8571428571429, 609.1428571428571, 616.4285714285714, 643.4285714285714, 663.0, 684.5714285714286, 696.5714285714286, 692.4285714285714, 698.0, 697.4285714285714, 698.4285714285714, 697.8571428571429, 684.7142857142857, 662.2857142857143, 651.0, 645.4285714285714, 648.4285714285714, 651.1428571428571, 652.7142857142857, 668.2857142857143, 696.1428571428571, 708.7142857142857, 714.0, 707.0, 706.4285714285714, 704.4285714285714, 684.1428571428571, 677.8571428571429, 677.1428571428571, 674.5714285714286, 672.5714285714286, 661.0, 660.1428571428571, 667.0, 670.8571428571429, 669.7142857142857, 678.5714285714286, 682.1428571428571, 691.1428571428571, 684.5714285714286, 664.4285714285714, 653.7142857142857, 649.1428571428571, 634.0, 635.2857142857143, 625.0, 614.0, 670.1428571428571, 673.8571428571429, 674.2857142857143, 674.1428571428571, 664.4285714285714, 675.2857142857143, 686.5714285714286, 649.7142857142857, 649.1428571428571, 639.0, 628.0, 621.2857142857143, 615.1428571428571, 620.4285714285714, 621.2857142857143, 627.5714285714286, 621.5714285714286, 621.7142857142857, 611.5714285714286, 607.1428571428571, 596.1428571428571, 593.1428571428571, 581.4285714285714, 592.2857142857143, 606.8571428571429, 621.4285714285714, 633.0, 646.5714285714286, 644.5714285714286, 648.1428571428571, 655.4285714285714, 675.1428571428571, 683.4285714285714, 689.8571428571429, 685.2857142857143, 687.4285714285714, 678.4285714285714, 676.2857142857143, 651.1428571428571, 636.8571428571429, 620.4285714285714, 619.2857142857143, 618.5714285714286, 617.5714285714286, 602.2857142857143, 597.7142857142857, 605.5714285714286, 601.4285714285714, 605.1428571428571, 598.5714285714286, 606.1428571428571, 616.4285714285714, 629.5714285714286, 635.5714285714286, 635.5714285714286, 614.1428571428571, 617.0, 612.0, 611.7142857142857, 597.7142857142857, 606.8571428571429, 607.0, 623.7142857142857, 627.0, 630.1428571428571, 637.2857142857143, 637.4285714285714, 625.2857142857143, 621.2857142857143, 611.4285714285714, 606.4285714285714, 613.0, 608.4285714285714, 612.4285714285714, 605.2857142857143, 599.4285714285714, 601.1428571428571, 592.2857142857143, 569.1428571428571, 543.5714285714286, 518.2857142857143, 487.85714285714283, 468.14285714285717, 446.2857142857143, 433.57142857142856, 426.85714285714283, 416.85714285714283, 421.0, 438.7142857142857, 446.42857142857144, 441.57142857142856, 452.85714285714283, 446.14285714285717, 458.0, 455.0, 441.42857142857144, 442.0, 451.42857142857144, 440.85714285714283, 448.0, 436.14285714285717, 436.14285714285717, 433.0, 425.14285714285717, 412.2857142857143, 407.7142857142857, 404.57142857142856, 404.57142857142856, 406.57142857142856, 400.42857142857144, 415.14285714285717, 422.57142857142856, 425.57142857142856, 430.7142857142857, 432.7142857142857, 423.57142857142856, 435.2857142857143, 420.7142857142857, 427.57142857142856, 426.14285714285717, 423.85714285714283, 441.14285714285717, 454.57142857142856, 464.0, 469.85714285714283, 465.7142857142857, 471.57142857142856, 470.57142857142856, 453.85714285714283, 449.85714285714283, 447.7142857142857, 449.7142857142857, 452.14285714285717, 460.0, 467.0, 482.0, 498.14285714285717, 493.2857142857143, 500.14285714285717, 502.7142857142857, 505.2857142857143, 509.2857142857143, 507.42857142857144, 504.14285714285717, 522.4285714285714, 542.7142857142857, 558.1428571428571, 563.0, 571.0, 577.5714285714286, 630.4285714285714, 820.5714285714286, 855.2857142857143, 869.1428571428571, 876.5714285714286, 873.2857142857143, 867.7142857142857, 811.2857142857143, 619.1428571428571, 567.5714285714286, 541.5714285714286, 524.0, 527.1428571428571, 535.8571428571429, 532.4285714285714, 530.2857142857143, 537.4285714285714, 545.5714285714286, 560.1428571428571, 567.2857142857143, 566.2857142857143, 587.7142857142857, 595.5714285714286, 609.0, 612.2857142857143, 609.4285714285714, 611.1428571428571, 605.4285714285714, 594.8571428571429, 599.4285714285714, 583.0, 582.2857142857143, 596.7142857142857, 600.2857142857143, 618.5714285714286, 641.8571428571429, 655.5714285714286, 666.8571428571429, 664.2857142857143, 645.8571428571429, 634.2857142857143, 632.2857142857143, 615.7142857142857, 598.0, 602.7142857142857, 609.8571428571429, 616.7142857142857, 622.1428571428571, 620.2857142857143, 623.4285714285714, 627.7142857142857, 624.8571428571429, 629.2857142857143, 630.7142857142857, 626.5714285714286, 622.2857142857143, 622.2857142857143, 626.5714285714286, 622.4285714285714, 620.8571428571429, 621.8571428571429, 627.1428571428571, 627.1428571428571, 630.8571428571429, 617.8571428571429, 616.1428571428571, 604.5714285714286, 598.0, 598.2857142857143, 593.5714285714286, 591.7142857142857, 604.0, 652.5714285714286, 660.1428571428571, 664.2857142857143, 670.4285714285714, 677.0, 671.5714285714286, 674.1428571428571, 630.7142857142857, 633.7142857142857, 637.4285714285714, 636.4285714285714, 638.2857142857143, 641.0, 634.4285714285714, 633.5714285714286, 636.8571428571429, 639.4285714285714, 632.1428571428571, 634.0, 634.2857142857143, 639.2857142857143, 647.5714285714286, 650.1428571428571, 640.0, 637.5714285714286, 634.8571428571429, 638.5714285714286, 636.5714285714286, 623.4285714285714, 607.5714285714286, 602.5714285714286, 601.5714285714286, 603.1428571428571, 587.5714285714286, 578.7142857142857, 577.1428571428571, 585.7142857142857, 596.7142857142857, 592.0, 580.4285714285714, 584.0, 585.5714285714286, 582.0, 573.1428571428571, 575.1428571428571, 580.2857142857143, 594.5714285714286, 600.4285714285714, 609.1428571428571, 606.7142857142857, 602.7142857142857, 595.2857142857143, 601.7142857142857, 583.7142857142857, 580.1428571428571, 569.5714285714286, 572.2857142857143, 583.5714285714286, 587.7142857142857, 579.7142857142857, 594.5714285714286, 604.5714285714286, 614.2857142857143, 614.2857142857143, 613.8571428571429, 619.0, 631.2857142857143, 619.0, 610.5714285714286, 597.5714285714286, 591.5714285714286, 585.7142857142857, 576.5714285714286, 571.0, 572.2857142857143, 563.2857142857143, 575.7142857142857, 578.7142857142857, 574.2857142857143, 569.7142857142857, 566.5714285714286, 572.1428571428571, 582.1428571428571, 584.5714285714286, 591.5714285714286, 605.7142857142857, 621.5714285714286, 630.5714285714286, 637.4285714285714, 637.4285714285714, 628.0, 631.5714285714286, 628.2857142857143, 603.4285714285714, 585.4285714285714, 566.2857142857143, 544.5714285714286, 533.0, 517.5714285714286, 503.85714285714283, 506.14285714285717, 505.85714285714283, 521.4285714285714, 530.7142857142857, 529.8571428571429, 533.0, 533.4285714285714, 530.8571428571429, 512.7142857142857, 503.42857142857144, 497.0, 499.7142857142857, 492.42857142857144, 500.42857142857144, 504.0, 515.5714285714286, 516.1428571428571, 526.0, 531.1428571428571, 540.5714285714286, 538.8571428571429, 540.4285714285714, 554.2857142857143, 542.5714285714286, 533.7142857142857, 531.7142857142857, 531.4285714285714, 534.4285714285714, 535.2857142857143, 527.8571428571429, 537.1428571428571, 541.5714285714286, 539.8571428571429, 548.5714285714286, 550.1428571428571, 558.0, 555.0, 531.5714285714286, 518.7142857142857, 512.2857142857143, 500.7142857142857, 479.0, 463.14285714285717, 470.57142857142856, 505.85714285714283, 506.7142857142857, 508.2857142857143, 508.0, 523.0, 524.5714285714286, 527.8571428571429, 519.0, 526.0, 533.1428571428571, 527.8571428571429, 532.4285714285714, 536.8571428571429, 531.4285714285714, 529.8571428571429, 528.8571428571429, 525.7142857142857, 523.4285714285714, 517.0, 519.4285714285714, 526.8571428571429, 518.2857142857143, 523.4285714285714, 519.2857142857143, 528.8571428571429, 516.2857142857143, 513.7142857142857, 497.0, 492.57142857142856, 483.57142857142856, 459.2857142857143, 452.85714285714283, 460.85714285714283, 457.2857142857143, 451.42857142857144, 448.42857142857144, 440.14285714285717, 446.85714285714283, 434.14285714285717, 424.7142857142857, 414.2857142857143, 414.0, 414.7142857142857, 415.85714285714283, 418.0, 406.0, 396.2857142857143, 396.85714285714283, 395.57142857142856, 394.7142857142857, 400.85714285714283, 408.7142857142857, 432.0, 458.14285714285717, 471.2857142857143, 484.2857142857143, 496.42857142857144, 510.85714285714283, 525.2857142857143, 533.5714285714286, 527.2857142857143, 530.0, 530.5714285714286, 525.5714285714286, 520.0, 510.57142857142856, 508.2857142857143, 519.4285714285714, 519.7142857142857, 512.2857142857143, 511.85714285714283, 508.2857142857143, 502.85714285714283, 493.42857142857144, 478.7142857142857, 472.85714285714283], \"yaxis\": \"y\"}],                        {\"legend\": {\"tracegroupgap\": 0}, \"shapes\": [{\"line\": {\"color\": \"purple\", \"dash\": \"dashdot\", \"width\": 3}, \"type\": \"line\", \"x0\": \"2020-03-18\", \"x1\": \"2020-03-18\", \"y0\": 0, \"y1\": 1000}], \"template\": {\"data\": {\"bar\": [{\"error_x\": {\"color\": \"#2a3f5f\"}, \"error_y\": {\"color\": \"#2a3f5f\"}, \"marker\": {\"line\": {\"color\": \"#E5ECF6\", \"width\": 0.5}}, \"type\": \"bar\"}], \"barpolar\": [{\"marker\": {\"line\": {\"color\": \"#E5ECF6\", \"width\": 0.5}}, \"type\": \"barpolar\"}], \"carpet\": [{\"aaxis\": {\"endlinecolor\": \"#2a3f5f\", \"gridcolor\": \"white\", \"linecolor\": \"white\", \"minorgridcolor\": \"white\", \"startlinecolor\": \"#2a3f5f\"}, \"baxis\": {\"endlinecolor\": \"#2a3f5f\", \"gridcolor\": \"white\", \"linecolor\": \"white\", \"minorgridcolor\": \"white\", \"startlinecolor\": \"#2a3f5f\"}, \"type\": \"carpet\"}], \"choropleth\": [{\"colorbar\": {\"outlinewidth\": 0, \"ticks\": \"\"}, \"type\": \"choropleth\"}], \"contour\": [{\"colorbar\": {\"outlinewidth\": 0, \"ticks\": \"\"}, \"colorscale\": [[0.0, \"#0d0887\"], [0.1111111111111111, \"#46039f\"], [0.2222222222222222, \"#7201a8\"], [0.3333333333333333, \"#9c179e\"], [0.4444444444444444, \"#bd3786\"], [0.5555555555555556, \"#d8576b\"], [0.6666666666666666, \"#ed7953\"], [0.7777777777777778, \"#fb9f3a\"], [0.8888888888888888, \"#fdca26\"], [1.0, \"#f0f921\"]], \"type\": \"contour\"}], \"contourcarpet\": [{\"colorbar\": {\"outlinewidth\": 0, \"ticks\": \"\"}, \"type\": \"contourcarpet\"}], \"heatmap\": [{\"colorbar\": {\"outlinewidth\": 0, \"ticks\": \"\"}, \"colorscale\": [[0.0, \"#0d0887\"], [0.1111111111111111, \"#46039f\"], [0.2222222222222222, \"#7201a8\"], [0.3333333333333333, \"#9c179e\"], [0.4444444444444444, \"#bd3786\"], [0.5555555555555556, \"#d8576b\"], [0.6666666666666666, \"#ed7953\"], [0.7777777777777778, \"#fb9f3a\"], [0.8888888888888888, \"#fdca26\"], [1.0, \"#f0f921\"]], \"type\": \"heatmap\"}], \"heatmapgl\": [{\"colorbar\": {\"outlinewidth\": 0, \"ticks\": \"\"}, \"colorscale\": [[0.0, \"#0d0887\"], [0.1111111111111111, \"#46039f\"], [0.2222222222222222, \"#7201a8\"], [0.3333333333333333, \"#9c179e\"], [0.4444444444444444, \"#bd3786\"], [0.5555555555555556, \"#d8576b\"], [0.6666666666666666, \"#ed7953\"], [0.7777777777777778, \"#fb9f3a\"], [0.8888888888888888, \"#fdca26\"], [1.0, \"#f0f921\"]], \"type\": \"heatmapgl\"}], \"histogram\": [{\"marker\": {\"colorbar\": {\"outlinewidth\": 0, \"ticks\": \"\"}}, \"type\": \"histogram\"}], \"histogram2d\": [{\"colorbar\": {\"outlinewidth\": 0, \"ticks\": \"\"}, \"colorscale\": [[0.0, \"#0d0887\"], [0.1111111111111111, \"#46039f\"], [0.2222222222222222, \"#7201a8\"], [0.3333333333333333, \"#9c179e\"], [0.4444444444444444, \"#bd3786\"], [0.5555555555555556, \"#d8576b\"], [0.6666666666666666, \"#ed7953\"], [0.7777777777777778, \"#fb9f3a\"], [0.8888888888888888, \"#fdca26\"], [1.0, \"#f0f921\"]], \"type\": \"histogram2d\"}], \"histogram2dcontour\": [{\"colorbar\": {\"outlinewidth\": 0, \"ticks\": \"\"}, \"colorscale\": [[0.0, \"#0d0887\"], [0.1111111111111111, \"#46039f\"], [0.2222222222222222, \"#7201a8\"], [0.3333333333333333, \"#9c179e\"], [0.4444444444444444, \"#bd3786\"], [0.5555555555555556, \"#d8576b\"], [0.6666666666666666, \"#ed7953\"], [0.7777777777777778, \"#fb9f3a\"], [0.8888888888888888, \"#fdca26\"], [1.0, \"#f0f921\"]], \"type\": \"histogram2dcontour\"}], \"mesh3d\": [{\"colorbar\": {\"outlinewidth\": 0, \"ticks\": \"\"}, \"type\": \"mesh3d\"}], \"parcoords\": [{\"line\": {\"colorbar\": {\"outlinewidth\": 0, \"ticks\": \"\"}}, \"type\": \"parcoords\"}], \"pie\": [{\"automargin\": true, \"type\": \"pie\"}], \"scatter\": [{\"marker\": {\"colorbar\": {\"outlinewidth\": 0, \"ticks\": \"\"}}, \"type\": \"scatter\"}], \"scatter3d\": [{\"line\": {\"colorbar\": {\"outlinewidth\": 0, \"ticks\": \"\"}}, \"marker\": {\"colorbar\": {\"outlinewidth\": 0, \"ticks\": \"\"}}, \"type\": \"scatter3d\"}], \"scattercarpet\": [{\"marker\": {\"colorbar\": {\"outlinewidth\": 0, \"ticks\": \"\"}}, \"type\": \"scattercarpet\"}], \"scattergeo\": [{\"marker\": {\"colorbar\": {\"outlinewidth\": 0, \"ticks\": \"\"}}, \"type\": \"scattergeo\"}], \"scattergl\": [{\"marker\": {\"colorbar\": {\"outlinewidth\": 0, \"ticks\": \"\"}}, \"type\": \"scattergl\"}], \"scattermapbox\": [{\"marker\": {\"colorbar\": {\"outlinewidth\": 0, \"ticks\": \"\"}}, \"type\": \"scattermapbox\"}], \"scatterpolar\": [{\"marker\": {\"colorbar\": {\"outlinewidth\": 0, \"ticks\": \"\"}}, \"type\": \"scatterpolar\"}], \"scatterpolargl\": [{\"marker\": {\"colorbar\": {\"outlinewidth\": 0, \"ticks\": \"\"}}, \"type\": \"scatterpolargl\"}], \"scatterternary\": [{\"marker\": {\"colorbar\": {\"outlinewidth\": 0, \"ticks\": \"\"}}, \"type\": \"scatterternary\"}], \"surface\": [{\"colorbar\": {\"outlinewidth\": 0, \"ticks\": \"\"}, \"colorscale\": [[0.0, \"#0d0887\"], [0.1111111111111111, \"#46039f\"], [0.2222222222222222, \"#7201a8\"], [0.3333333333333333, \"#9c179e\"], [0.4444444444444444, \"#bd3786\"], [0.5555555555555556, \"#d8576b\"], [0.6666666666666666, \"#ed7953\"], [0.7777777777777778, \"#fb9f3a\"], [0.8888888888888888, \"#fdca26\"], [1.0, \"#f0f921\"]], \"type\": \"surface\"}], \"table\": [{\"cells\": {\"fill\": {\"color\": \"#EBF0F8\"}, \"line\": {\"color\": \"white\"}}, \"header\": {\"fill\": {\"color\": \"#C8D4E3\"}, \"line\": {\"color\": \"white\"}}, \"type\": \"table\"}]}, \"layout\": {\"annotationdefaults\": {\"arrowcolor\": \"#2a3f5f\", \"arrowhead\": 0, \"arrowwidth\": 1}, \"autotypenumbers\": \"strict\", \"coloraxis\": {\"colorbar\": {\"outlinewidth\": 0, \"ticks\": \"\"}}, \"colorscale\": {\"diverging\": [[0, \"#8e0152\"], [0.1, \"#c51b7d\"], [0.2, \"#de77ae\"], [0.3, \"#f1b6da\"], [0.4, \"#fde0ef\"], [0.5, \"#f7f7f7\"], [0.6, \"#e6f5d0\"], [0.7, \"#b8e186\"], [0.8, \"#7fbc41\"], [0.9, \"#4d9221\"], [1, \"#276419\"]], \"sequential\": [[0.0, \"#0d0887\"], [0.1111111111111111, \"#46039f\"], [0.2222222222222222, \"#7201a8\"], [0.3333333333333333, \"#9c179e\"], [0.4444444444444444, \"#bd3786\"], [0.5555555555555556, \"#d8576b\"], [0.6666666666666666, \"#ed7953\"], [0.7777777777777778, \"#fb9f3a\"], [0.8888888888888888, \"#fdca26\"], [1.0, \"#f0f921\"]], \"sequentialminus\": [[0.0, \"#0d0887\"], [0.1111111111111111, \"#46039f\"], [0.2222222222222222, \"#7201a8\"], [0.3333333333333333, \"#9c179e\"], [0.4444444444444444, \"#bd3786\"], [0.5555555555555556, \"#d8576b\"], [0.6666666666666666, \"#ed7953\"], [0.7777777777777778, \"#fb9f3a\"], [0.8888888888888888, \"#fdca26\"], [1.0, \"#f0f921\"]]}, \"colorway\": [\"#636efa\", \"#EF553B\", \"#00cc96\", \"#ab63fa\", \"#FFA15A\", \"#19d3f3\", \"#FF6692\", \"#B6E880\", \"#FF97FF\", \"#FECB52\"], \"font\": {\"color\": \"#2a3f5f\"}, \"geo\": {\"bgcolor\": \"white\", \"lakecolor\": \"white\", \"landcolor\": \"#E5ECF6\", \"showlakes\": true, \"showland\": true, \"subunitcolor\": \"white\"}, \"hoverlabel\": {\"align\": \"left\"}, \"hovermode\": \"closest\", \"mapbox\": {\"style\": \"light\"}, \"paper_bgcolor\": \"white\", \"plot_bgcolor\": \"#E5ECF6\", \"polar\": {\"angularaxis\": {\"gridcolor\": \"white\", \"linecolor\": \"white\", \"ticks\": \"\"}, \"bgcolor\": \"#E5ECF6\", \"radialaxis\": {\"gridcolor\": \"white\", \"linecolor\": \"white\", \"ticks\": \"\"}}, \"scene\": {\"xaxis\": {\"backgroundcolor\": \"#E5ECF6\", \"gridcolor\": \"white\", \"gridwidth\": 2, \"linecolor\": \"white\", \"showbackground\": true, \"ticks\": \"\", \"zerolinecolor\": \"white\"}, \"yaxis\": {\"backgroundcolor\": \"#E5ECF6\", \"gridcolor\": \"white\", \"gridwidth\": 2, \"linecolor\": \"white\", \"showbackground\": true, \"ticks\": \"\", \"zerolinecolor\": \"white\"}, \"zaxis\": {\"backgroundcolor\": \"#E5ECF6\", \"gridcolor\": \"white\", \"gridwidth\": 2, \"linecolor\": \"white\", \"showbackground\": true, \"ticks\": \"\", \"zerolinecolor\": \"white\"}}, \"shapedefaults\": {\"line\": {\"color\": \"#2a3f5f\"}}, \"ternary\": {\"aaxis\": {\"gridcolor\": \"white\", \"linecolor\": \"white\", \"ticks\": \"\"}, \"baxis\": {\"gridcolor\": \"white\", \"linecolor\": \"white\", \"ticks\": \"\"}, \"bgcolor\": \"#E5ECF6\", \"caxis\": {\"gridcolor\": \"white\", \"linecolor\": \"white\", \"ticks\": \"\"}}, \"title\": {\"x\": 0.05}, \"xaxis\": {\"automargin\": true, \"gridcolor\": \"white\", \"linecolor\": \"white\", \"ticks\": \"\", \"title\": {\"standoff\": 15}, \"zerolinecolor\": \"white\", \"zerolinewidth\": 2}, \"yaxis\": {\"automargin\": true, \"gridcolor\": \"white\", \"linecolor\": \"white\", \"ticks\": \"\", \"title\": {\"standoff\": 15}, \"zerolinecolor\": \"white\", \"zerolinewidth\": 2}}}, \"title\": {\"text\": \"Comparison of Total Number of Crime Pre and Post Covid-19 Era\"}, \"xaxis\": {\"anchor\": \"y\", \"domain\": [0.0, 1.0], \"title\": {\"text\": \"date\"}}, \"yaxis\": {\"anchor\": \"x\", \"domain\": [0.0, 1.0], \"title\": {\"text\": \"7-Day Rolling Average Total Crime\"}}},                        {\"responsive\": true}                    ).then(function(){\n",
       "                            \n",
       "var gd = document.getElementById('9f8b1035-9830-4b60-bf79-8dfd1e20dcaf');\n",
       "var x = new MutationObserver(function (mutations, observer) {{\n",
       "        var display = window.getComputedStyle(gd).display;\n",
       "        if (!display || display === 'none') {{\n",
       "            console.log([gd, 'removed!']);\n",
       "            Plotly.purge(gd);\n",
       "            observer.disconnect();\n",
       "        }}\n",
       "}});\n",
       "\n",
       "// Listen for the removal of the full notebook cells\n",
       "var notebookContainer = gd.closest('#notebook-container');\n",
       "if (notebookContainer) {{\n",
       "    x.observe(notebookContainer, {childList: true});\n",
       "}}\n",
       "\n",
       "// Listen for the clearing of the current output cell\n",
       "var outputEl = gd.closest('.output');\n",
       "if (outputEl) {{\n",
       "    x.observe(outputEl, {childList: true});\n",
       "}}\n",
       "\n",
       "                        })                };                });            </script>        </div>"
      ]
     },
     "metadata": {},
     "output_type": "display_data"
    }
   ],
   "source": [
    "fig = px.line(crime_total, x= crime_total.index, y= 'rolling_crime',\n",
    "             labels={\n",
    "                     \"rolling_crime\": \"7-Day Rolling Average Total Crime\",\n",
    "                    },\n",
    "                title=\"Comparison of Total Number of Crime Pre and Post Covid-19 Era\")\n",
    "fig = fig.add_shape(type=\"line\",x0= covid_start, y0=0, x1=covid_start, y1=1000,line=dict(color=\"purple\",width=3, dash = 'dashdot'))\n",
    "fig.show()\n",
    "fig.write_image('/Users/allenhardiman/Box/PHD Courses/ACE_592/Figures/Prepostcrime.png')"
   ]
  },
  {
   "cell_type": "markdown",
   "id": "civilian-premises",
   "metadata": {},
   "source": [
    "# Domestic Crimes"
   ]
  },
  {
   "cell_type": "code",
   "execution_count": 1001,
   "id": "olympic-smith",
   "metadata": {},
   "outputs": [
    {
     "name": "stderr",
     "output_type": "stream",
     "text": [
      "<ipython-input-1001-a279ecf0a5b9>:2: SettingWithCopyWarning:\n",
      "\n",
      "\n",
      "A value is trying to be set on a copy of a slice from a DataFrame.\n",
      "Try using .loc[row_indexer,col_indexer] = value instead\n",
      "\n",
      "See the caveats in the documentation: https://pandas.pydata.org/pandas-docs/stable/user_guide/indexing.html#returning-a-view-versus-a-copy\n",
      "\n"
     ]
    }
   ],
   "source": [
    "domestic_crimes2 = crime_data2[(crime_data2['domestic'] == True )]\n",
    "domestic_crimes2['count'] = 1 \n",
    "domestic_sum=domestic_crimes2.groupby('date').sum() \n",
    "domestic_sum['rolling_domestic'] = domestic_sum['count'].rolling(window=7).mean()"
   ]
  },
  {
   "cell_type": "code",
   "execution_count": 1002,
   "id": "uniform-confirmation",
   "metadata": {},
   "outputs": [
    {
     "data": {
      "application/vnd.plotly.v1+json": {
       "config": {
        "plotlyServerURL": "https://plot.ly"
       },
       "data": [
        {
         "hovertemplate": "date=%{x}<br>7-Day Rolling Average Domestic-Related Crime=%{y}<extra></extra>",
         "legendgroup": "",
         "line": {
          "color": "#636efa",
          "dash": "solid"
         },
         "mode": "lines",
         "name": "",
         "orientation": "v",
         "showlegend": false,
         "type": "scatter",
         "x": [
          "2019-03-18T00:00:00",
          "2019-03-19T00:00:00",
          "2019-03-20T00:00:00",
          "2019-03-21T00:00:00",
          "2019-03-22T00:00:00",
          "2019-03-23T00:00:00",
          "2019-03-24T00:00:00",
          "2019-03-25T00:00:00",
          "2019-03-26T00:00:00",
          "2019-03-27T00:00:00",
          "2019-03-28T00:00:00",
          "2019-03-29T00:00:00",
          "2019-03-30T00:00:00",
          "2019-03-31T00:00:00",
          "2019-04-01T00:00:00",
          "2019-04-02T00:00:00",
          "2019-04-03T00:00:00",
          "2019-04-04T00:00:00",
          "2019-04-05T00:00:00",
          "2019-04-06T00:00:00",
          "2019-04-07T00:00:00",
          "2019-04-08T00:00:00",
          "2019-04-09T00:00:00",
          "2019-04-10T00:00:00",
          "2019-04-11T00:00:00",
          "2019-04-12T00:00:00",
          "2019-04-13T00:00:00",
          "2019-04-14T00:00:00",
          "2019-04-15T00:00:00",
          "2019-04-16T00:00:00",
          "2019-04-17T00:00:00",
          "2019-04-18T00:00:00",
          "2019-04-19T00:00:00",
          "2019-04-20T00:00:00",
          "2019-04-21T00:00:00",
          "2019-04-22T00:00:00",
          "2019-04-23T00:00:00",
          "2019-04-24T00:00:00",
          "2019-04-25T00:00:00",
          "2019-04-26T00:00:00",
          "2019-04-27T00:00:00",
          "2019-04-28T00:00:00",
          "2019-04-29T00:00:00",
          "2019-04-30T00:00:00",
          "2019-05-01T00:00:00",
          "2019-05-02T00:00:00",
          "2019-05-03T00:00:00",
          "2019-05-04T00:00:00",
          "2019-05-05T00:00:00",
          "2019-05-06T00:00:00",
          "2019-05-07T00:00:00",
          "2019-05-08T00:00:00",
          "2019-05-09T00:00:00",
          "2019-05-10T00:00:00",
          "2019-05-11T00:00:00",
          "2019-05-12T00:00:00",
          "2019-05-13T00:00:00",
          "2019-05-14T00:00:00",
          "2019-05-15T00:00:00",
          "2019-05-16T00:00:00",
          "2019-05-17T00:00:00",
          "2019-05-18T00:00:00",
          "2019-05-19T00:00:00",
          "2019-05-20T00:00:00",
          "2019-05-21T00:00:00",
          "2019-05-22T00:00:00",
          "2019-05-23T00:00:00",
          "2019-05-24T00:00:00",
          "2019-05-25T00:00:00",
          "2019-05-26T00:00:00",
          "2019-05-27T00:00:00",
          "2019-05-28T00:00:00",
          "2019-05-29T00:00:00",
          "2019-05-30T00:00:00",
          "2019-05-31T00:00:00",
          "2019-06-01T00:00:00",
          "2019-06-02T00:00:00",
          "2019-06-03T00:00:00",
          "2019-06-04T00:00:00",
          "2019-06-05T00:00:00",
          "2019-06-06T00:00:00",
          "2019-06-07T00:00:00",
          "2019-06-08T00:00:00",
          "2019-06-09T00:00:00",
          "2019-06-10T00:00:00",
          "2019-06-11T00:00:00",
          "2019-06-12T00:00:00",
          "2019-06-13T00:00:00",
          "2019-06-14T00:00:00",
          "2019-06-15T00:00:00",
          "2019-06-16T00:00:00",
          "2019-06-17T00:00:00",
          "2019-06-18T00:00:00",
          "2019-06-19T00:00:00",
          "2019-06-20T00:00:00",
          "2019-06-21T00:00:00",
          "2019-06-22T00:00:00",
          "2019-06-23T00:00:00",
          "2019-06-24T00:00:00",
          "2019-06-25T00:00:00",
          "2019-06-26T00:00:00",
          "2019-06-27T00:00:00",
          "2019-06-28T00:00:00",
          "2019-06-29T00:00:00",
          "2019-06-30T00:00:00",
          "2019-07-01T00:00:00",
          "2019-07-02T00:00:00",
          "2019-07-03T00:00:00",
          "2019-07-04T00:00:00",
          "2019-07-05T00:00:00",
          "2019-07-06T00:00:00",
          "2019-07-07T00:00:00",
          "2019-07-08T00:00:00",
          "2019-07-09T00:00:00",
          "2019-07-10T00:00:00",
          "2019-07-11T00:00:00",
          "2019-07-12T00:00:00",
          "2019-07-13T00:00:00",
          "2019-07-14T00:00:00",
          "2019-07-15T00:00:00",
          "2019-07-16T00:00:00",
          "2019-07-17T00:00:00",
          "2019-07-18T00:00:00",
          "2019-07-19T00:00:00",
          "2019-07-20T00:00:00",
          "2019-07-21T00:00:00",
          "2019-07-22T00:00:00",
          "2019-07-23T00:00:00",
          "2019-07-24T00:00:00",
          "2019-07-25T00:00:00",
          "2019-07-26T00:00:00",
          "2019-07-27T00:00:00",
          "2019-07-28T00:00:00",
          "2019-07-29T00:00:00",
          "2019-07-30T00:00:00",
          "2019-07-31T00:00:00",
          "2019-08-01T00:00:00",
          "2019-08-02T00:00:00",
          "2019-08-03T00:00:00",
          "2019-08-04T00:00:00",
          "2019-08-05T00:00:00",
          "2019-08-06T00:00:00",
          "2019-08-07T00:00:00",
          "2019-08-08T00:00:00",
          "2019-08-09T00:00:00",
          "2019-08-10T00:00:00",
          "2019-08-11T00:00:00",
          "2019-08-12T00:00:00",
          "2019-08-13T00:00:00",
          "2019-08-14T00:00:00",
          "2019-08-15T00:00:00",
          "2019-08-16T00:00:00",
          "2019-08-17T00:00:00",
          "2019-08-18T00:00:00",
          "2019-08-19T00:00:00",
          "2019-08-20T00:00:00",
          "2019-08-21T00:00:00",
          "2019-08-22T00:00:00",
          "2019-08-23T00:00:00",
          "2019-08-24T00:00:00",
          "2019-08-25T00:00:00",
          "2019-08-26T00:00:00",
          "2019-08-27T00:00:00",
          "2019-08-28T00:00:00",
          "2019-08-29T00:00:00",
          "2019-08-30T00:00:00",
          "2019-08-31T00:00:00",
          "2019-09-01T00:00:00",
          "2019-09-02T00:00:00",
          "2019-09-03T00:00:00",
          "2019-09-04T00:00:00",
          "2019-09-05T00:00:00",
          "2019-09-06T00:00:00",
          "2019-09-07T00:00:00",
          "2019-09-08T00:00:00",
          "2019-09-09T00:00:00",
          "2019-09-10T00:00:00",
          "2019-09-11T00:00:00",
          "2019-09-12T00:00:00",
          "2019-09-13T00:00:00",
          "2019-09-14T00:00:00",
          "2019-09-15T00:00:00",
          "2019-09-16T00:00:00",
          "2019-09-17T00:00:00",
          "2019-09-18T00:00:00",
          "2019-09-19T00:00:00",
          "2019-09-20T00:00:00",
          "2019-09-21T00:00:00",
          "2019-09-22T00:00:00",
          "2019-09-23T00:00:00",
          "2019-09-24T00:00:00",
          "2019-09-25T00:00:00",
          "2019-09-26T00:00:00",
          "2019-09-27T00:00:00",
          "2019-09-28T00:00:00",
          "2019-09-29T00:00:00",
          "2019-09-30T00:00:00",
          "2019-10-01T00:00:00",
          "2019-10-02T00:00:00",
          "2019-10-03T00:00:00",
          "2019-10-04T00:00:00",
          "2019-10-05T00:00:00",
          "2019-10-06T00:00:00",
          "2019-10-07T00:00:00",
          "2019-10-08T00:00:00",
          "2019-10-09T00:00:00",
          "2019-10-10T00:00:00",
          "2019-10-11T00:00:00",
          "2019-10-12T00:00:00",
          "2019-10-13T00:00:00",
          "2019-10-14T00:00:00",
          "2019-10-15T00:00:00",
          "2019-10-16T00:00:00",
          "2019-10-17T00:00:00",
          "2019-10-18T00:00:00",
          "2019-10-19T00:00:00",
          "2019-10-20T00:00:00",
          "2019-10-21T00:00:00",
          "2019-10-22T00:00:00",
          "2019-10-23T00:00:00",
          "2019-10-24T00:00:00",
          "2019-10-25T00:00:00",
          "2019-10-26T00:00:00",
          "2019-10-27T00:00:00",
          "2019-10-28T00:00:00",
          "2019-10-29T00:00:00",
          "2019-10-30T00:00:00",
          "2019-10-31T00:00:00",
          "2019-11-01T00:00:00",
          "2019-11-02T00:00:00",
          "2019-11-03T00:00:00",
          "2019-11-04T00:00:00",
          "2019-11-05T00:00:00",
          "2019-11-06T00:00:00",
          "2019-11-07T00:00:00",
          "2019-11-08T00:00:00",
          "2019-11-09T00:00:00",
          "2019-11-10T00:00:00",
          "2019-11-11T00:00:00",
          "2019-11-12T00:00:00",
          "2019-11-13T00:00:00",
          "2019-11-14T00:00:00",
          "2019-11-15T00:00:00",
          "2019-11-16T00:00:00",
          "2019-11-17T00:00:00",
          "2019-11-18T00:00:00",
          "2019-11-19T00:00:00",
          "2019-11-20T00:00:00",
          "2019-11-21T00:00:00",
          "2019-11-22T00:00:00",
          "2019-11-23T00:00:00",
          "2019-11-24T00:00:00",
          "2019-11-25T00:00:00",
          "2019-11-26T00:00:00",
          "2019-11-27T00:00:00",
          "2019-11-28T00:00:00",
          "2019-11-29T00:00:00",
          "2019-11-30T00:00:00",
          "2019-12-01T00:00:00",
          "2019-12-02T00:00:00",
          "2019-12-03T00:00:00",
          "2019-12-04T00:00:00",
          "2019-12-05T00:00:00",
          "2019-12-06T00:00:00",
          "2019-12-07T00:00:00",
          "2019-12-08T00:00:00",
          "2019-12-09T00:00:00",
          "2019-12-10T00:00:00",
          "2019-12-11T00:00:00",
          "2019-12-12T00:00:00",
          "2019-12-13T00:00:00",
          "2019-12-14T00:00:00",
          "2019-12-15T00:00:00",
          "2019-12-16T00:00:00",
          "2019-12-17T00:00:00",
          "2019-12-18T00:00:00",
          "2019-12-19T00:00:00",
          "2019-12-20T00:00:00",
          "2019-12-21T00:00:00",
          "2019-12-22T00:00:00",
          "2019-12-23T00:00:00",
          "2019-12-24T00:00:00",
          "2019-12-25T00:00:00",
          "2019-12-26T00:00:00",
          "2019-12-27T00:00:00",
          "2019-12-28T00:00:00",
          "2019-12-29T00:00:00",
          "2019-12-30T00:00:00",
          "2019-12-31T00:00:00",
          "2020-01-01T00:00:00",
          "2020-01-02T00:00:00",
          "2020-01-03T00:00:00",
          "2020-01-04T00:00:00",
          "2020-01-05T00:00:00",
          "2020-01-06T00:00:00",
          "2020-01-07T00:00:00",
          "2020-01-08T00:00:00",
          "2020-01-09T00:00:00",
          "2020-01-10T00:00:00",
          "2020-01-11T00:00:00",
          "2020-01-12T00:00:00",
          "2020-01-13T00:00:00",
          "2020-01-14T00:00:00",
          "2020-01-15T00:00:00",
          "2020-01-16T00:00:00",
          "2020-01-17T00:00:00",
          "2020-01-18T00:00:00",
          "2020-01-19T00:00:00",
          "2020-01-20T00:00:00",
          "2020-01-21T00:00:00",
          "2020-01-22T00:00:00",
          "2020-01-23T00:00:00",
          "2020-01-24T00:00:00",
          "2020-01-25T00:00:00",
          "2020-01-26T00:00:00",
          "2020-01-27T00:00:00",
          "2020-01-28T00:00:00",
          "2020-01-29T00:00:00",
          "2020-01-30T00:00:00",
          "2020-01-31T00:00:00",
          "2020-02-01T00:00:00",
          "2020-02-02T00:00:00",
          "2020-02-03T00:00:00",
          "2020-02-04T00:00:00",
          "2020-02-05T00:00:00",
          "2020-02-06T00:00:00",
          "2020-02-07T00:00:00",
          "2020-02-08T00:00:00",
          "2020-02-09T00:00:00",
          "2020-02-10T00:00:00",
          "2020-02-11T00:00:00",
          "2020-02-12T00:00:00",
          "2020-02-13T00:00:00",
          "2020-02-14T00:00:00",
          "2020-02-15T00:00:00",
          "2020-02-16T00:00:00",
          "2020-02-17T00:00:00",
          "2020-02-18T00:00:00",
          "2020-02-19T00:00:00",
          "2020-02-20T00:00:00",
          "2020-02-21T00:00:00",
          "2020-02-22T00:00:00",
          "2020-02-23T00:00:00",
          "2020-02-24T00:00:00",
          "2020-02-25T00:00:00",
          "2020-02-26T00:00:00",
          "2020-02-27T00:00:00",
          "2020-02-28T00:00:00",
          "2020-02-29T00:00:00",
          "2020-03-01T00:00:00",
          "2020-03-02T00:00:00",
          "2020-03-03T00:00:00",
          "2020-03-04T00:00:00",
          "2020-03-05T00:00:00",
          "2020-03-06T00:00:00",
          "2020-03-07T00:00:00",
          "2020-03-08T00:00:00",
          "2020-03-09T00:00:00",
          "2020-03-10T00:00:00",
          "2020-03-11T00:00:00",
          "2020-03-12T00:00:00",
          "2020-03-13T00:00:00",
          "2020-03-14T00:00:00",
          "2020-03-15T00:00:00",
          "2020-03-16T00:00:00",
          "2020-03-17T00:00:00",
          "2020-03-18T00:00:00",
          "2020-03-19T00:00:00",
          "2020-03-20T00:00:00",
          "2020-03-21T00:00:00",
          "2020-03-22T00:00:00",
          "2020-03-23T00:00:00",
          "2020-03-24T00:00:00",
          "2020-03-25T00:00:00",
          "2020-03-26T00:00:00",
          "2020-03-27T00:00:00",
          "2020-03-28T00:00:00",
          "2020-03-29T00:00:00",
          "2020-03-30T00:00:00",
          "2020-03-31T00:00:00",
          "2020-04-01T00:00:00",
          "2020-04-02T00:00:00",
          "2020-04-03T00:00:00",
          "2020-04-04T00:00:00",
          "2020-04-05T00:00:00",
          "2020-04-06T00:00:00",
          "2020-04-07T00:00:00",
          "2020-04-08T00:00:00",
          "2020-04-09T00:00:00",
          "2020-04-10T00:00:00",
          "2020-04-11T00:00:00",
          "2020-04-12T00:00:00",
          "2020-04-13T00:00:00",
          "2020-04-14T00:00:00",
          "2020-04-15T00:00:00",
          "2020-04-16T00:00:00",
          "2020-04-17T00:00:00",
          "2020-04-18T00:00:00",
          "2020-04-19T00:00:00",
          "2020-04-20T00:00:00",
          "2020-04-21T00:00:00",
          "2020-04-22T00:00:00",
          "2020-04-23T00:00:00",
          "2020-04-24T00:00:00",
          "2020-04-25T00:00:00",
          "2020-04-26T00:00:00",
          "2020-04-27T00:00:00",
          "2020-04-28T00:00:00",
          "2020-04-29T00:00:00",
          "2020-04-30T00:00:00",
          "2020-05-01T00:00:00",
          "2020-05-02T00:00:00",
          "2020-05-03T00:00:00",
          "2020-05-04T00:00:00",
          "2020-05-05T00:00:00",
          "2020-05-06T00:00:00",
          "2020-05-07T00:00:00",
          "2020-05-08T00:00:00",
          "2020-05-09T00:00:00",
          "2020-05-10T00:00:00",
          "2020-05-11T00:00:00",
          "2020-05-12T00:00:00",
          "2020-05-13T00:00:00",
          "2020-05-14T00:00:00",
          "2020-05-15T00:00:00",
          "2020-05-16T00:00:00",
          "2020-05-17T00:00:00",
          "2020-05-18T00:00:00",
          "2020-05-19T00:00:00",
          "2020-05-20T00:00:00",
          "2020-05-21T00:00:00",
          "2020-05-22T00:00:00",
          "2020-05-23T00:00:00",
          "2020-05-24T00:00:00",
          "2020-05-25T00:00:00",
          "2020-05-26T00:00:00",
          "2020-05-27T00:00:00",
          "2020-05-28T00:00:00",
          "2020-05-29T00:00:00",
          "2020-05-30T00:00:00",
          "2020-05-31T00:00:00",
          "2020-06-01T00:00:00",
          "2020-06-02T00:00:00",
          "2020-06-03T00:00:00",
          "2020-06-04T00:00:00",
          "2020-06-05T00:00:00",
          "2020-06-06T00:00:00",
          "2020-06-07T00:00:00",
          "2020-06-08T00:00:00",
          "2020-06-09T00:00:00",
          "2020-06-10T00:00:00",
          "2020-06-11T00:00:00",
          "2020-06-12T00:00:00",
          "2020-06-13T00:00:00",
          "2020-06-14T00:00:00",
          "2020-06-15T00:00:00",
          "2020-06-16T00:00:00",
          "2020-06-17T00:00:00",
          "2020-06-18T00:00:00",
          "2020-06-19T00:00:00",
          "2020-06-20T00:00:00",
          "2020-06-21T00:00:00",
          "2020-06-22T00:00:00",
          "2020-06-23T00:00:00",
          "2020-06-24T00:00:00",
          "2020-06-25T00:00:00",
          "2020-06-26T00:00:00",
          "2020-06-27T00:00:00",
          "2020-06-28T00:00:00",
          "2020-06-29T00:00:00",
          "2020-06-30T00:00:00",
          "2020-07-01T00:00:00",
          "2020-07-02T00:00:00",
          "2020-07-03T00:00:00",
          "2020-07-04T00:00:00",
          "2020-07-05T00:00:00",
          "2020-07-06T00:00:00",
          "2020-07-07T00:00:00",
          "2020-07-08T00:00:00",
          "2020-07-09T00:00:00",
          "2020-07-10T00:00:00",
          "2020-07-11T00:00:00",
          "2020-07-12T00:00:00",
          "2020-07-13T00:00:00",
          "2020-07-14T00:00:00",
          "2020-07-15T00:00:00",
          "2020-07-16T00:00:00",
          "2020-07-17T00:00:00",
          "2020-07-18T00:00:00",
          "2020-07-19T00:00:00",
          "2020-07-20T00:00:00",
          "2020-07-21T00:00:00",
          "2020-07-22T00:00:00",
          "2020-07-23T00:00:00",
          "2020-07-24T00:00:00",
          "2020-07-25T00:00:00",
          "2020-07-26T00:00:00",
          "2020-07-27T00:00:00",
          "2020-07-28T00:00:00",
          "2020-07-29T00:00:00",
          "2020-07-30T00:00:00",
          "2020-07-31T00:00:00",
          "2020-08-01T00:00:00",
          "2020-08-02T00:00:00",
          "2020-08-03T00:00:00",
          "2020-08-04T00:00:00",
          "2020-08-05T00:00:00",
          "2020-08-06T00:00:00",
          "2020-08-07T00:00:00",
          "2020-08-08T00:00:00",
          "2020-08-09T00:00:00",
          "2020-08-10T00:00:00",
          "2020-08-11T00:00:00",
          "2020-08-12T00:00:00",
          "2020-08-13T00:00:00",
          "2020-08-14T00:00:00",
          "2020-08-15T00:00:00",
          "2020-08-16T00:00:00",
          "2020-08-17T00:00:00",
          "2020-08-18T00:00:00",
          "2020-08-19T00:00:00",
          "2020-08-20T00:00:00",
          "2020-08-21T00:00:00",
          "2020-08-22T00:00:00",
          "2020-08-23T00:00:00",
          "2020-08-24T00:00:00",
          "2020-08-25T00:00:00",
          "2020-08-26T00:00:00",
          "2020-08-27T00:00:00",
          "2020-08-28T00:00:00",
          "2020-08-29T00:00:00",
          "2020-08-30T00:00:00",
          "2020-08-31T00:00:00",
          "2020-09-01T00:00:00",
          "2020-09-02T00:00:00",
          "2020-09-03T00:00:00",
          "2020-09-04T00:00:00",
          "2020-09-05T00:00:00",
          "2020-09-06T00:00:00",
          "2020-09-07T00:00:00",
          "2020-09-08T00:00:00",
          "2020-09-09T00:00:00",
          "2020-09-10T00:00:00",
          "2020-09-11T00:00:00",
          "2020-09-12T00:00:00",
          "2020-09-13T00:00:00",
          "2020-09-14T00:00:00",
          "2020-09-15T00:00:00",
          "2020-09-16T00:00:00",
          "2020-09-17T00:00:00",
          "2020-09-18T00:00:00",
          "2020-09-19T00:00:00",
          "2020-09-20T00:00:00",
          "2020-09-21T00:00:00",
          "2020-09-22T00:00:00",
          "2020-09-23T00:00:00",
          "2020-09-24T00:00:00",
          "2020-09-25T00:00:00",
          "2020-09-26T00:00:00",
          "2020-09-27T00:00:00",
          "2020-09-28T00:00:00",
          "2020-09-29T00:00:00",
          "2020-09-30T00:00:00",
          "2020-10-01T00:00:00",
          "2020-10-02T00:00:00",
          "2020-10-03T00:00:00",
          "2020-10-04T00:00:00",
          "2020-10-05T00:00:00",
          "2020-10-06T00:00:00",
          "2020-10-07T00:00:00",
          "2020-10-08T00:00:00",
          "2020-10-09T00:00:00",
          "2020-10-10T00:00:00",
          "2020-10-11T00:00:00",
          "2020-10-12T00:00:00",
          "2020-10-13T00:00:00",
          "2020-10-14T00:00:00",
          "2020-10-15T00:00:00",
          "2020-10-16T00:00:00",
          "2020-10-17T00:00:00",
          "2020-10-18T00:00:00",
          "2020-10-19T00:00:00",
          "2020-10-20T00:00:00",
          "2020-10-21T00:00:00",
          "2020-10-22T00:00:00",
          "2020-10-23T00:00:00",
          "2020-10-24T00:00:00",
          "2020-10-25T00:00:00",
          "2020-10-26T00:00:00",
          "2020-10-27T00:00:00",
          "2020-10-28T00:00:00",
          "2020-10-29T00:00:00",
          "2020-10-30T00:00:00",
          "2020-10-31T00:00:00",
          "2020-11-01T00:00:00",
          "2020-11-02T00:00:00",
          "2020-11-03T00:00:00",
          "2020-11-04T00:00:00",
          "2020-11-05T00:00:00",
          "2020-11-06T00:00:00",
          "2020-11-07T00:00:00",
          "2020-11-08T00:00:00",
          "2020-11-09T00:00:00",
          "2020-11-10T00:00:00",
          "2020-11-11T00:00:00",
          "2020-11-12T00:00:00",
          "2020-11-13T00:00:00",
          "2020-11-14T00:00:00",
          "2020-11-15T00:00:00",
          "2020-11-16T00:00:00",
          "2020-11-17T00:00:00",
          "2020-11-18T00:00:00",
          "2020-11-19T00:00:00",
          "2020-11-20T00:00:00",
          "2020-11-21T00:00:00",
          "2020-11-22T00:00:00",
          "2020-11-23T00:00:00",
          "2020-11-24T00:00:00",
          "2020-11-25T00:00:00",
          "2020-11-26T00:00:00",
          "2020-11-27T00:00:00",
          "2020-11-28T00:00:00",
          "2020-11-29T00:00:00",
          "2020-11-30T00:00:00",
          "2020-12-01T00:00:00",
          "2020-12-02T00:00:00",
          "2020-12-03T00:00:00",
          "2020-12-04T00:00:00",
          "2020-12-05T00:00:00",
          "2020-12-06T00:00:00",
          "2020-12-07T00:00:00",
          "2020-12-08T00:00:00",
          "2020-12-09T00:00:00",
          "2020-12-10T00:00:00",
          "2020-12-11T00:00:00",
          "2020-12-12T00:00:00",
          "2020-12-13T00:00:00",
          "2020-12-14T00:00:00",
          "2020-12-15T00:00:00",
          "2020-12-16T00:00:00",
          "2020-12-17T00:00:00",
          "2020-12-18T00:00:00",
          "2020-12-19T00:00:00",
          "2020-12-20T00:00:00",
          "2020-12-21T00:00:00",
          "2020-12-22T00:00:00",
          "2020-12-23T00:00:00",
          "2020-12-24T00:00:00",
          "2020-12-25T00:00:00",
          "2020-12-26T00:00:00",
          "2020-12-27T00:00:00",
          "2020-12-28T00:00:00",
          "2020-12-29T00:00:00",
          "2020-12-30T00:00:00",
          "2020-12-31T00:00:00",
          "2021-01-01T00:00:00",
          "2021-01-02T00:00:00",
          "2021-01-03T00:00:00",
          "2021-01-04T00:00:00",
          "2021-01-05T00:00:00",
          "2021-01-06T00:00:00",
          "2021-01-07T00:00:00",
          "2021-01-08T00:00:00",
          "2021-01-09T00:00:00",
          "2021-01-10T00:00:00",
          "2021-01-11T00:00:00",
          "2021-01-12T00:00:00",
          "2021-01-13T00:00:00",
          "2021-01-14T00:00:00",
          "2021-01-15T00:00:00",
          "2021-01-16T00:00:00",
          "2021-01-17T00:00:00",
          "2021-01-18T00:00:00",
          "2021-01-19T00:00:00",
          "2021-01-20T00:00:00",
          "2021-01-21T00:00:00",
          "2021-01-22T00:00:00",
          "2021-01-23T00:00:00",
          "2021-01-24T00:00:00",
          "2021-01-25T00:00:00",
          "2021-01-26T00:00:00",
          "2021-01-27T00:00:00",
          "2021-01-28T00:00:00",
          "2021-01-29T00:00:00",
          "2021-01-30T00:00:00",
          "2021-01-31T00:00:00",
          "2021-02-01T00:00:00",
          "2021-02-02T00:00:00",
          "2021-02-03T00:00:00",
          "2021-02-04T00:00:00",
          "2021-02-05T00:00:00",
          "2021-02-06T00:00:00",
          "2021-02-07T00:00:00",
          "2021-02-08T00:00:00",
          "2021-02-09T00:00:00",
          "2021-02-10T00:00:00",
          "2021-02-11T00:00:00",
          "2021-02-12T00:00:00",
          "2021-02-13T00:00:00",
          "2021-02-14T00:00:00",
          "2021-02-15T00:00:00",
          "2021-02-16T00:00:00",
          "2021-02-17T00:00:00",
          "2021-02-18T00:00:00",
          "2021-02-19T00:00:00",
          "2021-02-20T00:00:00",
          "2021-02-21T00:00:00",
          "2021-02-22T00:00:00",
          "2021-02-23T00:00:00",
          "2021-02-24T00:00:00",
          "2021-02-25T00:00:00",
          "2021-02-26T00:00:00",
          "2021-02-27T00:00:00",
          "2021-02-28T00:00:00",
          "2021-03-01T00:00:00",
          "2021-03-02T00:00:00",
          "2021-03-03T00:00:00",
          "2021-03-04T00:00:00",
          "2021-03-05T00:00:00",
          "2021-03-06T00:00:00",
          "2021-03-07T00:00:00",
          "2021-03-08T00:00:00",
          "2021-03-09T00:00:00",
          "2021-03-10T00:00:00",
          "2021-03-11T00:00:00",
          "2021-03-12T00:00:00",
          "2021-03-13T00:00:00",
          "2021-03-14T00:00:00",
          "2021-03-15T00:00:00",
          "2021-03-16T00:00:00",
          "2021-03-17T00:00:00"
         ],
         "xaxis": "x",
         "y": [
          null,
          null,
          null,
          null,
          null,
          null,
          114.28571428571429,
          113.42857142857143,
          112.28571428571429,
          112.85714285714286,
          114.71428571428571,
          114.85714285714286,
          113.85714285714286,
          115.85714285714286,
          119.42857142857143,
          117.57142857142857,
          116.57142857142857,
          115.14285714285714,
          115.28571428571429,
          118.71428571428571,
          117.57142857142857,
          117.71428571428571,
          121,
          121.14285714285714,
          121.71428571428571,
          121.71428571428571,
          118,
          115.14285714285714,
          111.85714285714286,
          115,
          114.28571428571429,
          112.14285714285714,
          113.14285714285714,
          116,
          120.85714285714286,
          122.42857142857143,
          119,
          121.14285714285714,
          122.57142857142857,
          124.28571428571429,
          123.14285714285714,
          121.28571428571429,
          119.28571428571429,
          119.71428571428571,
          122.42857142857143,
          121,
          118.42857142857143,
          117.57142857142857,
          121.57142857142857,
          124.85714285714286,
          125.42857142857143,
          124,
          125,
          130.14285714285714,
          128.57142857142858,
          123.42857142857143,
          124,
          121.71428571428571,
          120.28571428571429,
          123.14285714285714,
          120.57142857142857,
          124.42857142857143,
          131.42857142857142,
          131,
          131.57142857142858,
          134.28571428571428,
          137.28571428571428,
          139.28571428571428,
          143.14285714285714,
          143.14285714285714,
          146.71428571428572,
          148.71428571428572,
          147.42857142857142,
          144.57142857142858,
          144.85714285714286,
          147.57142857142858,
          144,
          138.28571428571428,
          139.85714285714286,
          141.28571428571428,
          141.71428571428572,
          140.42857142857142,
          136.28571428571428,
          137.85714285714286,
          138.57142857142858,
          137.14285714285714,
          134.42857142857142,
          129.28571428571428,
          127.57142857142857,
          125.71428571428571,
          125.85714285714286,
          127.57142857142857,
          125,
          126,
          124.28571428571429,
          123,
          119,
          117.28571428571429,
          117,
          120.42857142857143,
          123.14285714285714,
          129,
          131.28571428571428,
          135.42857142857142,
          136.71428571428572,
          138.85714285714286,
          138.42857142857142,
          135.71428571428572,
          141.28571428571428,
          145.28571428571428,
          146.14285714285714,
          145.71428571428572,
          143.85714285714286,
          141.14285714285714,
          141.14285714285714,
          136.28571428571428,
          131.85714285714286,
          132.71428571428572,
          134.14285714285714,
          132.14285714285714,
          135.85714285714286,
          136.28571428571428,
          136.14285714285714,
          137.85714285714286,
          133.57142857142858,
          134.28571428571428,
          134.85714285714286,
          132.28571428571428,
          129.14285714285714,
          127.71428571428571,
          125.14285714285714,
          128,
          124.28571428571429,
          124.57142857142857,
          124.42857142857143,
          125,
          125.85714285714286,
          123.85714285714286,
          121.14285714285714,
          122,
          123.28571428571429,
          124.28571428571429,
          126,
          125,
          128.14285714285714,
          132.14285714285714,
          133.28571428571428,
          130.57142857142858,
          129.57142857142858,
          131,
          133.42857142857142,
          130.28571428571428,
          126.71428571428571,
          126.85714285714286,
          128.71428571428572,
          131.85714285714286,
          130,
          126.42857142857143,
          129.14285714285714,
          131.42857142857142,
          132.28571428571428,
          130.42857142857142,
          125.85714285714286,
          125.71428571428571,
          128,
          124.42857142857143,
          121.28571428571429,
          117.71428571428571,
          120.71428571428571,
          123.14285714285714,
          119.42857142857143,
          116.42857142857143,
          117.42857142857143,
          118.57142857142857,
          119.57142857142857,
          116.28571428571429,
          118,
          122.28571428571429,
          123.57142857142857,
          128.42857142857142,
          128.85714285714286,
          129.71428571428572,
          131.85714285714286,
          130.28571428571428,
          128.28571428571428,
          129.28571428571428,
          127.57142857142857,
          127.57142857142857,
          122.14285714285714,
          117.57142857142857,
          116.85714285714286,
          116,
          114.42857142857143,
          112,
          105.42857142857143,
          110.14285714285714,
          112.71428571428571,
          116.28571428571429,
          115.85714285714286,
          115.28571428571429,
          114,
          119,
          115.28571428571429,
          111.71428571428571,
          107,
          108.42857142857143,
          106,
          105.28571428571429,
          102.57142857142857,
          105,
          105.57142857142857,
          103.28571428571429,
          102,
          102.71428571428571,
          104.28571428571429,
          107.42857142857143,
          105.14285714285714,
          107.71428571428571,
          109.42857142857143,
          109.57142857142857,
          110.28571428571429,
          111,
          108,
          109.42857142857143,
          107.85714285714286,
          108.28571428571429,
          109.28571428571429,
          109.57142857142857,
          113.28571428571429,
          115.71428571428571,
          116.71428571428571,
          117.57142857142857,
          117,
          117.28571428571429,
          117.28571428571429,
          113.42857142857143,
          112.28571428571429,
          109.28571428571429,
          104.85714285714286,
          102.57142857142857,
          101.57142857142857,
          97.57142857142857,
          97.28571428571429,
          96.42857142857143,
          99.28571428571429,
          103,
          107.14285714285714,
          107.85714285714286,
          110.57142857142857,
          110.28571428571429,
          112.57142857142857,
          111.57142857142857,
          110.57142857142857,
          110,
          108.57142857142857,
          111.71428571428571,
          114,
          111.57142857142857,
          108.28571428571429,
          107.85714285714286,
          107.42857142857143,
          108.42857142857143,
          105.57142857142857,
          105,
          105.71428571428571,
          110.28571428571429,
          113.14285714285714,
          112.57142857142857,
          113.28571428571429,
          113.28571428571429,
          111.85714285714286,
          110,
          107,
          103,
          101.42857142857143,
          100.71428571428571,
          103,
          100.28571428571429,
          102.42857142857143,
          102,
          103.14285714285714,
          106.42857142857143,
          116,
          114.57142857142857,
          116.57142857142857,
          116.42857142857143,
          120.71428571428571,
          123.28571428571429,
          120.57142857142857,
          129.57142857142858,
          127.57142857142857,
          129.42857142857142,
          131,
          129.57142857142858,
          128.71428571428572,
          126.85714285714286,
          110.14285714285714,
          111,
          108,
          104,
          102,
          102.28571428571429,
          103.42857142857143,
          102.85714285714286,
          103.57142857142857,
          99.42857142857143,
          100.28571428571429,
          98.28571428571429,
          98.14285714285714,
          98,
          97,
          95.71428571428571,
          100.42857142857143,
          101.71428571428571,
          101,
          100,
          101.28571428571429,
          99,
          98.71428571428571,
          98.14285714285714,
          100.28571428571429,
          107.57142857142857,
          107,
          107.28571428571429,
          107,
          109.14285714285714,
          109.85714285714286,
          107.14285714285714,
          102.14285714285714,
          102.57142857142857,
          103.71428571428571,
          104.71428571428571,
          102.85714285714286,
          103,
          104.28571428571429,
          104.42857142857143,
          108.57142857142857,
          109.85714285714286,
          109.14285714285714,
          108,
          107.57142857142857,
          107.57142857142857,
          105.71428571428571,
          99.57142857142857,
          95.85714285714286,
          99.14285714285714,
          98.85714285714286,
          98,
          96.14285714285714,
          101.14285714285714,
          104,
          107.57142857142857,
          107.57142857142857,
          109.57142857142857,
          113.14285714285714,
          114.85714285714286,
          108.57142857142857,
          109.42857142857143,
          105.28571428571429,
          104.71428571428571,
          107.85714285714286,
          106.57142857142857,
          107.14285714285714,
          111,
          109.28571428571429,
          110.85714285714286,
          112.42857142857143,
          110.57142857142857,
          110.57142857142857,
          109.28571428571429,
          108.57142857142857,
          106.42857142857143,
          109,
          105.57142857142857,
          103.57142857142857,
          101.71428571428571,
          102.28571428571429,
          103,
          102.14285714285714,
          99.28571428571429,
          100.71428571428571,
          100,
          102.28571428571429,
          99.28571428571429,
          95.57142857142857,
          97.28571428571429,
          96.85714285714286,
          98,
          99,
          93.42857142857143,
          95.28571428571429,
          93.42857142857143,
          94,
          91,
          86.71428571428571,
          83.71428571428571,
          84.57142857142857,
          82.71428571428571,
          81.14285714285714,
          81.42857142857143,
          85,
          84.28571428571429,
          84.71428571428571,
          85.28571428571429,
          85.14285714285714,
          90.57142857142857,
          87.42857142857143,
          89.85714285714286,
          90.28571428571429,
          92,
          94.85714285714286,
          93.57142857142857,
          93,
          95.14285714285714,
          91.14285714285714,
          93.28571428571429,
          94.42857142857143,
          92.71428571428571,
          94.42857142857143,
          97,
          95.42857142857143,
          97,
          99,
          99.14285714285714,
          101.42857142857143,
          106.85714285714286,
          103.28571428571429,
          106,
          105.14285714285714,
          103.28571428571429,
          102.85714285714286,
          102.71428571428571,
          99.71428571428571,
          103.42857142857143,
          111.42857142857143,
          117.14285714285714,
          118.42857142857143,
          122,
          122.71428571428571,
          121.85714285714286,
          115.28571428571429,
          107.42857142857143,
          104.71428571428571,
          108,
          107.14285714285714,
          108.28571428571429,
          111.71428571428571,
          118.42857142857143,
          118.71428571428571,
          116.85714285714286,
          114.85714285714286,
          117.42857142857143,
          118.57142857142857,
          116.57142857142857,
          117.85714285714286,
          118.42857142857143,
          119.57142857142857,
          123.28571428571429,
          123.28571428571429,
          123.71428571428571,
          129.28571428571428,
          131.71428571428572,
          140.71428571428572,
          140.57142857142858,
          139,
          138,
          137.28571428571428,
          132.42857142857142,
          128.42857142857142,
          120.28571428571429,
          122.28571428571429,
          127.28571428571429,
          127,
          127.42857142857143,
          134,
          138.42857142857142,
          140.85714285714286,
          139.71428571428572,
          132.42857142857142,
          133.71428571428572,
          136.57142857142858,
          130.57142857142858,
          129.42857142857142,
          128.85714285714286,
          129.14285714285714,
          130.28571428571428,
          125.14285714285714,
          120.28571428571429,
          120.28571428571429,
          120.85714285714286,
          120.57142857142857,
          123.57142857142857,
          122.57142857142857,
          123.28571428571429,
          122.42857142857143,
          122.57142857142857,
          120.28571428571429,
          122.71428571428571,
          120.28571428571429,
          119.42857142857143,
          121.14285714285714,
          122.57142857142857,
          121.57142857142857,
          119.14285714285714,
          113.71428571428571,
          112.71428571428571,
          114.57142857142857,
          116.28571428571429,
          116.28571428571429,
          117.85714285714286,
          122.71428571428571,
          125,
          125.14285714285714,
          124.57142857142857,
          122.42857142857143,
          121.14285714285714,
          121.71428571428571,
          119.14285714285714,
          119,
          120.57142857142857,
          120.57142857142857,
          124.57142857142857,
          125.85714285714286,
          124.28571428571429,
          121.42857142857143,
          122.14285714285714,
          120.28571428571429,
          119.57142857142857,
          115,
          116.71428571428571,
          118,
          120.85714285714286,
          124,
          125.57142857142857,
          125.71428571428571,
          127.14285714285714,
          126.28571428571429,
          124.14285714285714,
          124.14285714285714,
          120.85714285714286,
          116.57142857142857,
          110.57142857142857,
          108.14285714285714,
          105.42857142857143,
          102.57142857142857,
          101.14285714285714,
          98.14285714285714,
          100.57142857142857,
          106,
          108.42857142857143,
          106.85714285714286,
          107.14285714285714,
          106.42857142857143,
          106,
          103.28571428571429,
          105,
          103.85714285714286,
          106.14285714285714,
          109.28571428571429,
          114.71428571428571,
          115.71428571428571,
          117.28571428571429,
          116.71428571428571,
          118.14285714285714,
          115.71428571428571,
          113.42857142857143,
          108.42857142857143,
          108,
          108.42857142857143,
          105.14285714285714,
          101.57142857142857,
          104.28571428571429,
          107.57142857142857,
          106.85714285714286,
          106.85714285714286,
          106.42857142857143,
          108,
          112.42857142857143,
          111.14285714285714,
          110.71428571428571,
          111.14285714285714,
          109.28571428571429,
          106.28571428571429,
          104,
          100.71428571428571,
          101.28571428571429,
          97.85714285714286,
          97,
          98.85714285714286,
          99.85714285714286,
          97.85714285714286,
          96.42857142857143,
          92.14285714285714,
          93.71428571428571,
          97.28571428571429,
          96.28571428571429,
          96.85714285714286,
          100.14285714285714,
          103.14285714285714,
          107.71428571428571,
          106.85714285714286,
          105.28571428571429,
          109.57142857142857,
          111.85714285714286,
          111,
          108.42857142857143,
          106,
          106.71428571428571,
          102.85714285714286,
          98.28571428571429,
          96.28571428571429,
          94.28571428571429,
          94.28571428571429,
          99.14285714285714,
          97,
          96.71428571428571,
          98.71428571428571,
          98.71428571428571,
          100.57142857142857,
          105.14285714285714,
          103.14285714285714,
          101.57142857142857,
          104.28571428571429,
          102.14285714285714,
          101.71428571428571,
          101.28571428571429,
          93.57142857142857,
          94.14285714285714,
          96.28571428571429,
          95.71428571428571,
          95.85714285714286,
          95.14285714285714,
          94.85714285714286,
          97.42857142857143,
          92,
          94.14285714285714,
          94.57142857142857,
          95.57142857142857,
          95.71428571428571,
          99.28571428571429,
          102.14285714285714,
          104.85714285714286,
          102.85714285714286,
          101.42857142857143,
          100,
          100.85714285714286,
          98.42857142857143,
          102.42857142857143,
          110.71428571428571,
          112.42857142857143,
          112.14285714285714,
          116.14285714285714,
          115.85714285714286,
          116.57142857142857,
          115.85714285714286,
          121,
          118.71428571428571,
          119.71428571428571,
          117.28571428571429,
          119,
          116.85714285714286,
          114,
          104.14285714285714,
          106.85714285714286,
          107.28571428571429,
          107.42857142857143,
          108.14285714285714,
          110.42857142857143,
          109.28571428571429,
          107.57142857142857,
          108,
          108.28571428571429,
          111.28571428571429,
          111.14285714285714,
          109.42857142857143,
          110.85714285714286,
          107.57142857142857,
          108.14285714285714,
          108.71428571428571,
          107.42857142857143,
          106.14285714285714,
          107.71428571428571,
          103.42857142857143,
          108.28571428571429,
          104,
          99.85714285714286,
          98.57142857142857,
          100,
          98.57142857142857,
          100,
          96.14285714285714,
          97.14285714285714,
          99.28571428571429,
          96.71428571428571,
          93.71428571428571,
          94.28571428571429,
          95.71428571428571,
          96.85714285714286,
          97,
          96.28571428571429,
          99,
          98.71428571428571,
          96.42857142857143,
          94.14285714285714,
          92.85714285714286,
          91.42857142857143,
          91.57142857142857,
          89.14285714285714,
          94.57142857142857,
          98.42857142857143,
          102.42857142857143,
          105.42857142857143,
          110.14285714285714,
          112.71428571428571,
          115.85714285714286,
          112.71428571428571,
          116.28571428571429,
          112.14285714285714,
          108.85714285714286,
          111,
          112.42857142857143,
          112.71428571428571,
          115,
          114.42857142857143,
          119.28571428571429,
          122.28571428571429,
          120,
          118.42857142857143,
          115.28571428571429,
          111.85714285714286,
          110.71428571428571
         ],
         "yaxis": "y"
        }
       ],
       "layout": {
        "legend": {
         "tracegroupgap": 0
        },
        "shapes": [
         {
          "line": {
           "color": "purple",
           "dash": "dashdot",
           "width": 3
          },
          "type": "line",
          "x0": "2020-03-18",
          "x1": "2020-03-18",
          "y0": 0,
          "y1": 200
         }
        ],
        "template": {
         "data": {
          "bar": [
           {
            "error_x": {
             "color": "#2a3f5f"
            },
            "error_y": {
             "color": "#2a3f5f"
            },
            "marker": {
             "line": {
              "color": "#E5ECF6",
              "width": 0.5
             }
            },
            "type": "bar"
           }
          ],
          "barpolar": [
           {
            "marker": {
             "line": {
              "color": "#E5ECF6",
              "width": 0.5
             }
            },
            "type": "barpolar"
           }
          ],
          "carpet": [
           {
            "aaxis": {
             "endlinecolor": "#2a3f5f",
             "gridcolor": "white",
             "linecolor": "white",
             "minorgridcolor": "white",
             "startlinecolor": "#2a3f5f"
            },
            "baxis": {
             "endlinecolor": "#2a3f5f",
             "gridcolor": "white",
             "linecolor": "white",
             "minorgridcolor": "white",
             "startlinecolor": "#2a3f5f"
            },
            "type": "carpet"
           }
          ],
          "choropleth": [
           {
            "colorbar": {
             "outlinewidth": 0,
             "ticks": ""
            },
            "type": "choropleth"
           }
          ],
          "contour": [
           {
            "colorbar": {
             "outlinewidth": 0,
             "ticks": ""
            },
            "colorscale": [
             [
              0,
              "#0d0887"
             ],
             [
              0.1111111111111111,
              "#46039f"
             ],
             [
              0.2222222222222222,
              "#7201a8"
             ],
             [
              0.3333333333333333,
              "#9c179e"
             ],
             [
              0.4444444444444444,
              "#bd3786"
             ],
             [
              0.5555555555555556,
              "#d8576b"
             ],
             [
              0.6666666666666666,
              "#ed7953"
             ],
             [
              0.7777777777777778,
              "#fb9f3a"
             ],
             [
              0.8888888888888888,
              "#fdca26"
             ],
             [
              1,
              "#f0f921"
             ]
            ],
            "type": "contour"
           }
          ],
          "contourcarpet": [
           {
            "colorbar": {
             "outlinewidth": 0,
             "ticks": ""
            },
            "type": "contourcarpet"
           }
          ],
          "heatmap": [
           {
            "colorbar": {
             "outlinewidth": 0,
             "ticks": ""
            },
            "colorscale": [
             [
              0,
              "#0d0887"
             ],
             [
              0.1111111111111111,
              "#46039f"
             ],
             [
              0.2222222222222222,
              "#7201a8"
             ],
             [
              0.3333333333333333,
              "#9c179e"
             ],
             [
              0.4444444444444444,
              "#bd3786"
             ],
             [
              0.5555555555555556,
              "#d8576b"
             ],
             [
              0.6666666666666666,
              "#ed7953"
             ],
             [
              0.7777777777777778,
              "#fb9f3a"
             ],
             [
              0.8888888888888888,
              "#fdca26"
             ],
             [
              1,
              "#f0f921"
             ]
            ],
            "type": "heatmap"
           }
          ],
          "heatmapgl": [
           {
            "colorbar": {
             "outlinewidth": 0,
             "ticks": ""
            },
            "colorscale": [
             [
              0,
              "#0d0887"
             ],
             [
              0.1111111111111111,
              "#46039f"
             ],
             [
              0.2222222222222222,
              "#7201a8"
             ],
             [
              0.3333333333333333,
              "#9c179e"
             ],
             [
              0.4444444444444444,
              "#bd3786"
             ],
             [
              0.5555555555555556,
              "#d8576b"
             ],
             [
              0.6666666666666666,
              "#ed7953"
             ],
             [
              0.7777777777777778,
              "#fb9f3a"
             ],
             [
              0.8888888888888888,
              "#fdca26"
             ],
             [
              1,
              "#f0f921"
             ]
            ],
            "type": "heatmapgl"
           }
          ],
          "histogram": [
           {
            "marker": {
             "colorbar": {
              "outlinewidth": 0,
              "ticks": ""
             }
            },
            "type": "histogram"
           }
          ],
          "histogram2d": [
           {
            "colorbar": {
             "outlinewidth": 0,
             "ticks": ""
            },
            "colorscale": [
             [
              0,
              "#0d0887"
             ],
             [
              0.1111111111111111,
              "#46039f"
             ],
             [
              0.2222222222222222,
              "#7201a8"
             ],
             [
              0.3333333333333333,
              "#9c179e"
             ],
             [
              0.4444444444444444,
              "#bd3786"
             ],
             [
              0.5555555555555556,
              "#d8576b"
             ],
             [
              0.6666666666666666,
              "#ed7953"
             ],
             [
              0.7777777777777778,
              "#fb9f3a"
             ],
             [
              0.8888888888888888,
              "#fdca26"
             ],
             [
              1,
              "#f0f921"
             ]
            ],
            "type": "histogram2d"
           }
          ],
          "histogram2dcontour": [
           {
            "colorbar": {
             "outlinewidth": 0,
             "ticks": ""
            },
            "colorscale": [
             [
              0,
              "#0d0887"
             ],
             [
              0.1111111111111111,
              "#46039f"
             ],
             [
              0.2222222222222222,
              "#7201a8"
             ],
             [
              0.3333333333333333,
              "#9c179e"
             ],
             [
              0.4444444444444444,
              "#bd3786"
             ],
             [
              0.5555555555555556,
              "#d8576b"
             ],
             [
              0.6666666666666666,
              "#ed7953"
             ],
             [
              0.7777777777777778,
              "#fb9f3a"
             ],
             [
              0.8888888888888888,
              "#fdca26"
             ],
             [
              1,
              "#f0f921"
             ]
            ],
            "type": "histogram2dcontour"
           }
          ],
          "mesh3d": [
           {
            "colorbar": {
             "outlinewidth": 0,
             "ticks": ""
            },
            "type": "mesh3d"
           }
          ],
          "parcoords": [
           {
            "line": {
             "colorbar": {
              "outlinewidth": 0,
              "ticks": ""
             }
            },
            "type": "parcoords"
           }
          ],
          "pie": [
           {
            "automargin": true,
            "type": "pie"
           }
          ],
          "scatter": [
           {
            "marker": {
             "colorbar": {
              "outlinewidth": 0,
              "ticks": ""
             }
            },
            "type": "scatter"
           }
          ],
          "scatter3d": [
           {
            "line": {
             "colorbar": {
              "outlinewidth": 0,
              "ticks": ""
             }
            },
            "marker": {
             "colorbar": {
              "outlinewidth": 0,
              "ticks": ""
             }
            },
            "type": "scatter3d"
           }
          ],
          "scattercarpet": [
           {
            "marker": {
             "colorbar": {
              "outlinewidth": 0,
              "ticks": ""
             }
            },
            "type": "scattercarpet"
           }
          ],
          "scattergeo": [
           {
            "marker": {
             "colorbar": {
              "outlinewidth": 0,
              "ticks": ""
             }
            },
            "type": "scattergeo"
           }
          ],
          "scattergl": [
           {
            "marker": {
             "colorbar": {
              "outlinewidth": 0,
              "ticks": ""
             }
            },
            "type": "scattergl"
           }
          ],
          "scattermapbox": [
           {
            "marker": {
             "colorbar": {
              "outlinewidth": 0,
              "ticks": ""
             }
            },
            "type": "scattermapbox"
           }
          ],
          "scatterpolar": [
           {
            "marker": {
             "colorbar": {
              "outlinewidth": 0,
              "ticks": ""
             }
            },
            "type": "scatterpolar"
           }
          ],
          "scatterpolargl": [
           {
            "marker": {
             "colorbar": {
              "outlinewidth": 0,
              "ticks": ""
             }
            },
            "type": "scatterpolargl"
           }
          ],
          "scatterternary": [
           {
            "marker": {
             "colorbar": {
              "outlinewidth": 0,
              "ticks": ""
             }
            },
            "type": "scatterternary"
           }
          ],
          "surface": [
           {
            "colorbar": {
             "outlinewidth": 0,
             "ticks": ""
            },
            "colorscale": [
             [
              0,
              "#0d0887"
             ],
             [
              0.1111111111111111,
              "#46039f"
             ],
             [
              0.2222222222222222,
              "#7201a8"
             ],
             [
              0.3333333333333333,
              "#9c179e"
             ],
             [
              0.4444444444444444,
              "#bd3786"
             ],
             [
              0.5555555555555556,
              "#d8576b"
             ],
             [
              0.6666666666666666,
              "#ed7953"
             ],
             [
              0.7777777777777778,
              "#fb9f3a"
             ],
             [
              0.8888888888888888,
              "#fdca26"
             ],
             [
              1,
              "#f0f921"
             ]
            ],
            "type": "surface"
           }
          ],
          "table": [
           {
            "cells": {
             "fill": {
              "color": "#EBF0F8"
             },
             "line": {
              "color": "white"
             }
            },
            "header": {
             "fill": {
              "color": "#C8D4E3"
             },
             "line": {
              "color": "white"
             }
            },
            "type": "table"
           }
          ]
         },
         "layout": {
          "annotationdefaults": {
           "arrowcolor": "#2a3f5f",
           "arrowhead": 0,
           "arrowwidth": 1
          },
          "autotypenumbers": "strict",
          "coloraxis": {
           "colorbar": {
            "outlinewidth": 0,
            "ticks": ""
           }
          },
          "colorscale": {
           "diverging": [
            [
             0,
             "#8e0152"
            ],
            [
             0.1,
             "#c51b7d"
            ],
            [
             0.2,
             "#de77ae"
            ],
            [
             0.3,
             "#f1b6da"
            ],
            [
             0.4,
             "#fde0ef"
            ],
            [
             0.5,
             "#f7f7f7"
            ],
            [
             0.6,
             "#e6f5d0"
            ],
            [
             0.7,
             "#b8e186"
            ],
            [
             0.8,
             "#7fbc41"
            ],
            [
             0.9,
             "#4d9221"
            ],
            [
             1,
             "#276419"
            ]
           ],
           "sequential": [
            [
             0,
             "#0d0887"
            ],
            [
             0.1111111111111111,
             "#46039f"
            ],
            [
             0.2222222222222222,
             "#7201a8"
            ],
            [
             0.3333333333333333,
             "#9c179e"
            ],
            [
             0.4444444444444444,
             "#bd3786"
            ],
            [
             0.5555555555555556,
             "#d8576b"
            ],
            [
             0.6666666666666666,
             "#ed7953"
            ],
            [
             0.7777777777777778,
             "#fb9f3a"
            ],
            [
             0.8888888888888888,
             "#fdca26"
            ],
            [
             1,
             "#f0f921"
            ]
           ],
           "sequentialminus": [
            [
             0,
             "#0d0887"
            ],
            [
             0.1111111111111111,
             "#46039f"
            ],
            [
             0.2222222222222222,
             "#7201a8"
            ],
            [
             0.3333333333333333,
             "#9c179e"
            ],
            [
             0.4444444444444444,
             "#bd3786"
            ],
            [
             0.5555555555555556,
             "#d8576b"
            ],
            [
             0.6666666666666666,
             "#ed7953"
            ],
            [
             0.7777777777777778,
             "#fb9f3a"
            ],
            [
             0.8888888888888888,
             "#fdca26"
            ],
            [
             1,
             "#f0f921"
            ]
           ]
          },
          "colorway": [
           "#636efa",
           "#EF553B",
           "#00cc96",
           "#ab63fa",
           "#FFA15A",
           "#19d3f3",
           "#FF6692",
           "#B6E880",
           "#FF97FF",
           "#FECB52"
          ],
          "font": {
           "color": "#2a3f5f"
          },
          "geo": {
           "bgcolor": "white",
           "lakecolor": "white",
           "landcolor": "#E5ECF6",
           "showlakes": true,
           "showland": true,
           "subunitcolor": "white"
          },
          "hoverlabel": {
           "align": "left"
          },
          "hovermode": "closest",
          "mapbox": {
           "style": "light"
          },
          "paper_bgcolor": "white",
          "plot_bgcolor": "#E5ECF6",
          "polar": {
           "angularaxis": {
            "gridcolor": "white",
            "linecolor": "white",
            "ticks": ""
           },
           "bgcolor": "#E5ECF6",
           "radialaxis": {
            "gridcolor": "white",
            "linecolor": "white",
            "ticks": ""
           }
          },
          "scene": {
           "xaxis": {
            "backgroundcolor": "#E5ECF6",
            "gridcolor": "white",
            "gridwidth": 2,
            "linecolor": "white",
            "showbackground": true,
            "ticks": "",
            "zerolinecolor": "white"
           },
           "yaxis": {
            "backgroundcolor": "#E5ECF6",
            "gridcolor": "white",
            "gridwidth": 2,
            "linecolor": "white",
            "showbackground": true,
            "ticks": "",
            "zerolinecolor": "white"
           },
           "zaxis": {
            "backgroundcolor": "#E5ECF6",
            "gridcolor": "white",
            "gridwidth": 2,
            "linecolor": "white",
            "showbackground": true,
            "ticks": "",
            "zerolinecolor": "white"
           }
          },
          "shapedefaults": {
           "line": {
            "color": "#2a3f5f"
           }
          },
          "ternary": {
           "aaxis": {
            "gridcolor": "white",
            "linecolor": "white",
            "ticks": ""
           },
           "baxis": {
            "gridcolor": "white",
            "linecolor": "white",
            "ticks": ""
           },
           "bgcolor": "#E5ECF6",
           "caxis": {
            "gridcolor": "white",
            "linecolor": "white",
            "ticks": ""
           }
          },
          "title": {
           "x": 0.05
          },
          "xaxis": {
           "automargin": true,
           "gridcolor": "white",
           "linecolor": "white",
           "ticks": "",
           "title": {
            "standoff": 15
           },
           "zerolinecolor": "white",
           "zerolinewidth": 2
          },
          "yaxis": {
           "automargin": true,
           "gridcolor": "white",
           "linecolor": "white",
           "ticks": "",
           "title": {
            "standoff": 15
           },
           "zerolinecolor": "white",
           "zerolinewidth": 2
          }
         }
        },
        "title": {
         "text": "Comparison of Domestic-Related Crime Pre and Post Covid-19 Era"
        },
        "xaxis": {
         "anchor": "y",
         "domain": [
          0,
          1
         ],
         "title": {
          "text": "date"
         }
        },
        "yaxis": {
         "anchor": "x",
         "domain": [
          0,
          1
         ],
         "title": {
          "text": "7-Day Rolling Average Domestic-Related Crime"
         }
        }
       }
      },
      "text/html": [
       "<div>                            <div id=\"02b98308-b2dc-46fc-9870-fddbce8c4741\" class=\"plotly-graph-div\" style=\"height:525px; width:100%;\"></div>            <script type=\"text/javascript\">                require([\"plotly\"], function(Plotly) {                    window.PLOTLYENV=window.PLOTLYENV || {};                                    if (document.getElementById(\"02b98308-b2dc-46fc-9870-fddbce8c4741\")) {                    Plotly.newPlot(                        \"02b98308-b2dc-46fc-9870-fddbce8c4741\",                        [{\"hovertemplate\": \"date=%{x}<br>7-Day Rolling Average Domestic-Related Crime=%{y}<extra></extra>\", \"legendgroup\": \"\", \"line\": {\"color\": \"#636efa\", \"dash\": \"solid\"}, \"mode\": \"lines\", \"name\": \"\", \"orientation\": \"v\", \"showlegend\": false, \"type\": \"scatter\", \"x\": [\"2019-03-18T00:00:00\", \"2019-03-19T00:00:00\", \"2019-03-20T00:00:00\", \"2019-03-21T00:00:00\", \"2019-03-22T00:00:00\", \"2019-03-23T00:00:00\", \"2019-03-24T00:00:00\", \"2019-03-25T00:00:00\", \"2019-03-26T00:00:00\", \"2019-03-27T00:00:00\", \"2019-03-28T00:00:00\", \"2019-03-29T00:00:00\", \"2019-03-30T00:00:00\", \"2019-03-31T00:00:00\", \"2019-04-01T00:00:00\", \"2019-04-02T00:00:00\", \"2019-04-03T00:00:00\", \"2019-04-04T00:00:00\", \"2019-04-05T00:00:00\", \"2019-04-06T00:00:00\", \"2019-04-07T00:00:00\", \"2019-04-08T00:00:00\", \"2019-04-09T00:00:00\", \"2019-04-10T00:00:00\", \"2019-04-11T00:00:00\", \"2019-04-12T00:00:00\", \"2019-04-13T00:00:00\", \"2019-04-14T00:00:00\", \"2019-04-15T00:00:00\", \"2019-04-16T00:00:00\", \"2019-04-17T00:00:00\", \"2019-04-18T00:00:00\", \"2019-04-19T00:00:00\", \"2019-04-20T00:00:00\", \"2019-04-21T00:00:00\", \"2019-04-22T00:00:00\", \"2019-04-23T00:00:00\", \"2019-04-24T00:00:00\", \"2019-04-25T00:00:00\", \"2019-04-26T00:00:00\", \"2019-04-27T00:00:00\", \"2019-04-28T00:00:00\", \"2019-04-29T00:00:00\", \"2019-04-30T00:00:00\", \"2019-05-01T00:00:00\", \"2019-05-02T00:00:00\", \"2019-05-03T00:00:00\", \"2019-05-04T00:00:00\", \"2019-05-05T00:00:00\", \"2019-05-06T00:00:00\", \"2019-05-07T00:00:00\", \"2019-05-08T00:00:00\", \"2019-05-09T00:00:00\", \"2019-05-10T00:00:00\", \"2019-05-11T00:00:00\", \"2019-05-12T00:00:00\", \"2019-05-13T00:00:00\", \"2019-05-14T00:00:00\", \"2019-05-15T00:00:00\", \"2019-05-16T00:00:00\", \"2019-05-17T00:00:00\", \"2019-05-18T00:00:00\", \"2019-05-19T00:00:00\", \"2019-05-20T00:00:00\", \"2019-05-21T00:00:00\", \"2019-05-22T00:00:00\", \"2019-05-23T00:00:00\", \"2019-05-24T00:00:00\", \"2019-05-25T00:00:00\", \"2019-05-26T00:00:00\", \"2019-05-27T00:00:00\", \"2019-05-28T00:00:00\", \"2019-05-29T00:00:00\", \"2019-05-30T00:00:00\", \"2019-05-31T00:00:00\", \"2019-06-01T00:00:00\", \"2019-06-02T00:00:00\", \"2019-06-03T00:00:00\", \"2019-06-04T00:00:00\", \"2019-06-05T00:00:00\", \"2019-06-06T00:00:00\", \"2019-06-07T00:00:00\", \"2019-06-08T00:00:00\", \"2019-06-09T00:00:00\", \"2019-06-10T00:00:00\", \"2019-06-11T00:00:00\", \"2019-06-12T00:00:00\", \"2019-06-13T00:00:00\", \"2019-06-14T00:00:00\", \"2019-06-15T00:00:00\", \"2019-06-16T00:00:00\", \"2019-06-17T00:00:00\", \"2019-06-18T00:00:00\", \"2019-06-19T00:00:00\", \"2019-06-20T00:00:00\", \"2019-06-21T00:00:00\", \"2019-06-22T00:00:00\", \"2019-06-23T00:00:00\", \"2019-06-24T00:00:00\", \"2019-06-25T00:00:00\", \"2019-06-26T00:00:00\", \"2019-06-27T00:00:00\", \"2019-06-28T00:00:00\", \"2019-06-29T00:00:00\", \"2019-06-30T00:00:00\", \"2019-07-01T00:00:00\", \"2019-07-02T00:00:00\", \"2019-07-03T00:00:00\", \"2019-07-04T00:00:00\", \"2019-07-05T00:00:00\", \"2019-07-06T00:00:00\", \"2019-07-07T00:00:00\", \"2019-07-08T00:00:00\", \"2019-07-09T00:00:00\", \"2019-07-10T00:00:00\", \"2019-07-11T00:00:00\", \"2019-07-12T00:00:00\", \"2019-07-13T00:00:00\", \"2019-07-14T00:00:00\", \"2019-07-15T00:00:00\", \"2019-07-16T00:00:00\", \"2019-07-17T00:00:00\", \"2019-07-18T00:00:00\", \"2019-07-19T00:00:00\", \"2019-07-20T00:00:00\", \"2019-07-21T00:00:00\", \"2019-07-22T00:00:00\", \"2019-07-23T00:00:00\", \"2019-07-24T00:00:00\", \"2019-07-25T00:00:00\", \"2019-07-26T00:00:00\", \"2019-07-27T00:00:00\", \"2019-07-28T00:00:00\", \"2019-07-29T00:00:00\", \"2019-07-30T00:00:00\", \"2019-07-31T00:00:00\", \"2019-08-01T00:00:00\", \"2019-08-02T00:00:00\", \"2019-08-03T00:00:00\", \"2019-08-04T00:00:00\", \"2019-08-05T00:00:00\", \"2019-08-06T00:00:00\", \"2019-08-07T00:00:00\", \"2019-08-08T00:00:00\", \"2019-08-09T00:00:00\", \"2019-08-10T00:00:00\", \"2019-08-11T00:00:00\", \"2019-08-12T00:00:00\", \"2019-08-13T00:00:00\", \"2019-08-14T00:00:00\", \"2019-08-15T00:00:00\", \"2019-08-16T00:00:00\", \"2019-08-17T00:00:00\", \"2019-08-18T00:00:00\", \"2019-08-19T00:00:00\", \"2019-08-20T00:00:00\", \"2019-08-21T00:00:00\", \"2019-08-22T00:00:00\", \"2019-08-23T00:00:00\", \"2019-08-24T00:00:00\", \"2019-08-25T00:00:00\", \"2019-08-26T00:00:00\", \"2019-08-27T00:00:00\", \"2019-08-28T00:00:00\", \"2019-08-29T00:00:00\", \"2019-08-30T00:00:00\", \"2019-08-31T00:00:00\", \"2019-09-01T00:00:00\", \"2019-09-02T00:00:00\", \"2019-09-03T00:00:00\", \"2019-09-04T00:00:00\", \"2019-09-05T00:00:00\", \"2019-09-06T00:00:00\", \"2019-09-07T00:00:00\", \"2019-09-08T00:00:00\", \"2019-09-09T00:00:00\", \"2019-09-10T00:00:00\", \"2019-09-11T00:00:00\", \"2019-09-12T00:00:00\", \"2019-09-13T00:00:00\", \"2019-09-14T00:00:00\", \"2019-09-15T00:00:00\", \"2019-09-16T00:00:00\", \"2019-09-17T00:00:00\", \"2019-09-18T00:00:00\", \"2019-09-19T00:00:00\", \"2019-09-20T00:00:00\", \"2019-09-21T00:00:00\", \"2019-09-22T00:00:00\", \"2019-09-23T00:00:00\", \"2019-09-24T00:00:00\", \"2019-09-25T00:00:00\", \"2019-09-26T00:00:00\", \"2019-09-27T00:00:00\", \"2019-09-28T00:00:00\", \"2019-09-29T00:00:00\", \"2019-09-30T00:00:00\", \"2019-10-01T00:00:00\", \"2019-10-02T00:00:00\", \"2019-10-03T00:00:00\", \"2019-10-04T00:00:00\", \"2019-10-05T00:00:00\", \"2019-10-06T00:00:00\", \"2019-10-07T00:00:00\", \"2019-10-08T00:00:00\", \"2019-10-09T00:00:00\", \"2019-10-10T00:00:00\", \"2019-10-11T00:00:00\", \"2019-10-12T00:00:00\", \"2019-10-13T00:00:00\", \"2019-10-14T00:00:00\", \"2019-10-15T00:00:00\", \"2019-10-16T00:00:00\", \"2019-10-17T00:00:00\", \"2019-10-18T00:00:00\", \"2019-10-19T00:00:00\", \"2019-10-20T00:00:00\", \"2019-10-21T00:00:00\", \"2019-10-22T00:00:00\", \"2019-10-23T00:00:00\", \"2019-10-24T00:00:00\", \"2019-10-25T00:00:00\", \"2019-10-26T00:00:00\", \"2019-10-27T00:00:00\", \"2019-10-28T00:00:00\", \"2019-10-29T00:00:00\", \"2019-10-30T00:00:00\", \"2019-10-31T00:00:00\", \"2019-11-01T00:00:00\", \"2019-11-02T00:00:00\", \"2019-11-03T00:00:00\", \"2019-11-04T00:00:00\", \"2019-11-05T00:00:00\", \"2019-11-06T00:00:00\", \"2019-11-07T00:00:00\", \"2019-11-08T00:00:00\", \"2019-11-09T00:00:00\", \"2019-11-10T00:00:00\", \"2019-11-11T00:00:00\", \"2019-11-12T00:00:00\", \"2019-11-13T00:00:00\", \"2019-11-14T00:00:00\", \"2019-11-15T00:00:00\", \"2019-11-16T00:00:00\", \"2019-11-17T00:00:00\", \"2019-11-18T00:00:00\", \"2019-11-19T00:00:00\", \"2019-11-20T00:00:00\", \"2019-11-21T00:00:00\", \"2019-11-22T00:00:00\", \"2019-11-23T00:00:00\", \"2019-11-24T00:00:00\", \"2019-11-25T00:00:00\", \"2019-11-26T00:00:00\", \"2019-11-27T00:00:00\", \"2019-11-28T00:00:00\", \"2019-11-29T00:00:00\", \"2019-11-30T00:00:00\", \"2019-12-01T00:00:00\", \"2019-12-02T00:00:00\", \"2019-12-03T00:00:00\", \"2019-12-04T00:00:00\", \"2019-12-05T00:00:00\", \"2019-12-06T00:00:00\", \"2019-12-07T00:00:00\", \"2019-12-08T00:00:00\", \"2019-12-09T00:00:00\", \"2019-12-10T00:00:00\", \"2019-12-11T00:00:00\", \"2019-12-12T00:00:00\", \"2019-12-13T00:00:00\", \"2019-12-14T00:00:00\", \"2019-12-15T00:00:00\", \"2019-12-16T00:00:00\", \"2019-12-17T00:00:00\", \"2019-12-18T00:00:00\", \"2019-12-19T00:00:00\", \"2019-12-20T00:00:00\", \"2019-12-21T00:00:00\", \"2019-12-22T00:00:00\", \"2019-12-23T00:00:00\", \"2019-12-24T00:00:00\", \"2019-12-25T00:00:00\", \"2019-12-26T00:00:00\", \"2019-12-27T00:00:00\", \"2019-12-28T00:00:00\", \"2019-12-29T00:00:00\", \"2019-12-30T00:00:00\", \"2019-12-31T00:00:00\", \"2020-01-01T00:00:00\", \"2020-01-02T00:00:00\", \"2020-01-03T00:00:00\", \"2020-01-04T00:00:00\", \"2020-01-05T00:00:00\", \"2020-01-06T00:00:00\", \"2020-01-07T00:00:00\", \"2020-01-08T00:00:00\", \"2020-01-09T00:00:00\", \"2020-01-10T00:00:00\", \"2020-01-11T00:00:00\", \"2020-01-12T00:00:00\", \"2020-01-13T00:00:00\", \"2020-01-14T00:00:00\", \"2020-01-15T00:00:00\", \"2020-01-16T00:00:00\", \"2020-01-17T00:00:00\", \"2020-01-18T00:00:00\", \"2020-01-19T00:00:00\", \"2020-01-20T00:00:00\", \"2020-01-21T00:00:00\", \"2020-01-22T00:00:00\", \"2020-01-23T00:00:00\", \"2020-01-24T00:00:00\", \"2020-01-25T00:00:00\", \"2020-01-26T00:00:00\", \"2020-01-27T00:00:00\", \"2020-01-28T00:00:00\", \"2020-01-29T00:00:00\", \"2020-01-30T00:00:00\", \"2020-01-31T00:00:00\", \"2020-02-01T00:00:00\", \"2020-02-02T00:00:00\", \"2020-02-03T00:00:00\", \"2020-02-04T00:00:00\", \"2020-02-05T00:00:00\", \"2020-02-06T00:00:00\", \"2020-02-07T00:00:00\", \"2020-02-08T00:00:00\", \"2020-02-09T00:00:00\", \"2020-02-10T00:00:00\", \"2020-02-11T00:00:00\", \"2020-02-12T00:00:00\", \"2020-02-13T00:00:00\", \"2020-02-14T00:00:00\", \"2020-02-15T00:00:00\", \"2020-02-16T00:00:00\", \"2020-02-17T00:00:00\", \"2020-02-18T00:00:00\", \"2020-02-19T00:00:00\", \"2020-02-20T00:00:00\", \"2020-02-21T00:00:00\", \"2020-02-22T00:00:00\", \"2020-02-23T00:00:00\", \"2020-02-24T00:00:00\", \"2020-02-25T00:00:00\", \"2020-02-26T00:00:00\", \"2020-02-27T00:00:00\", \"2020-02-28T00:00:00\", \"2020-02-29T00:00:00\", \"2020-03-01T00:00:00\", \"2020-03-02T00:00:00\", \"2020-03-03T00:00:00\", \"2020-03-04T00:00:00\", \"2020-03-05T00:00:00\", \"2020-03-06T00:00:00\", \"2020-03-07T00:00:00\", \"2020-03-08T00:00:00\", \"2020-03-09T00:00:00\", \"2020-03-10T00:00:00\", \"2020-03-11T00:00:00\", \"2020-03-12T00:00:00\", \"2020-03-13T00:00:00\", \"2020-03-14T00:00:00\", \"2020-03-15T00:00:00\", \"2020-03-16T00:00:00\", \"2020-03-17T00:00:00\", \"2020-03-18T00:00:00\", \"2020-03-19T00:00:00\", \"2020-03-20T00:00:00\", \"2020-03-21T00:00:00\", \"2020-03-22T00:00:00\", \"2020-03-23T00:00:00\", \"2020-03-24T00:00:00\", \"2020-03-25T00:00:00\", \"2020-03-26T00:00:00\", \"2020-03-27T00:00:00\", \"2020-03-28T00:00:00\", \"2020-03-29T00:00:00\", \"2020-03-30T00:00:00\", \"2020-03-31T00:00:00\", \"2020-04-01T00:00:00\", \"2020-04-02T00:00:00\", \"2020-04-03T00:00:00\", \"2020-04-04T00:00:00\", \"2020-04-05T00:00:00\", \"2020-04-06T00:00:00\", \"2020-04-07T00:00:00\", \"2020-04-08T00:00:00\", \"2020-04-09T00:00:00\", \"2020-04-10T00:00:00\", \"2020-04-11T00:00:00\", \"2020-04-12T00:00:00\", \"2020-04-13T00:00:00\", \"2020-04-14T00:00:00\", \"2020-04-15T00:00:00\", \"2020-04-16T00:00:00\", \"2020-04-17T00:00:00\", \"2020-04-18T00:00:00\", \"2020-04-19T00:00:00\", \"2020-04-20T00:00:00\", \"2020-04-21T00:00:00\", \"2020-04-22T00:00:00\", \"2020-04-23T00:00:00\", \"2020-04-24T00:00:00\", \"2020-04-25T00:00:00\", \"2020-04-26T00:00:00\", \"2020-04-27T00:00:00\", \"2020-04-28T00:00:00\", \"2020-04-29T00:00:00\", \"2020-04-30T00:00:00\", \"2020-05-01T00:00:00\", \"2020-05-02T00:00:00\", \"2020-05-03T00:00:00\", \"2020-05-04T00:00:00\", \"2020-05-05T00:00:00\", \"2020-05-06T00:00:00\", \"2020-05-07T00:00:00\", \"2020-05-08T00:00:00\", \"2020-05-09T00:00:00\", \"2020-05-10T00:00:00\", \"2020-05-11T00:00:00\", \"2020-05-12T00:00:00\", \"2020-05-13T00:00:00\", \"2020-05-14T00:00:00\", \"2020-05-15T00:00:00\", \"2020-05-16T00:00:00\", \"2020-05-17T00:00:00\", \"2020-05-18T00:00:00\", \"2020-05-19T00:00:00\", \"2020-05-20T00:00:00\", \"2020-05-21T00:00:00\", \"2020-05-22T00:00:00\", \"2020-05-23T00:00:00\", \"2020-05-24T00:00:00\", \"2020-05-25T00:00:00\", \"2020-05-26T00:00:00\", \"2020-05-27T00:00:00\", \"2020-05-28T00:00:00\", \"2020-05-29T00:00:00\", \"2020-05-30T00:00:00\", \"2020-05-31T00:00:00\", \"2020-06-01T00:00:00\", \"2020-06-02T00:00:00\", \"2020-06-03T00:00:00\", \"2020-06-04T00:00:00\", \"2020-06-05T00:00:00\", \"2020-06-06T00:00:00\", \"2020-06-07T00:00:00\", \"2020-06-08T00:00:00\", \"2020-06-09T00:00:00\", \"2020-06-10T00:00:00\", \"2020-06-11T00:00:00\", \"2020-06-12T00:00:00\", \"2020-06-13T00:00:00\", \"2020-06-14T00:00:00\", \"2020-06-15T00:00:00\", \"2020-06-16T00:00:00\", \"2020-06-17T00:00:00\", \"2020-06-18T00:00:00\", \"2020-06-19T00:00:00\", \"2020-06-20T00:00:00\", \"2020-06-21T00:00:00\", \"2020-06-22T00:00:00\", \"2020-06-23T00:00:00\", \"2020-06-24T00:00:00\", \"2020-06-25T00:00:00\", \"2020-06-26T00:00:00\", \"2020-06-27T00:00:00\", \"2020-06-28T00:00:00\", \"2020-06-29T00:00:00\", \"2020-06-30T00:00:00\", \"2020-07-01T00:00:00\", \"2020-07-02T00:00:00\", \"2020-07-03T00:00:00\", \"2020-07-04T00:00:00\", \"2020-07-05T00:00:00\", \"2020-07-06T00:00:00\", \"2020-07-07T00:00:00\", \"2020-07-08T00:00:00\", \"2020-07-09T00:00:00\", \"2020-07-10T00:00:00\", \"2020-07-11T00:00:00\", \"2020-07-12T00:00:00\", \"2020-07-13T00:00:00\", \"2020-07-14T00:00:00\", \"2020-07-15T00:00:00\", \"2020-07-16T00:00:00\", \"2020-07-17T00:00:00\", \"2020-07-18T00:00:00\", \"2020-07-19T00:00:00\", \"2020-07-20T00:00:00\", \"2020-07-21T00:00:00\", \"2020-07-22T00:00:00\", \"2020-07-23T00:00:00\", \"2020-07-24T00:00:00\", \"2020-07-25T00:00:00\", \"2020-07-26T00:00:00\", \"2020-07-27T00:00:00\", \"2020-07-28T00:00:00\", \"2020-07-29T00:00:00\", \"2020-07-30T00:00:00\", \"2020-07-31T00:00:00\", \"2020-08-01T00:00:00\", \"2020-08-02T00:00:00\", \"2020-08-03T00:00:00\", \"2020-08-04T00:00:00\", \"2020-08-05T00:00:00\", \"2020-08-06T00:00:00\", \"2020-08-07T00:00:00\", \"2020-08-08T00:00:00\", \"2020-08-09T00:00:00\", \"2020-08-10T00:00:00\", \"2020-08-11T00:00:00\", \"2020-08-12T00:00:00\", \"2020-08-13T00:00:00\", \"2020-08-14T00:00:00\", \"2020-08-15T00:00:00\", \"2020-08-16T00:00:00\", \"2020-08-17T00:00:00\", \"2020-08-18T00:00:00\", \"2020-08-19T00:00:00\", \"2020-08-20T00:00:00\", \"2020-08-21T00:00:00\", \"2020-08-22T00:00:00\", \"2020-08-23T00:00:00\", \"2020-08-24T00:00:00\", \"2020-08-25T00:00:00\", \"2020-08-26T00:00:00\", \"2020-08-27T00:00:00\", \"2020-08-28T00:00:00\", \"2020-08-29T00:00:00\", \"2020-08-30T00:00:00\", \"2020-08-31T00:00:00\", \"2020-09-01T00:00:00\", \"2020-09-02T00:00:00\", \"2020-09-03T00:00:00\", \"2020-09-04T00:00:00\", \"2020-09-05T00:00:00\", \"2020-09-06T00:00:00\", \"2020-09-07T00:00:00\", \"2020-09-08T00:00:00\", \"2020-09-09T00:00:00\", \"2020-09-10T00:00:00\", \"2020-09-11T00:00:00\", \"2020-09-12T00:00:00\", \"2020-09-13T00:00:00\", \"2020-09-14T00:00:00\", \"2020-09-15T00:00:00\", \"2020-09-16T00:00:00\", \"2020-09-17T00:00:00\", \"2020-09-18T00:00:00\", \"2020-09-19T00:00:00\", \"2020-09-20T00:00:00\", \"2020-09-21T00:00:00\", \"2020-09-22T00:00:00\", \"2020-09-23T00:00:00\", \"2020-09-24T00:00:00\", \"2020-09-25T00:00:00\", \"2020-09-26T00:00:00\", \"2020-09-27T00:00:00\", \"2020-09-28T00:00:00\", \"2020-09-29T00:00:00\", \"2020-09-30T00:00:00\", \"2020-10-01T00:00:00\", \"2020-10-02T00:00:00\", \"2020-10-03T00:00:00\", \"2020-10-04T00:00:00\", \"2020-10-05T00:00:00\", \"2020-10-06T00:00:00\", \"2020-10-07T00:00:00\", \"2020-10-08T00:00:00\", \"2020-10-09T00:00:00\", \"2020-10-10T00:00:00\", \"2020-10-11T00:00:00\", \"2020-10-12T00:00:00\", \"2020-10-13T00:00:00\", \"2020-10-14T00:00:00\", \"2020-10-15T00:00:00\", \"2020-10-16T00:00:00\", \"2020-10-17T00:00:00\", \"2020-10-18T00:00:00\", \"2020-10-19T00:00:00\", \"2020-10-20T00:00:00\", \"2020-10-21T00:00:00\", \"2020-10-22T00:00:00\", \"2020-10-23T00:00:00\", \"2020-10-24T00:00:00\", \"2020-10-25T00:00:00\", \"2020-10-26T00:00:00\", \"2020-10-27T00:00:00\", \"2020-10-28T00:00:00\", \"2020-10-29T00:00:00\", \"2020-10-30T00:00:00\", \"2020-10-31T00:00:00\", \"2020-11-01T00:00:00\", \"2020-11-02T00:00:00\", \"2020-11-03T00:00:00\", \"2020-11-04T00:00:00\", \"2020-11-05T00:00:00\", \"2020-11-06T00:00:00\", \"2020-11-07T00:00:00\", \"2020-11-08T00:00:00\", \"2020-11-09T00:00:00\", \"2020-11-10T00:00:00\", \"2020-11-11T00:00:00\", \"2020-11-12T00:00:00\", \"2020-11-13T00:00:00\", \"2020-11-14T00:00:00\", \"2020-11-15T00:00:00\", \"2020-11-16T00:00:00\", \"2020-11-17T00:00:00\", \"2020-11-18T00:00:00\", \"2020-11-19T00:00:00\", \"2020-11-20T00:00:00\", \"2020-11-21T00:00:00\", \"2020-11-22T00:00:00\", \"2020-11-23T00:00:00\", \"2020-11-24T00:00:00\", \"2020-11-25T00:00:00\", \"2020-11-26T00:00:00\", \"2020-11-27T00:00:00\", \"2020-11-28T00:00:00\", \"2020-11-29T00:00:00\", \"2020-11-30T00:00:00\", \"2020-12-01T00:00:00\", \"2020-12-02T00:00:00\", \"2020-12-03T00:00:00\", \"2020-12-04T00:00:00\", \"2020-12-05T00:00:00\", \"2020-12-06T00:00:00\", \"2020-12-07T00:00:00\", \"2020-12-08T00:00:00\", \"2020-12-09T00:00:00\", \"2020-12-10T00:00:00\", \"2020-12-11T00:00:00\", \"2020-12-12T00:00:00\", \"2020-12-13T00:00:00\", \"2020-12-14T00:00:00\", \"2020-12-15T00:00:00\", \"2020-12-16T00:00:00\", \"2020-12-17T00:00:00\", \"2020-12-18T00:00:00\", \"2020-12-19T00:00:00\", \"2020-12-20T00:00:00\", \"2020-12-21T00:00:00\", \"2020-12-22T00:00:00\", \"2020-12-23T00:00:00\", \"2020-12-24T00:00:00\", \"2020-12-25T00:00:00\", \"2020-12-26T00:00:00\", \"2020-12-27T00:00:00\", \"2020-12-28T00:00:00\", \"2020-12-29T00:00:00\", \"2020-12-30T00:00:00\", \"2020-12-31T00:00:00\", \"2021-01-01T00:00:00\", \"2021-01-02T00:00:00\", \"2021-01-03T00:00:00\", \"2021-01-04T00:00:00\", \"2021-01-05T00:00:00\", \"2021-01-06T00:00:00\", \"2021-01-07T00:00:00\", \"2021-01-08T00:00:00\", \"2021-01-09T00:00:00\", \"2021-01-10T00:00:00\", \"2021-01-11T00:00:00\", \"2021-01-12T00:00:00\", \"2021-01-13T00:00:00\", \"2021-01-14T00:00:00\", \"2021-01-15T00:00:00\", \"2021-01-16T00:00:00\", \"2021-01-17T00:00:00\", \"2021-01-18T00:00:00\", \"2021-01-19T00:00:00\", \"2021-01-20T00:00:00\", \"2021-01-21T00:00:00\", \"2021-01-22T00:00:00\", \"2021-01-23T00:00:00\", \"2021-01-24T00:00:00\", \"2021-01-25T00:00:00\", \"2021-01-26T00:00:00\", \"2021-01-27T00:00:00\", \"2021-01-28T00:00:00\", \"2021-01-29T00:00:00\", \"2021-01-30T00:00:00\", \"2021-01-31T00:00:00\", \"2021-02-01T00:00:00\", \"2021-02-02T00:00:00\", \"2021-02-03T00:00:00\", \"2021-02-04T00:00:00\", \"2021-02-05T00:00:00\", \"2021-02-06T00:00:00\", \"2021-02-07T00:00:00\", \"2021-02-08T00:00:00\", \"2021-02-09T00:00:00\", \"2021-02-10T00:00:00\", \"2021-02-11T00:00:00\", \"2021-02-12T00:00:00\", \"2021-02-13T00:00:00\", \"2021-02-14T00:00:00\", \"2021-02-15T00:00:00\", \"2021-02-16T00:00:00\", \"2021-02-17T00:00:00\", \"2021-02-18T00:00:00\", \"2021-02-19T00:00:00\", \"2021-02-20T00:00:00\", \"2021-02-21T00:00:00\", \"2021-02-22T00:00:00\", \"2021-02-23T00:00:00\", \"2021-02-24T00:00:00\", \"2021-02-25T00:00:00\", \"2021-02-26T00:00:00\", \"2021-02-27T00:00:00\", \"2021-02-28T00:00:00\", \"2021-03-01T00:00:00\", \"2021-03-02T00:00:00\", \"2021-03-03T00:00:00\", \"2021-03-04T00:00:00\", \"2021-03-05T00:00:00\", \"2021-03-06T00:00:00\", \"2021-03-07T00:00:00\", \"2021-03-08T00:00:00\", \"2021-03-09T00:00:00\", \"2021-03-10T00:00:00\", \"2021-03-11T00:00:00\", \"2021-03-12T00:00:00\", \"2021-03-13T00:00:00\", \"2021-03-14T00:00:00\", \"2021-03-15T00:00:00\", \"2021-03-16T00:00:00\", \"2021-03-17T00:00:00\"], \"xaxis\": \"x\", \"y\": [null, null, null, null, null, null, 114.28571428571429, 113.42857142857143, 112.28571428571429, 112.85714285714286, 114.71428571428571, 114.85714285714286, 113.85714285714286, 115.85714285714286, 119.42857142857143, 117.57142857142857, 116.57142857142857, 115.14285714285714, 115.28571428571429, 118.71428571428571, 117.57142857142857, 117.71428571428571, 121.0, 121.14285714285714, 121.71428571428571, 121.71428571428571, 118.0, 115.14285714285714, 111.85714285714286, 115.0, 114.28571428571429, 112.14285714285714, 113.14285714285714, 116.0, 120.85714285714286, 122.42857142857143, 119.0, 121.14285714285714, 122.57142857142857, 124.28571428571429, 123.14285714285714, 121.28571428571429, 119.28571428571429, 119.71428571428571, 122.42857142857143, 121.0, 118.42857142857143, 117.57142857142857, 121.57142857142857, 124.85714285714286, 125.42857142857143, 124.0, 125.0, 130.14285714285714, 128.57142857142858, 123.42857142857143, 124.0, 121.71428571428571, 120.28571428571429, 123.14285714285714, 120.57142857142857, 124.42857142857143, 131.42857142857142, 131.0, 131.57142857142858, 134.28571428571428, 137.28571428571428, 139.28571428571428, 143.14285714285714, 143.14285714285714, 146.71428571428572, 148.71428571428572, 147.42857142857142, 144.57142857142858, 144.85714285714286, 147.57142857142858, 144.0, 138.28571428571428, 139.85714285714286, 141.28571428571428, 141.71428571428572, 140.42857142857142, 136.28571428571428, 137.85714285714286, 138.57142857142858, 137.14285714285714, 134.42857142857142, 129.28571428571428, 127.57142857142857, 125.71428571428571, 125.85714285714286, 127.57142857142857, 125.0, 126.0, 124.28571428571429, 123.0, 119.0, 117.28571428571429, 117.0, 120.42857142857143, 123.14285714285714, 129.0, 131.28571428571428, 135.42857142857142, 136.71428571428572, 138.85714285714286, 138.42857142857142, 135.71428571428572, 141.28571428571428, 145.28571428571428, 146.14285714285714, 145.71428571428572, 143.85714285714286, 141.14285714285714, 141.14285714285714, 136.28571428571428, 131.85714285714286, 132.71428571428572, 134.14285714285714, 132.14285714285714, 135.85714285714286, 136.28571428571428, 136.14285714285714, 137.85714285714286, 133.57142857142858, 134.28571428571428, 134.85714285714286, 132.28571428571428, 129.14285714285714, 127.71428571428571, 125.14285714285714, 128.0, 124.28571428571429, 124.57142857142857, 124.42857142857143, 125.0, 125.85714285714286, 123.85714285714286, 121.14285714285714, 122.0, 123.28571428571429, 124.28571428571429, 126.0, 125.0, 128.14285714285714, 132.14285714285714, 133.28571428571428, 130.57142857142858, 129.57142857142858, 131.0, 133.42857142857142, 130.28571428571428, 126.71428571428571, 126.85714285714286, 128.71428571428572, 131.85714285714286, 130.0, 126.42857142857143, 129.14285714285714, 131.42857142857142, 132.28571428571428, 130.42857142857142, 125.85714285714286, 125.71428571428571, 128.0, 124.42857142857143, 121.28571428571429, 117.71428571428571, 120.71428571428571, 123.14285714285714, 119.42857142857143, 116.42857142857143, 117.42857142857143, 118.57142857142857, 119.57142857142857, 116.28571428571429, 118.0, 122.28571428571429, 123.57142857142857, 128.42857142857142, 128.85714285714286, 129.71428571428572, 131.85714285714286, 130.28571428571428, 128.28571428571428, 129.28571428571428, 127.57142857142857, 127.57142857142857, 122.14285714285714, 117.57142857142857, 116.85714285714286, 116.0, 114.42857142857143, 112.0, 105.42857142857143, 110.14285714285714, 112.71428571428571, 116.28571428571429, 115.85714285714286, 115.28571428571429, 114.0, 119.0, 115.28571428571429, 111.71428571428571, 107.0, 108.42857142857143, 106.0, 105.28571428571429, 102.57142857142857, 105.0, 105.57142857142857, 103.28571428571429, 102.0, 102.71428571428571, 104.28571428571429, 107.42857142857143, 105.14285714285714, 107.71428571428571, 109.42857142857143, 109.57142857142857, 110.28571428571429, 111.0, 108.0, 109.42857142857143, 107.85714285714286, 108.28571428571429, 109.28571428571429, 109.57142857142857, 113.28571428571429, 115.71428571428571, 116.71428571428571, 117.57142857142857, 117.0, 117.28571428571429, 117.28571428571429, 113.42857142857143, 112.28571428571429, 109.28571428571429, 104.85714285714286, 102.57142857142857, 101.57142857142857, 97.57142857142857, 97.28571428571429, 96.42857142857143, 99.28571428571429, 103.0, 107.14285714285714, 107.85714285714286, 110.57142857142857, 110.28571428571429, 112.57142857142857, 111.57142857142857, 110.57142857142857, 110.0, 108.57142857142857, 111.71428571428571, 114.0, 111.57142857142857, 108.28571428571429, 107.85714285714286, 107.42857142857143, 108.42857142857143, 105.57142857142857, 105.0, 105.71428571428571, 110.28571428571429, 113.14285714285714, 112.57142857142857, 113.28571428571429, 113.28571428571429, 111.85714285714286, 110.0, 107.0, 103.0, 101.42857142857143, 100.71428571428571, 103.0, 100.28571428571429, 102.42857142857143, 102.0, 103.14285714285714, 106.42857142857143, 116.0, 114.57142857142857, 116.57142857142857, 116.42857142857143, 120.71428571428571, 123.28571428571429, 120.57142857142857, 129.57142857142858, 127.57142857142857, 129.42857142857142, 131.0, 129.57142857142858, 128.71428571428572, 126.85714285714286, 110.14285714285714, 111.0, 108.0, 104.0, 102.0, 102.28571428571429, 103.42857142857143, 102.85714285714286, 103.57142857142857, 99.42857142857143, 100.28571428571429, 98.28571428571429, 98.14285714285714, 98.0, 97.0, 95.71428571428571, 100.42857142857143, 101.71428571428571, 101.0, 100.0, 101.28571428571429, 99.0, 98.71428571428571, 98.14285714285714, 100.28571428571429, 107.57142857142857, 107.0, 107.28571428571429, 107.0, 109.14285714285714, 109.85714285714286, 107.14285714285714, 102.14285714285714, 102.57142857142857, 103.71428571428571, 104.71428571428571, 102.85714285714286, 103.0, 104.28571428571429, 104.42857142857143, 108.57142857142857, 109.85714285714286, 109.14285714285714, 108.0, 107.57142857142857, 107.57142857142857, 105.71428571428571, 99.57142857142857, 95.85714285714286, 99.14285714285714, 98.85714285714286, 98.0, 96.14285714285714, 101.14285714285714, 104.0, 107.57142857142857, 107.57142857142857, 109.57142857142857, 113.14285714285714, 114.85714285714286, 108.57142857142857, 109.42857142857143, 105.28571428571429, 104.71428571428571, 107.85714285714286, 106.57142857142857, 107.14285714285714, 111.0, 109.28571428571429, 110.85714285714286, 112.42857142857143, 110.57142857142857, 110.57142857142857, 109.28571428571429, 108.57142857142857, 106.42857142857143, 109.0, 105.57142857142857, 103.57142857142857, 101.71428571428571, 102.28571428571429, 103.0, 102.14285714285714, 99.28571428571429, 100.71428571428571, 100.0, 102.28571428571429, 99.28571428571429, 95.57142857142857, 97.28571428571429, 96.85714285714286, 98.0, 99.0, 93.42857142857143, 95.28571428571429, 93.42857142857143, 94.0, 91.0, 86.71428571428571, 83.71428571428571, 84.57142857142857, 82.71428571428571, 81.14285714285714, 81.42857142857143, 85.0, 84.28571428571429, 84.71428571428571, 85.28571428571429, 85.14285714285714, 90.57142857142857, 87.42857142857143, 89.85714285714286, 90.28571428571429, 92.0, 94.85714285714286, 93.57142857142857, 93.0, 95.14285714285714, 91.14285714285714, 93.28571428571429, 94.42857142857143, 92.71428571428571, 94.42857142857143, 97.0, 95.42857142857143, 97.0, 99.0, 99.14285714285714, 101.42857142857143, 106.85714285714286, 103.28571428571429, 106.0, 105.14285714285714, 103.28571428571429, 102.85714285714286, 102.71428571428571, 99.71428571428571, 103.42857142857143, 111.42857142857143, 117.14285714285714, 118.42857142857143, 122.0, 122.71428571428571, 121.85714285714286, 115.28571428571429, 107.42857142857143, 104.71428571428571, 108.0, 107.14285714285714, 108.28571428571429, 111.71428571428571, 118.42857142857143, 118.71428571428571, 116.85714285714286, 114.85714285714286, 117.42857142857143, 118.57142857142857, 116.57142857142857, 117.85714285714286, 118.42857142857143, 119.57142857142857, 123.28571428571429, 123.28571428571429, 123.71428571428571, 129.28571428571428, 131.71428571428572, 140.71428571428572, 140.57142857142858, 139.0, 138.0, 137.28571428571428, 132.42857142857142, 128.42857142857142, 120.28571428571429, 122.28571428571429, 127.28571428571429, 127.0, 127.42857142857143, 134.0, 138.42857142857142, 140.85714285714286, 139.71428571428572, 132.42857142857142, 133.71428571428572, 136.57142857142858, 130.57142857142858, 129.42857142857142, 128.85714285714286, 129.14285714285714, 130.28571428571428, 125.14285714285714, 120.28571428571429, 120.28571428571429, 120.85714285714286, 120.57142857142857, 123.57142857142857, 122.57142857142857, 123.28571428571429, 122.42857142857143, 122.57142857142857, 120.28571428571429, 122.71428571428571, 120.28571428571429, 119.42857142857143, 121.14285714285714, 122.57142857142857, 121.57142857142857, 119.14285714285714, 113.71428571428571, 112.71428571428571, 114.57142857142857, 116.28571428571429, 116.28571428571429, 117.85714285714286, 122.71428571428571, 125.0, 125.14285714285714, 124.57142857142857, 122.42857142857143, 121.14285714285714, 121.71428571428571, 119.14285714285714, 119.0, 120.57142857142857, 120.57142857142857, 124.57142857142857, 125.85714285714286, 124.28571428571429, 121.42857142857143, 122.14285714285714, 120.28571428571429, 119.57142857142857, 115.0, 116.71428571428571, 118.0, 120.85714285714286, 124.0, 125.57142857142857, 125.71428571428571, 127.14285714285714, 126.28571428571429, 124.14285714285714, 124.14285714285714, 120.85714285714286, 116.57142857142857, 110.57142857142857, 108.14285714285714, 105.42857142857143, 102.57142857142857, 101.14285714285714, 98.14285714285714, 100.57142857142857, 106.0, 108.42857142857143, 106.85714285714286, 107.14285714285714, 106.42857142857143, 106.0, 103.28571428571429, 105.0, 103.85714285714286, 106.14285714285714, 109.28571428571429, 114.71428571428571, 115.71428571428571, 117.28571428571429, 116.71428571428571, 118.14285714285714, 115.71428571428571, 113.42857142857143, 108.42857142857143, 108.0, 108.42857142857143, 105.14285714285714, 101.57142857142857, 104.28571428571429, 107.57142857142857, 106.85714285714286, 106.85714285714286, 106.42857142857143, 108.0, 112.42857142857143, 111.14285714285714, 110.71428571428571, 111.14285714285714, 109.28571428571429, 106.28571428571429, 104.0, 100.71428571428571, 101.28571428571429, 97.85714285714286, 97.0, 98.85714285714286, 99.85714285714286, 97.85714285714286, 96.42857142857143, 92.14285714285714, 93.71428571428571, 97.28571428571429, 96.28571428571429, 96.85714285714286, 100.14285714285714, 103.14285714285714, 107.71428571428571, 106.85714285714286, 105.28571428571429, 109.57142857142857, 111.85714285714286, 111.0, 108.42857142857143, 106.0, 106.71428571428571, 102.85714285714286, 98.28571428571429, 96.28571428571429, 94.28571428571429, 94.28571428571429, 99.14285714285714, 97.0, 96.71428571428571, 98.71428571428571, 98.71428571428571, 100.57142857142857, 105.14285714285714, 103.14285714285714, 101.57142857142857, 104.28571428571429, 102.14285714285714, 101.71428571428571, 101.28571428571429, 93.57142857142857, 94.14285714285714, 96.28571428571429, 95.71428571428571, 95.85714285714286, 95.14285714285714, 94.85714285714286, 97.42857142857143, 92.0, 94.14285714285714, 94.57142857142857, 95.57142857142857, 95.71428571428571, 99.28571428571429, 102.14285714285714, 104.85714285714286, 102.85714285714286, 101.42857142857143, 100.0, 100.85714285714286, 98.42857142857143, 102.42857142857143, 110.71428571428571, 112.42857142857143, 112.14285714285714, 116.14285714285714, 115.85714285714286, 116.57142857142857, 115.85714285714286, 121.0, 118.71428571428571, 119.71428571428571, 117.28571428571429, 119.0, 116.85714285714286, 114.0, 104.14285714285714, 106.85714285714286, 107.28571428571429, 107.42857142857143, 108.14285714285714, 110.42857142857143, 109.28571428571429, 107.57142857142857, 108.0, 108.28571428571429, 111.28571428571429, 111.14285714285714, 109.42857142857143, 110.85714285714286, 107.57142857142857, 108.14285714285714, 108.71428571428571, 107.42857142857143, 106.14285714285714, 107.71428571428571, 103.42857142857143, 108.28571428571429, 104.0, 99.85714285714286, 98.57142857142857, 100.0, 98.57142857142857, 100.0, 96.14285714285714, 97.14285714285714, 99.28571428571429, 96.71428571428571, 93.71428571428571, 94.28571428571429, 95.71428571428571, 96.85714285714286, 97.0, 96.28571428571429, 99.0, 98.71428571428571, 96.42857142857143, 94.14285714285714, 92.85714285714286, 91.42857142857143, 91.57142857142857, 89.14285714285714, 94.57142857142857, 98.42857142857143, 102.42857142857143, 105.42857142857143, 110.14285714285714, 112.71428571428571, 115.85714285714286, 112.71428571428571, 116.28571428571429, 112.14285714285714, 108.85714285714286, 111.0, 112.42857142857143, 112.71428571428571, 115.0, 114.42857142857143, 119.28571428571429, 122.28571428571429, 120.0, 118.42857142857143, 115.28571428571429, 111.85714285714286, 110.71428571428571], \"yaxis\": \"y\"}],                        {\"legend\": {\"tracegroupgap\": 0}, \"shapes\": [{\"line\": {\"color\": \"purple\", \"dash\": \"dashdot\", \"width\": 3}, \"type\": \"line\", \"x0\": \"2020-03-18\", \"x1\": \"2020-03-18\", \"y0\": 0, \"y1\": 200}], \"template\": {\"data\": {\"bar\": [{\"error_x\": {\"color\": \"#2a3f5f\"}, \"error_y\": {\"color\": \"#2a3f5f\"}, \"marker\": {\"line\": {\"color\": \"#E5ECF6\", \"width\": 0.5}}, \"type\": \"bar\"}], \"barpolar\": [{\"marker\": {\"line\": {\"color\": \"#E5ECF6\", \"width\": 0.5}}, \"type\": \"barpolar\"}], \"carpet\": [{\"aaxis\": {\"endlinecolor\": \"#2a3f5f\", \"gridcolor\": \"white\", \"linecolor\": \"white\", \"minorgridcolor\": \"white\", \"startlinecolor\": \"#2a3f5f\"}, \"baxis\": {\"endlinecolor\": \"#2a3f5f\", \"gridcolor\": \"white\", \"linecolor\": \"white\", \"minorgridcolor\": \"white\", \"startlinecolor\": \"#2a3f5f\"}, \"type\": \"carpet\"}], \"choropleth\": [{\"colorbar\": {\"outlinewidth\": 0, \"ticks\": \"\"}, \"type\": \"choropleth\"}], \"contour\": [{\"colorbar\": {\"outlinewidth\": 0, \"ticks\": \"\"}, \"colorscale\": [[0.0, \"#0d0887\"], [0.1111111111111111, \"#46039f\"], [0.2222222222222222, \"#7201a8\"], [0.3333333333333333, \"#9c179e\"], [0.4444444444444444, \"#bd3786\"], [0.5555555555555556, \"#d8576b\"], [0.6666666666666666, \"#ed7953\"], [0.7777777777777778, \"#fb9f3a\"], [0.8888888888888888, \"#fdca26\"], [1.0, \"#f0f921\"]], \"type\": \"contour\"}], \"contourcarpet\": [{\"colorbar\": {\"outlinewidth\": 0, \"ticks\": \"\"}, \"type\": \"contourcarpet\"}], \"heatmap\": [{\"colorbar\": {\"outlinewidth\": 0, \"ticks\": \"\"}, \"colorscale\": [[0.0, \"#0d0887\"], [0.1111111111111111, \"#46039f\"], [0.2222222222222222, \"#7201a8\"], [0.3333333333333333, \"#9c179e\"], [0.4444444444444444, \"#bd3786\"], [0.5555555555555556, \"#d8576b\"], [0.6666666666666666, \"#ed7953\"], [0.7777777777777778, \"#fb9f3a\"], [0.8888888888888888, \"#fdca26\"], [1.0, \"#f0f921\"]], \"type\": \"heatmap\"}], \"heatmapgl\": [{\"colorbar\": {\"outlinewidth\": 0, \"ticks\": \"\"}, \"colorscale\": [[0.0, \"#0d0887\"], [0.1111111111111111, \"#46039f\"], [0.2222222222222222, \"#7201a8\"], [0.3333333333333333, \"#9c179e\"], [0.4444444444444444, \"#bd3786\"], [0.5555555555555556, \"#d8576b\"], [0.6666666666666666, \"#ed7953\"], [0.7777777777777778, \"#fb9f3a\"], [0.8888888888888888, \"#fdca26\"], [1.0, \"#f0f921\"]], \"type\": \"heatmapgl\"}], \"histogram\": [{\"marker\": {\"colorbar\": {\"outlinewidth\": 0, \"ticks\": \"\"}}, \"type\": \"histogram\"}], \"histogram2d\": [{\"colorbar\": {\"outlinewidth\": 0, \"ticks\": \"\"}, \"colorscale\": [[0.0, \"#0d0887\"], [0.1111111111111111, \"#46039f\"], [0.2222222222222222, \"#7201a8\"], [0.3333333333333333, \"#9c179e\"], [0.4444444444444444, \"#bd3786\"], [0.5555555555555556, \"#d8576b\"], [0.6666666666666666, \"#ed7953\"], [0.7777777777777778, \"#fb9f3a\"], [0.8888888888888888, \"#fdca26\"], [1.0, \"#f0f921\"]], \"type\": \"histogram2d\"}], \"histogram2dcontour\": [{\"colorbar\": {\"outlinewidth\": 0, \"ticks\": \"\"}, \"colorscale\": [[0.0, \"#0d0887\"], [0.1111111111111111, \"#46039f\"], [0.2222222222222222, \"#7201a8\"], [0.3333333333333333, \"#9c179e\"], [0.4444444444444444, \"#bd3786\"], [0.5555555555555556, \"#d8576b\"], [0.6666666666666666, \"#ed7953\"], [0.7777777777777778, \"#fb9f3a\"], [0.8888888888888888, \"#fdca26\"], [1.0, \"#f0f921\"]], \"type\": \"histogram2dcontour\"}], \"mesh3d\": [{\"colorbar\": {\"outlinewidth\": 0, \"ticks\": \"\"}, \"type\": \"mesh3d\"}], \"parcoords\": [{\"line\": {\"colorbar\": {\"outlinewidth\": 0, \"ticks\": \"\"}}, \"type\": \"parcoords\"}], \"pie\": [{\"automargin\": true, \"type\": \"pie\"}], \"scatter\": [{\"marker\": {\"colorbar\": {\"outlinewidth\": 0, \"ticks\": \"\"}}, \"type\": \"scatter\"}], \"scatter3d\": [{\"line\": {\"colorbar\": {\"outlinewidth\": 0, \"ticks\": \"\"}}, \"marker\": {\"colorbar\": {\"outlinewidth\": 0, \"ticks\": \"\"}}, \"type\": \"scatter3d\"}], \"scattercarpet\": [{\"marker\": {\"colorbar\": {\"outlinewidth\": 0, \"ticks\": \"\"}}, \"type\": \"scattercarpet\"}], \"scattergeo\": [{\"marker\": {\"colorbar\": {\"outlinewidth\": 0, \"ticks\": \"\"}}, \"type\": \"scattergeo\"}], \"scattergl\": [{\"marker\": {\"colorbar\": {\"outlinewidth\": 0, \"ticks\": \"\"}}, \"type\": \"scattergl\"}], \"scattermapbox\": [{\"marker\": {\"colorbar\": {\"outlinewidth\": 0, \"ticks\": \"\"}}, \"type\": \"scattermapbox\"}], \"scatterpolar\": [{\"marker\": {\"colorbar\": {\"outlinewidth\": 0, \"ticks\": \"\"}}, \"type\": \"scatterpolar\"}], \"scatterpolargl\": [{\"marker\": {\"colorbar\": {\"outlinewidth\": 0, \"ticks\": \"\"}}, \"type\": \"scatterpolargl\"}], \"scatterternary\": [{\"marker\": {\"colorbar\": {\"outlinewidth\": 0, \"ticks\": \"\"}}, \"type\": \"scatterternary\"}], \"surface\": [{\"colorbar\": {\"outlinewidth\": 0, \"ticks\": \"\"}, \"colorscale\": [[0.0, \"#0d0887\"], [0.1111111111111111, \"#46039f\"], [0.2222222222222222, \"#7201a8\"], [0.3333333333333333, \"#9c179e\"], [0.4444444444444444, \"#bd3786\"], [0.5555555555555556, \"#d8576b\"], [0.6666666666666666, \"#ed7953\"], [0.7777777777777778, \"#fb9f3a\"], [0.8888888888888888, \"#fdca26\"], [1.0, \"#f0f921\"]], \"type\": \"surface\"}], \"table\": [{\"cells\": {\"fill\": {\"color\": \"#EBF0F8\"}, \"line\": {\"color\": \"white\"}}, \"header\": {\"fill\": {\"color\": \"#C8D4E3\"}, \"line\": {\"color\": \"white\"}}, \"type\": \"table\"}]}, \"layout\": {\"annotationdefaults\": {\"arrowcolor\": \"#2a3f5f\", \"arrowhead\": 0, \"arrowwidth\": 1}, \"autotypenumbers\": \"strict\", \"coloraxis\": {\"colorbar\": {\"outlinewidth\": 0, \"ticks\": \"\"}}, \"colorscale\": {\"diverging\": [[0, \"#8e0152\"], [0.1, \"#c51b7d\"], [0.2, \"#de77ae\"], [0.3, \"#f1b6da\"], [0.4, \"#fde0ef\"], [0.5, \"#f7f7f7\"], [0.6, \"#e6f5d0\"], [0.7, \"#b8e186\"], [0.8, \"#7fbc41\"], [0.9, \"#4d9221\"], [1, \"#276419\"]], \"sequential\": [[0.0, \"#0d0887\"], [0.1111111111111111, \"#46039f\"], [0.2222222222222222, \"#7201a8\"], [0.3333333333333333, \"#9c179e\"], [0.4444444444444444, \"#bd3786\"], [0.5555555555555556, \"#d8576b\"], [0.6666666666666666, \"#ed7953\"], [0.7777777777777778, \"#fb9f3a\"], [0.8888888888888888, \"#fdca26\"], [1.0, \"#f0f921\"]], \"sequentialminus\": [[0.0, \"#0d0887\"], [0.1111111111111111, \"#46039f\"], [0.2222222222222222, \"#7201a8\"], [0.3333333333333333, \"#9c179e\"], [0.4444444444444444, \"#bd3786\"], [0.5555555555555556, \"#d8576b\"], [0.6666666666666666, \"#ed7953\"], [0.7777777777777778, \"#fb9f3a\"], [0.8888888888888888, \"#fdca26\"], [1.0, \"#f0f921\"]]}, \"colorway\": [\"#636efa\", \"#EF553B\", \"#00cc96\", \"#ab63fa\", \"#FFA15A\", \"#19d3f3\", \"#FF6692\", \"#B6E880\", \"#FF97FF\", \"#FECB52\"], \"font\": {\"color\": \"#2a3f5f\"}, \"geo\": {\"bgcolor\": \"white\", \"lakecolor\": \"white\", \"landcolor\": \"#E5ECF6\", \"showlakes\": true, \"showland\": true, \"subunitcolor\": \"white\"}, \"hoverlabel\": {\"align\": \"left\"}, \"hovermode\": \"closest\", \"mapbox\": {\"style\": \"light\"}, \"paper_bgcolor\": \"white\", \"plot_bgcolor\": \"#E5ECF6\", \"polar\": {\"angularaxis\": {\"gridcolor\": \"white\", \"linecolor\": \"white\", \"ticks\": \"\"}, \"bgcolor\": \"#E5ECF6\", \"radialaxis\": {\"gridcolor\": \"white\", \"linecolor\": \"white\", \"ticks\": \"\"}}, \"scene\": {\"xaxis\": {\"backgroundcolor\": \"#E5ECF6\", \"gridcolor\": \"white\", \"gridwidth\": 2, \"linecolor\": \"white\", \"showbackground\": true, \"ticks\": \"\", \"zerolinecolor\": \"white\"}, \"yaxis\": {\"backgroundcolor\": \"#E5ECF6\", \"gridcolor\": \"white\", \"gridwidth\": 2, \"linecolor\": \"white\", \"showbackground\": true, \"ticks\": \"\", \"zerolinecolor\": \"white\"}, \"zaxis\": {\"backgroundcolor\": \"#E5ECF6\", \"gridcolor\": \"white\", \"gridwidth\": 2, \"linecolor\": \"white\", \"showbackground\": true, \"ticks\": \"\", \"zerolinecolor\": \"white\"}}, \"shapedefaults\": {\"line\": {\"color\": \"#2a3f5f\"}}, \"ternary\": {\"aaxis\": {\"gridcolor\": \"white\", \"linecolor\": \"white\", \"ticks\": \"\"}, \"baxis\": {\"gridcolor\": \"white\", \"linecolor\": \"white\", \"ticks\": \"\"}, \"bgcolor\": \"#E5ECF6\", \"caxis\": {\"gridcolor\": \"white\", \"linecolor\": \"white\", \"ticks\": \"\"}}, \"title\": {\"x\": 0.05}, \"xaxis\": {\"automargin\": true, \"gridcolor\": \"white\", \"linecolor\": \"white\", \"ticks\": \"\", \"title\": {\"standoff\": 15}, \"zerolinecolor\": \"white\", \"zerolinewidth\": 2}, \"yaxis\": {\"automargin\": true, \"gridcolor\": \"white\", \"linecolor\": \"white\", \"ticks\": \"\", \"title\": {\"standoff\": 15}, \"zerolinecolor\": \"white\", \"zerolinewidth\": 2}}}, \"title\": {\"text\": \"Comparison of Domestic-Related Crime Pre and Post Covid-19 Era\"}, \"xaxis\": {\"anchor\": \"y\", \"domain\": [0.0, 1.0], \"title\": {\"text\": \"date\"}}, \"yaxis\": {\"anchor\": \"x\", \"domain\": [0.0, 1.0], \"title\": {\"text\": \"7-Day Rolling Average Domestic-Related Crime\"}}},                        {\"responsive\": true}                    ).then(function(){\n",
       "                            \n",
       "var gd = document.getElementById('02b98308-b2dc-46fc-9870-fddbce8c4741');\n",
       "var x = new MutationObserver(function (mutations, observer) {{\n",
       "        var display = window.getComputedStyle(gd).display;\n",
       "        if (!display || display === 'none') {{\n",
       "            console.log([gd, 'removed!']);\n",
       "            Plotly.purge(gd);\n",
       "            observer.disconnect();\n",
       "        }}\n",
       "}});\n",
       "\n",
       "// Listen for the removal of the full notebook cells\n",
       "var notebookContainer = gd.closest('#notebook-container');\n",
       "if (notebookContainer) {{\n",
       "    x.observe(notebookContainer, {childList: true});\n",
       "}}\n",
       "\n",
       "// Listen for the clearing of the current output cell\n",
       "var outputEl = gd.closest('.output');\n",
       "if (outputEl) {{\n",
       "    x.observe(outputEl, {childList: true});\n",
       "}}\n",
       "\n",
       "                        })                };                });            </script>        </div>"
      ]
     },
     "metadata": {},
     "output_type": "display_data"
    }
   ],
   "source": [
    "fig = px.line(domestic_sum, x= domestic_sum.index, y= 'rolling_domestic',\n",
    "             labels={\n",
    "                     \"rolling_domestic\": \"7-Day Rolling Average Domestic-Related Crime\",\n",
    "                    },\n",
    "                title=\"Comparison of Domestic-Related Crime Pre and Post Covid-19 Era\")\n",
    "fig = fig.add_shape(type=\"line\",x0= covid_start, y0=0, x1=covid_start, y1=200,line=dict(color=\"purple\",width=3, dash = 'dashdot'))\n",
    "fig.show()\n",
    "fig.write_image('/Users/allenhardiman/Box/PHD Courses/ACE_592/Figures/Prepostdomestic.png')\n"
   ]
  },
  {
   "cell_type": "markdown",
   "id": "level-profession",
   "metadata": {},
   "source": [
    "# Homicides Crime"
   ]
  },
  {
   "cell_type": "code",
   "execution_count": 1003,
   "id": "freelance-baking",
   "metadata": {},
   "outputs": [
    {
     "name": "stderr",
     "output_type": "stream",
     "text": [
      "<ipython-input-1003-ad89bc442a52>:2: SettingWithCopyWarning:\n",
      "\n",
      "\n",
      "A value is trying to be set on a copy of a slice from a DataFrame.\n",
      "Try using .loc[row_indexer,col_indexer] = value instead\n",
      "\n",
      "See the caveats in the documentation: https://pandas.pydata.org/pandas-docs/stable/user_guide/indexing.html#returning-a-view-versus-a-copy\n",
      "\n"
     ]
    }
   ],
   "source": [
    "homicides_crime = crime_data2[(crime_data2['primary_type'] == 'HOMICIDE' )]\n",
    "homicides_crime['count'] = 1\n",
    "homicides_sum=homicides_crime.groupby('date').sum() \n",
    "homicides_sum['rolling_homicides'] = homicides_sum['count'].rolling(window=7).mean()"
   ]
  },
  {
   "cell_type": "code",
   "execution_count": 1004,
   "id": "outdoor-dubai",
   "metadata": {
    "scrolled": true
   },
   "outputs": [
    {
     "data": {
      "application/vnd.plotly.v1+json": {
       "config": {
        "plotlyServerURL": "https://plot.ly"
       },
       "data": [
        {
         "hovertemplate": "date=%{x}<br>7-Day Rolling Average Homicides Crime=%{y}<extra></extra>",
         "legendgroup": "",
         "line": {
          "color": "#636efa",
          "dash": "solid"
         },
         "mode": "lines",
         "name": "",
         "orientation": "v",
         "showlegend": false,
         "type": "scatter",
         "x": [
          "2019-03-18T00:00:00",
          "2019-03-22T00:00:00",
          "2019-03-23T00:00:00",
          "2019-03-24T00:00:00",
          "2019-03-25T00:00:00",
          "2019-03-26T00:00:00",
          "2019-03-27T00:00:00",
          "2019-03-28T00:00:00",
          "2019-03-29T00:00:00",
          "2019-03-31T00:00:00",
          "2019-04-01T00:00:00",
          "2019-04-02T00:00:00",
          "2019-04-03T00:00:00",
          "2019-04-04T00:00:00",
          "2019-04-05T00:00:00",
          "2019-04-06T00:00:00",
          "2019-04-07T00:00:00",
          "2019-04-08T00:00:00",
          "2019-04-09T00:00:00",
          "2019-04-10T00:00:00",
          "2019-04-11T00:00:00",
          "2019-04-13T00:00:00",
          "2019-04-14T00:00:00",
          "2019-04-15T00:00:00",
          "2019-04-16T00:00:00",
          "2019-04-17T00:00:00",
          "2019-04-18T00:00:00",
          "2019-04-19T00:00:00",
          "2019-04-20T00:00:00",
          "2019-04-21T00:00:00",
          "2019-04-22T00:00:00",
          "2019-04-23T00:00:00",
          "2019-04-24T00:00:00",
          "2019-04-26T00:00:00",
          "2019-04-27T00:00:00",
          "2019-04-28T00:00:00",
          "2019-04-29T00:00:00",
          "2019-04-30T00:00:00",
          "2019-05-02T00:00:00",
          "2019-05-03T00:00:00",
          "2019-05-05T00:00:00",
          "2019-05-06T00:00:00",
          "2019-05-07T00:00:00",
          "2019-05-08T00:00:00",
          "2019-05-09T00:00:00",
          "2019-05-10T00:00:00",
          "2019-05-11T00:00:00",
          "2019-05-12T00:00:00",
          "2019-05-13T00:00:00",
          "2019-05-14T00:00:00",
          "2019-05-15T00:00:00",
          "2019-05-16T00:00:00",
          "2019-05-17T00:00:00",
          "2019-05-18T00:00:00",
          "2019-05-19T00:00:00",
          "2019-05-20T00:00:00",
          "2019-05-21T00:00:00",
          "2019-05-22T00:00:00",
          "2019-05-23T00:00:00",
          "2019-05-24T00:00:00",
          "2019-05-25T00:00:00",
          "2019-05-26T00:00:00",
          "2019-05-27T00:00:00",
          "2019-05-28T00:00:00",
          "2019-05-29T00:00:00",
          "2019-05-30T00:00:00",
          "2019-05-31T00:00:00",
          "2019-06-01T00:00:00",
          "2019-06-02T00:00:00",
          "2019-06-03T00:00:00",
          "2019-06-04T00:00:00",
          "2019-06-05T00:00:00",
          "2019-06-06T00:00:00",
          "2019-06-07T00:00:00",
          "2019-06-08T00:00:00",
          "2019-06-09T00:00:00",
          "2019-06-11T00:00:00",
          "2019-06-12T00:00:00",
          "2019-06-13T00:00:00",
          "2019-06-15T00:00:00",
          "2019-06-16T00:00:00",
          "2019-06-17T00:00:00",
          "2019-06-18T00:00:00",
          "2019-06-19T00:00:00",
          "2019-06-20T00:00:00",
          "2019-06-21T00:00:00",
          "2019-06-22T00:00:00",
          "2019-06-23T00:00:00",
          "2019-06-26T00:00:00",
          "2019-06-27T00:00:00",
          "2019-06-28T00:00:00",
          "2019-06-29T00:00:00",
          "2019-06-30T00:00:00",
          "2019-07-02T00:00:00",
          "2019-07-03T00:00:00",
          "2019-07-04T00:00:00",
          "2019-07-05T00:00:00",
          "2019-07-06T00:00:00",
          "2019-07-07T00:00:00",
          "2019-07-09T00:00:00",
          "2019-07-12T00:00:00",
          "2019-07-13T00:00:00",
          "2019-07-14T00:00:00",
          "2019-07-16T00:00:00",
          "2019-07-18T00:00:00",
          "2019-07-19T00:00:00",
          "2019-07-20T00:00:00",
          "2019-07-22T00:00:00",
          "2019-07-23T00:00:00",
          "2019-07-24T00:00:00",
          "2019-07-25T00:00:00",
          "2019-07-26T00:00:00",
          "2019-07-27T00:00:00",
          "2019-07-28T00:00:00",
          "2019-07-31T00:00:00",
          "2019-08-02T00:00:00",
          "2019-08-03T00:00:00",
          "2019-08-04T00:00:00",
          "2019-08-05T00:00:00",
          "2019-08-07T00:00:00",
          "2019-08-10T00:00:00",
          "2019-08-11T00:00:00",
          "2019-08-12T00:00:00",
          "2019-08-14T00:00:00",
          "2019-08-15T00:00:00",
          "2019-08-16T00:00:00",
          "2019-08-17T00:00:00",
          "2019-08-18T00:00:00",
          "2019-08-19T00:00:00",
          "2019-08-20T00:00:00",
          "2019-08-22T00:00:00",
          "2019-08-23T00:00:00",
          "2019-08-24T00:00:00",
          "2019-08-25T00:00:00",
          "2019-08-26T00:00:00",
          "2019-08-27T00:00:00",
          "2019-08-28T00:00:00",
          "2019-08-29T00:00:00",
          "2019-08-30T00:00:00",
          "2019-08-31T00:00:00",
          "2019-09-01T00:00:00",
          "2019-09-02T00:00:00",
          "2019-09-03T00:00:00",
          "2019-09-04T00:00:00",
          "2019-09-07T00:00:00",
          "2019-09-08T00:00:00",
          "2019-09-09T00:00:00",
          "2019-09-10T00:00:00",
          "2019-09-11T00:00:00",
          "2019-09-12T00:00:00",
          "2019-09-13T00:00:00",
          "2019-09-14T00:00:00",
          "2019-09-16T00:00:00",
          "2019-09-18T00:00:00",
          "2019-09-19T00:00:00",
          "2019-09-21T00:00:00",
          "2019-09-22T00:00:00",
          "2019-09-24T00:00:00",
          "2019-09-25T00:00:00",
          "2019-09-26T00:00:00",
          "2019-09-28T00:00:00",
          "2019-10-01T00:00:00",
          "2019-10-02T00:00:00",
          "2019-10-04T00:00:00",
          "2019-10-05T00:00:00",
          "2019-10-06T00:00:00",
          "2019-10-07T00:00:00",
          "2019-10-09T00:00:00",
          "2019-10-10T00:00:00",
          "2019-10-12T00:00:00",
          "2019-10-13T00:00:00",
          "2019-10-14T00:00:00",
          "2019-10-15T00:00:00",
          "2019-10-17T00:00:00",
          "2019-10-19T00:00:00",
          "2019-10-20T00:00:00",
          "2019-10-21T00:00:00",
          "2019-10-22T00:00:00",
          "2019-10-25T00:00:00",
          "2019-10-27T00:00:00",
          "2019-10-28T00:00:00",
          "2019-10-30T00:00:00",
          "2019-10-31T00:00:00",
          "2019-11-02T00:00:00",
          "2019-11-03T00:00:00",
          "2019-11-04T00:00:00",
          "2019-11-05T00:00:00",
          "2019-11-06T00:00:00",
          "2019-11-07T00:00:00",
          "2019-11-08T00:00:00",
          "2019-11-09T00:00:00",
          "2019-11-10T00:00:00",
          "2019-11-11T00:00:00",
          "2019-11-12T00:00:00",
          "2019-11-13T00:00:00",
          "2019-11-15T00:00:00",
          "2019-11-16T00:00:00",
          "2019-11-17T00:00:00",
          "2019-11-19T00:00:00",
          "2019-11-20T00:00:00",
          "2019-11-21T00:00:00",
          "2019-11-23T00:00:00",
          "2019-11-26T00:00:00",
          "2019-11-28T00:00:00",
          "2019-11-29T00:00:00",
          "2019-11-30T00:00:00",
          "2019-12-02T00:00:00",
          "2019-12-03T00:00:00",
          "2019-12-04T00:00:00",
          "2019-12-05T00:00:00",
          "2019-12-06T00:00:00",
          "2019-12-08T00:00:00",
          "2019-12-09T00:00:00",
          "2019-12-10T00:00:00",
          "2019-12-12T00:00:00",
          "2019-12-14T00:00:00",
          "2019-12-15T00:00:00",
          "2019-12-17T00:00:00",
          "2019-12-19T00:00:00",
          "2019-12-20T00:00:00",
          "2019-12-21T00:00:00",
          "2019-12-22T00:00:00",
          "2019-12-23T00:00:00",
          "2019-12-24T00:00:00",
          "2019-12-25T00:00:00",
          "2019-12-27T00:00:00",
          "2019-12-29T00:00:00",
          "2019-12-30T00:00:00",
          "2020-01-02T00:00:00",
          "2020-01-03T00:00:00",
          "2020-01-04T00:00:00",
          "2020-01-05T00:00:00",
          "2020-01-10T00:00:00",
          "2020-01-12T00:00:00",
          "2020-01-14T00:00:00",
          "2020-01-15T00:00:00",
          "2020-01-16T00:00:00",
          "2020-01-17T00:00:00",
          "2020-01-18T00:00:00",
          "2020-01-19T00:00:00",
          "2020-01-21T00:00:00",
          "2020-01-22T00:00:00",
          "2020-01-23T00:00:00",
          "2020-01-24T00:00:00",
          "2020-01-25T00:00:00",
          "2020-01-26T00:00:00",
          "2020-01-27T00:00:00",
          "2020-01-28T00:00:00",
          "2020-01-29T00:00:00",
          "2020-02-01T00:00:00",
          "2020-02-02T00:00:00",
          "2020-02-03T00:00:00",
          "2020-02-04T00:00:00",
          "2020-02-05T00:00:00",
          "2020-02-06T00:00:00",
          "2020-02-07T00:00:00",
          "2020-02-08T00:00:00",
          "2020-02-09T00:00:00",
          "2020-02-12T00:00:00",
          "2020-02-13T00:00:00",
          "2020-02-14T00:00:00",
          "2020-02-16T00:00:00",
          "2020-02-17T00:00:00",
          "2020-02-19T00:00:00",
          "2020-02-20T00:00:00",
          "2020-02-21T00:00:00",
          "2020-02-22T00:00:00",
          "2020-02-23T00:00:00",
          "2020-02-24T00:00:00",
          "2020-02-25T00:00:00",
          "2020-02-26T00:00:00",
          "2020-03-01T00:00:00",
          "2020-03-02T00:00:00",
          "2020-03-03T00:00:00",
          "2020-03-05T00:00:00",
          "2020-03-06T00:00:00",
          "2020-03-08T00:00:00",
          "2020-03-09T00:00:00",
          "2020-03-10T00:00:00",
          "2020-03-13T00:00:00",
          "2020-03-14T00:00:00",
          "2020-03-15T00:00:00",
          "2020-03-16T00:00:00",
          "2020-03-18T00:00:00",
          "2020-03-22T00:00:00",
          "2020-03-25T00:00:00",
          "2020-03-27T00:00:00",
          "2020-03-28T00:00:00",
          "2020-03-31T00:00:00",
          "2020-04-01T00:00:00",
          "2020-04-02T00:00:00",
          "2020-04-03T00:00:00",
          "2020-04-04T00:00:00",
          "2020-04-05T00:00:00",
          "2020-04-06T00:00:00",
          "2020-04-07T00:00:00",
          "2020-04-08T00:00:00",
          "2020-04-09T00:00:00",
          "2020-04-10T00:00:00",
          "2020-04-11T00:00:00",
          "2020-04-13T00:00:00",
          "2020-04-14T00:00:00",
          "2020-04-16T00:00:00",
          "2020-04-19T00:00:00",
          "2020-04-20T00:00:00",
          "2020-04-21T00:00:00",
          "2020-04-23T00:00:00",
          "2020-04-24T00:00:00",
          "2020-04-25T00:00:00",
          "2020-04-26T00:00:00",
          "2020-04-27T00:00:00",
          "2020-04-28T00:00:00",
          "2020-04-29T00:00:00",
          "2020-05-01T00:00:00",
          "2020-05-03T00:00:00",
          "2020-05-04T00:00:00",
          "2020-05-05T00:00:00",
          "2020-05-06T00:00:00",
          "2020-05-07T00:00:00",
          "2020-05-08T00:00:00",
          "2020-05-09T00:00:00",
          "2020-05-10T00:00:00",
          "2020-05-11T00:00:00",
          "2020-05-12T00:00:00",
          "2020-05-13T00:00:00",
          "2020-05-15T00:00:00",
          "2020-05-16T00:00:00",
          "2020-05-17T00:00:00",
          "2020-05-20T00:00:00",
          "2020-05-22T00:00:00",
          "2020-05-23T00:00:00",
          "2020-05-24T00:00:00",
          "2020-05-25T00:00:00",
          "2020-05-26T00:00:00",
          "2020-05-27T00:00:00",
          "2020-05-28T00:00:00",
          "2020-05-29T00:00:00",
          "2020-05-30T00:00:00",
          "2020-05-31T00:00:00",
          "2020-06-01T00:00:00",
          "2020-06-02T00:00:00",
          "2020-06-03T00:00:00",
          "2020-06-04T00:00:00",
          "2020-06-05T00:00:00",
          "2020-06-06T00:00:00",
          "2020-06-07T00:00:00",
          "2020-06-08T00:00:00",
          "2020-06-09T00:00:00",
          "2020-06-10T00:00:00",
          "2020-06-11T00:00:00",
          "2020-06-13T00:00:00",
          "2020-06-14T00:00:00",
          "2020-06-15T00:00:00",
          "2020-06-16T00:00:00",
          "2020-06-17T00:00:00",
          "2020-06-18T00:00:00",
          "2020-06-19T00:00:00",
          "2020-06-20T00:00:00",
          "2020-06-21T00:00:00",
          "2020-06-22T00:00:00",
          "2020-06-23T00:00:00",
          "2020-06-24T00:00:00",
          "2020-06-25T00:00:00",
          "2020-06-26T00:00:00",
          "2020-06-27T00:00:00",
          "2020-06-28T00:00:00",
          "2020-06-29T00:00:00",
          "2020-06-30T00:00:00",
          "2020-07-01T00:00:00",
          "2020-07-02T00:00:00",
          "2020-07-03T00:00:00",
          "2020-07-04T00:00:00",
          "2020-07-05T00:00:00",
          "2020-07-06T00:00:00",
          "2020-07-07T00:00:00",
          "2020-07-08T00:00:00",
          "2020-07-09T00:00:00",
          "2020-07-10T00:00:00",
          "2020-07-11T00:00:00",
          "2020-07-12T00:00:00",
          "2020-07-13T00:00:00",
          "2020-07-14T00:00:00",
          "2020-07-15T00:00:00",
          "2020-07-16T00:00:00",
          "2020-07-17T00:00:00",
          "2020-07-18T00:00:00",
          "2020-07-19T00:00:00",
          "2020-07-20T00:00:00",
          "2020-07-21T00:00:00",
          "2020-07-22T00:00:00",
          "2020-07-23T00:00:00",
          "2020-07-24T00:00:00",
          "2020-07-25T00:00:00",
          "2020-07-26T00:00:00",
          "2020-07-27T00:00:00",
          "2020-07-28T00:00:00",
          "2020-07-29T00:00:00",
          "2020-07-31T00:00:00",
          "2020-08-01T00:00:00",
          "2020-08-02T00:00:00",
          "2020-08-04T00:00:00",
          "2020-08-06T00:00:00",
          "2020-08-07T00:00:00",
          "2020-08-08T00:00:00",
          "2020-08-09T00:00:00",
          "2020-08-10T00:00:00",
          "2020-08-11T00:00:00",
          "2020-08-13T00:00:00",
          "2020-08-14T00:00:00",
          "2020-08-15T00:00:00",
          "2020-08-16T00:00:00",
          "2020-08-17T00:00:00",
          "2020-08-18T00:00:00",
          "2020-08-20T00:00:00",
          "2020-08-22T00:00:00",
          "2020-08-23T00:00:00",
          "2020-08-25T00:00:00",
          "2020-08-26T00:00:00",
          "2020-08-27T00:00:00",
          "2020-08-28T00:00:00",
          "2020-08-29T00:00:00",
          "2020-08-30T00:00:00",
          "2020-08-31T00:00:00",
          "2020-09-01T00:00:00",
          "2020-09-02T00:00:00",
          "2020-09-03T00:00:00",
          "2020-09-04T00:00:00",
          "2020-09-05T00:00:00",
          "2020-09-06T00:00:00",
          "2020-09-07T00:00:00",
          "2020-09-08T00:00:00",
          "2020-09-10T00:00:00",
          "2020-09-12T00:00:00",
          "2020-09-13T00:00:00",
          "2020-09-14T00:00:00",
          "2020-09-15T00:00:00",
          "2020-09-16T00:00:00",
          "2020-09-17T00:00:00",
          "2020-09-18T00:00:00",
          "2020-09-19T00:00:00",
          "2020-09-20T00:00:00",
          "2020-09-21T00:00:00",
          "2020-09-22T00:00:00",
          "2020-09-23T00:00:00",
          "2020-09-24T00:00:00",
          "2020-09-25T00:00:00",
          "2020-09-26T00:00:00",
          "2020-09-27T00:00:00",
          "2020-09-28T00:00:00",
          "2020-09-29T00:00:00",
          "2020-09-30T00:00:00",
          "2020-10-01T00:00:00",
          "2020-10-02T00:00:00",
          "2020-10-04T00:00:00",
          "2020-10-05T00:00:00",
          "2020-10-06T00:00:00",
          "2020-10-07T00:00:00",
          "2020-10-08T00:00:00",
          "2020-10-09T00:00:00",
          "2020-10-10T00:00:00",
          "2020-10-11T00:00:00",
          "2020-10-12T00:00:00",
          "2020-10-13T00:00:00",
          "2020-10-14T00:00:00",
          "2020-10-15T00:00:00",
          "2020-10-16T00:00:00",
          "2020-10-17T00:00:00",
          "2020-10-18T00:00:00",
          "2020-10-19T00:00:00",
          "2020-10-21T00:00:00",
          "2020-10-22T00:00:00",
          "2020-10-24T00:00:00",
          "2020-10-25T00:00:00",
          "2020-10-27T00:00:00",
          "2020-10-28T00:00:00",
          "2020-10-29T00:00:00",
          "2020-10-30T00:00:00",
          "2020-10-31T00:00:00",
          "2020-11-02T00:00:00",
          "2020-11-03T00:00:00",
          "2020-11-04T00:00:00",
          "2020-11-05T00:00:00",
          "2020-11-06T00:00:00",
          "2020-11-07T00:00:00",
          "2020-11-08T00:00:00",
          "2020-11-09T00:00:00",
          "2020-11-10T00:00:00",
          "2020-11-11T00:00:00",
          "2020-11-12T00:00:00",
          "2020-11-13T00:00:00",
          "2020-11-14T00:00:00",
          "2020-11-16T00:00:00",
          "2020-11-18T00:00:00",
          "2020-11-20T00:00:00",
          "2020-11-21T00:00:00",
          "2020-11-22T00:00:00",
          "2020-11-23T00:00:00",
          "2020-11-24T00:00:00",
          "2020-11-26T00:00:00",
          "2020-11-27T00:00:00",
          "2020-11-28T00:00:00",
          "2020-11-29T00:00:00",
          "2020-11-30T00:00:00",
          "2020-12-02T00:00:00",
          "2020-12-03T00:00:00",
          "2020-12-05T00:00:00",
          "2020-12-06T00:00:00",
          "2020-12-07T00:00:00",
          "2020-12-08T00:00:00",
          "2020-12-09T00:00:00",
          "2020-12-10T00:00:00",
          "2020-12-11T00:00:00",
          "2020-12-13T00:00:00",
          "2020-12-16T00:00:00",
          "2020-12-17T00:00:00",
          "2020-12-18T00:00:00",
          "2020-12-19T00:00:00",
          "2020-12-20T00:00:00",
          "2020-12-21T00:00:00",
          "2020-12-22T00:00:00",
          "2020-12-24T00:00:00",
          "2020-12-25T00:00:00",
          "2020-12-26T00:00:00",
          "2020-12-27T00:00:00",
          "2020-12-28T00:00:00",
          "2020-12-29T00:00:00",
          "2020-12-30T00:00:00",
          "2020-12-31T00:00:00",
          "2021-01-01T00:00:00",
          "2021-01-02T00:00:00",
          "2021-01-03T00:00:00",
          "2021-01-04T00:00:00",
          "2021-01-05T00:00:00",
          "2021-01-06T00:00:00",
          "2021-01-07T00:00:00",
          "2021-01-08T00:00:00",
          "2021-01-09T00:00:00",
          "2021-01-11T00:00:00",
          "2021-01-12T00:00:00",
          "2021-01-13T00:00:00",
          "2021-01-14T00:00:00",
          "2021-01-15T00:00:00",
          "2021-01-16T00:00:00",
          "2021-01-17T00:00:00",
          "2021-01-18T00:00:00",
          "2021-01-19T00:00:00",
          "2021-01-20T00:00:00",
          "2021-01-21T00:00:00",
          "2021-01-22T00:00:00",
          "2021-01-23T00:00:00",
          "2021-01-24T00:00:00",
          "2021-01-25T00:00:00",
          "2021-01-27T00:00:00",
          "2021-01-28T00:00:00",
          "2021-01-29T00:00:00",
          "2021-01-30T00:00:00",
          "2021-01-31T00:00:00",
          "2021-02-02T00:00:00",
          "2021-02-03T00:00:00",
          "2021-02-05T00:00:00",
          "2021-02-06T00:00:00",
          "2021-02-07T00:00:00",
          "2021-02-08T00:00:00",
          "2021-02-09T00:00:00",
          "2021-02-10T00:00:00",
          "2021-02-12T00:00:00",
          "2021-02-13T00:00:00",
          "2021-02-14T00:00:00",
          "2021-02-15T00:00:00",
          "2021-02-16T00:00:00",
          "2021-02-17T00:00:00",
          "2021-02-18T00:00:00",
          "2021-02-20T00:00:00",
          "2021-02-21T00:00:00",
          "2021-02-22T00:00:00",
          "2021-02-24T00:00:00",
          "2021-02-25T00:00:00",
          "2021-02-26T00:00:00",
          "2021-02-27T00:00:00",
          "2021-02-28T00:00:00",
          "2021-03-01T00:00:00",
          "2021-03-02T00:00:00",
          "2021-03-04T00:00:00",
          "2021-03-06T00:00:00",
          "2021-03-07T00:00:00",
          "2021-03-08T00:00:00",
          "2021-03-10T00:00:00",
          "2021-03-12T00:00:00",
          "2021-03-13T00:00:00",
          "2021-03-14T00:00:00",
          "2021-03-15T00:00:00"
         ],
         "xaxis": "x",
         "y": [
          null,
          null,
          null,
          null,
          null,
          null,
          1.5714285714285714,
          1.8571428571428572,
          2,
          2,
          2.2857142857142856,
          2.2857142857142856,
          2.4285714285714284,
          2.4285714285714284,
          2.142857142857143,
          1.8571428571428572,
          2.2857142857142856,
          2.142857142857143,
          2.142857142857143,
          2.142857142857143,
          2.142857142857143,
          2.2857142857142856,
          2.2857142857142856,
          2,
          1.8571428571428572,
          2.2857142857142856,
          2.142857142857143,
          2.142857142857143,
          2.2857142857142856,
          2.2857142857142856,
          2.142857142857143,
          2,
          1.5714285714285714,
          2,
          2.142857142857143,
          2,
          2.2857142857142856,
          2.142857142857143,
          2.142857142857143,
          2.142857142857143,
          2,
          2.142857142857143,
          2,
          1.7142857142857142,
          1.7142857142857142,
          1.7142857142857142,
          1.8571428571428572,
          1.4285714285714286,
          1.1428571428571428,
          1.4285714285714286,
          1.4285714285714286,
          1.8571428571428572,
          1.8571428571428572,
          1.7142857142857142,
          1.7142857142857142,
          1.8571428571428572,
          1.5714285714285714,
          1.5714285714285714,
          1.2857142857142858,
          1.2857142857142858,
          1.4285714285714286,
          1.7142857142857142,
          1.5714285714285714,
          1.8571428571428572,
          2.4285714285714284,
          2.5714285714285716,
          2.857142857142857,
          3.142857142857143,
          3.142857142857143,
          3.142857142857143,
          2.857142857142857,
          2.5714285714285716,
          2.2857142857142856,
          2,
          1.7142857142857142,
          1.5714285714285714,
          1.5714285714285714,
          1.7142857142857142,
          1.5714285714285714,
          1.8571428571428572,
          2.2857142857142856,
          2.142857142857143,
          2,
          2.142857142857143,
          2,
          2.2857142857142856,
          2.142857142857143,
          1.8571428571428572,
          1.8571428571428572,
          1.8571428571428572,
          1.8571428571428572,
          2.142857142857143,
          1.8571428571428572,
          2,
          1.8571428571428572,
          1.8571428571428572,
          2.142857142857143,
          2,
          1.7142857142857142,
          1.5714285714285714,
          1.5714285714285714,
          2.4285714285714284,
          2.7142857142857144,
          2.4285714285714284,
          2.5714285714285716,
          2.5714285714285716,
          2.5714285714285716,
          2.4285714285714284,
          1.5714285714285714,
          1.2857142857142858,
          1.4285714285714286,
          1.4285714285714286,
          2,
          2,
          1.8571428571428572,
          1.8571428571428572,
          2.142857142857143,
          2.142857142857143,
          2.142857142857143,
          1.7142857142857142,
          2.2857142857142856,
          2.2857142857142856,
          2.2857142857142856,
          2,
          1.8571428571428572,
          1.8571428571428572,
          1.7142857142857142,
          1.2857142857142858,
          1.2857142857142858,
          1.4285714285714286,
          1.4285714285714286,
          1.5714285714285714,
          1.8571428571428572,
          2.142857142857143,
          2,
          2.142857142857143,
          2.142857142857143,
          2.4285714285714284,
          2.2857142857142856,
          2.4285714285714284,
          2.4285714285714284,
          2.4285714285714284,
          2.4285714285714284,
          2.2857142857142856,
          2.142857142857143,
          2.5714285714285716,
          2.142857142857143,
          2,
          2.142857142857143,
          2,
          2.4285714285714284,
          2.7142857142857144,
          2.4285714285714284,
          2.5714285714285716,
          2.5714285714285716,
          2.4285714285714284,
          2.7142857142857144,
          2.857142857142857,
          2.7142857142857144,
          2.7142857142857144,
          2.5714285714285716,
          2.5714285714285716,
          2.7142857142857144,
          2.5714285714285716,
          2.2857142857142856,
          2,
          1.8571428571428572,
          1.7142857142857142,
          1.5714285714285714,
          2,
          2.142857142857143,
          1.8571428571428572,
          2,
          2,
          2.142857142857143,
          2.142857142857143,
          1.7142857142857142,
          1.7142857142857142,
          1.7142857142857142,
          1.8571428571428572,
          1.8571428571428572,
          1.7142857142857142,
          1.7142857142857142,
          1.7142857142857142,
          1.5714285714285714,
          1.5714285714285714,
          1.2857142857142858,
          1.2857142857142858,
          1.4285714285714286,
          1.4285714285714286,
          1.2857142857142858,
          1.2857142857142858,
          1.2857142857142858,
          1.2857142857142858,
          1.2857142857142858,
          1.4285714285714286,
          1.4285714285714286,
          1.4285714285714286,
          1.4285714285714286,
          1.5714285714285714,
          1.5714285714285714,
          1.5714285714285714,
          1.5714285714285714,
          1.5714285714285714,
          1.5714285714285714,
          1.5714285714285714,
          1.4285714285714286,
          1.7142857142857142,
          1.7142857142857142,
          1.4285714285714286,
          1.4285714285714286,
          1.5714285714285714,
          1.4285714285714286,
          1.4285714285714286,
          1.1428571428571428,
          1.1428571428571428,
          1.1428571428571428,
          1.1428571428571428,
          1,
          1.1428571428571428,
          1.5714285714285714,
          1.5714285714285714,
          1.5714285714285714,
          1.5714285714285714,
          1.5714285714285714,
          1.7142857142857142,
          1.8571428571428572,
          1.5714285714285714,
          2,
          2.142857142857143,
          2.2857142857142856,
          2.4285714285714284,
          2.5714285714285716,
          2.2857142857142856,
          2.2857142857142856,
          2,
          2,
          1.8571428571428572,
          2,
          1.7142857142857142,
          1.7142857142857142,
          1.5714285714285714,
          1.4285714285714286,
          1.2857142857142858,
          1.2857142857142858,
          1,
          1,
          1.2857142857142858,
          1.2857142857142858,
          1.4285714285714286,
          1.5714285714285714,
          1.5714285714285714,
          1.5714285714285714,
          1.5714285714285714,
          1.2857142857142858,
          1.4285714285714286,
          1.8571428571428572,
          2.142857142857143,
          2.142857142857143,
          2.142857142857143,
          2.142857142857143,
          2.4285714285714284,
          2.2857142857142856,
          1.7142857142857142,
          1.2857142857142858,
          1.4285714285714286,
          1.5714285714285714,
          1.7142857142857142,
          1.4285714285714286,
          1.4285714285714286,
          1.5714285714285714,
          1.8571428571428572,
          2,
          2,
          2,
          2,
          2.142857142857143,
          2,
          1.7142857142857142,
          1.4285714285714286,
          1.5714285714285714,
          1.4285714285714286,
          1.5714285714285714,
          1.4285714285714286,
          1.4285714285714286,
          1.4285714285714286,
          1.4285714285714286,
          1.1428571428571428,
          1.1428571428571428,
          1.1428571428571428,
          1.2857142857142858,
          1.2857142857142858,
          1.2857142857142858,
          1.5714285714285714,
          2.142857142857143,
          3.142857142857143,
          3.2857142857142856,
          3.2857142857142856,
          3.7142857142857144,
          3.7142857142857144,
          3.5714285714285716,
          3.142857142857143,
          2.4285714285714284,
          2.5714285714285716,
          3,
          2.857142857142857,
          3.142857142857143,
          3,
          2.857142857142857,
          2.5714285714285716,
          2.142857142857143,
          1.7142857142857142,
          1.5714285714285714,
          1.4285714285714286,
          1.5714285714285714,
          1.5714285714285714,
          1.8571428571428572,
          2.142857142857143,
          2.5714285714285716,
          2.4285714285714284,
          2.2857142857142856,
          2.2857142857142856,
          2.2857142857142856,
          2.142857142857143,
          2,
          1.5714285714285714,
          2,
          2,
          1.8571428571428572,
          2.142857142857143,
          2.5714285714285716,
          2.7142857142857144,
          2.7142857142857144,
          2.7142857142857144,
          2.857142857142857,
          3,
          3.2857142857142856,
          3.7142857142857144,
          6,
          6.428571428571429,
          6,
          6.285714285714286,
          6.428571428571429,
          5.857142857142857,
          4.857142857142857,
          2.7142857142857144,
          2.4285714285714284,
          2.5714285714285716,
          2.142857142857143,
          2.142857142857143,
          2.142857142857143,
          2.2857142857142856,
          2.4285714285714284,
          2.2857142857142856,
          2.142857142857143,
          2.5714285714285716,
          3,
          3.7142857142857144,
          4,
          4.142857142857143,
          4.142857142857143,
          4.428571428571429,
          4.285714285714286,
          3.5714285714285716,
          3.5714285714285716,
          4.142857142857143,
          4,
          3.857142857142857,
          3.7142857142857144,
          4,
          4,
          4.428571428571429,
          4.142857142857143,
          4.142857142857143,
          4.714285714285714,
          4.571428571428571,
          4.428571428571429,
          5.142857142857143,
          4.714285714285714,
          4.428571428571429,
          4.428571428571429,
          4,
          4.142857142857143,
          4.428571428571429,
          4.142857142857143,
          3.857142857142857,
          4,
          4,
          4.428571428571429,
          4.428571428571429,
          4.142857142857143,
          3.857142857142857,
          3.4285714285714284,
          3,
          2.5714285714285716,
          2.2857142857142856,
          2.2857142857142856,
          1.8571428571428572,
          2.4285714285714284,
          2.857142857142857,
          2.7142857142857144,
          2.7142857142857144,
          2.7142857142857144,
          2.7142857142857144,
          3,
          2.4285714285714284,
          2,
          2.142857142857143,
          2.4285714285714284,
          2.142857142857143,
          2.142857142857143,
          1.8571428571428572,
          2,
          2.142857142857143,
          2.4285714285714284,
          2,
          2,
          2.2857142857142856,
          2.5714285714285716,
          3,
          3.142857142857143,
          3.142857142857143,
          3.2857142857142856,
          3.2857142857142856,
          3,
          3.142857142857143,
          2.7142857142857144,
          2.4285714285714284,
          2.7142857142857144,
          3,
          3.142857142857143,
          3,
          3.4285714285714284,
          3.5714285714285716,
          4.142857142857143,
          3.7142857142857144,
          3.2857142857142856,
          3.142857142857143,
          3.2857142857142856,
          2.4285714285714284,
          2.2857142857142856,
          2.142857142857143,
          2.142857142857143,
          2.4285714285714284,
          2.4285714285714284,
          2.5714285714285716,
          3,
          3.2857142857142856,
          3,
          3.142857142857143,
          3,
          3.142857142857143,
          3.142857142857143,
          2.857142857142857,
          2.7142857142857144,
          2.5714285714285716,
          2.2857142857142856,
          2.142857142857143,
          2.142857142857143,
          2.142857142857143,
          2.142857142857143,
          2,
          2.142857142857143,
          2.142857142857143,
          2.7142857142857144,
          2.7142857142857144,
          3,
          3.2857142857142856,
          3,
          2.857142857142857,
          2.857142857142857,
          2.7142857142857144,
          2.7142857142857144,
          2.142857142857143,
          1.8571428571428572,
          2.4285714285714284,
          2.4285714285714284,
          2.7142857142857144,
          2.2857142857142856,
          2.2857142857142856,
          2.5714285714285716,
          2.857142857142857,
          2.5714285714285716,
          3,
          2.857142857142857,
          3.5714285714285716,
          3.4285714285714284,
          3.2857142857142856,
          3.2857142857142856,
          3.142857142857143,
          2.857142857142857,
          2.5714285714285716,
          1.8571428571428572,
          2,
          2.142857142857143,
          1.7142857142857142,
          1.7142857142857142,
          1.8571428571428572,
          1.8571428571428572,
          2.4285714285714284,
          2.4285714285714284,
          2.5714285714285716,
          2.5714285714285716,
          2.7142857142857144,
          2.5714285714285716,
          2.7142857142857144,
          2.5714285714285716,
          2.5714285714285716,
          2.4285714285714284,
          2.4285714285714284,
          2.142857142857143,
          2,
          2.142857142857143,
          1.7142857142857142,
          1.7142857142857142,
          1.4285714285714286,
          1.7142857142857142,
          2,
          2.2857142857142856,
          2.142857142857143,
          2.4285714285714284,
          2.4285714285714284,
          2.7142857142857144,
          2.5714285714285716,
          2.5714285714285716,
          2.2857142857142856,
          2.2857142857142856,
          2,
          2,
          1.7142857142857142,
          1.7142857142857142,
          1.7142857142857142,
          1.7142857142857142,
          1.8571428571428572,
          1.8571428571428572,
          1.7142857142857142,
          2.2857142857142856,
          2.142857142857143,
          1.8571428571428572,
          1.8571428571428572,
          1.7142857142857142,
          1.8571428571428572,
          1.8571428571428572,
          1.5714285714285714,
          1.5714285714285714,
          1.5714285714285714,
          1.5714285714285714,
          1.5714285714285714,
          1.8571428571428572,
          2,
          2,
          2,
          2,
          2.142857142857143,
          2,
          1.7142857142857142,
          1.7142857142857142,
          1.5714285714285714,
          1.5714285714285714,
          1.7142857142857142,
          1.5714285714285714,
          1.7142857142857142,
          2,
          1.8571428571428572,
          1.8571428571428572,
          1.8571428571428572,
          1.7142857142857142,
          1.8571428571428572,
          1.7142857142857142,
          1.4285714285714286,
          1.4285714285714286,
          1.2857142857142858,
          1.2857142857142858,
          1.2857142857142858,
          1.1428571428571428,
          1.1428571428571428,
          1,
          1,
          1,
          1.5714285714285714,
          1.5714285714285714,
          1.5714285714285714,
          1.5714285714285714,
          1.5714285714285714,
          1.5714285714285714,
          2,
          1.8571428571428572,
          1.8571428571428572,
          1.8571428571428572,
          2.2857142857142856,
          2.2857142857142856
         ],
         "yaxis": "y"
        }
       ],
       "layout": {
        "legend": {
         "tracegroupgap": 0
        },
        "shapes": [
         {
          "line": {
           "color": "purple",
           "dash": "dashdot",
           "width": 3
          },
          "type": "line",
          "x0": "2020-03-18",
          "x1": "2020-03-18",
          "y0": 0,
          "y1": 10
         }
        ],
        "template": {
         "data": {
          "bar": [
           {
            "error_x": {
             "color": "#2a3f5f"
            },
            "error_y": {
             "color": "#2a3f5f"
            },
            "marker": {
             "line": {
              "color": "#E5ECF6",
              "width": 0.5
             }
            },
            "type": "bar"
           }
          ],
          "barpolar": [
           {
            "marker": {
             "line": {
              "color": "#E5ECF6",
              "width": 0.5
             }
            },
            "type": "barpolar"
           }
          ],
          "carpet": [
           {
            "aaxis": {
             "endlinecolor": "#2a3f5f",
             "gridcolor": "white",
             "linecolor": "white",
             "minorgridcolor": "white",
             "startlinecolor": "#2a3f5f"
            },
            "baxis": {
             "endlinecolor": "#2a3f5f",
             "gridcolor": "white",
             "linecolor": "white",
             "minorgridcolor": "white",
             "startlinecolor": "#2a3f5f"
            },
            "type": "carpet"
           }
          ],
          "choropleth": [
           {
            "colorbar": {
             "outlinewidth": 0,
             "ticks": ""
            },
            "type": "choropleth"
           }
          ],
          "contour": [
           {
            "colorbar": {
             "outlinewidth": 0,
             "ticks": ""
            },
            "colorscale": [
             [
              0,
              "#0d0887"
             ],
             [
              0.1111111111111111,
              "#46039f"
             ],
             [
              0.2222222222222222,
              "#7201a8"
             ],
             [
              0.3333333333333333,
              "#9c179e"
             ],
             [
              0.4444444444444444,
              "#bd3786"
             ],
             [
              0.5555555555555556,
              "#d8576b"
             ],
             [
              0.6666666666666666,
              "#ed7953"
             ],
             [
              0.7777777777777778,
              "#fb9f3a"
             ],
             [
              0.8888888888888888,
              "#fdca26"
             ],
             [
              1,
              "#f0f921"
             ]
            ],
            "type": "contour"
           }
          ],
          "contourcarpet": [
           {
            "colorbar": {
             "outlinewidth": 0,
             "ticks": ""
            },
            "type": "contourcarpet"
           }
          ],
          "heatmap": [
           {
            "colorbar": {
             "outlinewidth": 0,
             "ticks": ""
            },
            "colorscale": [
             [
              0,
              "#0d0887"
             ],
             [
              0.1111111111111111,
              "#46039f"
             ],
             [
              0.2222222222222222,
              "#7201a8"
             ],
             [
              0.3333333333333333,
              "#9c179e"
             ],
             [
              0.4444444444444444,
              "#bd3786"
             ],
             [
              0.5555555555555556,
              "#d8576b"
             ],
             [
              0.6666666666666666,
              "#ed7953"
             ],
             [
              0.7777777777777778,
              "#fb9f3a"
             ],
             [
              0.8888888888888888,
              "#fdca26"
             ],
             [
              1,
              "#f0f921"
             ]
            ],
            "type": "heatmap"
           }
          ],
          "heatmapgl": [
           {
            "colorbar": {
             "outlinewidth": 0,
             "ticks": ""
            },
            "colorscale": [
             [
              0,
              "#0d0887"
             ],
             [
              0.1111111111111111,
              "#46039f"
             ],
             [
              0.2222222222222222,
              "#7201a8"
             ],
             [
              0.3333333333333333,
              "#9c179e"
             ],
             [
              0.4444444444444444,
              "#bd3786"
             ],
             [
              0.5555555555555556,
              "#d8576b"
             ],
             [
              0.6666666666666666,
              "#ed7953"
             ],
             [
              0.7777777777777778,
              "#fb9f3a"
             ],
             [
              0.8888888888888888,
              "#fdca26"
             ],
             [
              1,
              "#f0f921"
             ]
            ],
            "type": "heatmapgl"
           }
          ],
          "histogram": [
           {
            "marker": {
             "colorbar": {
              "outlinewidth": 0,
              "ticks": ""
             }
            },
            "type": "histogram"
           }
          ],
          "histogram2d": [
           {
            "colorbar": {
             "outlinewidth": 0,
             "ticks": ""
            },
            "colorscale": [
             [
              0,
              "#0d0887"
             ],
             [
              0.1111111111111111,
              "#46039f"
             ],
             [
              0.2222222222222222,
              "#7201a8"
             ],
             [
              0.3333333333333333,
              "#9c179e"
             ],
             [
              0.4444444444444444,
              "#bd3786"
             ],
             [
              0.5555555555555556,
              "#d8576b"
             ],
             [
              0.6666666666666666,
              "#ed7953"
             ],
             [
              0.7777777777777778,
              "#fb9f3a"
             ],
             [
              0.8888888888888888,
              "#fdca26"
             ],
             [
              1,
              "#f0f921"
             ]
            ],
            "type": "histogram2d"
           }
          ],
          "histogram2dcontour": [
           {
            "colorbar": {
             "outlinewidth": 0,
             "ticks": ""
            },
            "colorscale": [
             [
              0,
              "#0d0887"
             ],
             [
              0.1111111111111111,
              "#46039f"
             ],
             [
              0.2222222222222222,
              "#7201a8"
             ],
             [
              0.3333333333333333,
              "#9c179e"
             ],
             [
              0.4444444444444444,
              "#bd3786"
             ],
             [
              0.5555555555555556,
              "#d8576b"
             ],
             [
              0.6666666666666666,
              "#ed7953"
             ],
             [
              0.7777777777777778,
              "#fb9f3a"
             ],
             [
              0.8888888888888888,
              "#fdca26"
             ],
             [
              1,
              "#f0f921"
             ]
            ],
            "type": "histogram2dcontour"
           }
          ],
          "mesh3d": [
           {
            "colorbar": {
             "outlinewidth": 0,
             "ticks": ""
            },
            "type": "mesh3d"
           }
          ],
          "parcoords": [
           {
            "line": {
             "colorbar": {
              "outlinewidth": 0,
              "ticks": ""
             }
            },
            "type": "parcoords"
           }
          ],
          "pie": [
           {
            "automargin": true,
            "type": "pie"
           }
          ],
          "scatter": [
           {
            "marker": {
             "colorbar": {
              "outlinewidth": 0,
              "ticks": ""
             }
            },
            "type": "scatter"
           }
          ],
          "scatter3d": [
           {
            "line": {
             "colorbar": {
              "outlinewidth": 0,
              "ticks": ""
             }
            },
            "marker": {
             "colorbar": {
              "outlinewidth": 0,
              "ticks": ""
             }
            },
            "type": "scatter3d"
           }
          ],
          "scattercarpet": [
           {
            "marker": {
             "colorbar": {
              "outlinewidth": 0,
              "ticks": ""
             }
            },
            "type": "scattercarpet"
           }
          ],
          "scattergeo": [
           {
            "marker": {
             "colorbar": {
              "outlinewidth": 0,
              "ticks": ""
             }
            },
            "type": "scattergeo"
           }
          ],
          "scattergl": [
           {
            "marker": {
             "colorbar": {
              "outlinewidth": 0,
              "ticks": ""
             }
            },
            "type": "scattergl"
           }
          ],
          "scattermapbox": [
           {
            "marker": {
             "colorbar": {
              "outlinewidth": 0,
              "ticks": ""
             }
            },
            "type": "scattermapbox"
           }
          ],
          "scatterpolar": [
           {
            "marker": {
             "colorbar": {
              "outlinewidth": 0,
              "ticks": ""
             }
            },
            "type": "scatterpolar"
           }
          ],
          "scatterpolargl": [
           {
            "marker": {
             "colorbar": {
              "outlinewidth": 0,
              "ticks": ""
             }
            },
            "type": "scatterpolargl"
           }
          ],
          "scatterternary": [
           {
            "marker": {
             "colorbar": {
              "outlinewidth": 0,
              "ticks": ""
             }
            },
            "type": "scatterternary"
           }
          ],
          "surface": [
           {
            "colorbar": {
             "outlinewidth": 0,
             "ticks": ""
            },
            "colorscale": [
             [
              0,
              "#0d0887"
             ],
             [
              0.1111111111111111,
              "#46039f"
             ],
             [
              0.2222222222222222,
              "#7201a8"
             ],
             [
              0.3333333333333333,
              "#9c179e"
             ],
             [
              0.4444444444444444,
              "#bd3786"
             ],
             [
              0.5555555555555556,
              "#d8576b"
             ],
             [
              0.6666666666666666,
              "#ed7953"
             ],
             [
              0.7777777777777778,
              "#fb9f3a"
             ],
             [
              0.8888888888888888,
              "#fdca26"
             ],
             [
              1,
              "#f0f921"
             ]
            ],
            "type": "surface"
           }
          ],
          "table": [
           {
            "cells": {
             "fill": {
              "color": "#EBF0F8"
             },
             "line": {
              "color": "white"
             }
            },
            "header": {
             "fill": {
              "color": "#C8D4E3"
             },
             "line": {
              "color": "white"
             }
            },
            "type": "table"
           }
          ]
         },
         "layout": {
          "annotationdefaults": {
           "arrowcolor": "#2a3f5f",
           "arrowhead": 0,
           "arrowwidth": 1
          },
          "autotypenumbers": "strict",
          "coloraxis": {
           "colorbar": {
            "outlinewidth": 0,
            "ticks": ""
           }
          },
          "colorscale": {
           "diverging": [
            [
             0,
             "#8e0152"
            ],
            [
             0.1,
             "#c51b7d"
            ],
            [
             0.2,
             "#de77ae"
            ],
            [
             0.3,
             "#f1b6da"
            ],
            [
             0.4,
             "#fde0ef"
            ],
            [
             0.5,
             "#f7f7f7"
            ],
            [
             0.6,
             "#e6f5d0"
            ],
            [
             0.7,
             "#b8e186"
            ],
            [
             0.8,
             "#7fbc41"
            ],
            [
             0.9,
             "#4d9221"
            ],
            [
             1,
             "#276419"
            ]
           ],
           "sequential": [
            [
             0,
             "#0d0887"
            ],
            [
             0.1111111111111111,
             "#46039f"
            ],
            [
             0.2222222222222222,
             "#7201a8"
            ],
            [
             0.3333333333333333,
             "#9c179e"
            ],
            [
             0.4444444444444444,
             "#bd3786"
            ],
            [
             0.5555555555555556,
             "#d8576b"
            ],
            [
             0.6666666666666666,
             "#ed7953"
            ],
            [
             0.7777777777777778,
             "#fb9f3a"
            ],
            [
             0.8888888888888888,
             "#fdca26"
            ],
            [
             1,
             "#f0f921"
            ]
           ],
           "sequentialminus": [
            [
             0,
             "#0d0887"
            ],
            [
             0.1111111111111111,
             "#46039f"
            ],
            [
             0.2222222222222222,
             "#7201a8"
            ],
            [
             0.3333333333333333,
             "#9c179e"
            ],
            [
             0.4444444444444444,
             "#bd3786"
            ],
            [
             0.5555555555555556,
             "#d8576b"
            ],
            [
             0.6666666666666666,
             "#ed7953"
            ],
            [
             0.7777777777777778,
             "#fb9f3a"
            ],
            [
             0.8888888888888888,
             "#fdca26"
            ],
            [
             1,
             "#f0f921"
            ]
           ]
          },
          "colorway": [
           "#636efa",
           "#EF553B",
           "#00cc96",
           "#ab63fa",
           "#FFA15A",
           "#19d3f3",
           "#FF6692",
           "#B6E880",
           "#FF97FF",
           "#FECB52"
          ],
          "font": {
           "color": "#2a3f5f"
          },
          "geo": {
           "bgcolor": "white",
           "lakecolor": "white",
           "landcolor": "#E5ECF6",
           "showlakes": true,
           "showland": true,
           "subunitcolor": "white"
          },
          "hoverlabel": {
           "align": "left"
          },
          "hovermode": "closest",
          "mapbox": {
           "style": "light"
          },
          "paper_bgcolor": "white",
          "plot_bgcolor": "#E5ECF6",
          "polar": {
           "angularaxis": {
            "gridcolor": "white",
            "linecolor": "white",
            "ticks": ""
           },
           "bgcolor": "#E5ECF6",
           "radialaxis": {
            "gridcolor": "white",
            "linecolor": "white",
            "ticks": ""
           }
          },
          "scene": {
           "xaxis": {
            "backgroundcolor": "#E5ECF6",
            "gridcolor": "white",
            "gridwidth": 2,
            "linecolor": "white",
            "showbackground": true,
            "ticks": "",
            "zerolinecolor": "white"
           },
           "yaxis": {
            "backgroundcolor": "#E5ECF6",
            "gridcolor": "white",
            "gridwidth": 2,
            "linecolor": "white",
            "showbackground": true,
            "ticks": "",
            "zerolinecolor": "white"
           },
           "zaxis": {
            "backgroundcolor": "#E5ECF6",
            "gridcolor": "white",
            "gridwidth": 2,
            "linecolor": "white",
            "showbackground": true,
            "ticks": "",
            "zerolinecolor": "white"
           }
          },
          "shapedefaults": {
           "line": {
            "color": "#2a3f5f"
           }
          },
          "ternary": {
           "aaxis": {
            "gridcolor": "white",
            "linecolor": "white",
            "ticks": ""
           },
           "baxis": {
            "gridcolor": "white",
            "linecolor": "white",
            "ticks": ""
           },
           "bgcolor": "#E5ECF6",
           "caxis": {
            "gridcolor": "white",
            "linecolor": "white",
            "ticks": ""
           }
          },
          "title": {
           "x": 0.05
          },
          "xaxis": {
           "automargin": true,
           "gridcolor": "white",
           "linecolor": "white",
           "ticks": "",
           "title": {
            "standoff": 15
           },
           "zerolinecolor": "white",
           "zerolinewidth": 2
          },
          "yaxis": {
           "automargin": true,
           "gridcolor": "white",
           "linecolor": "white",
           "ticks": "",
           "title": {
            "standoff": 15
           },
           "zerolinecolor": "white",
           "zerolinewidth": 2
          }
         }
        },
        "title": {
         "text": "Comparison of Homicides Crime Pre and Post Covid-19 Era"
        },
        "xaxis": {
         "anchor": "y",
         "domain": [
          0,
          1
         ],
         "title": {
          "text": "date"
         }
        },
        "yaxis": {
         "anchor": "x",
         "domain": [
          0,
          1
         ],
         "title": {
          "text": "7-Day Rolling Average Homicides Crime"
         }
        }
       }
      },
      "text/html": [
       "<div>                            <div id=\"a782c579-3914-4703-bed7-b114793f7e70\" class=\"plotly-graph-div\" style=\"height:525px; width:100%;\"></div>            <script type=\"text/javascript\">                require([\"plotly\"], function(Plotly) {                    window.PLOTLYENV=window.PLOTLYENV || {};                                    if (document.getElementById(\"a782c579-3914-4703-bed7-b114793f7e70\")) {                    Plotly.newPlot(                        \"a782c579-3914-4703-bed7-b114793f7e70\",                        [{\"hovertemplate\": \"date=%{x}<br>7-Day Rolling Average Homicides Crime=%{y}<extra></extra>\", \"legendgroup\": \"\", \"line\": {\"color\": \"#636efa\", \"dash\": \"solid\"}, \"mode\": \"lines\", \"name\": \"\", \"orientation\": \"v\", \"showlegend\": false, \"type\": \"scatter\", \"x\": [\"2019-03-18T00:00:00\", \"2019-03-22T00:00:00\", \"2019-03-23T00:00:00\", \"2019-03-24T00:00:00\", \"2019-03-25T00:00:00\", \"2019-03-26T00:00:00\", \"2019-03-27T00:00:00\", \"2019-03-28T00:00:00\", \"2019-03-29T00:00:00\", \"2019-03-31T00:00:00\", \"2019-04-01T00:00:00\", \"2019-04-02T00:00:00\", \"2019-04-03T00:00:00\", \"2019-04-04T00:00:00\", \"2019-04-05T00:00:00\", \"2019-04-06T00:00:00\", \"2019-04-07T00:00:00\", \"2019-04-08T00:00:00\", \"2019-04-09T00:00:00\", \"2019-04-10T00:00:00\", \"2019-04-11T00:00:00\", \"2019-04-13T00:00:00\", \"2019-04-14T00:00:00\", \"2019-04-15T00:00:00\", \"2019-04-16T00:00:00\", \"2019-04-17T00:00:00\", \"2019-04-18T00:00:00\", \"2019-04-19T00:00:00\", \"2019-04-20T00:00:00\", \"2019-04-21T00:00:00\", \"2019-04-22T00:00:00\", \"2019-04-23T00:00:00\", \"2019-04-24T00:00:00\", \"2019-04-26T00:00:00\", \"2019-04-27T00:00:00\", \"2019-04-28T00:00:00\", \"2019-04-29T00:00:00\", \"2019-04-30T00:00:00\", \"2019-05-02T00:00:00\", \"2019-05-03T00:00:00\", \"2019-05-05T00:00:00\", \"2019-05-06T00:00:00\", \"2019-05-07T00:00:00\", \"2019-05-08T00:00:00\", \"2019-05-09T00:00:00\", \"2019-05-10T00:00:00\", \"2019-05-11T00:00:00\", \"2019-05-12T00:00:00\", \"2019-05-13T00:00:00\", \"2019-05-14T00:00:00\", \"2019-05-15T00:00:00\", \"2019-05-16T00:00:00\", \"2019-05-17T00:00:00\", \"2019-05-18T00:00:00\", \"2019-05-19T00:00:00\", \"2019-05-20T00:00:00\", \"2019-05-21T00:00:00\", \"2019-05-22T00:00:00\", \"2019-05-23T00:00:00\", \"2019-05-24T00:00:00\", \"2019-05-25T00:00:00\", \"2019-05-26T00:00:00\", \"2019-05-27T00:00:00\", \"2019-05-28T00:00:00\", \"2019-05-29T00:00:00\", \"2019-05-30T00:00:00\", \"2019-05-31T00:00:00\", \"2019-06-01T00:00:00\", \"2019-06-02T00:00:00\", \"2019-06-03T00:00:00\", \"2019-06-04T00:00:00\", \"2019-06-05T00:00:00\", \"2019-06-06T00:00:00\", \"2019-06-07T00:00:00\", \"2019-06-08T00:00:00\", \"2019-06-09T00:00:00\", \"2019-06-11T00:00:00\", \"2019-06-12T00:00:00\", \"2019-06-13T00:00:00\", \"2019-06-15T00:00:00\", \"2019-06-16T00:00:00\", \"2019-06-17T00:00:00\", \"2019-06-18T00:00:00\", \"2019-06-19T00:00:00\", \"2019-06-20T00:00:00\", \"2019-06-21T00:00:00\", \"2019-06-22T00:00:00\", \"2019-06-23T00:00:00\", \"2019-06-26T00:00:00\", \"2019-06-27T00:00:00\", \"2019-06-28T00:00:00\", \"2019-06-29T00:00:00\", \"2019-06-30T00:00:00\", \"2019-07-02T00:00:00\", \"2019-07-03T00:00:00\", \"2019-07-04T00:00:00\", \"2019-07-05T00:00:00\", \"2019-07-06T00:00:00\", \"2019-07-07T00:00:00\", \"2019-07-09T00:00:00\", \"2019-07-12T00:00:00\", \"2019-07-13T00:00:00\", \"2019-07-14T00:00:00\", \"2019-07-16T00:00:00\", \"2019-07-18T00:00:00\", \"2019-07-19T00:00:00\", \"2019-07-20T00:00:00\", \"2019-07-22T00:00:00\", \"2019-07-23T00:00:00\", \"2019-07-24T00:00:00\", \"2019-07-25T00:00:00\", \"2019-07-26T00:00:00\", \"2019-07-27T00:00:00\", \"2019-07-28T00:00:00\", \"2019-07-31T00:00:00\", \"2019-08-02T00:00:00\", \"2019-08-03T00:00:00\", \"2019-08-04T00:00:00\", \"2019-08-05T00:00:00\", \"2019-08-07T00:00:00\", \"2019-08-10T00:00:00\", \"2019-08-11T00:00:00\", \"2019-08-12T00:00:00\", \"2019-08-14T00:00:00\", \"2019-08-15T00:00:00\", \"2019-08-16T00:00:00\", \"2019-08-17T00:00:00\", \"2019-08-18T00:00:00\", \"2019-08-19T00:00:00\", \"2019-08-20T00:00:00\", \"2019-08-22T00:00:00\", \"2019-08-23T00:00:00\", \"2019-08-24T00:00:00\", \"2019-08-25T00:00:00\", \"2019-08-26T00:00:00\", \"2019-08-27T00:00:00\", \"2019-08-28T00:00:00\", \"2019-08-29T00:00:00\", \"2019-08-30T00:00:00\", \"2019-08-31T00:00:00\", \"2019-09-01T00:00:00\", \"2019-09-02T00:00:00\", \"2019-09-03T00:00:00\", \"2019-09-04T00:00:00\", \"2019-09-07T00:00:00\", \"2019-09-08T00:00:00\", \"2019-09-09T00:00:00\", \"2019-09-10T00:00:00\", \"2019-09-11T00:00:00\", \"2019-09-12T00:00:00\", \"2019-09-13T00:00:00\", \"2019-09-14T00:00:00\", \"2019-09-16T00:00:00\", \"2019-09-18T00:00:00\", \"2019-09-19T00:00:00\", \"2019-09-21T00:00:00\", \"2019-09-22T00:00:00\", \"2019-09-24T00:00:00\", \"2019-09-25T00:00:00\", \"2019-09-26T00:00:00\", \"2019-09-28T00:00:00\", \"2019-10-01T00:00:00\", \"2019-10-02T00:00:00\", \"2019-10-04T00:00:00\", \"2019-10-05T00:00:00\", \"2019-10-06T00:00:00\", \"2019-10-07T00:00:00\", \"2019-10-09T00:00:00\", \"2019-10-10T00:00:00\", \"2019-10-12T00:00:00\", \"2019-10-13T00:00:00\", \"2019-10-14T00:00:00\", \"2019-10-15T00:00:00\", \"2019-10-17T00:00:00\", \"2019-10-19T00:00:00\", \"2019-10-20T00:00:00\", \"2019-10-21T00:00:00\", \"2019-10-22T00:00:00\", \"2019-10-25T00:00:00\", \"2019-10-27T00:00:00\", \"2019-10-28T00:00:00\", \"2019-10-30T00:00:00\", \"2019-10-31T00:00:00\", \"2019-11-02T00:00:00\", \"2019-11-03T00:00:00\", \"2019-11-04T00:00:00\", \"2019-11-05T00:00:00\", \"2019-11-06T00:00:00\", \"2019-11-07T00:00:00\", \"2019-11-08T00:00:00\", \"2019-11-09T00:00:00\", \"2019-11-10T00:00:00\", \"2019-11-11T00:00:00\", \"2019-11-12T00:00:00\", \"2019-11-13T00:00:00\", \"2019-11-15T00:00:00\", \"2019-11-16T00:00:00\", \"2019-11-17T00:00:00\", \"2019-11-19T00:00:00\", \"2019-11-20T00:00:00\", \"2019-11-21T00:00:00\", \"2019-11-23T00:00:00\", \"2019-11-26T00:00:00\", \"2019-11-28T00:00:00\", \"2019-11-29T00:00:00\", \"2019-11-30T00:00:00\", \"2019-12-02T00:00:00\", \"2019-12-03T00:00:00\", \"2019-12-04T00:00:00\", \"2019-12-05T00:00:00\", \"2019-12-06T00:00:00\", \"2019-12-08T00:00:00\", \"2019-12-09T00:00:00\", \"2019-12-10T00:00:00\", \"2019-12-12T00:00:00\", \"2019-12-14T00:00:00\", \"2019-12-15T00:00:00\", \"2019-12-17T00:00:00\", \"2019-12-19T00:00:00\", \"2019-12-20T00:00:00\", \"2019-12-21T00:00:00\", \"2019-12-22T00:00:00\", \"2019-12-23T00:00:00\", \"2019-12-24T00:00:00\", \"2019-12-25T00:00:00\", \"2019-12-27T00:00:00\", \"2019-12-29T00:00:00\", \"2019-12-30T00:00:00\", \"2020-01-02T00:00:00\", \"2020-01-03T00:00:00\", \"2020-01-04T00:00:00\", \"2020-01-05T00:00:00\", \"2020-01-10T00:00:00\", \"2020-01-12T00:00:00\", \"2020-01-14T00:00:00\", \"2020-01-15T00:00:00\", \"2020-01-16T00:00:00\", \"2020-01-17T00:00:00\", \"2020-01-18T00:00:00\", \"2020-01-19T00:00:00\", \"2020-01-21T00:00:00\", \"2020-01-22T00:00:00\", \"2020-01-23T00:00:00\", \"2020-01-24T00:00:00\", \"2020-01-25T00:00:00\", \"2020-01-26T00:00:00\", \"2020-01-27T00:00:00\", \"2020-01-28T00:00:00\", \"2020-01-29T00:00:00\", \"2020-02-01T00:00:00\", \"2020-02-02T00:00:00\", \"2020-02-03T00:00:00\", \"2020-02-04T00:00:00\", \"2020-02-05T00:00:00\", \"2020-02-06T00:00:00\", \"2020-02-07T00:00:00\", \"2020-02-08T00:00:00\", \"2020-02-09T00:00:00\", \"2020-02-12T00:00:00\", \"2020-02-13T00:00:00\", \"2020-02-14T00:00:00\", \"2020-02-16T00:00:00\", \"2020-02-17T00:00:00\", \"2020-02-19T00:00:00\", \"2020-02-20T00:00:00\", \"2020-02-21T00:00:00\", \"2020-02-22T00:00:00\", \"2020-02-23T00:00:00\", \"2020-02-24T00:00:00\", \"2020-02-25T00:00:00\", \"2020-02-26T00:00:00\", \"2020-03-01T00:00:00\", \"2020-03-02T00:00:00\", \"2020-03-03T00:00:00\", \"2020-03-05T00:00:00\", \"2020-03-06T00:00:00\", \"2020-03-08T00:00:00\", \"2020-03-09T00:00:00\", \"2020-03-10T00:00:00\", \"2020-03-13T00:00:00\", \"2020-03-14T00:00:00\", \"2020-03-15T00:00:00\", \"2020-03-16T00:00:00\", \"2020-03-18T00:00:00\", \"2020-03-22T00:00:00\", \"2020-03-25T00:00:00\", \"2020-03-27T00:00:00\", \"2020-03-28T00:00:00\", \"2020-03-31T00:00:00\", \"2020-04-01T00:00:00\", \"2020-04-02T00:00:00\", \"2020-04-03T00:00:00\", \"2020-04-04T00:00:00\", \"2020-04-05T00:00:00\", \"2020-04-06T00:00:00\", \"2020-04-07T00:00:00\", \"2020-04-08T00:00:00\", \"2020-04-09T00:00:00\", \"2020-04-10T00:00:00\", \"2020-04-11T00:00:00\", \"2020-04-13T00:00:00\", \"2020-04-14T00:00:00\", \"2020-04-16T00:00:00\", \"2020-04-19T00:00:00\", \"2020-04-20T00:00:00\", \"2020-04-21T00:00:00\", \"2020-04-23T00:00:00\", \"2020-04-24T00:00:00\", \"2020-04-25T00:00:00\", \"2020-04-26T00:00:00\", \"2020-04-27T00:00:00\", \"2020-04-28T00:00:00\", \"2020-04-29T00:00:00\", \"2020-05-01T00:00:00\", \"2020-05-03T00:00:00\", \"2020-05-04T00:00:00\", \"2020-05-05T00:00:00\", \"2020-05-06T00:00:00\", \"2020-05-07T00:00:00\", \"2020-05-08T00:00:00\", \"2020-05-09T00:00:00\", \"2020-05-10T00:00:00\", \"2020-05-11T00:00:00\", \"2020-05-12T00:00:00\", \"2020-05-13T00:00:00\", \"2020-05-15T00:00:00\", \"2020-05-16T00:00:00\", \"2020-05-17T00:00:00\", \"2020-05-20T00:00:00\", \"2020-05-22T00:00:00\", \"2020-05-23T00:00:00\", \"2020-05-24T00:00:00\", \"2020-05-25T00:00:00\", \"2020-05-26T00:00:00\", \"2020-05-27T00:00:00\", \"2020-05-28T00:00:00\", \"2020-05-29T00:00:00\", \"2020-05-30T00:00:00\", \"2020-05-31T00:00:00\", \"2020-06-01T00:00:00\", \"2020-06-02T00:00:00\", \"2020-06-03T00:00:00\", \"2020-06-04T00:00:00\", \"2020-06-05T00:00:00\", \"2020-06-06T00:00:00\", \"2020-06-07T00:00:00\", \"2020-06-08T00:00:00\", \"2020-06-09T00:00:00\", \"2020-06-10T00:00:00\", \"2020-06-11T00:00:00\", \"2020-06-13T00:00:00\", \"2020-06-14T00:00:00\", \"2020-06-15T00:00:00\", \"2020-06-16T00:00:00\", \"2020-06-17T00:00:00\", \"2020-06-18T00:00:00\", \"2020-06-19T00:00:00\", \"2020-06-20T00:00:00\", \"2020-06-21T00:00:00\", \"2020-06-22T00:00:00\", \"2020-06-23T00:00:00\", \"2020-06-24T00:00:00\", \"2020-06-25T00:00:00\", \"2020-06-26T00:00:00\", \"2020-06-27T00:00:00\", \"2020-06-28T00:00:00\", \"2020-06-29T00:00:00\", \"2020-06-30T00:00:00\", \"2020-07-01T00:00:00\", \"2020-07-02T00:00:00\", \"2020-07-03T00:00:00\", \"2020-07-04T00:00:00\", \"2020-07-05T00:00:00\", \"2020-07-06T00:00:00\", \"2020-07-07T00:00:00\", \"2020-07-08T00:00:00\", \"2020-07-09T00:00:00\", \"2020-07-10T00:00:00\", \"2020-07-11T00:00:00\", \"2020-07-12T00:00:00\", \"2020-07-13T00:00:00\", \"2020-07-14T00:00:00\", \"2020-07-15T00:00:00\", \"2020-07-16T00:00:00\", \"2020-07-17T00:00:00\", \"2020-07-18T00:00:00\", \"2020-07-19T00:00:00\", \"2020-07-20T00:00:00\", \"2020-07-21T00:00:00\", \"2020-07-22T00:00:00\", \"2020-07-23T00:00:00\", \"2020-07-24T00:00:00\", \"2020-07-25T00:00:00\", \"2020-07-26T00:00:00\", \"2020-07-27T00:00:00\", \"2020-07-28T00:00:00\", \"2020-07-29T00:00:00\", \"2020-07-31T00:00:00\", \"2020-08-01T00:00:00\", \"2020-08-02T00:00:00\", \"2020-08-04T00:00:00\", \"2020-08-06T00:00:00\", \"2020-08-07T00:00:00\", \"2020-08-08T00:00:00\", \"2020-08-09T00:00:00\", \"2020-08-10T00:00:00\", \"2020-08-11T00:00:00\", \"2020-08-13T00:00:00\", \"2020-08-14T00:00:00\", \"2020-08-15T00:00:00\", \"2020-08-16T00:00:00\", \"2020-08-17T00:00:00\", \"2020-08-18T00:00:00\", \"2020-08-20T00:00:00\", \"2020-08-22T00:00:00\", \"2020-08-23T00:00:00\", \"2020-08-25T00:00:00\", \"2020-08-26T00:00:00\", \"2020-08-27T00:00:00\", \"2020-08-28T00:00:00\", \"2020-08-29T00:00:00\", \"2020-08-30T00:00:00\", \"2020-08-31T00:00:00\", \"2020-09-01T00:00:00\", \"2020-09-02T00:00:00\", \"2020-09-03T00:00:00\", \"2020-09-04T00:00:00\", \"2020-09-05T00:00:00\", \"2020-09-06T00:00:00\", \"2020-09-07T00:00:00\", \"2020-09-08T00:00:00\", \"2020-09-10T00:00:00\", \"2020-09-12T00:00:00\", \"2020-09-13T00:00:00\", \"2020-09-14T00:00:00\", \"2020-09-15T00:00:00\", \"2020-09-16T00:00:00\", \"2020-09-17T00:00:00\", \"2020-09-18T00:00:00\", \"2020-09-19T00:00:00\", \"2020-09-20T00:00:00\", \"2020-09-21T00:00:00\", \"2020-09-22T00:00:00\", \"2020-09-23T00:00:00\", \"2020-09-24T00:00:00\", \"2020-09-25T00:00:00\", \"2020-09-26T00:00:00\", \"2020-09-27T00:00:00\", \"2020-09-28T00:00:00\", \"2020-09-29T00:00:00\", \"2020-09-30T00:00:00\", \"2020-10-01T00:00:00\", \"2020-10-02T00:00:00\", \"2020-10-04T00:00:00\", \"2020-10-05T00:00:00\", \"2020-10-06T00:00:00\", \"2020-10-07T00:00:00\", \"2020-10-08T00:00:00\", \"2020-10-09T00:00:00\", \"2020-10-10T00:00:00\", \"2020-10-11T00:00:00\", \"2020-10-12T00:00:00\", \"2020-10-13T00:00:00\", \"2020-10-14T00:00:00\", \"2020-10-15T00:00:00\", \"2020-10-16T00:00:00\", \"2020-10-17T00:00:00\", \"2020-10-18T00:00:00\", \"2020-10-19T00:00:00\", \"2020-10-21T00:00:00\", \"2020-10-22T00:00:00\", \"2020-10-24T00:00:00\", \"2020-10-25T00:00:00\", \"2020-10-27T00:00:00\", \"2020-10-28T00:00:00\", \"2020-10-29T00:00:00\", \"2020-10-30T00:00:00\", \"2020-10-31T00:00:00\", \"2020-11-02T00:00:00\", \"2020-11-03T00:00:00\", \"2020-11-04T00:00:00\", \"2020-11-05T00:00:00\", \"2020-11-06T00:00:00\", \"2020-11-07T00:00:00\", \"2020-11-08T00:00:00\", \"2020-11-09T00:00:00\", \"2020-11-10T00:00:00\", \"2020-11-11T00:00:00\", \"2020-11-12T00:00:00\", \"2020-11-13T00:00:00\", \"2020-11-14T00:00:00\", \"2020-11-16T00:00:00\", \"2020-11-18T00:00:00\", \"2020-11-20T00:00:00\", \"2020-11-21T00:00:00\", \"2020-11-22T00:00:00\", \"2020-11-23T00:00:00\", \"2020-11-24T00:00:00\", \"2020-11-26T00:00:00\", \"2020-11-27T00:00:00\", \"2020-11-28T00:00:00\", \"2020-11-29T00:00:00\", \"2020-11-30T00:00:00\", \"2020-12-02T00:00:00\", \"2020-12-03T00:00:00\", \"2020-12-05T00:00:00\", \"2020-12-06T00:00:00\", \"2020-12-07T00:00:00\", \"2020-12-08T00:00:00\", \"2020-12-09T00:00:00\", \"2020-12-10T00:00:00\", \"2020-12-11T00:00:00\", \"2020-12-13T00:00:00\", \"2020-12-16T00:00:00\", \"2020-12-17T00:00:00\", \"2020-12-18T00:00:00\", \"2020-12-19T00:00:00\", \"2020-12-20T00:00:00\", \"2020-12-21T00:00:00\", \"2020-12-22T00:00:00\", \"2020-12-24T00:00:00\", \"2020-12-25T00:00:00\", \"2020-12-26T00:00:00\", \"2020-12-27T00:00:00\", \"2020-12-28T00:00:00\", \"2020-12-29T00:00:00\", \"2020-12-30T00:00:00\", \"2020-12-31T00:00:00\", \"2021-01-01T00:00:00\", \"2021-01-02T00:00:00\", \"2021-01-03T00:00:00\", \"2021-01-04T00:00:00\", \"2021-01-05T00:00:00\", \"2021-01-06T00:00:00\", \"2021-01-07T00:00:00\", \"2021-01-08T00:00:00\", \"2021-01-09T00:00:00\", \"2021-01-11T00:00:00\", \"2021-01-12T00:00:00\", \"2021-01-13T00:00:00\", \"2021-01-14T00:00:00\", \"2021-01-15T00:00:00\", \"2021-01-16T00:00:00\", \"2021-01-17T00:00:00\", \"2021-01-18T00:00:00\", \"2021-01-19T00:00:00\", \"2021-01-20T00:00:00\", \"2021-01-21T00:00:00\", \"2021-01-22T00:00:00\", \"2021-01-23T00:00:00\", \"2021-01-24T00:00:00\", \"2021-01-25T00:00:00\", \"2021-01-27T00:00:00\", \"2021-01-28T00:00:00\", \"2021-01-29T00:00:00\", \"2021-01-30T00:00:00\", \"2021-01-31T00:00:00\", \"2021-02-02T00:00:00\", \"2021-02-03T00:00:00\", \"2021-02-05T00:00:00\", \"2021-02-06T00:00:00\", \"2021-02-07T00:00:00\", \"2021-02-08T00:00:00\", \"2021-02-09T00:00:00\", \"2021-02-10T00:00:00\", \"2021-02-12T00:00:00\", \"2021-02-13T00:00:00\", \"2021-02-14T00:00:00\", \"2021-02-15T00:00:00\", \"2021-02-16T00:00:00\", \"2021-02-17T00:00:00\", \"2021-02-18T00:00:00\", \"2021-02-20T00:00:00\", \"2021-02-21T00:00:00\", \"2021-02-22T00:00:00\", \"2021-02-24T00:00:00\", \"2021-02-25T00:00:00\", \"2021-02-26T00:00:00\", \"2021-02-27T00:00:00\", \"2021-02-28T00:00:00\", \"2021-03-01T00:00:00\", \"2021-03-02T00:00:00\", \"2021-03-04T00:00:00\", \"2021-03-06T00:00:00\", \"2021-03-07T00:00:00\", \"2021-03-08T00:00:00\", \"2021-03-10T00:00:00\", \"2021-03-12T00:00:00\", \"2021-03-13T00:00:00\", \"2021-03-14T00:00:00\", \"2021-03-15T00:00:00\"], \"xaxis\": \"x\", \"y\": [null, null, null, null, null, null, 1.5714285714285714, 1.8571428571428572, 2.0, 2.0, 2.2857142857142856, 2.2857142857142856, 2.4285714285714284, 2.4285714285714284, 2.142857142857143, 1.8571428571428572, 2.2857142857142856, 2.142857142857143, 2.142857142857143, 2.142857142857143, 2.142857142857143, 2.2857142857142856, 2.2857142857142856, 2.0, 1.8571428571428572, 2.2857142857142856, 2.142857142857143, 2.142857142857143, 2.2857142857142856, 2.2857142857142856, 2.142857142857143, 2.0, 1.5714285714285714, 2.0, 2.142857142857143, 2.0, 2.2857142857142856, 2.142857142857143, 2.142857142857143, 2.142857142857143, 2.0, 2.142857142857143, 2.0, 1.7142857142857142, 1.7142857142857142, 1.7142857142857142, 1.8571428571428572, 1.4285714285714286, 1.1428571428571428, 1.4285714285714286, 1.4285714285714286, 1.8571428571428572, 1.8571428571428572, 1.7142857142857142, 1.7142857142857142, 1.8571428571428572, 1.5714285714285714, 1.5714285714285714, 1.2857142857142858, 1.2857142857142858, 1.4285714285714286, 1.7142857142857142, 1.5714285714285714, 1.8571428571428572, 2.4285714285714284, 2.5714285714285716, 2.857142857142857, 3.142857142857143, 3.142857142857143, 3.142857142857143, 2.857142857142857, 2.5714285714285716, 2.2857142857142856, 2.0, 1.7142857142857142, 1.5714285714285714, 1.5714285714285714, 1.7142857142857142, 1.5714285714285714, 1.8571428571428572, 2.2857142857142856, 2.142857142857143, 2.0, 2.142857142857143, 2.0, 2.2857142857142856, 2.142857142857143, 1.8571428571428572, 1.8571428571428572, 1.8571428571428572, 1.8571428571428572, 2.142857142857143, 1.8571428571428572, 2.0, 1.8571428571428572, 1.8571428571428572, 2.142857142857143, 2.0, 1.7142857142857142, 1.5714285714285714, 1.5714285714285714, 2.4285714285714284, 2.7142857142857144, 2.4285714285714284, 2.5714285714285716, 2.5714285714285716, 2.5714285714285716, 2.4285714285714284, 1.5714285714285714, 1.2857142857142858, 1.4285714285714286, 1.4285714285714286, 2.0, 2.0, 1.8571428571428572, 1.8571428571428572, 2.142857142857143, 2.142857142857143, 2.142857142857143, 1.7142857142857142, 2.2857142857142856, 2.2857142857142856, 2.2857142857142856, 2.0, 1.8571428571428572, 1.8571428571428572, 1.7142857142857142, 1.2857142857142858, 1.2857142857142858, 1.4285714285714286, 1.4285714285714286, 1.5714285714285714, 1.8571428571428572, 2.142857142857143, 2.0, 2.142857142857143, 2.142857142857143, 2.4285714285714284, 2.2857142857142856, 2.4285714285714284, 2.4285714285714284, 2.4285714285714284, 2.4285714285714284, 2.2857142857142856, 2.142857142857143, 2.5714285714285716, 2.142857142857143, 2.0, 2.142857142857143, 2.0, 2.4285714285714284, 2.7142857142857144, 2.4285714285714284, 2.5714285714285716, 2.5714285714285716, 2.4285714285714284, 2.7142857142857144, 2.857142857142857, 2.7142857142857144, 2.7142857142857144, 2.5714285714285716, 2.5714285714285716, 2.7142857142857144, 2.5714285714285716, 2.2857142857142856, 2.0, 1.8571428571428572, 1.7142857142857142, 1.5714285714285714, 2.0, 2.142857142857143, 1.8571428571428572, 2.0, 2.0, 2.142857142857143, 2.142857142857143, 1.7142857142857142, 1.7142857142857142, 1.7142857142857142, 1.8571428571428572, 1.8571428571428572, 1.7142857142857142, 1.7142857142857142, 1.7142857142857142, 1.5714285714285714, 1.5714285714285714, 1.2857142857142858, 1.2857142857142858, 1.4285714285714286, 1.4285714285714286, 1.2857142857142858, 1.2857142857142858, 1.2857142857142858, 1.2857142857142858, 1.2857142857142858, 1.4285714285714286, 1.4285714285714286, 1.4285714285714286, 1.4285714285714286, 1.5714285714285714, 1.5714285714285714, 1.5714285714285714, 1.5714285714285714, 1.5714285714285714, 1.5714285714285714, 1.5714285714285714, 1.4285714285714286, 1.7142857142857142, 1.7142857142857142, 1.4285714285714286, 1.4285714285714286, 1.5714285714285714, 1.4285714285714286, 1.4285714285714286, 1.1428571428571428, 1.1428571428571428, 1.1428571428571428, 1.1428571428571428, 1.0, 1.1428571428571428, 1.5714285714285714, 1.5714285714285714, 1.5714285714285714, 1.5714285714285714, 1.5714285714285714, 1.7142857142857142, 1.8571428571428572, 1.5714285714285714, 2.0, 2.142857142857143, 2.2857142857142856, 2.4285714285714284, 2.5714285714285716, 2.2857142857142856, 2.2857142857142856, 2.0, 2.0, 1.8571428571428572, 2.0, 1.7142857142857142, 1.7142857142857142, 1.5714285714285714, 1.4285714285714286, 1.2857142857142858, 1.2857142857142858, 1.0, 1.0, 1.2857142857142858, 1.2857142857142858, 1.4285714285714286, 1.5714285714285714, 1.5714285714285714, 1.5714285714285714, 1.5714285714285714, 1.2857142857142858, 1.4285714285714286, 1.8571428571428572, 2.142857142857143, 2.142857142857143, 2.142857142857143, 2.142857142857143, 2.4285714285714284, 2.2857142857142856, 1.7142857142857142, 1.2857142857142858, 1.4285714285714286, 1.5714285714285714, 1.7142857142857142, 1.4285714285714286, 1.4285714285714286, 1.5714285714285714, 1.8571428571428572, 2.0, 2.0, 2.0, 2.0, 2.142857142857143, 2.0, 1.7142857142857142, 1.4285714285714286, 1.5714285714285714, 1.4285714285714286, 1.5714285714285714, 1.4285714285714286, 1.4285714285714286, 1.4285714285714286, 1.4285714285714286, 1.1428571428571428, 1.1428571428571428, 1.1428571428571428, 1.2857142857142858, 1.2857142857142858, 1.2857142857142858, 1.5714285714285714, 2.142857142857143, 3.142857142857143, 3.2857142857142856, 3.2857142857142856, 3.7142857142857144, 3.7142857142857144, 3.5714285714285716, 3.142857142857143, 2.4285714285714284, 2.5714285714285716, 3.0, 2.857142857142857, 3.142857142857143, 3.0, 2.857142857142857, 2.5714285714285716, 2.142857142857143, 1.7142857142857142, 1.5714285714285714, 1.4285714285714286, 1.5714285714285714, 1.5714285714285714, 1.8571428571428572, 2.142857142857143, 2.5714285714285716, 2.4285714285714284, 2.2857142857142856, 2.2857142857142856, 2.2857142857142856, 2.142857142857143, 2.0, 1.5714285714285714, 2.0, 2.0, 1.8571428571428572, 2.142857142857143, 2.5714285714285716, 2.7142857142857144, 2.7142857142857144, 2.7142857142857144, 2.857142857142857, 3.0, 3.2857142857142856, 3.7142857142857144, 6.0, 6.428571428571429, 6.0, 6.285714285714286, 6.428571428571429, 5.857142857142857, 4.857142857142857, 2.7142857142857144, 2.4285714285714284, 2.5714285714285716, 2.142857142857143, 2.142857142857143, 2.142857142857143, 2.2857142857142856, 2.4285714285714284, 2.2857142857142856, 2.142857142857143, 2.5714285714285716, 3.0, 3.7142857142857144, 4.0, 4.142857142857143, 4.142857142857143, 4.428571428571429, 4.285714285714286, 3.5714285714285716, 3.5714285714285716, 4.142857142857143, 4.0, 3.857142857142857, 3.7142857142857144, 4.0, 4.0, 4.428571428571429, 4.142857142857143, 4.142857142857143, 4.714285714285714, 4.571428571428571, 4.428571428571429, 5.142857142857143, 4.714285714285714, 4.428571428571429, 4.428571428571429, 4.0, 4.142857142857143, 4.428571428571429, 4.142857142857143, 3.857142857142857, 4.0, 4.0, 4.428571428571429, 4.428571428571429, 4.142857142857143, 3.857142857142857, 3.4285714285714284, 3.0, 2.5714285714285716, 2.2857142857142856, 2.2857142857142856, 1.8571428571428572, 2.4285714285714284, 2.857142857142857, 2.7142857142857144, 2.7142857142857144, 2.7142857142857144, 2.7142857142857144, 3.0, 2.4285714285714284, 2.0, 2.142857142857143, 2.4285714285714284, 2.142857142857143, 2.142857142857143, 1.8571428571428572, 2.0, 2.142857142857143, 2.4285714285714284, 2.0, 2.0, 2.2857142857142856, 2.5714285714285716, 3.0, 3.142857142857143, 3.142857142857143, 3.2857142857142856, 3.2857142857142856, 3.0, 3.142857142857143, 2.7142857142857144, 2.4285714285714284, 2.7142857142857144, 3.0, 3.142857142857143, 3.0, 3.4285714285714284, 3.5714285714285716, 4.142857142857143, 3.7142857142857144, 3.2857142857142856, 3.142857142857143, 3.2857142857142856, 2.4285714285714284, 2.2857142857142856, 2.142857142857143, 2.142857142857143, 2.4285714285714284, 2.4285714285714284, 2.5714285714285716, 3.0, 3.2857142857142856, 3.0, 3.142857142857143, 3.0, 3.142857142857143, 3.142857142857143, 2.857142857142857, 2.7142857142857144, 2.5714285714285716, 2.2857142857142856, 2.142857142857143, 2.142857142857143, 2.142857142857143, 2.142857142857143, 2.0, 2.142857142857143, 2.142857142857143, 2.7142857142857144, 2.7142857142857144, 3.0, 3.2857142857142856, 3.0, 2.857142857142857, 2.857142857142857, 2.7142857142857144, 2.7142857142857144, 2.142857142857143, 1.8571428571428572, 2.4285714285714284, 2.4285714285714284, 2.7142857142857144, 2.2857142857142856, 2.2857142857142856, 2.5714285714285716, 2.857142857142857, 2.5714285714285716, 3.0, 2.857142857142857, 3.5714285714285716, 3.4285714285714284, 3.2857142857142856, 3.2857142857142856, 3.142857142857143, 2.857142857142857, 2.5714285714285716, 1.8571428571428572, 2.0, 2.142857142857143, 1.7142857142857142, 1.7142857142857142, 1.8571428571428572, 1.8571428571428572, 2.4285714285714284, 2.4285714285714284, 2.5714285714285716, 2.5714285714285716, 2.7142857142857144, 2.5714285714285716, 2.7142857142857144, 2.5714285714285716, 2.5714285714285716, 2.4285714285714284, 2.4285714285714284, 2.142857142857143, 2.0, 2.142857142857143, 1.7142857142857142, 1.7142857142857142, 1.4285714285714286, 1.7142857142857142, 2.0, 2.2857142857142856, 2.142857142857143, 2.4285714285714284, 2.4285714285714284, 2.7142857142857144, 2.5714285714285716, 2.5714285714285716, 2.2857142857142856, 2.2857142857142856, 2.0, 2.0, 1.7142857142857142, 1.7142857142857142, 1.7142857142857142, 1.7142857142857142, 1.8571428571428572, 1.8571428571428572, 1.7142857142857142, 2.2857142857142856, 2.142857142857143, 1.8571428571428572, 1.8571428571428572, 1.7142857142857142, 1.8571428571428572, 1.8571428571428572, 1.5714285714285714, 1.5714285714285714, 1.5714285714285714, 1.5714285714285714, 1.5714285714285714, 1.8571428571428572, 2.0, 2.0, 2.0, 2.0, 2.142857142857143, 2.0, 1.7142857142857142, 1.7142857142857142, 1.5714285714285714, 1.5714285714285714, 1.7142857142857142, 1.5714285714285714, 1.7142857142857142, 2.0, 1.8571428571428572, 1.8571428571428572, 1.8571428571428572, 1.7142857142857142, 1.8571428571428572, 1.7142857142857142, 1.4285714285714286, 1.4285714285714286, 1.2857142857142858, 1.2857142857142858, 1.2857142857142858, 1.1428571428571428, 1.1428571428571428, 1.0, 1.0, 1.0, 1.5714285714285714, 1.5714285714285714, 1.5714285714285714, 1.5714285714285714, 1.5714285714285714, 1.5714285714285714, 2.0, 1.8571428571428572, 1.8571428571428572, 1.8571428571428572, 2.2857142857142856, 2.2857142857142856], \"yaxis\": \"y\"}],                        {\"legend\": {\"tracegroupgap\": 0}, \"shapes\": [{\"line\": {\"color\": \"purple\", \"dash\": \"dashdot\", \"width\": 3}, \"type\": \"line\", \"x0\": \"2020-03-18\", \"x1\": \"2020-03-18\", \"y0\": 0, \"y1\": 10}], \"template\": {\"data\": {\"bar\": [{\"error_x\": {\"color\": \"#2a3f5f\"}, \"error_y\": {\"color\": \"#2a3f5f\"}, \"marker\": {\"line\": {\"color\": \"#E5ECF6\", \"width\": 0.5}}, \"type\": \"bar\"}], \"barpolar\": [{\"marker\": {\"line\": {\"color\": \"#E5ECF6\", \"width\": 0.5}}, \"type\": \"barpolar\"}], \"carpet\": [{\"aaxis\": {\"endlinecolor\": \"#2a3f5f\", \"gridcolor\": \"white\", \"linecolor\": \"white\", \"minorgridcolor\": \"white\", \"startlinecolor\": \"#2a3f5f\"}, \"baxis\": {\"endlinecolor\": \"#2a3f5f\", \"gridcolor\": \"white\", \"linecolor\": \"white\", \"minorgridcolor\": \"white\", \"startlinecolor\": \"#2a3f5f\"}, \"type\": \"carpet\"}], \"choropleth\": [{\"colorbar\": {\"outlinewidth\": 0, \"ticks\": \"\"}, \"type\": \"choropleth\"}], \"contour\": [{\"colorbar\": {\"outlinewidth\": 0, \"ticks\": \"\"}, \"colorscale\": [[0.0, \"#0d0887\"], [0.1111111111111111, \"#46039f\"], [0.2222222222222222, \"#7201a8\"], [0.3333333333333333, \"#9c179e\"], [0.4444444444444444, \"#bd3786\"], [0.5555555555555556, \"#d8576b\"], [0.6666666666666666, \"#ed7953\"], [0.7777777777777778, \"#fb9f3a\"], [0.8888888888888888, \"#fdca26\"], [1.0, \"#f0f921\"]], \"type\": \"contour\"}], \"contourcarpet\": [{\"colorbar\": {\"outlinewidth\": 0, \"ticks\": \"\"}, \"type\": \"contourcarpet\"}], \"heatmap\": [{\"colorbar\": {\"outlinewidth\": 0, \"ticks\": \"\"}, \"colorscale\": [[0.0, \"#0d0887\"], [0.1111111111111111, \"#46039f\"], [0.2222222222222222, \"#7201a8\"], [0.3333333333333333, \"#9c179e\"], [0.4444444444444444, \"#bd3786\"], [0.5555555555555556, \"#d8576b\"], [0.6666666666666666, \"#ed7953\"], [0.7777777777777778, \"#fb9f3a\"], [0.8888888888888888, \"#fdca26\"], [1.0, \"#f0f921\"]], \"type\": \"heatmap\"}], \"heatmapgl\": [{\"colorbar\": {\"outlinewidth\": 0, \"ticks\": \"\"}, \"colorscale\": [[0.0, \"#0d0887\"], [0.1111111111111111, \"#46039f\"], [0.2222222222222222, \"#7201a8\"], [0.3333333333333333, \"#9c179e\"], [0.4444444444444444, \"#bd3786\"], [0.5555555555555556, \"#d8576b\"], [0.6666666666666666, \"#ed7953\"], [0.7777777777777778, \"#fb9f3a\"], [0.8888888888888888, \"#fdca26\"], [1.0, \"#f0f921\"]], \"type\": \"heatmapgl\"}], \"histogram\": [{\"marker\": {\"colorbar\": {\"outlinewidth\": 0, \"ticks\": \"\"}}, \"type\": \"histogram\"}], \"histogram2d\": [{\"colorbar\": {\"outlinewidth\": 0, \"ticks\": \"\"}, \"colorscale\": [[0.0, \"#0d0887\"], [0.1111111111111111, \"#46039f\"], [0.2222222222222222, \"#7201a8\"], [0.3333333333333333, \"#9c179e\"], [0.4444444444444444, \"#bd3786\"], [0.5555555555555556, \"#d8576b\"], [0.6666666666666666, \"#ed7953\"], [0.7777777777777778, \"#fb9f3a\"], [0.8888888888888888, \"#fdca26\"], [1.0, \"#f0f921\"]], \"type\": \"histogram2d\"}], \"histogram2dcontour\": [{\"colorbar\": {\"outlinewidth\": 0, \"ticks\": \"\"}, \"colorscale\": [[0.0, \"#0d0887\"], [0.1111111111111111, \"#46039f\"], [0.2222222222222222, \"#7201a8\"], [0.3333333333333333, \"#9c179e\"], [0.4444444444444444, \"#bd3786\"], [0.5555555555555556, \"#d8576b\"], [0.6666666666666666, \"#ed7953\"], [0.7777777777777778, \"#fb9f3a\"], [0.8888888888888888, \"#fdca26\"], [1.0, \"#f0f921\"]], \"type\": \"histogram2dcontour\"}], \"mesh3d\": [{\"colorbar\": {\"outlinewidth\": 0, \"ticks\": \"\"}, \"type\": \"mesh3d\"}], \"parcoords\": [{\"line\": {\"colorbar\": {\"outlinewidth\": 0, \"ticks\": \"\"}}, \"type\": \"parcoords\"}], \"pie\": [{\"automargin\": true, \"type\": \"pie\"}], \"scatter\": [{\"marker\": {\"colorbar\": {\"outlinewidth\": 0, \"ticks\": \"\"}}, \"type\": \"scatter\"}], \"scatter3d\": [{\"line\": {\"colorbar\": {\"outlinewidth\": 0, \"ticks\": \"\"}}, \"marker\": {\"colorbar\": {\"outlinewidth\": 0, \"ticks\": \"\"}}, \"type\": \"scatter3d\"}], \"scattercarpet\": [{\"marker\": {\"colorbar\": {\"outlinewidth\": 0, \"ticks\": \"\"}}, \"type\": \"scattercarpet\"}], \"scattergeo\": [{\"marker\": {\"colorbar\": {\"outlinewidth\": 0, \"ticks\": \"\"}}, \"type\": \"scattergeo\"}], \"scattergl\": [{\"marker\": {\"colorbar\": {\"outlinewidth\": 0, \"ticks\": \"\"}}, \"type\": \"scattergl\"}], \"scattermapbox\": [{\"marker\": {\"colorbar\": {\"outlinewidth\": 0, \"ticks\": \"\"}}, \"type\": \"scattermapbox\"}], \"scatterpolar\": [{\"marker\": {\"colorbar\": {\"outlinewidth\": 0, \"ticks\": \"\"}}, \"type\": \"scatterpolar\"}], \"scatterpolargl\": [{\"marker\": {\"colorbar\": {\"outlinewidth\": 0, \"ticks\": \"\"}}, \"type\": \"scatterpolargl\"}], \"scatterternary\": [{\"marker\": {\"colorbar\": {\"outlinewidth\": 0, \"ticks\": \"\"}}, \"type\": \"scatterternary\"}], \"surface\": [{\"colorbar\": {\"outlinewidth\": 0, \"ticks\": \"\"}, \"colorscale\": [[0.0, \"#0d0887\"], [0.1111111111111111, \"#46039f\"], [0.2222222222222222, \"#7201a8\"], [0.3333333333333333, \"#9c179e\"], [0.4444444444444444, \"#bd3786\"], [0.5555555555555556, \"#d8576b\"], [0.6666666666666666, \"#ed7953\"], [0.7777777777777778, \"#fb9f3a\"], [0.8888888888888888, \"#fdca26\"], [1.0, \"#f0f921\"]], \"type\": \"surface\"}], \"table\": [{\"cells\": {\"fill\": {\"color\": \"#EBF0F8\"}, \"line\": {\"color\": \"white\"}}, \"header\": {\"fill\": {\"color\": \"#C8D4E3\"}, \"line\": {\"color\": \"white\"}}, \"type\": \"table\"}]}, \"layout\": {\"annotationdefaults\": {\"arrowcolor\": \"#2a3f5f\", \"arrowhead\": 0, \"arrowwidth\": 1}, \"autotypenumbers\": \"strict\", \"coloraxis\": {\"colorbar\": {\"outlinewidth\": 0, \"ticks\": \"\"}}, \"colorscale\": {\"diverging\": [[0, \"#8e0152\"], [0.1, \"#c51b7d\"], [0.2, \"#de77ae\"], [0.3, \"#f1b6da\"], [0.4, \"#fde0ef\"], [0.5, \"#f7f7f7\"], [0.6, \"#e6f5d0\"], [0.7, \"#b8e186\"], [0.8, \"#7fbc41\"], [0.9, \"#4d9221\"], [1, \"#276419\"]], \"sequential\": [[0.0, \"#0d0887\"], [0.1111111111111111, \"#46039f\"], [0.2222222222222222, \"#7201a8\"], [0.3333333333333333, \"#9c179e\"], [0.4444444444444444, \"#bd3786\"], [0.5555555555555556, \"#d8576b\"], [0.6666666666666666, \"#ed7953\"], [0.7777777777777778, \"#fb9f3a\"], [0.8888888888888888, \"#fdca26\"], [1.0, \"#f0f921\"]], \"sequentialminus\": [[0.0, \"#0d0887\"], [0.1111111111111111, \"#46039f\"], [0.2222222222222222, \"#7201a8\"], [0.3333333333333333, \"#9c179e\"], [0.4444444444444444, \"#bd3786\"], [0.5555555555555556, \"#d8576b\"], [0.6666666666666666, \"#ed7953\"], [0.7777777777777778, \"#fb9f3a\"], [0.8888888888888888, \"#fdca26\"], [1.0, \"#f0f921\"]]}, \"colorway\": [\"#636efa\", \"#EF553B\", \"#00cc96\", \"#ab63fa\", \"#FFA15A\", \"#19d3f3\", \"#FF6692\", \"#B6E880\", \"#FF97FF\", \"#FECB52\"], \"font\": {\"color\": \"#2a3f5f\"}, \"geo\": {\"bgcolor\": \"white\", \"lakecolor\": \"white\", \"landcolor\": \"#E5ECF6\", \"showlakes\": true, \"showland\": true, \"subunitcolor\": \"white\"}, \"hoverlabel\": {\"align\": \"left\"}, \"hovermode\": \"closest\", \"mapbox\": {\"style\": \"light\"}, \"paper_bgcolor\": \"white\", \"plot_bgcolor\": \"#E5ECF6\", \"polar\": {\"angularaxis\": {\"gridcolor\": \"white\", \"linecolor\": \"white\", \"ticks\": \"\"}, \"bgcolor\": \"#E5ECF6\", \"radialaxis\": {\"gridcolor\": \"white\", \"linecolor\": \"white\", \"ticks\": \"\"}}, \"scene\": {\"xaxis\": {\"backgroundcolor\": \"#E5ECF6\", \"gridcolor\": \"white\", \"gridwidth\": 2, \"linecolor\": \"white\", \"showbackground\": true, \"ticks\": \"\", \"zerolinecolor\": \"white\"}, \"yaxis\": {\"backgroundcolor\": \"#E5ECF6\", \"gridcolor\": \"white\", \"gridwidth\": 2, \"linecolor\": \"white\", \"showbackground\": true, \"ticks\": \"\", \"zerolinecolor\": \"white\"}, \"zaxis\": {\"backgroundcolor\": \"#E5ECF6\", \"gridcolor\": \"white\", \"gridwidth\": 2, \"linecolor\": \"white\", \"showbackground\": true, \"ticks\": \"\", \"zerolinecolor\": \"white\"}}, \"shapedefaults\": {\"line\": {\"color\": \"#2a3f5f\"}}, \"ternary\": {\"aaxis\": {\"gridcolor\": \"white\", \"linecolor\": \"white\", \"ticks\": \"\"}, \"baxis\": {\"gridcolor\": \"white\", \"linecolor\": \"white\", \"ticks\": \"\"}, \"bgcolor\": \"#E5ECF6\", \"caxis\": {\"gridcolor\": \"white\", \"linecolor\": \"white\", \"ticks\": \"\"}}, \"title\": {\"x\": 0.05}, \"xaxis\": {\"automargin\": true, \"gridcolor\": \"white\", \"linecolor\": \"white\", \"ticks\": \"\", \"title\": {\"standoff\": 15}, \"zerolinecolor\": \"white\", \"zerolinewidth\": 2}, \"yaxis\": {\"automargin\": true, \"gridcolor\": \"white\", \"linecolor\": \"white\", \"ticks\": \"\", \"title\": {\"standoff\": 15}, \"zerolinecolor\": \"white\", \"zerolinewidth\": 2}}}, \"title\": {\"text\": \"Comparison of Homicides Crime Pre and Post Covid-19 Era\"}, \"xaxis\": {\"anchor\": \"y\", \"domain\": [0.0, 1.0], \"title\": {\"text\": \"date\"}}, \"yaxis\": {\"anchor\": \"x\", \"domain\": [0.0, 1.0], \"title\": {\"text\": \"7-Day Rolling Average Homicides Crime\"}}},                        {\"responsive\": true}                    ).then(function(){\n",
       "                            \n",
       "var gd = document.getElementById('a782c579-3914-4703-bed7-b114793f7e70');\n",
       "var x = new MutationObserver(function (mutations, observer) {{\n",
       "        var display = window.getComputedStyle(gd).display;\n",
       "        if (!display || display === 'none') {{\n",
       "            console.log([gd, 'removed!']);\n",
       "            Plotly.purge(gd);\n",
       "            observer.disconnect();\n",
       "        }}\n",
       "}});\n",
       "\n",
       "// Listen for the removal of the full notebook cells\n",
       "var notebookContainer = gd.closest('#notebook-container');\n",
       "if (notebookContainer) {{\n",
       "    x.observe(notebookContainer, {childList: true});\n",
       "}}\n",
       "\n",
       "// Listen for the clearing of the current output cell\n",
       "var outputEl = gd.closest('.output');\n",
       "if (outputEl) {{\n",
       "    x.observe(outputEl, {childList: true});\n",
       "}}\n",
       "\n",
       "                        })                };                });            </script>        </div>"
      ]
     },
     "metadata": {},
     "output_type": "display_data"
    }
   ],
   "source": [
    "fig = px.line(homicides_sum, x= homicides_sum.index, y= 'rolling_homicides',\n",
    "             labels={\n",
    "                     \"rolling_homicides\": \"7-Day Rolling Average Homicides Crime\",\n",
    "                    },\n",
    "             title=\"Comparison of Homicides Crime Pre and Post Covid-19 Era\")\n",
    "fig = fig.add_shape(type=\"line\",x0= covid_start, y0=0, x1=covid_start, y1=10,line=dict(color=\"purple\",width=3, dash = 'dashdot'))\n",
    "fig.show()\n",
    "fig.write_image('/Users/allenhardiman/Box/PHD Courses/ACE_592/Figures/Preposthomicides.png')"
   ]
  },
  {
   "cell_type": "code",
   "execution_count": null,
   "id": "atmospheric-campaign",
   "metadata": {},
   "outputs": [],
   "source": []
  }
 ],
 "metadata": {
  "kernelspec": {
   "display_name": "Python 3",
   "language": "python",
   "name": "python3"
  },
  "language_info": {
   "codemirror_mode": {
    "name": "ipython",
    "version": 3
   },
   "file_extension": ".py",
   "mimetype": "text/x-python",
   "name": "python",
   "nbconvert_exporter": "python",
   "pygments_lexer": "ipython3",
   "version": "3.8.5"
  }
 },
 "nbformat": 4,
 "nbformat_minor": 5
}
