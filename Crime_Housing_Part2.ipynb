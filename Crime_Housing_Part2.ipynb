{
 "cells": [
  {
   "cell_type": "code",
   "execution_count": 170,
   "id": "d6a5e703",
   "metadata": {},
   "outputs": [],
   "source": [
    "import os\n",
    "import seaborn\n",
    "import bq_helper\n",
    "import folium\n",
    "import geopandas\n",
    "import pandas as pd\n",
    "import numpy as np\n",
    "import matplotlib.pyplot as plt\n",
    "\n",
    "from bq_helper import BigQueryHelper\n",
    "from sklearn import linear_model\n",
    "from sklearn.model_selection import train_test_split"
   ]
  },
  {
   "cell_type": "markdown",
   "id": "340b55da",
   "metadata": {},
   "source": [
    "## Step 1: Import Housing and Crime Data"
   ]
  },
  {
   "cell_type": "markdown",
   "id": "29215587",
   "metadata": {},
   "source": [
    "### Housing data"
   ]
  },
  {
   "cell_type": "code",
   "execution_count": 705,
   "id": "3365533f",
   "metadata": {},
   "outputs": [],
   "source": [
    "#folder location\n",
    "dir = '/Users/wilfried/Desktop/Courses/Year3/ChicagoCrimeProject/'\n",
    "\n",
    "#read the chicago housing price data\n",
    "df_house = pd.read_csv(dir+'Zillow Neighborhood Housing Price.csv')\n",
    "df_house_chicago = df_house.loc[df_house['City']=='Chicago']\n",
    "\n",
    "#read the chicago census data\n",
    "df_commu = pd.read_csv(dir+'Chicago 2010 Census.csv')\n",
    "df_commu = df_commu[['Geog','GeogKey', 'Total Population', 'Total Housing Units']]\n",
    "df_commu = df_commu.rename(columns={'Geog':'community_area',\\\n",
    "                'GeogKey':'community_area_code', 'Total Population':'population'})"
   ]
  },
  {
   "cell_type": "code",
   "execution_count": 706,
   "id": "161030b0",
   "metadata": {},
   "outputs": [],
   "source": [
    "#create a dictonary that maps community area code to community area full name\n",
    "dict_commu = pd.Series(df_commu.community_area.values,index=df_commu.community_area_code).to_dict()"
   ]
  },
  {
   "cell_type": "code",
   "execution_count": 707,
   "id": "a94edde1",
   "metadata": {},
   "outputs": [],
   "source": [
    "#clean the chicago housing price data\n",
    "#get rid of unusable community_areas\n",
    "list_commu = list(dict_commu.values())\n",
    "df_house_chicago['in_community_list'] = df_house_chicago['RegionName'].apply(lambda x: x in list_commu)\n",
    "df_house_chicago = df_house_chicago[df_house_chicago['in_community_list']==True]\n",
    "\n",
    "#get rid of irrelevant columns\n",
    "list_labels_to_drop = ['RegionID','SizeRank','RegionType','StateName','State','City','Metro','CountyName','in_community_list']\n",
    "df_house_chicago = df_house_chicago.drop(list_labels_to_drop,axis=1)\n",
    "df_house_chicago = df_house_chicago.drop(df_house_chicago.columns[1:61],axis=1)"
   ]
  },
  {
   "cell_type": "code",
   "execution_count": 708,
   "id": "55a72976",
   "metadata": {},
   "outputs": [],
   "source": [
    "df_house_chicago = df_house_chicago.drop(df_house_chicago.columns[1:25],axis=1)\n",
    "#df_house_chicago"
   ]
  },
  {
   "cell_type": "code",
   "execution_count": 709,
   "id": "0b7314a5",
   "metadata": {},
   "outputs": [],
   "source": [
    "#reformat time label\n",
    "list_time_labels = df_house_chicago.columns[1:].tolist()\n",
    "list_labels_update = ['community_area']\n",
    "for i in list_time_labels:\n",
    "    list_labels_update.append(i[:-3])\n",
    "df_house_chicago.columns = list_labels_update\n",
    "\n",
    "#drop missing values\n",
    "df_house_chicago = df_house_chicago.dropna()\n",
    "\n",
    "df_house_chicago = df_house_chicago.sort_values('community_area')\n",
    "#df_house_chicago"
   ]
  },
  {
   "cell_type": "code",
   "execution_count": 710,
   "id": "1880df92",
   "metadata": {
    "scrolled": true
   },
   "outputs": [],
   "source": [
    "#reformat the dataframe, group by community area, month\n",
    "df_house_chicago_reindex = df_house_chicago.melt(id_vars=['community_area'],var_name='month',value_name='price')\n",
    "df_house_chicago_reindex = df_house_chicago_reindex.set_index(['community_area','month'])\n",
    "df_house_chicago_reindex = df_house_chicago_reindex.sort_values(by=['community_area','month'])\n",
    "#df_house_chicago_reindex"
   ]
  },
  {
   "cell_type": "code",
   "execution_count": 711,
   "id": "a36d6b08",
   "metadata": {},
   "outputs": [],
   "source": [
    "#create a list of community area in the housing dataframe\n",
    "list_relevant_commu = df_house_chicago['community_area'].tolist()"
   ]
  },
  {
   "cell_type": "markdown",
   "id": "924c8e24",
   "metadata": {},
   "source": [
    "### Crime Data"
   ]
  },
  {
   "cell_type": "code",
   "execution_count": 473,
   "id": "5f302ce9",
   "metadata": {},
   "outputs": [],
   "source": [
    "#query from google cloud and create a dataframe\n",
    "chicago_crime = bq_helper.BigQueryHelper(active_project='bigquery-public-data',dataset_name='chicago_crime')\n",
    "bq_assistant = BigQueryHelper('bigquery-public-data','chicago_crime')\n",
    "query = \"\"\"\n",
    "          SELECT\n",
    "              date,year,primary_type,longitude,latitude,description,location_description,arrest,domestic,community_area,location\n",
    "          FROM\n",
    "          `bigquery-public-data.chicago_crime.crime`\n",
    "          \"\"\"\n",
    "df_crime0 = chicago_crime.query_to_pandas_safe(query)"
   ]
  },
  {
   "cell_type": "code",
   "execution_count": 475,
   "id": "787a1b18",
   "metadata": {},
   "outputs": [],
   "source": [
    "#clean up the dataframe and group by community area, month\n",
    "df_crime = df_crime0.dropna()\n",
    "df_crime = df_crime.sort_values(by=['date'])\n",
    "df_crime = df_crime.rename(columns={'community_area':'community_area_code'})\n",
    "df_crime['community_area_code'] = df_crime['community_area_code'].apply(lambda x: int(x))\n",
    "df_crime = df_crime[df_crime['community_area_code']!=0]\n",
    "df_crime['community_area'] = df_crime['community_area_code'].map(dict_commu)\n",
    "df_crime['in_relevant_commu'] = df_crime['community_area'].apply(lambda x: x in list_relevant_commu)\n",
    "df_crime = df_crime[df_crime['in_relevant_commu']==True]\n",
    "df_crime = df_crime.drop(['in_relevant_commu'],axis=1)\n",
    "\n",
    "df_crime['date'] = df_crime['date'].dt.tz_localize(None)\n",
    "df_crime['month'] = df_crime['date'].dt.to_period('M')\n",
    "df_crime['month'] = df_crime['month'].astype(str)\n",
    "\n",
    "df_crime_reindex = df_crime.set_index(['community_area','month'])\n",
    "df_crime_reindex = df_crime_reindex.sort_values(by=['community_area','month'])\n",
    "df_crime_reindex = df_crime_reindex[df_crime_reindex['year']>2002]"
   ]
  },
  {
   "cell_type": "markdown",
   "id": "72df3d7d",
   "metadata": {},
   "source": [
    "### Joining Housing and Crime Data"
   ]
  },
  {
   "cell_type": "code",
   "execution_count": 712,
   "id": "e2423ad9",
   "metadata": {
    "scrolled": true
   },
   "outputs": [],
   "source": [
    "#joining and cleaning the two dataframes\n",
    "df_crime_house = df_crime_reindex.join(df_house_chicago_reindex,on=['community_area','month'])\n",
    "df_crime_house = df_crime_house.dropna()"
   ]
  },
  {
   "cell_type": "markdown",
   "id": "9a8479fe",
   "metadata": {},
   "source": [
    "## Step 2: Some Sample Manipulations"
   ]
  },
  {
   "cell_type": "markdown",
   "id": "6d95569a",
   "metadata": {},
   "source": [
    "### Total Crime Counts and Rates by Category"
   ]
  },
  {
   "cell_type": "code",
   "execution_count": 713,
   "id": "f57371f6",
   "metadata": {},
   "outputs": [],
   "source": [
    "df_summary_by_type = df_crime_house.groupby('primary_type')['primary_type'].count().sort_values(ascending=False)\n",
    "df_summary_by_type = df_summary_by_type.to_frame()\n",
    "df_summary_by_type = df_summary_by_type.rename(columns={'primary_type':'count'})\n",
    "df_top15_by_type = df_summary_by_type.head(15)\n",
    "df_top15_by_type = df_top15_by_type.reset_index()\n",
    "df_top15_by_type['primary_type'] = df_top15_by_type['primary_type'].apply(lambda x: str(x)[0]+str(x)[1:].lower())"
   ]
  },
  {
   "cell_type": "code",
   "execution_count": 714,
   "id": "32204712",
   "metadata": {},
   "outputs": [
    {
     "data": {
      "text/plain": [
       "Text(0.5, 1.0, 'Top 15 Crimes in Chicago from 2001 to 2021')"
      ]
     },
     "execution_count": 714,
     "metadata": {},
     "output_type": "execute_result"
    },
    {
     "data": {
      "image/png": "[encoded data removed]",
      "text/plain": [
       "<Figure size 1080x360 with 1 Axes>"
      ]
     },
     "metadata": {
      "needs_background": "light"
     },
     "output_type": "display_data"
    }
   ],
   "source": [
    "#bar chart for top 15\n",
    "f,a = plt.subplots(figsize=(15,5))\n",
    "df_top15_by_type.plot(kind='bar',x='primary_type',y='count',ax=a,color='royalblue',legend=None)\n",
    "plt.xlabel('Crime Type')\n",
    "a.tick_params(axis='x',rotation=45)\n",
    "plt.ylabel('Total Count')\n",
    "plt.title('Top 15 Crimes in Chicago from 2001 to 2021')"
   ]
  },
  {
   "cell_type": "markdown",
   "id": "16889f0c",
   "metadata": {},
   "source": [
    "### Crime Count in Each Community Area"
   ]
  },
  {
   "cell_type": "code",
   "execution_count": 818,
   "id": "bc63ed7e",
   "metadata": {},
   "outputs": [],
   "source": [
    "df_crime_house_count = df_crime_house.groupby(['community_area', 'community_area_code', 'year','month','price','primary_type'])['primary_type'].count()\n",
    "df_crime_house_count = df_crime_house_count.to_frame()\n",
    "df_crime_house_count = df_crime_house_count.rename(columns={'primary_type':'count'}).reset_index()"
   ]
  },
  {
   "cell_type": "code",
   "execution_count": 819,
   "id": "4c76b3db",
   "metadata": {
    "scrolled": true
   },
   "outputs": [],
   "source": [
    "allcrime = df_crime_house_count.groupby(['community_area'])['count'].sum().reset_index()\n",
    "allcrime['primary_type'] = \"ALL CRIMES\"\n",
    "allcrime = allcrime[['community_area', 'primary_type', 'count']]\n",
    "crime = df_crime_house_count.groupby(['community_area','community_area_code','primary_type'])['count'].sum().reset_index()\n",
    "crime_all = crime.append(allcrime)\n",
    "crime = crime.sort_values(by=['community_area'])"
   ]
  },
  {
   "cell_type": "code",
   "execution_count": 820,
   "id": "b24efd08",
   "metadata": {
    "scrolled": true
   },
   "outputs": [],
   "source": [
    "prices = df_crime_house_count.groupby(['community_area'])['price'].mean().reset_index()\n",
    "prices_median = df_crime_house_count.groupby(['community_area'])['price'].median().reset_index()\n",
    "prices_median = prices_median.rename(columns={'price':'medprice'})\n",
    "data = crime.merge(prices[['community_area','price']])\n",
    "data = data.merge(prices_median[['community_area','medprice']])"
   ]
  },
  {
   "cell_type": "code",
   "execution_count": 821,
   "id": "2c9aa054",
   "metadata": {
    "scrolled": true
   },
   "outputs": [],
   "source": [
    "data['count'] = np.log(data['count'])\n",
    "data['price'] = np.log(data['price'])\n",
    "data['medprice'] = np.log(data['medprice'])\n",
    "data = data.merge(df_commu[['community_area', 'population']])\n",
    "data['crime_rate'] = 1000*data['count']/data['population']"
   ]
  },
  {
   "cell_type": "markdown",
   "id": "beb69a3f",
   "metadata": {},
   "source": [
    "### Some correlations"
   ]
  },
  {
   "cell_type": "code",
   "execution_count": 824,
   "id": "1f3f3b6b",
   "metadata": {
    "scrolled": false
   },
   "outputs": [
    {
     "data": {
      "text/html": [
       "<div>\n",
       "<style scoped>\n",
       "    .dataframe tbody tr th:only-of-type {\n",
       "        vertical-align: middle;\n",
       "    }\n",
       "\n",
       "    .dataframe tbody tr th {\n",
       "        vertical-align: top;\n",
       "    }\n",
       "\n",
       "    .dataframe thead th {\n",
       "        text-align: right;\n",
       "    }\n",
       "</style>\n",
       "<table border=\"1\" class=\"dataframe\">\n",
       "  <thead>\n",
       "    <tr style=\"text-align: right;\">\n",
       "      <th></th>\n",
       "      <th>primary_type</th>\n",
       "      <th>correlation</th>\n",
       "    </tr>\n",
       "  </thead>\n",
       "  <tbody>\n",
       "    <tr>\n",
       "      <th>69</th>\n",
       "      <td>WEAPONS VIOLATION</td>\n",
       "      <td>-0.471498</td>\n",
       "    </tr>\n",
       "    <tr>\n",
       "      <th>23</th>\n",
       "      <td>HOMICIDE</td>\n",
       "      <td>-0.448790</td>\n",
       "    </tr>\n",
       "    <tr>\n",
       "      <th>47</th>\n",
       "      <td>OFFENSE INVOLVING CHILDREN</td>\n",
       "      <td>-0.382192</td>\n",
       "    </tr>\n",
       "    <tr>\n",
       "      <th>37</th>\n",
       "      <td>NARCOTICS</td>\n",
       "      <td>-0.300550</td>\n",
       "    </tr>\n",
       "    <tr>\n",
       "      <th>27</th>\n",
       "      <td>INTERFERENCE WITH PUBLIC OFFICER</td>\n",
       "      <td>-0.297409</td>\n",
       "    </tr>\n",
       "  </tbody>\n",
       "</table>\n",
       "</div>"
      ],
      "text/plain": [
       "                        primary_type  correlation\n",
       "69                 WEAPONS VIOLATION    -0.471498\n",
       "23                          HOMICIDE    -0.448790\n",
       "47        OFFENSE INVOLVING CHILDREN    -0.382192\n",
       "37                         NARCOTICS    -0.300550\n",
       "27  INTERFERENCE WITH PUBLIC OFFICER    -0.297409"
      ]
     },
     "execution_count": 824,
     "metadata": {},
     "output_type": "execute_result"
    }
   ],
   "source": [
    "datacorr = data.groupby('primary_type')[['count','price']].corr().reset_index()\n",
    "datacorr = datacorr[['primary_type', 'count']].sort_values(by = 'count', ascending = True)\n",
    "datacorr = datacorr.rename(columns={'count':'correlation'})\n",
    "datacorr = datacorr[datacorr['correlation']!=1]\n",
    "datacorr.head()"
   ]
  },
  {
   "cell_type": "markdown",
   "id": "ca3445dc",
   "metadata": {},
   "source": [
    "### Dataset with only weapons violations\n",
    "\n",
    "As displayed by the previous table, weapon violations appear to have the highest correlation with prices. Therefore, we consider this specific type of crimes as our main crime measure."
   ]
  },
  {
   "cell_type": "code",
   "execution_count": 825,
   "id": "b04415b3",
   "metadata": {},
   "outputs": [],
   "source": [
    "data = data[data['primary_type']=='WEAPONS VIOLATION']\n",
    "data = pd.pivot_table(data, values='count', index=['community_area', 'community_area_code'\\\n",
    "                        ],columns=['primary_type'], aggfunc=np.sum).reset_index()"
   ]
  },
  {
   "cell_type": "code",
   "execution_count": 827,
   "id": "b8162e3c",
   "metadata": {},
   "outputs": [],
   "source": [
    "data = data.merge(prices[['community_area', 'price']])\n",
    "data = data.merge(df_commu[['community_area', 'population']])\n",
    "data['price'] = np.log(data['price'])\n",
    "data['population'] = np.log(data['population'])\n",
    "data.columns= data.columns.str.lower()"
   ]
  },
  {
   "cell_type": "markdown",
   "id": "f85927d0",
   "metadata": {},
   "source": [
    "### Linear Regression Model for Housing Price Prediction\n",
    "We start by presenting the final dataset that we use for analysis. \n",
    "Next, we split the sample into training (80%) and testing set (20%). Then we perform the regression model on the training sample, before doing a prediction on the testing sample."
   ]
  },
  {
   "cell_type": "code",
   "execution_count": 838,
   "id": "2e490072",
   "metadata": {},
   "outputs": [
    {
     "name": "stdout",
     "output_type": "stream",
     "text": [
      "       weapons violation  price  population\n",
      "count              52.00  52.00       52.00\n",
      "mean                5.89  12.40       10.24\n",
      "std                 1.21   0.48        0.70\n",
      "min                 2.08  11.26        7.98\n",
      "25%                 5.12  12.09        9.80\n",
      "50%                 5.93  12.43       10.32\n",
      "75%                 6.64  12.74       10.85\n",
      "max                 8.09  13.41       11.45\n"
     ]
    }
   ],
   "source": [
    "data.head()\n",
    "summ = data.describe()\n",
    "summ = summ.round(2)[['weapons violation', 'price', 'population']]\n",
    "print(summ)"
   ]
  },
  {
   "cell_type": "code",
   "execution_count": null,
   "id": "7146bc91",
   "metadata": {
    "scrolled": true
   },
   "outputs": [],
   "source": [
    "# Train the model using the training set\n",
    "from sklearn.linear_model import LinearRegression\n",
    "\n",
    "dataX = data[['weapons violation', 'population']]\n",
    "dataY = data[\"price\"]\n",
    "\n",
    "dataX_train,dataX_test,dataY_train,dataY_test=train_test_split(dataX,dataY,test_size=0.2)"
   ]
  },
  {
   "cell_type": "code",
   "execution_count": 843,
   "id": "9963adf8",
   "metadata": {},
   "outputs": [
    {
     "name": "stdout",
     "output_type": "stream",
     "text": [
      "Coefficients: \n",
      " [-0.28330376  0.41765338] 9.803775850574402\n"
     ]
    }
   ],
   "source": [
    "model = LinearRegression()\n",
    "model.fit(dataX_train, dataY_train)\n",
    "\n",
    "ypred_train = model.predict(dataX_train)\n",
    "ypred_test = model.predict(dataX_test)\n",
    "residuals = dataY_test - ypred_test\n",
    "\n",
    "print('Coefficients: \\n', model.coef_, model.intercept_)"
   ]
  },
  {
   "cell_type": "code",
   "execution_count": 844,
   "id": "35a4a583",
   "metadata": {
    "scrolled": true
   },
   "outputs": [
    {
     "name": "stdout",
     "output_type": "stream",
     "text": [
      "0.5260737996738092\n",
      "0.4877799430986154\n"
     ]
    }
   ],
   "source": [
    "print(model.score(dataX_train,dataY_train))\n",
    "print(model.score(dataX_test,dataY_test))"
   ]
  },
  {
   "cell_type": "code",
   "execution_count": 846,
   "id": "7685ba89",
   "metadata": {
    "scrolled": false
   },
   "outputs": [
    {
     "name": "stdout",
     "output_type": "stream",
     "text": [
      "                            OLS Regression Results                            \n",
      "==============================================================================\n",
      "Dep. Variable:                  price   R-squared:                       0.526\n",
      "Model:                            OLS   Adj. R-squared:                  0.501\n",
      "Method:                 Least Squares   F-statistic:                     21.09\n",
      "Date:                Thu, 13 May 2021   Prob (F-statistic):           6.89e-07\n",
      "Time:                        13:20:03   Log-Likelihood:                -13.408\n",
      "No. Observations:                  41   AIC:                             32.82\n",
      "Df Residuals:                      38   BIC:                             37.96\n",
      "Df Model:                           2                                         \n",
      "Covariance Type:            nonrobust                                         \n",
      "=====================================================================================\n",
      "                        coef    std err          t      P>|t|      [0.025      0.975]\n",
      "-------------------------------------------------------------------------------------\n",
      "weapons violation    -0.2833      0.048     -5.865      0.000      -0.381      -0.186\n",
      "population            0.4177      0.082      5.080      0.000       0.251       0.584\n",
      "const                 9.8038      0.758     12.930      0.000       8.269      11.339\n",
      "==============================================================================\n",
      "Omnibus:                        0.593   Durbin-Watson:                   2.613\n",
      "Prob(Omnibus):                  0.743   Jarque-Bera (JB):                0.671\n",
      "Skew:                          -0.072   Prob(JB):                        0.715\n",
      "Kurtosis:                       2.390   Cond. No.                         165.\n",
      "==============================================================================\n",
      "\n",
      "Notes:\n",
      "[1] Standard Errors assume that the covariance matrix of the errors is correctly specified.\n"
     ]
    }
   ],
   "source": [
    "# This uses statsmodel to generate summaries of the regressions performed on the training sample\n",
    "import statsmodels.api as sm\n",
    "dataX_train = sm.add_constant(dataX_train, prepend=False)\n",
    "reg_train = sm.OLS(dataY_train, dataX_train)\n",
    "res_train = reg_train.fit()\n",
    "print(res_train.summary())"
   ]
  },
  {
   "cell_type": "code",
   "execution_count": 848,
   "id": "c01599f5",
   "metadata": {},
   "outputs": [
    {
     "name": "stdout",
     "output_type": "stream",
     "text": [
      "                            OLS Regression Results                            \n",
      "==============================================================================\n",
      "Dep. Variable:                  price   R-squared:                       0.610\n",
      "Model:                            OLS   Adj. R-squared:                  0.512\n",
      "Method:                 Least Squares   F-statistic:                     6.248\n",
      "Date:                Thu, 13 May 2021   Prob (F-statistic):             0.0232\n",
      "Time:                        13:20:22   Log-Likelihood:               0.061183\n",
      "No. Observations:                  11   AIC:                             5.878\n",
      "Df Residuals:                       8   BIC:                             7.071\n",
      "Df Model:                           2                                         \n",
      "Covariance Type:            nonrobust                                         \n",
      "=====================================================================================\n",
      "                        coef    std err          t      P>|t|      [0.025      0.975]\n",
      "-------------------------------------------------------------------------------------\n",
      "weapons violation    -0.4477      0.136     -3.303      0.011      -0.760      -0.135\n",
      "population            0.6595      0.258      2.552      0.034       0.064       1.255\n",
      "const                 8.2491      2.478      3.330      0.010       2.536      13.962\n",
      "==============================================================================\n",
      "Omnibus:                        1.533   Durbin-Watson:                   1.549\n",
      "Prob(Omnibus):                  0.465   Jarque-Bera (JB):                1.121\n",
      "Skew:                           0.615   Prob(JB):                        0.571\n",
      "Kurtosis:                       2.035   Cond. No.                         364.\n",
      "==============================================================================\n",
      "\n",
      "Notes:\n",
      "[1] Standard Errors assume that the covariance matrix of the errors is correctly specified.\n"
     ]
    },
    {
     "name": "stderr",
     "output_type": "stream",
     "text": [
      "/Users/wilfried/opt/anaconda3/envs/ace592/lib/python3.8/site-packages/scipy/stats/stats.py:1603: UserWarning: kurtosistest only valid for n>=20 ... continuing anyway, n=11\n",
      "  warnings.warn(\"kurtosistest only valid for n>=20 ... continuing \"\n"
     ]
    }
   ],
   "source": [
    "#Prediction using the testing sample\n",
    "dataX_test = sm.add_constant(dataX_test, prepend=False)\n",
    "reg_test = sm.OLS(dataY_test, dataX_test)\n",
    "res_test = reg_test.fit()\n",
    "print(res_test.summary())"
   ]
  },
  {
   "cell_type": "code",
   "execution_count": null,
   "id": "5b2eee85",
   "metadata": {},
   "outputs": [],
   "source": [
    "#For printing tables as latex output\n",
    "for table in res_test.summary().tables:\n",
    "    print(table.as_latex_tabular())"
   ]
  },
  {
   "cell_type": "markdown",
   "id": "08af0974",
   "metadata": {},
   "source": [
    "Next, we create a dataset containing both the actual values for home values and the predicted values using the testing sample. We can see that the residual values are very small. Formally we can also look at other metrics such as the Root Mean Square Error (RMSE)."
   ]
  },
  {
   "cell_type": "code",
   "execution_count": 855,
   "id": "14c15909",
   "metadata": {},
   "outputs": [
    {
     "data": {
      "text/html": [
       "<div>\n",
       "<style scoped>\n",
       "    .dataframe tbody tr th:only-of-type {\n",
       "        vertical-align: middle;\n",
       "    }\n",
       "\n",
       "    .dataframe tbody tr th {\n",
       "        vertical-align: top;\n",
       "    }\n",
       "\n",
       "    .dataframe thead th {\n",
       "        text-align: right;\n",
       "    }\n",
       "</style>\n",
       "<table border=\"1\" class=\"dataframe\">\n",
       "  <thead>\n",
       "    <tr style=\"text-align: right;\">\n",
       "      <th></th>\n",
       "      <th>Actual</th>\n",
       "      <th>Predicted</th>\n",
       "      <th>resid</th>\n",
       "    </tr>\n",
       "  </thead>\n",
       "  <tbody>\n",
       "    <tr>\n",
       "      <th>4</th>\n",
       "      <td>12.818764</td>\n",
       "      <td>12.514568</td>\n",
       "      <td>0.304196</td>\n",
       "    </tr>\n",
       "    <tr>\n",
       "      <th>40</th>\n",
       "      <td>12.737933</td>\n",
       "      <td>12.669976</td>\n",
       "      <td>0.067958</td>\n",
       "    </tr>\n",
       "    <tr>\n",
       "      <th>11</th>\n",
       "      <td>11.887604</td>\n",
       "      <td>12.157078</td>\n",
       "      <td>-0.269474</td>\n",
       "    </tr>\n",
       "    <tr>\n",
       "      <th>47</th>\n",
       "      <td>12.159894</td>\n",
       "      <td>12.373070</td>\n",
       "      <td>-0.213176</td>\n",
       "    </tr>\n",
       "    <tr>\n",
       "      <th>7</th>\n",
       "      <td>12.098573</td>\n",
       "      <td>12.339927</td>\n",
       "      <td>-0.241354</td>\n",
       "    </tr>\n",
       "  </tbody>\n",
       "</table>\n",
       "</div>"
      ],
      "text/plain": [
       "       Actual  Predicted     resid\n",
       "4   12.818764  12.514568  0.304196\n",
       "40  12.737933  12.669976  0.067958\n",
       "11  11.887604  12.157078 -0.269474\n",
       "47  12.159894  12.373070 -0.213176\n",
       "7   12.098573  12.339927 -0.241354"
      ]
     },
     "execution_count": 855,
     "metadata": {},
     "output_type": "execute_result"
    }
   ],
   "source": [
    "actual_predict = pd.DataFrame({'Actual': dataY_test, 'Predicted': ypred_test}).head()\n",
    "actual_predict['resid'] = actual_predict['Actual'] - actual_predict['Predicted']\n",
    "actual_predict.head()"
   ]
  },
  {
   "cell_type": "code",
   "execution_count": 861,
   "id": "8a22b30b",
   "metadata": {},
   "outputs": [
    {
     "name": "stdout",
     "output_type": "stream",
     "text": [
      "Mean Absolute Error: 0.24305678031431022\n",
      "Mean Squared Error: 0.07598844959672296\n",
      "Root Mean Squared Error: 0.27566002538765566\n"
     ]
    }
   ],
   "source": [
    "from sklearn import metrics\n",
    "print('Mean Absolute Error:', metrics.mean_absolute_error(dataY_test, ypred_test))\n",
    "print('Mean Squared Error:', metrics.mean_squared_error(dataY_test, ypred_test))\n",
    "print('Root Mean Squared Error:', np.sqrt(metrics.mean_squared_error(dataY_test, ypred_test)))"
   ]
  },
  {
   "cell_type": "code",
   "execution_count": 880,
   "id": "30331ec0",
   "metadata": {},
   "outputs": [],
   "source": [
    "from sklearn.model_selection import KFold # import KFold\n",
    "from sklearn.model_selection import cross_val_score, cross_val_predict\n",
    "lm = LinearRegression()\n",
    "folds = KFold(n_splits = 5, shuffle = True, random_state = 100)\n",
    "scores = cross_val_score(lm, dataX_train, dataY_train, scoring='r2', cv=folds)"
   ]
  },
  {
   "cell_type": "code",
   "execution_count": 881,
   "id": "10cc2eea",
   "metadata": {},
   "outputs": [
    {
     "data": {
      "text/plain": [
       "array([ 0.33563755,  0.41961502,  0.63028342,  0.37073241, -4.35606769])"
      ]
     },
     "execution_count": 881,
     "metadata": {},
     "output_type": "execute_result"
    }
   ],
   "source": [
    "scores"
   ]
  },
  {
   "cell_type": "markdown",
   "id": "9eaba521",
   "metadata": {},
   "source": [
    "As we can see, while the third set improved on the R-square, the last prediction was quite worse than the original model"
   ]
  }
 ],
 "metadata": {
  "kernelspec": {
   "display_name": "Python 3",
   "language": "python",
   "name": "python3"
  },
  "language_info": {
   "codemirror_mode": {
    "name": "ipython",
    "version": 3
   },
   "file_extension": ".py",
   "mimetype": "text/x-python",
   "name": "python",
   "nbconvert_exporter": "python",
   "pygments_lexer": "ipython3",
   "version": "3.8.5"
  }
 },
 "nbformat": 4,
 "nbformat_minor": 5
}
